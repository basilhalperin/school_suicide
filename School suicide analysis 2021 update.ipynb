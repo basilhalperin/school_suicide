{
 "cells": [
  {
   "cell_type": "code",
   "execution_count": 1,
   "metadata": {},
   "outputs": [],
   "source": [
    "# check that you're in python 2\n",
    "import sys\n",
    "assert sys.version[0] == '2'"
   ]
  },
  {
   "cell_type": "code",
   "execution_count": 2,
   "metadata": {},
   "outputs": [],
   "source": [
    "import pandas as pd\n",
    "import os\n",
    "import zipfile\n",
    "import StringIO\n",
    "import requests\n",
    "import statsmodels.api as sm\n",
    "import patsy\n",
    "import numpy as np\n",
    "from IPython.display import clear_output\n",
    "\n",
    "import matplotlib.pyplot as plt\n",
    "import seaborn\n",
    "seaborn.set_style('white')\n",
    "%matplotlib inline"
   ]
  },
  {
   "cell_type": "code",
   "execution_count": 3,
   "metadata": {},
   "outputs": [],
   "source": [
    "# Only set this to true if you want to redownload all the 10s of gigabytes of raw data\n",
    "REDOWNLOAD_RAW = False\n",
    "if REDOWNLOAD_RAW:\n",
    "    raw_input(\"Are you sure you want to redownload everything?\")"
   ]
  },
  {
   "cell_type": "code",
   "execution_count": 133,
   "metadata": {},
   "outputs": [],
   "source": [
    "SAVE_FIGS = True"
   ]
  },
  {
   "cell_type": "code",
   "execution_count": 5,
   "metadata": {},
   "outputs": [],
   "source": [
    "COLORS = [\"#9b59b6\", \"#3498db\", \"#95a5a6\", \"#e74c3c\", \"#34495e\", \"#2ecc71\"]"
   ]
  },
  {
   "cell_type": "code",
   "execution_count": 6,
   "metadata": {},
   "outputs": [],
   "source": [
    "START_YEAR = 1979\n",
    "END_YEAR = 2019"
   ]
  },
  {
   "cell_type": "markdown",
   "metadata": {
    "heading_collapsed": true
   },
   "source": [
    "# Death data"
   ]
  },
  {
   "cell_type": "code",
   "execution_count": 86,
   "metadata": {
    "hidden": true
   },
   "outputs": [],
   "source": [
    "BASE_URL = \"https://www.nber.org/mortality/{0}/mort{0}.csv.zip\"\n",
    "URL_2019 = \"http://data.nber.org/mortality/2019/nber_output/mortality_2019_nber_us.csv\"  # changed for 2019...\n",
    "DOWNLOAD_DEST_BASE = 'nchs_mcd_rawdata'"
   ]
  },
  {
   "cell_type": "code",
   "execution_count": 87,
   "metadata": {
    "hidden": true
   },
   "outputs": [],
   "source": [
    "# If raw data folder doesn't exist, create it\n",
    "if not os.path.exists(DOWNLOAD_DEST_BASE):\n",
    "    print 'Making \"{0}\" directory...'.format(DOWNLOAD_DEST_BASE)\n",
    "    os.makedirs('{0}'.format(DOWNLOAD_DEST_BASE))"
   ]
  },
  {
   "cell_type": "code",
   "execution_count": 88,
   "metadata": {
    "hidden": true
   },
   "outputs": [],
   "source": [
    "def download_raw_data_by_year(year, base_url=BASE_URL, download_dest_base=DOWNLOAD_DEST_BASE):\n",
    "    \"\"\"\n",
    "    See documentation stuff here:\n",
    "    https://www.nber.org/data/vital-statistics-mortality-data-multiple-cause-of-death.html\n",
    "    \"\"\"\n",
    "    year = str(year)\n",
    "    \n",
    "    # Check if already exists\n",
    "    if os.path.exists(os.path.join(download_dest_base, '{0}.csv'.format(year))):\n",
    "        if not REDOWNLOAD_RAW:\n",
    "            print \"Already have raw mortality data for {0}\".format(year)\n",
    "            return\n",
    "        else:\n",
    "            print \"Redownloading raw mortality data for {0}!!!!!!!!!!!!!!!!!!!!!!!\".format(year)\n",
    "    \n",
    "    # Specify file locations\n",
    "    url = base_url.format(year)\n",
    "    download_dest = os.path.join(download_dest_base, year)\n",
    "\n",
    "    # Download data\n",
    "    r = requests.get(url, stream=True)\n",
    "    with zipfile.ZipFile(StringIO.StringIO(r.content)) as zf:\n",
    "        zf.extractall(download_dest)\n",
    "\n",
    "    # Move CSV to main directory and delete empty folder\n",
    "    # nber filenames changed?\n",
    "    try:\n",
    "        current_filename = os.path.join(download_dest, 'mort{0}.csv'.format(year))\n",
    "        new_filename = os.path.join(download_dest_base, '{0}.csv'.format(year))\n",
    "        os.rename(current_filename, new_filename)\n",
    "        os.rmdir(os.path.join(download_dest_base, year))\n",
    "    except:\n",
    "        current_filename = os.path.join(download_dest, 'Mort{0}US.PubUse.csv'.format(year))\n",
    "        new_filename = os.path.join(download_dest_base, '{0}.csv'.format(year))\n",
    "        os.rename(current_filename, new_filename)\n",
    "        os.rmdir(os.path.join(download_dest_base, year))\n",
    "    \n",
    "    print \"Downloaded raw mortality data for {0}\".format(year)"
   ]
  },
  {
   "cell_type": "code",
   "execution_count": 89,
   "metadata": {
    "hidden": true
   },
   "outputs": [],
   "source": [
    "def download_raw_data_2019(url=URL_2019, download_dest_base=DOWNLOAD_DEST_BASE):\n",
    "    df = pd.read_csv(url)\n",
    "    download_dest = os.path.join(download_dest_base, '2019.csv')\n",
    "    df.to_csv(download_dest)\n",
    "    \n",
    "    print \"Downloaded raw mortality data for 2019\""
   ]
  },
  {
   "cell_type": "code",
   "execution_count": 90,
   "metadata": {
    "hidden": true
   },
   "outputs": [],
   "source": [
    "def download_raw_data(start_year=START_YEAR, end_year=END_YEAR, \n",
    "                      base_url=BASE_URL, url_2019=URL_2019, download_dest_base=DOWNLOAD_DEST_BASE):\n",
    "    actual_end_year = min(END_YEAR, 2018)\n",
    "    years = range(start_year, actual_end_year+1)\n",
    "    \n",
    "    for year in years:\n",
    "        download_raw_data_by_year(year, base_url, download_dest_base)\n",
    "    \n",
    "    if actual_end_year < 2019:\n",
    "        download_raw_data_2019(url_2019, download_dest_base)"
   ]
  },
  {
   "cell_type": "code",
   "execution_count": 91,
   "metadata": {
    "hidden": true,
    "scrolled": true
   },
   "outputs": [
    {
     "name": "stdout",
     "output_type": "stream",
     "text": [
      "Already have raw mortality data for 1979\n",
      "Already have raw mortality data for 1980\n",
      "Already have raw mortality data for 1981\n",
      "Already have raw mortality data for 1982\n",
      "Already have raw mortality data for 1983\n",
      "Already have raw mortality data for 1984\n",
      "Already have raw mortality data for 1985\n",
      "Already have raw mortality data for 1986\n",
      "Already have raw mortality data for 1987\n",
      "Already have raw mortality data for 1988\n",
      "Already have raw mortality data for 1989\n",
      "Already have raw mortality data for 1990\n",
      "Already have raw mortality data for 1991\n",
      "Already have raw mortality data for 1992\n",
      "Already have raw mortality data for 1993\n",
      "Already have raw mortality data for 1994\n",
      "Already have raw mortality data for 1995\n",
      "Already have raw mortality data for 1996\n",
      "Already have raw mortality data for 1997\n",
      "Already have raw mortality data for 1998\n",
      "Already have raw mortality data for 1999\n",
      "Already have raw mortality data for 2000\n",
      "Already have raw mortality data for 2001\n",
      "Already have raw mortality data for 2002\n",
      "Already have raw mortality data for 2003\n",
      "Already have raw mortality data for 2004\n",
      "Already have raw mortality data for 2005\n",
      "Already have raw mortality data for 2006\n",
      "Already have raw mortality data for 2007\n",
      "Already have raw mortality data for 2008\n",
      "Already have raw mortality data for 2009\n",
      "Already have raw mortality data for 2010\n",
      "Already have raw mortality data for 2011\n",
      "Already have raw mortality data for 2012\n",
      "Already have raw mortality data for 2013\n",
      "Already have raw mortality data for 2014\n",
      "Already have raw mortality data for 2015\n",
      "Already have raw mortality data for 2016\n",
      "Already have raw mortality data for 2017\n",
      "Already have raw mortality data for 2018\n"
     ]
    },
    {
     "name": "stderr",
     "output_type": "stream",
     "text": [
      "C:\\Users\\basil\\Anaconda3\\envs\\py2\\lib\\site-packages\\IPython\\core\\interactiveshell.py:2878: DtypeWarning: Columns (7) have mixed types. Specify dtype option on import or set low_memory=False.\n",
      "  exec(code_obj, self.user_global_ns, self.user_ns)\n"
     ]
    },
    {
     "name": "stdout",
     "output_type": "stream",
     "text": [
      "Downloaded raw mortality data for 2019\n"
     ]
    }
   ],
   "source": [
    "download_raw_data()"
   ]
  },
  {
   "cell_type": "code",
   "execution_count": null,
   "metadata": {
    "hidden": true
   },
   "outputs": [],
   "source": []
  },
  {
   "cell_type": "markdown",
   "metadata": {
    "heading_collapsed": true
   },
   "source": [
    "# Population data"
   ]
  },
  {
   "cell_type": "markdown",
   "metadata": {
    "heading_collapsed": true,
    "hidden": true
   },
   "source": [
    "## Setup"
   ]
  },
  {
   "cell_type": "code",
   "execution_count": 95,
   "metadata": {
    "hidden": true
   },
   "outputs": [],
   "source": [
    "OTHER_DATA_DEST_BASE = 'other_data'"
   ]
  },
  {
   "cell_type": "code",
   "execution_count": 38,
   "metadata": {
    "hidden": true
   },
   "outputs": [],
   "source": [
    "# If raw data folder doesn't exist, create it\n",
    "if not os.path.exists(OTHER_DATA_DEST_BASE):\n",
    "    print 'Making \"{0}\" directory...'.format(DOWNLOAD_DEST_BASE)\n",
    "    os.makedirs('{0}'.format(OTHER_DATA_DEST_BASE))"
   ]
  },
  {
   "cell_type": "code",
   "execution_count": 39,
   "metadata": {
    "hidden": true
   },
   "outputs": [
    {
     "name": "stdout",
     "output_type": "stream",
     "text": [
      "Population data loaded, no need to run the rest of this section\n"
     ]
    }
   ],
   "source": [
    "pop_filename = os.path.join(OTHER_DATA_DEST_BASE, 'pop_data.csv')\n",
    "if os.path.exists(pop_filename):\n",
    "    pop_data = pd.read_csv(pop_filename, index_col=0)\n",
    "    pop_data = pop_data[[c for c in pop_data.columns if c != 'total']]\n",
    "    pop_data.columns = [int(x) for x in pop_data.columns]\n",
    "    print \"Population data loaded, no need to run the rest of this section\"\n",
    "else:\n",
    "    print \"pop_data.csv not yet created -- load data using code below.\""
   ]
  },
  {
   "cell_type": "code",
   "execution_count": null,
   "metadata": {
    "hidden": true
   },
   "outputs": [],
   "source": []
  },
  {
   "cell_type": "markdown",
   "metadata": {
    "heading_collapsed": true,
    "hidden": true
   },
   "source": [
    "#### Use NBER data (doesn't work!)"
   ]
  },
  {
   "cell_type": "code",
   "execution_count": null,
   "metadata": {
    "hidden": true
   },
   "outputs": [],
   "source": [
    "# This data only runs up through 2012, so I don't end up using it. Keeping it here to show that my population data\n",
    "# directly downloaded from Census matches what NBER has up through 2012"
   ]
  },
  {
   "cell_type": "code",
   "execution_count": null,
   "metadata": {
    "hidden": true
   },
   "outputs": [],
   "source": []
  },
  {
   "cell_type": "raw",
   "metadata": {
    "hidden": true
   },
   "source": [
    "NBER_POP_DATA_URL = 'https://www.nber.org/seer-pop/usstatesingleagesrace.csv.zip'"
   ]
  },
  {
   "cell_type": "raw",
   "metadata": {
    "hidden": true
   },
   "source": [
    "def download_nber_pop_data(url=NBER_POP_DATA_URL, download_dest_base=OTHER_DATA_DEST_BASE):\n",
    "    \"\"\"\n",
    "    See documentation stuff here:\n",
    "    https://www.nber.org/data/seer_u.s._county_population_data.html\n",
    "    \"\"\"\n",
    "    \n",
    "    # Check if already exists\n",
    "    if os.path.exists(os.path.join(download_dest_base, 'nber_pop_data.csv')):\n",
    "        if not REDOWNLOAD_RAW:\n",
    "            print \"Already have NBER population data\"\n",
    "            return\n",
    "        else:\n",
    "            print \"Redownloading NBER population data\"\n",
    "    \n",
    "    # Download data\n",
    "    download_dest = os.path.join(download_dest_base, 'tmp')\n",
    "    r = requests.get(url, stream=True)\n",
    "    with zipfile.ZipFile(StringIO.StringIO(r.content)) as zf:\n",
    "        zf.extractall(download_dest)\n",
    "\n",
    "    # Move CSV to main directory and delete empty folder\n",
    "    current_filename = os.path.join(download_dest, 'usstatesingleagesrace.csv')\n",
    "    new_filename = os.path.join(download_dest_base, 'nber_pop_data.csv')\n",
    "    os.rename(current_filename, new_filename)\n",
    "    os.rmdir(download_dest)\n",
    "    \n",
    "    print \"Downloaded NBER population data\""
   ]
  },
  {
   "cell_type": "raw",
   "metadata": {
    "hidden": true
   },
   "source": [
    "download_nber_pop_data()\n",
    "df = pd.read_csv('other_data/nber_pop_data.csv')\n",
    "df = pd.pivot_table(df[['year', 'age', 'pop']], columns='age', index='year', values='pop', aggfunc=sum)"
   ]
  },
  {
   "cell_type": "raw",
   "metadata": {
    "hidden": true
   },
   "source": [
    "for i in range(14, 25):\n",
    "    df[i].plot(label='nber')\n",
    "    pop_data[i].plot(label='me')\n",
    "    plt.legend()\n",
    "    plt.title(i)\n",
    "    plt.show()"
   ]
  },
  {
   "cell_type": "code",
   "execution_count": null,
   "metadata": {
    "hidden": true
   },
   "outputs": [],
   "source": []
  },
  {
   "cell_type": "markdown",
   "metadata": {
    "heading_collapsed": true,
    "hidden": true
   },
   "source": [
    "## Load by decade"
   ]
  },
  {
   "cell_type": "markdown",
   "metadata": {
    "heading_collapsed": true,
    "hidden": true
   },
   "source": [
    "### 2010-2019"
   ]
  },
  {
   "cell_type": "code",
   "execution_count": 40,
   "metadata": {
    "hidden": true
   },
   "outputs": [],
   "source": [
    "# Source url: https://www.census.gov/data/tables/time-series/demo/popest/2010s-national-detail.html\n",
    "# Description: https://www2.census.gov/programs-surveys/popest/technical-documentation/file-layouts/2010-2018/nc-est2018-agesex-res.pdf\n",
    "POP_DATA_URL_2010 = 'https://www2.census.gov/programs-surveys/popest/technical-documentation/file-layouts/2010-2019/nc-est2019-agesex-res.csv'"
   ]
  },
  {
   "cell_type": "code",
   "execution_count": 41,
   "metadata": {
    "hidden": true
   },
   "outputs": [],
   "source": [
    "def download_2010_pop_data(pop_data_url_2010=POP_DATA_URL_2010):\n",
    "    \"\"\"\n",
    "    Download population data from 2010-2018\n",
    "    \"\"\"\n",
    "    # Download\n",
    "    pop_data_2010_raw = pd.read_csv(pop_data_url_2010, index_col=None, header=0)\n",
    "    \n",
    "    # Clean\n",
    "    col_map = {\n",
    "        c: c[-4:]\n",
    "        for c in pop_data_2010_raw.columns if 'POPESTIMATE' in c\n",
    "    }\n",
    "    col_map['AGE'] = 'age'\n",
    "    col_map['SEX'] = 'sex'\n",
    "    gender_map = {\n",
    "        0: 'total',\n",
    "        1: 'male',\n",
    "        2: 'female',\n",
    "    }\n",
    "\n",
    "    pop_data_2010 = pop_data_2010_raw[col_map].rename(columns=col_map)\n",
    "    pop_data_2010['sex'] = pop_data_2010['sex'].replace(gender_map)\n",
    "    pop_data_2010['age'] = pop_data_2010['age'].replace(999, 'total')\n",
    "\n",
    "    pop_data_2010 = (\n",
    "        pop_data_2010\n",
    "        .set_index(['sex', 'age'])\n",
    "        .T\n",
    "        .sort_index()\n",
    "    )\n",
    "    \n",
    "    # Return\n",
    "    return pop_data_2010['total'], pop_data_2010['male'], pop_data_2010['female']"
   ]
  },
  {
   "cell_type": "code",
   "execution_count": 42,
   "metadata": {
    "hidden": true
   },
   "outputs": [],
   "source": [
    "def load_pop_data_2010(pop_data_url_2010=POP_DATA_URL_2010, other_data_dest_base=OTHER_DATA_DEST_BASE):\n",
    "    total_filename = os.path.join(other_data_dest_base, 'pop_data_2010_total.csv')\n",
    "    male_filename = os.path.join(other_data_dest_base, 'pop_data_2010_male.csv')\n",
    "    female_filename = os.path.join(other_data_dest_base, 'pop_data_2010_female.csv')\n",
    "    \n",
    "    if os.path.exists(total_filename):\n",
    "        print \"Loading\", total_filename\n",
    "        pop_data_2010_total = pd.read_csv(total_filename, index_col=0)\n",
    "        pop_data_2010_total.columns = [int(x) for x in pop_data_2010_total.columns if x != 'total'] + ['total']\n",
    "    else:\n",
    "        print \"Downloading 2010-2018 population data\"\n",
    "        pop_data_2010_total, males, females = download_2010_pop_data(pop_data_url_2010)\n",
    "        \n",
    "        pop_data_2010_total.to_csv(total_filename)\n",
    "        males.to_csv(male_filename)\n",
    "        females.to_csv(female_filename)\n",
    "        \n",
    "        print \"Saved\", total_filename\n",
    "        \n",
    "    return pop_data_2010_total"
   ]
  },
  {
   "cell_type": "code",
   "execution_count": 43,
   "metadata": {
    "hidden": true
   },
   "outputs": [
    {
     "name": "stdout",
     "output_type": "stream",
     "text": [
      "Loading other_data\\pop_data_2010_total.csv\n"
     ]
    }
   ],
   "source": [
    "pop_data_2010 = load_pop_data_2010()"
   ]
  },
  {
   "cell_type": "code",
   "execution_count": 44,
   "metadata": {
    "hidden": true
   },
   "outputs": [
    {
     "data": {
      "image/png": "[encoded data removed]",
      "text/plain": [
       "<Figure size 432x288 with 1 Axes>"
      ]
     },
     "metadata": {
      "needs_background": "light"
     },
     "output_type": "display_data"
    }
   ],
   "source": [
    "# sanity check\n",
    "(pop_data_2010[26]*100./pop_data_2010['total']).plot()\n",
    "_ = plt.title('Age 26 population')"
   ]
  },
  {
   "cell_type": "code",
   "execution_count": null,
   "metadata": {
    "hidden": true
   },
   "outputs": [],
   "source": []
  },
  {
   "cell_type": "markdown",
   "metadata": {
    "heading_collapsed": true,
    "hidden": true
   },
   "source": [
    "### 2000-2009"
   ]
  },
  {
   "cell_type": "code",
   "execution_count": 50,
   "metadata": {
    "hidden": true
   },
   "outputs": [],
   "source": [
    "# Source url: https://www.census.gov/data/datasets/time-series/demo/popest/intercensal-2000-2010-national.html\n",
    "POP_DATA_URL_2000 = 'https://www2.census.gov/programs-surveys/popest/datasets/2000-2010/intercensal/national/us-est00int-alldata.csv'"
   ]
  },
  {
   "cell_type": "code",
   "execution_count": 51,
   "metadata": {
    "hidden": true
   },
   "outputs": [],
   "source": [
    "pop_data_2000_raw = pd.read_csv(POP_DATA_URL_2000, index_col=None, header=0)\n",
    "\n",
    "# Estimates are available for April and July (??), I use July.\n",
    "pop_data_2000 = pop_data_2000_raw[pop_data_2000_raw['MONTH'] == 7]"
   ]
  },
  {
   "cell_type": "code",
   "execution_count": 52,
   "metadata": {
    "hidden": true
   },
   "outputs": [],
   "source": [
    "def download_2000_pop_data(pop_data_url_2000=POP_DATA_URL_2000, month=7):\n",
    "    \"\"\"\n",
    "    Download population data from 2000-2009\n",
    "    Estimates are available for July, and also for April only in 2000 and 2010 (??), so I use July.\n",
    "    \"\"\"   \n",
    "    # Download\n",
    "    pop_data_2000_raw = pd.read_csv(pop_data_url_2000, index_col=None, header=0)\n",
    "    \n",
    "    # Estimates are available for April and July (??), I use July.\n",
    "    pop_data_2000 = pop_data_2000_raw[pop_data_2000_raw['MONTH'] == month]\n",
    "\n",
    "    # Clean\n",
    "    def clean_pop_2000(df):\n",
    "        df = df.rename(columns={999: 'total'})\n",
    "        df.index.name = None\n",
    "        df.columns.name = None\n",
    "        return df\n",
    "\n",
    "    pop_data_2000_total = pd.pivot_table(pop_data_2000, index='YEAR', columns='AGE', values='TOT_POP')\n",
    "    pop_data_2000_male = pd.pivot_table(pop_data_2000, index='YEAR', columns='AGE', values='TOT_MALE')\n",
    "    pop_data_2000_female = pd.pivot_table(pop_data_2000, index='YEAR', columns='AGE', values='TOT_FEMALE')\n",
    "\n",
    "    pop_data_2000_total = clean_pop_2000(pop_data_2000_total)\n",
    "    pop_data_2000_male = clean_pop_2000(pop_data_2000_male)\n",
    "    pop_data_2000_female = clean_pop_2000(pop_data_2000_female)\n",
    "    \n",
    "    # Return\n",
    "    return pop_data_2000_total, pop_data_2000_male, pop_data_2000_female"
   ]
  },
  {
   "cell_type": "code",
   "execution_count": 53,
   "metadata": {
    "hidden": true
   },
   "outputs": [],
   "source": [
    "def load_pop_data_2000(pop_data_url_2000=POP_DATA_URL_2000, other_data_dest_base=OTHER_DATA_DEST_BASE):\n",
    "    total_filename = os.path.join(other_data_dest_base, 'pop_data_2000_total.csv')\n",
    "    male_filename = os.path.join(other_data_dest_base, 'pop_data_2000_male.csv')\n",
    "    female_filename = os.path.join(other_data_dest_base, 'pop_data_2000_female.csv')\n",
    "    \n",
    "    if os.path.exists(total_filename):\n",
    "        print \"Loading\", total_filename\n",
    "        pop_data_2000_total = pd.read_csv(total_filename, index_col=0)\n",
    "        pop_data_2000_total.columns = [int(x) for x in pop_data_2000_total.columns if x != 'total'] + ['total']\n",
    "    else:\n",
    "        print \"Downloading 2000-2009 population data\"\n",
    "        pop_data_2000_total, males, females = download_2000_pop_data(pop_data_url_2000)\n",
    "        \n",
    "        pop_data_2000_total.to_csv(total_filename)\n",
    "        males.to_csv(male_filename)\n",
    "        females.to_csv(female_filename)\n",
    "        \n",
    "        print \"Saved\", total_filename\n",
    "        \n",
    "    return pop_data_2000_total"
   ]
  },
  {
   "cell_type": "code",
   "execution_count": 54,
   "metadata": {
    "hidden": true
   },
   "outputs": [
    {
     "name": "stdout",
     "output_type": "stream",
     "text": [
      "Loading other_data\\pop_data_2000_total.csv\n"
     ]
    }
   ],
   "source": [
    "pop_data_2000 = load_pop_data_2000()"
   ]
  },
  {
   "cell_type": "code",
   "execution_count": null,
   "metadata": {
    "hidden": true
   },
   "outputs": [],
   "source": []
  },
  {
   "cell_type": "markdown",
   "metadata": {
    "heading_collapsed": true,
    "hidden": true
   },
   "source": [
    "### 1990-2000"
   ]
  },
  {
   "cell_type": "code",
   "execution_count": 55,
   "metadata": {
    "hidden": true
   },
   "outputs": [],
   "source": [
    "#https://www.census.gov/data/datasets/time-series/demo/popest/intercensal-1990-2000-national.html\n",
    "POP_DATA_URL_1990 = 'https://www2.census.gov/programs-surveys/popest/datasets/1990-2000/intercensal/national/us-est90int-07.csv'"
   ]
  },
  {
   "cell_type": "code",
   "execution_count": 56,
   "metadata": {
    "hidden": true
   },
   "outputs": [],
   "source": [
    "def download_1990_pop_data(pop_data_url_1990=POP_DATA_URL_1990, month=7):\n",
    "    \"\"\"\n",
    "    Download population data from 1990-1999\n",
    "    Estimates are available monthly, I use July.\n",
    "    \"\"\"   \n",
    "    # Download\n",
    "    pop_data_1990_raw = pd.read_csv(pop_data_url_1990, index_col=None, header=0, skiprows=1)\n",
    "    \n",
    "    # Clean\n",
    "    # Relabel columns\n",
    "    pop_data_1990 = pop_data_1990_raw.copy()\n",
    "    pop_data_1990.columns = ['Date', 'Age', 'Total', 'Male', 'Female']\n",
    "    # Drop bad rows\n",
    "    pop_data_1990 = pop_data_1990['Int' != pop_data_1990['Date'].str[:3]]\n",
    "    # Date\n",
    "    pop_data_1990['Date'] = pd.to_datetime(pop_data_1990['Date'])\n",
    "    pop_data_1990['Year'] = pop_data_1990['Date'].apply(lambda x: x.year)\n",
    "    pop_data_1990['Month'] = pop_data_1990['Date'].apply(lambda x: x.month)\n",
    "    # Age\n",
    "    pop_data_1990['Age'] = pop_data_1990['Age'].replace('100+', '100')\n",
    "    pop_data_1990['Age'] = pop_data_1990['Age'].replace('All Age', 'total')\n",
    "    # Estimates are available quarterly, I use April.\n",
    "    pop_data_1990 = pop_data_1990[pop_data_1990['Month'] == month]\n",
    "    \n",
    "    # Collect\n",
    "    pop_data_1990_total = pd.pivot_table(pop_data_1990, index='Year', columns='Age', values='Total')\n",
    "    pop_data_1990_male = pd.pivot_table(pop_data_1990, index='Year', columns='Age', values='Male')\n",
    "    pop_data_1990_female = pd.pivot_table(pop_data_1990, index='Year', columns='Age', values='Female')\n",
    "    \n",
    "    # Clean moar\n",
    "    def clean_pop_1990(df):\n",
    "        df.index.name = None\n",
    "        df.columns.name = None\n",
    "        df.columns = [int(x) if x != 'total' else 'total' for x in df.columns]\n",
    "        order = sorted(df.columns)\n",
    "        return df[order]\n",
    "    pop_data_1990_total = clean_pop_1990(pop_data_1990_total)\n",
    "    pop_data_1990_male = clean_pop_1990(pop_data_1990_male)\n",
    "    pop_data_1990_female = clean_pop_1990(pop_data_1990_female)\n",
    "    \n",
    "    # Return\n",
    "    return pop_data_1990_total, pop_data_1990_male, pop_data_1990_female"
   ]
  },
  {
   "cell_type": "code",
   "execution_count": 57,
   "metadata": {
    "hidden": true
   },
   "outputs": [],
   "source": [
    "def load_pop_data_1990(pop_data_url_1990=POP_DATA_URL_1990, other_data_dest_base=OTHER_DATA_DEST_BASE):\n",
    "    total_filename = os.path.join(other_data_dest_base, 'pop_data_1990_total.csv')\n",
    "    male_filename = os.path.join(other_data_dest_base, 'pop_data_1990_male.csv')\n",
    "    female_filename = os.path.join(other_data_dest_base, 'pop_data_1990_female.csv')\n",
    "    \n",
    "    if os.path.exists(total_filename):\n",
    "        print \"Loading\", total_filename\n",
    "        pop_data_1990_total = pd.read_csv(total_filename, index_col=0)\n",
    "        pop_data_1990_total.columns = [int(x) for x in pop_data_1990_total.columns if x != 'total'] + ['total']\n",
    "    else:\n",
    "        print \"Downloading 1990-1999 population data\"\n",
    "        pop_data_1990_total, males, females = download_1990_pop_data(pop_data_url_1990)\n",
    "        \n",
    "        pop_data_1990_total.to_csv(total_filename)\n",
    "        males.to_csv(male_filename)\n",
    "        females.to_csv(female_filename)\n",
    "        \n",
    "        print \"Saved\", total_filename\n",
    "        \n",
    "    return pop_data_1990_total"
   ]
  },
  {
   "cell_type": "code",
   "execution_count": 58,
   "metadata": {
    "hidden": true
   },
   "outputs": [
    {
     "name": "stdout",
     "output_type": "stream",
     "text": [
      "Loading other_data\\pop_data_1990_total.csv\n"
     ]
    }
   ],
   "source": [
    "pop_data_1990 = load_pop_data_1990()"
   ]
  },
  {
   "cell_type": "code",
   "execution_count": null,
   "metadata": {
    "hidden": true
   },
   "outputs": [],
   "source": []
  },
  {
   "cell_type": "markdown",
   "metadata": {
    "heading_collapsed": true,
    "hidden": true
   },
   "source": [
    "### 1980-1990"
   ]
  },
  {
   "cell_type": "code",
   "execution_count": 59,
   "metadata": {
    "hidden": true
   },
   "outputs": [],
   "source": [
    "# Source: https://www.census.gov/data/datasets/time-series/demo/popest/1980s-national.html\n",
    "# Documentation: https://www2.census.gov/programs-surveys/popest/technical-documentation/file-layouts/1980-1990/nat-detail-layout.txt\n",
    "POP_DATA_URLS_1980s = {\n",
    "    1980: 'https://www2.census.gov/programs-surveys/popest/datasets/1980-1990/national/asrh/e8081rqi.zip',\n",
    "    1981: 'https://www2.census.gov/programs-surveys/popest/datasets/1980-1990/national/asrh/e8182rqi.zip',\n",
    "    1982: 'https://www2.census.gov/programs-surveys/popest/datasets/1980-1990/national/asrh/e8283rqi.zip',\n",
    "    1983: 'https://www2.census.gov/programs-surveys/popest/datasets/1980-1990/national/asrh/e8384rqi.zip',\n",
    "    1984: 'https://www2.census.gov/programs-surveys/popest/datasets/1980-1990/national/asrh/e8485rqi.zip',\n",
    "    1985: 'https://www2.census.gov/programs-surveys/popest/datasets/1980-1990/national/asrh/e8586rqi.zip',\n",
    "    1986: 'https://www2.census.gov/programs-surveys/popest/datasets/1980-1990/national/asrh/e8687rqi.zip',\n",
    "    1987: 'https://www2.census.gov/programs-surveys/popest/datasets/1980-1990/national/asrh/e8788rqi.zip',\n",
    "    1988: 'https://www2.census.gov/programs-surveys/popest/datasets/1980-1990/national/asrh/e8889rqi.zip',\n",
    "    1989: 'https://www2.census.gov/programs-surveys/popest/datasets/1980-1990/national/asrh/e8990rqi.zip',\n",
    "}"
   ]
  },
  {
   "cell_type": "code",
   "execution_count": 60,
   "metadata": {
    "hidden": true
   },
   "outputs": [],
   "source": [
    "def download_1980_pop_data_by_year(year, pop_data_urls_1980s=POP_DATA_URLS_1980s, \n",
    "                                   other_data_dest_base=OTHER_DATA_DEST_BASE, month=7):\n",
    "    \"\"\"\n",
    "    Download population data for a given year in 1980-1989\n",
    "    Estimates are available quarterly, I use July.\n",
    "    \"\"\"   \n",
    "    # Download zip for the year\n",
    "    url = pop_data_urls_1980s[year]\n",
    "    r = requests.get(url, stream=True)\n",
    "    with zipfile.ZipFile(StringIO.StringIO(r.content)) as zf:\n",
    "        zf.extractall(other_data_dest_base)    \n",
    "    \n",
    "    # Read in data (stored as a string wtf)\n",
    "    year_str2 = str(year)[-2:]\n",
    "    year_after_str2 = str(year+1)[-2:]\n",
    "    raw_data_name = 'E{0}{1}RQI.TXT'.format(year_str2, year_after_str2)\n",
    "    raw_data_path = os.path.join(other_data_dest_base, raw_data_name)\n",
    "    raw_data = open(raw_data_path, 'r').readlines()\n",
    "\n",
    "    pop_data_year = {\n",
    "        'Month': {},\n",
    "        'Year': {},\n",
    "        'Age': {},\n",
    "        'Total': {},\n",
    "        'Male': {},\n",
    "        'Female': {},\n",
    "    }\n",
    "    for row_num in range(len(raw_data)):\n",
    "        row = raw_data[row_num]\n",
    "        if len(row) < 40:\n",
    "            continue\n",
    "        #pop_data_year['series'][row_num] = row[0:2]\n",
    "        pop_data_year['Month'][row_num] = int(row[2:4])\n",
    "        pop_data_year['Year'][row_num] = int('19' + row[4:6])\n",
    "        pop_data_year['Age'][row_num] = int(row[6:10])\n",
    "        #pop_data_year['blank'][row_num] = row[10:11]\n",
    "        pop_data_year['Total'][row_num] = int(row[11:21])\n",
    "        pop_data_year['Male'][row_num] = int(row[21:31])\n",
    "        pop_data_year['Female'][row_num] = int(row[31:41])\n",
    "    \n",
    "    # Clean up\n",
    "    pop_data_year = pd.DataFrame(pop_data_year)\n",
    "    os.remove(raw_data_path)\n",
    "    \n",
    "    # Clean\n",
    "    pop_data_year['Age'] = pop_data_year['Age'].replace(999, 'total')\n",
    "    pop_data_year = pop_data_year[pop_data_year['Year'] == year]\n",
    "    pop_data_year = pop_data_year[pop_data_year['Month'] == month]\n",
    "\n",
    "    \n",
    "    return pop_data_year"
   ]
  },
  {
   "cell_type": "code",
   "execution_count": 61,
   "metadata": {
    "hidden": true
   },
   "outputs": [],
   "source": [
    "def download_1980_pop_data(pop_data_urls_1980s=POP_DATA_URLS_1980s, \n",
    "                           other_data_dest_base=OTHER_DATA_DEST_BASE, month=7):\n",
    "    \"\"\"\n",
    "    Download population data from 1980-1989\n",
    "    Estimates are available monthly, I use July.\n",
    "    \"\"\"   \n",
    "    # Download\n",
    "    pop_data_1980_dict = {}\n",
    "    for year in range(1980, 1990):\n",
    "        pop_data_1980_dict[year] = download_1980_pop_data_by_year(year, pop_data_urls_1980s, \n",
    "                                                                  other_data_dest_base, month)\n",
    "    pop_data_1980 = pd.concat(pop_data_1980_dict.values(), axis=0)\n",
    "        \n",
    "    # Collect\n",
    "    pop_data_1980_total = pd.pivot_table(pop_data_1980, index='Year', columns='Age', values='Total')\n",
    "    pop_data_1980_male = pd.pivot_table(pop_data_1980, index='Year', columns='Age', values='Male')\n",
    "    pop_data_1980_female = pd.pivot_table(pop_data_1980, index='Year', columns='Age', values='Female')\n",
    "    \n",
    "    # Clean moar\n",
    "    def clean_pop_1980(df):\n",
    "        df.index.name = None\n",
    "        df.columns.name = None\n",
    "        df.columns = [int(x) if x != 'total' else 'total' for x in df.columns]\n",
    "        order = sorted(df.columns)\n",
    "        return df[order]\n",
    "    pop_data_1980_total = clean_pop_1980(pop_data_1980_total)\n",
    "    pop_data_1980_male = clean_pop_1980(pop_data_1980_male)\n",
    "    pop_data_1980_female = clean_pop_1980(pop_data_1980_female)\n",
    "    \n",
    "    # Return\n",
    "    return pop_data_1980_total, pop_data_1980_male, pop_data_1980_female"
   ]
  },
  {
   "cell_type": "code",
   "execution_count": 62,
   "metadata": {
    "hidden": true
   },
   "outputs": [],
   "source": [
    "def load_pop_data_1980(pop_data_urls_1980s=POP_DATA_URLS_1980s, other_data_dest_base=OTHER_DATA_DEST_BASE):\n",
    "    total_filename = os.path.join(other_data_dest_base, 'pop_data_1980_total.csv')\n",
    "    male_filename = os.path.join(other_data_dest_base, 'pop_data_1980_male.csv')\n",
    "    female_filename = os.path.join(other_data_dest_base, 'pop_data_1980_female.csv')\n",
    "    \n",
    "    if os.path.exists(total_filename):\n",
    "        print \"Loading\", total_filename\n",
    "        pop_data_1980_total = pd.read_csv(total_filename, index_col=0)\n",
    "        pop_data_1980_total.columns = [int(x) for x in pop_data_1980_total.columns if x != 'total'] + ['total']\n",
    "    else:\n",
    "        print \"Downloading 1990-1999 population data\"\n",
    "        pop_data_1980_total, males, females = download_1980_pop_data(pop_data_urls_1980s, other_data_dest_base)\n",
    "        \n",
    "        pop_data_1980_total.to_csv(total_filename)\n",
    "        males.to_csv(male_filename)\n",
    "        females.to_csv(female_filename)\n",
    "        \n",
    "        print \"Saved\", total_filename\n",
    "        \n",
    "    return pop_data_1980_total"
   ]
  },
  {
   "cell_type": "code",
   "execution_count": 63,
   "metadata": {
    "hidden": true
   },
   "outputs": [
    {
     "name": "stdout",
     "output_type": "stream",
     "text": [
      "Loading other_data\\pop_data_1980_total.csv\n"
     ]
    }
   ],
   "source": [
    "pop_data_1980 = load_pop_data_1980()"
   ]
  },
  {
   "cell_type": "code",
   "execution_count": null,
   "metadata": {
    "hidden": true
   },
   "outputs": [],
   "source": []
  },
  {
   "cell_type": "markdown",
   "metadata": {
    "heading_collapsed": true,
    "hidden": true
   },
   "source": [
    "### <1980"
   ]
  },
  {
   "cell_type": "code",
   "execution_count": 64,
   "metadata": {
    "hidden": true
   },
   "outputs": [],
   "source": [
    "#TODO\n",
    "#https://www.census.gov/data/tables/time-series/demo/popest/pre-1980-national.html"
   ]
  },
  {
   "cell_type": "code",
   "execution_count": null,
   "metadata": {
    "hidden": true
   },
   "outputs": [],
   "source": []
  },
  {
   "cell_type": "markdown",
   "metadata": {
    "heading_collapsed": true,
    "hidden": true
   },
   "source": [
    "### Combine"
   ]
  },
  {
   "cell_type": "code",
   "execution_count": 65,
   "metadata": {
    "hidden": true
   },
   "outputs": [],
   "source": [
    "# Note that the \"max bucket\" varies over time, but doesn't matter for our purposes\n",
    "# See https://www.census.gov/dataviz/visualizations/055/"
   ]
  },
  {
   "cell_type": "code",
   "execution_count": 66,
   "metadata": {
    "hidden": true
   },
   "outputs": [],
   "source": [
    "dict_of_pop_data = {\n",
    "    '2010-2017': pop_data_2010,\n",
    "    '2000-2009': pop_data_2000.loc[2000:2009],\n",
    "    '1990-1999': pop_data_1990,\n",
    "    '1980-1989': pop_data_1980,\n",
    "    #'<1980': None,\n",
    "}"
   ]
  },
  {
   "cell_type": "code",
   "execution_count": 67,
   "metadata": {
    "hidden": true
   },
   "outputs": [],
   "source": [
    "pop_data = pd.concat(dict_of_pop_data.values(), axis=0)\n",
    "pop_data = pop_data.fillna(0)\n",
    "pop_data = pop_data.sort_index()\n",
    "\n",
    "clear_output() # stupid warning"
   ]
  },
  {
   "cell_type": "code",
   "execution_count": 68,
   "metadata": {
    "hidden": true
   },
   "outputs": [
    {
     "data": {
      "text/plain": [
       "<matplotlib.axes._subplots.AxesSubplot at 0x1fb7f148>"
      ]
     },
     "execution_count": 68,
     "metadata": {},
     "output_type": "execute_result"
    },
    {
     "data": {
      "image/png": "[encoded data removed]",
      "text/plain": [
       "<Figure size 432x288 with 1 Axes>"
      ]
     },
     "metadata": {
      "needs_background": "light"
     },
     "output_type": "display_data"
    }
   ],
   "source": [
    "# Sanity check\n",
    "pop_data['total'].plot()"
   ]
  },
  {
   "cell_type": "code",
   "execution_count": 69,
   "metadata": {
    "hidden": true
   },
   "outputs": [],
   "source": [
    "# Save\n",
    "pop_data.to_csv(os.path.join(OTHER_DATA_DEST_BASE, 'pop_data.csv'))"
   ]
  },
  {
   "cell_type": "code",
   "execution_count": null,
   "metadata": {
    "hidden": true
   },
   "outputs": [],
   "source": []
  },
  {
   "cell_type": "markdown",
   "metadata": {
    "heading_collapsed": true
   },
   "source": [
    "# Get just suicide data"
   ]
  },
  {
   "cell_type": "code",
   "execution_count": 70,
   "metadata": {
    "hidden": true
   },
   "outputs": [],
   "source": [
    "CLEAN_DATA_BASE = 'cleaned_data'"
   ]
  },
  {
   "cell_type": "code",
   "execution_count": 71,
   "metadata": {
    "hidden": true
   },
   "outputs": [],
   "source": [
    "if not os.path.exists(CLEAN_DATA_BASE):\n",
    "    os.makedirs(CLEAN_DATA_BASE)\n",
    "    print \"Created\", CLEAN_DATA_BASE"
   ]
  },
  {
   "cell_type": "code",
   "execution_count": 106,
   "metadata": {
    "hidden": true
   },
   "outputs": [],
   "source": [
    "# See Hansen and Lang (2011), \"Data\" section; or individual documentation files linked from NBER\n",
    "DEATH_VAR_MAP = {}\n",
    "SUICIDE_VAL_MAP = {}\n",
    "#for year in range(1968, 1979):\n",
    "    # ICDA-8\n",
    "    # https://www.nber.org/mortality/www.cdc.gov/nchs/data/dvs/dt78icd8.pdf\n",
    "    #DEATH_VAR_MAP[year] = 'ucr34'\n",
    "    #SUICIDE_VAL_MAP[year] = 350\n",
    "for year in range(1979, 1999):\n",
    "    # ICDA-9\n",
    "    # https://www.nber.org/mortality/1998/desc_mort1998.txt\n",
    "    DEATH_VAR_MAP[year] = 'ucr34'\n",
    "    SUICIDE_VAL_MAP[year] = 350\n",
    "for year in range(1999, 2020):\n",
    "    # ICDA-10\n",
    "    # https://www.nber.org/mortality/1999/desc_mort1999.txt\n",
    "    DEATH_VAR_MAP[year] = 'ucr39'\n",
    "    SUICIDE_VAL_MAP[year] = 40"
   ]
  },
  {
   "cell_type": "code",
   "execution_count": 107,
   "metadata": {
    "hidden": true
   },
   "outputs": [],
   "source": [
    "def get_suicide_data(death_var_map=DEATH_VAR_MAP, suicide_val_map=SUICIDE_VAL_MAP,\n",
    "                     start_year=START_YEAR, end_year=END_YEAR,\n",
    "                     raw_data_loc_base=DOWNLOAD_DEST_BASE, suicide_data_loc_base=CLEAN_DATA_BASE):\n",
    "    for year in reversed(range(start_year, end_year+1)):\n",
    "        # Check if already exists\n",
    "        new_filename = os.path.join(suicide_data_loc_base, '{0}.csv'.format(year))\n",
    "        if os.path.exists(new_filename):\n",
    "            print new_filename, \"already exists\"\n",
    "            continue\n",
    "\n",
    "        # Set appropriate variables\n",
    "        death_var = death_var_map[int(year)]\n",
    "        suicide_val = suicide_val_map[int(year)]\n",
    "        \n",
    "        # Get data\n",
    "        get_suicide_data_by_year(death_var, suicide_val, year, raw_data_loc_base, suicide_data_loc_base)"
   ]
  },
  {
   "cell_type": "code",
   "execution_count": 108,
   "metadata": {
    "hidden": true
   },
   "outputs": [],
   "source": [
    "def get_suicide_data_by_year(death_var, suicide_val, year,\n",
    "                             raw_data_loc_base=DOWNLOAD_DEST_BASE, suicide_data_loc_base=CLEAN_DATA_BASE):\n",
    "    # Check if already exists\n",
    "    new_filename = os.path.join(suicide_data_loc_base, '{0}.csv'.format(year))\n",
    "    if os.path.exists(new_filename):\n",
    "        print new_filename, \"already exists\"\n",
    "        return\n",
    "\n",
    "    # Load data\n",
    "    print \"Loading\", year\n",
    "    filename = os.path.join(raw_data_loc_base, '{0}.csv'.format(year))\n",
    "    data = pd.read_csv(filename)\n",
    "\n",
    "    # Filter to just suicides\n",
    "    suicide_data = data[data[death_var] == suicide_val]\n",
    "\n",
    "    # Extract age\n",
    "    if (year <= 2002) & (year >= 1979):    # this might work for prior to 1979 as well, but haven't checked codebooks\n",
    "        # See \"Detail Age\": https://www.nber.org/mortality/2002/mort2002.pdf\n",
    "        # above 99 label as 100\n",
    "        suicide_data.loc[(suicide_data['age'] > 100) & (suicide_data['age'] < 200), 'age'] = 100\n",
    "        # months/weeks/days/hours/minutes report as 0\n",
    "        suicide_data.loc[(suicide_data['age'] > 200) & (suicide_data['age'] < 700), 'age'] = 0\n",
    "        # drop unknowns\n",
    "        clean_suicide_data = suicide_data[suicide_data['age'] != 999]\n",
    "    elif year >= 2003:\n",
    "        # See \"Detail Age\": https://www.nber.org/mortality/2003/mort2003.pdf\n",
    "        age_in_years = (suicide_data['age'] > 1000) & (suicide_data['age'] < 2000)\n",
    "        age_zero = (suicide_data['age'] > 2000) & (suicide_data['age'] < 7000)\n",
    "        not_missing = suicide_data['age'] != 9999\n",
    "        # get age for 1+\n",
    "        suicide_data.loc[age_in_years, 'age'] -= 1000\n",
    "        # months/weeks/days/hours/minutes report as 0\n",
    "        suicide_data.loc[age_zero, 'age'] = 0\n",
    "        # above 99 label as 100\n",
    "        suicide_data.loc[(suicide_data['age'] > 100) & not_missing, 'age'] = 100\n",
    "        # drop unknowns\n",
    "        clean_suicide_data = suicide_data.loc[not_missing]\n",
    "\n",
    "    # Drop irrelevant vars\n",
    "    final_suicide_data = clean_suicide_data[['sex', 'age', 'monthdth']].copy()\n",
    "    final_suicide_data = final_suicide_data.rename(columns={'monthdth': 'month'})\n",
    "    final_suicide_data['year'] = year\n",
    "\n",
    "    # Get sex\n",
    "    # TODO: ...confirm\n",
    "    # final_suicide_data['sex'].replace(1, 'M').replace(2, 'F')\n",
    "\n",
    "    # Save data\n",
    "    final_suicide_data.to_csv(new_filename)\n",
    "    print \"Saved\", new_filename"
   ]
  },
  {
   "cell_type": "code",
   "execution_count": 109,
   "metadata": {
    "hidden": true
   },
   "outputs": [
    {
     "name": "stdout",
     "output_type": "stream",
     "text": [
      "Loading 2019\n"
     ]
    },
    {
     "name": "stderr",
     "output_type": "stream",
     "text": [
      "C:\\Users\\basil\\Anaconda3\\envs\\py2\\lib\\site-packages\\IPython\\core\\interactiveshell.py:2878: DtypeWarning: Columns (8) have mixed types. Specify dtype option on import or set low_memory=False.\n",
      "  exec(code_obj, self.user_global_ns, self.user_ns)\n",
      "C:\\Users\\basil\\Anaconda3\\envs\\py2\\lib\\site-packages\\pandas\\core\\indexing.py:543: SettingWithCopyWarning: \n",
      "A value is trying to be set on a copy of a slice from a DataFrame.\n",
      "Try using .loc[row_indexer,col_indexer] = value instead\n",
      "\n",
      "See the caveats in the documentation: http://pandas.pydata.org/pandas-docs/stable/indexing.html#indexing-view-versus-copy\n",
      "  self.obj[item] = s\n"
     ]
    },
    {
     "name": "stdout",
     "output_type": "stream",
     "text": [
      "Saved cleaned_data\\2019.csv\n",
      "Loading 2018\n"
     ]
    },
    {
     "name": "stderr",
     "output_type": "stream",
     "text": [
      "C:\\Users\\basil\\Anaconda3\\envs\\py2\\lib\\site-packages\\IPython\\core\\interactiveshell.py:2878: DtypeWarning: Columns (66,69,72,100,101,102,103) have mixed types. Specify dtype option on import or set low_memory=False.\n",
      "  exec(code_obj, self.user_global_ns, self.user_ns)\n"
     ]
    },
    {
     "name": "stdout",
     "output_type": "stream",
     "text": [
      "Saved cleaned_data\\2018.csv\n",
      "cleaned_data\\2017.csv already exists\n",
      "cleaned_data\\2016.csv already exists\n",
      "cleaned_data\\2015.csv already exists\n",
      "cleaned_data\\2014.csv already exists\n",
      "cleaned_data\\2013.csv already exists\n",
      "cleaned_data\\2012.csv already exists\n",
      "cleaned_data\\2011.csv already exists\n",
      "cleaned_data\\2010.csv already exists\n",
      "cleaned_data\\2009.csv already exists\n",
      "cleaned_data\\2008.csv already exists\n",
      "cleaned_data\\2007.csv already exists\n",
      "cleaned_data\\2006.csv already exists\n",
      "cleaned_data\\2005.csv already exists\n",
      "cleaned_data\\2004.csv already exists\n",
      "cleaned_data\\2003.csv already exists\n",
      "cleaned_data\\2002.csv already exists\n",
      "cleaned_data\\2001.csv already exists\n",
      "cleaned_data\\2000.csv already exists\n",
      "cleaned_data\\1999.csv already exists\n",
      "cleaned_data\\1998.csv already exists\n",
      "cleaned_data\\1997.csv already exists\n",
      "cleaned_data\\1996.csv already exists\n",
      "cleaned_data\\1995.csv already exists\n",
      "cleaned_data\\1994.csv already exists\n",
      "cleaned_data\\1993.csv already exists\n",
      "cleaned_data\\1992.csv already exists\n",
      "cleaned_data\\1991.csv already exists\n",
      "cleaned_data\\1990.csv already exists\n",
      "cleaned_data\\1989.csv already exists\n",
      "cleaned_data\\1988.csv already exists\n",
      "cleaned_data\\1987.csv already exists\n",
      "cleaned_data\\1986.csv already exists\n",
      "cleaned_data\\1985.csv already exists\n",
      "cleaned_data\\1984.csv already exists\n",
      "cleaned_data\\1983.csv already exists\n",
      "cleaned_data\\1982.csv already exists\n",
      "cleaned_data\\1981.csv already exists\n",
      "cleaned_data\\1980.csv already exists\n",
      "cleaned_data\\1979.csv already exists\n"
     ]
    }
   ],
   "source": [
    "get_suicide_data()"
   ]
  },
  {
   "cell_type": "code",
   "execution_count": 110,
   "metadata": {
    "hidden": true
   },
   "outputs": [
    {
     "data": {
      "text/html": [
       "<div>\n",
       "<style scoped>\n",
       "    .dataframe tbody tr th:only-of-type {\n",
       "        vertical-align: middle;\n",
       "    }\n",
       "\n",
       "    .dataframe tbody tr th {\n",
       "        vertical-align: top;\n",
       "    }\n",
       "\n",
       "    .dataframe thead th {\n",
       "        text-align: right;\n",
       "    }\n",
       "</style>\n",
       "<table border=\"1\" class=\"dataframe\">\n",
       "  <thead>\n",
       "    <tr style=\"text-align: right;\">\n",
       "      <th></th>\n",
       "      <th>sex</th>\n",
       "      <th>age</th>\n",
       "      <th>month</th>\n",
       "      <th>year</th>\n",
       "    </tr>\n",
       "  </thead>\n",
       "  <tbody>\n",
       "    <tr>\n",
       "      <th>1309381</th>\n",
       "      <td>F</td>\n",
       "      <td>54</td>\n",
       "      <td>4</td>\n",
       "      <td>2019</td>\n",
       "    </tr>\n",
       "    <tr>\n",
       "      <th>846905</th>\n",
       "      <td>M</td>\n",
       "      <td>40</td>\n",
       "      <td>12</td>\n",
       "      <td>2019</td>\n",
       "    </tr>\n",
       "    <tr>\n",
       "      <th>62353</th>\n",
       "      <td>M</td>\n",
       "      <td>76</td>\n",
       "      <td>2</td>\n",
       "      <td>2019</td>\n",
       "    </tr>\n",
       "    <tr>\n",
       "      <th>20006</th>\n",
       "      <td>M</td>\n",
       "      <td>35</td>\n",
       "      <td>4</td>\n",
       "      <td>2019</td>\n",
       "    </tr>\n",
       "    <tr>\n",
       "      <th>2316075</th>\n",
       "      <td>M</td>\n",
       "      <td>81</td>\n",
       "      <td>5</td>\n",
       "      <td>2019</td>\n",
       "    </tr>\n",
       "  </tbody>\n",
       "</table>\n",
       "</div>"
      ],
      "text/plain": [
       "        sex  age  month  year\n",
       "1309381   F   54      4  2019\n",
       "846905    M   40     12  2019\n",
       "62353     M   76      2  2019\n",
       "20006     M   35      4  2019\n",
       "2316075   M   81      5  2019"
      ]
     },
     "execution_count": 110,
     "metadata": {},
     "output_type": "execute_result"
    }
   ],
   "source": [
    "# example\n",
    "df = pd.read_csv('cleaned_data/2019.csv', index_col=0)\n",
    "df.sample(n=5)"
   ]
  },
  {
   "cell_type": "code",
   "execution_count": 111,
   "metadata": {
    "hidden": true
   },
   "outputs": [
    {
     "data": {
      "text/html": [
       "<div>\n",
       "<style scoped>\n",
       "    .dataframe tbody tr th:only-of-type {\n",
       "        vertical-align: middle;\n",
       "    }\n",
       "\n",
       "    .dataframe tbody tr th {\n",
       "        vertical-align: top;\n",
       "    }\n",
       "\n",
       "    .dataframe thead th {\n",
       "        text-align: right;\n",
       "    }\n",
       "</style>\n",
       "<table border=\"1\" class=\"dataframe\">\n",
       "  <thead>\n",
       "    <tr style=\"text-align: right;\">\n",
       "      <th></th>\n",
       "      <th>sex</th>\n",
       "      <th>age</th>\n",
       "      <th>month</th>\n",
       "      <th>year</th>\n",
       "    </tr>\n",
       "  </thead>\n",
       "  <tbody>\n",
       "    <tr>\n",
       "      <th>1842578</th>\n",
       "      <td>F</td>\n",
       "      <td>66</td>\n",
       "      <td>10</td>\n",
       "      <td>2017</td>\n",
       "    </tr>\n",
       "    <tr>\n",
       "      <th>938834</th>\n",
       "      <td>F</td>\n",
       "      <td>32</td>\n",
       "      <td>11</td>\n",
       "      <td>2017</td>\n",
       "    </tr>\n",
       "    <tr>\n",
       "      <th>1817012</th>\n",
       "      <td>M</td>\n",
       "      <td>61</td>\n",
       "      <td>7</td>\n",
       "      <td>2017</td>\n",
       "    </tr>\n",
       "    <tr>\n",
       "      <th>2288169</th>\n",
       "      <td>M</td>\n",
       "      <td>51</td>\n",
       "      <td>5</td>\n",
       "      <td>2017</td>\n",
       "    </tr>\n",
       "    <tr>\n",
       "      <th>713905</th>\n",
       "      <td>M</td>\n",
       "      <td>51</td>\n",
       "      <td>1</td>\n",
       "      <td>2017</td>\n",
       "    </tr>\n",
       "  </tbody>\n",
       "</table>\n",
       "</div>"
      ],
      "text/plain": [
       "        sex  age  month  year\n",
       "1842578   F   66     10  2017\n",
       "938834    F   32     11  2017\n",
       "1817012   M   61      7  2017\n",
       "2288169   M   51      5  2017\n",
       "713905    M   51      1  2017"
      ]
     },
     "execution_count": 111,
     "metadata": {},
     "output_type": "execute_result"
    }
   ],
   "source": [
    "# example\n",
    "df = pd.read_csv('cleaned_data/2017.csv', index_col=0)\n",
    "df.sample(n=5)"
   ]
  },
  {
   "cell_type": "code",
   "execution_count": 112,
   "metadata": {
    "hidden": true
   },
   "outputs": [
    {
     "data": {
      "text/html": [
       "<div>\n",
       "<style scoped>\n",
       "    .dataframe tbody tr th:only-of-type {\n",
       "        vertical-align: middle;\n",
       "    }\n",
       "\n",
       "    .dataframe tbody tr th {\n",
       "        vertical-align: top;\n",
       "    }\n",
       "\n",
       "    .dataframe thead th {\n",
       "        text-align: right;\n",
       "    }\n",
       "</style>\n",
       "<table border=\"1\" class=\"dataframe\">\n",
       "  <thead>\n",
       "    <tr style=\"text-align: right;\">\n",
       "      <th></th>\n",
       "      <th>sex</th>\n",
       "      <th>age</th>\n",
       "      <th>month</th>\n",
       "      <th>year</th>\n",
       "    </tr>\n",
       "  </thead>\n",
       "  <tbody>\n",
       "    <tr>\n",
       "      <th>1020162</th>\n",
       "      <td>1</td>\n",
       "      <td>49</td>\n",
       "      <td>9</td>\n",
       "      <td>1992</td>\n",
       "    </tr>\n",
       "    <tr>\n",
       "      <th>1624118</th>\n",
       "      <td>1</td>\n",
       "      <td>59</td>\n",
       "      <td>8</td>\n",
       "      <td>1992</td>\n",
       "    </tr>\n",
       "    <tr>\n",
       "      <th>1975566</th>\n",
       "      <td>1</td>\n",
       "      <td>27</td>\n",
       "      <td>8</td>\n",
       "      <td>1992</td>\n",
       "    </tr>\n",
       "    <tr>\n",
       "      <th>1775005</th>\n",
       "      <td>1</td>\n",
       "      <td>75</td>\n",
       "      <td>12</td>\n",
       "      <td>1992</td>\n",
       "    </tr>\n",
       "    <tr>\n",
       "      <th>357564</th>\n",
       "      <td>1</td>\n",
       "      <td>38</td>\n",
       "      <td>9</td>\n",
       "      <td>1992</td>\n",
       "    </tr>\n",
       "  </tbody>\n",
       "</table>\n",
       "</div>"
      ],
      "text/plain": [
       "         sex  age  month  year\n",
       "1020162    1   49      9  1992\n",
       "1624118    1   59      8  1992\n",
       "1975566    1   27      8  1992\n",
       "1775005    1   75     12  1992\n",
       "357564     1   38      9  1992"
      ]
     },
     "execution_count": 112,
     "metadata": {},
     "output_type": "execute_result"
    }
   ],
   "source": [
    "# example\n",
    "df = pd.read_csv('cleaned_data/1992.csv', index_col=0)\n",
    "df.sample(n=5)"
   ]
  },
  {
   "cell_type": "code",
   "execution_count": null,
   "metadata": {
    "hidden": true
   },
   "outputs": [],
   "source": []
  },
  {
   "cell_type": "markdown",
   "metadata": {
    "heading_collapsed": true
   },
   "source": [
    "# Get deaths of despair "
   ]
  },
  {
   "cell_type": "code",
   "execution_count": 113,
   "metadata": {
    "hidden": true
   },
   "outputs": [],
   "source": [
    "# TODO"
   ]
  },
  {
   "cell_type": "raw",
   "metadata": {
    "hidden": true
   },
   "source": [
    "ICD_VAR_MAP = {}\n",
    "# ICD 9 -- DOUBLE CHECK START AND END DATE, RAFKIN CONFLICTS\n",
    "for i in range(1979, 2000):\n",
    "    ICD_VAR_MAP[i] = 'ucod'\n",
    "# ICD 10 -- DOUBLE CHECK START AND END DATE\n",
    "for i in range(2000, 2018):\n",
    "    ICD_VAR_MAP[i] = 'ucod'"
   ]
  },
  {
   "cell_type": "raw",
   "metadata": {
    "hidden": true
   },
   "source": [
    "# ICD 9\n",
    "ICD_9_MAP = {}\n",
    "for i in range(1400, 2090):\n",
    "    ICD_9_MAP[i] = 'Cancer'\n",
    "for i in range(3900, 4300):\n",
    "    ICD_9_MAP[i] = 'Heart disease'\n",
    "for i in range(8000, 10000):\n",
    "    if i not in range(570, 580) + range(8500, 8610) + range(9500, 9600) + range(9800, 9810):\n",
    "        ICD_9_MAP[i] = 'Injuries'\n",
    "# Despair\n",
    "for i in range(570, 580):\n",
    "    ICD_9_MAP[i] = 'Despair'\n",
    "for i in range(8500, 8610):\n",
    "    ICD_9_MAP[i] = 'Despair'\n",
    "for i in range(9500, 9600):\n",
    "    ICD_9_MAP[i] = 'Despair'\n",
    "for i in range(9800, 9810):\n",
    "    ICD_9_MAP[i] = 'Despair'\n",
    "# Other\n",
    "for i in range(1, 10001):\n",
    "    if i not in ICD_9_MAP:\n",
    "        ICD_9_MAP[i] = 'Other diseases'"
   ]
  },
  {
   "cell_type": "raw",
   "metadata": {
    "hidden": true
   },
   "source": [
    "# Source:\n",
    "# Deaths of despair: https://www.brookings.edu/wp-content/uploads/2017/03/casedeaton_sp17_dataappendix.pdf\n",
    "# \"Injuries\" from Novosad-Rafkin fwiw\n",
    "# ICD 10\n",
    "ICD_10_MAP = {}\n",
    "# Cancer\n",
    "for i in range(0, 980):\n",
    "    ICD_10_MAP['C' + str(i)] = 'Cancer'\n",
    "    ICD_10_MAP['C0' + str(i)] = 'Cancer'\n",
    "    ICD_10_MAP['C00' + str(i)] = 'Cancer'\n",
    "# Heart disease -- todo: not sure if I'm actually coding this correctly with all the silly zeros...\n",
    "for i in range(0, 100):\n",
    "    ICD_10_MAP['I' + str(i)] = 'Heart disease'\n",
    "    ICD_10_MAP['I0' + str(i)] = 'Heart disease'\n",
    "    ICD_10_MAP['I00' + str(i)] = 'Heart disease'\n",
    "for i in range(110, 120):\n",
    "    ICD_10_MAP['I' + str(i)] = 'Heart disease'\n",
    "for i in range(130, 140):\n",
    "    ICD_10_MAP['I' + str(i)] = 'Heart disease'\n",
    "for i in range(200, 520):\n",
    "    ICD_10_MAP['I' + str(i)] = 'Heart disease'\n",
    "# Injuries\n",
    "for i in range(0, 1001):\n",
    "    for letter in ['V', 'W', 'X', 'Y']:\n",
    "        if letter + str(i) not in ICD_10_MAP:\n",
    "            ICD_10_MAP[letter + str(i)] = 'Injuries'\n",
    "        if letter + '0' + str(i) not in ICD_10_MAP:\n",
    "            ICD_10_MAP[letter + '0' + str(i)] = 'Injuries'\n",
    "        if letter + '00' + str(i) not in ICD_10_MAP:\n",
    "            ICD_10_MAP[letter + '00' + str(i)] = 'Injuries'\n",
    "# Deaths of despair\n",
    "# Poisoning\n",
    "for i in range(400, 460):\n",
    "    ICD_10_MAP['X' + str(i)] = 'Poisoning'\n",
    "for i in range(100, 150):\n",
    "    ICD_10_MAP['Y' + str(i)] = 'Poisoning'\n",
    "for i in range(450, 460):\n",
    "    ICD_10_MAP['Y' + str(i)] = 'Poisoning'\n",
    "for i in range(470, 480):\n",
    "    ICD_10_MAP['Y' + str(i)] = 'Poisoning'\n",
    "for i in range(490, 500):\n",
    "    ICD_10_MAP['Y' + str(i)] = 'Poisoning'\n",
    "# Suicide\n",
    "for i in range(600, 850):\n",
    "    ICD_10_MAP['X' + str(i)] = 'Suicide'\n",
    "for i in range(870, 880):\n",
    "    ICD_10_MAP['Y' + str(i)] = 'Suicide'\n",
    "# Liver disease\n",
    "for i in range(700, 710):\n",
    "    ICD_10_MAP['K' + str(i)] = 'Liver disease'\n",
    "for i in range(730, 750):\n",
    "    ICD_10_MAP['K' + str(i)] = 'Liver disease'"
   ]
  },
  {
   "cell_type": "raw",
   "metadata": {
    "hidden": true
   },
   "source": [
    "test_filename1992 = os.path.join(DOWNLOAD_DEST_BASE, '1992.csv')\n",
    "test_data1992 =  pd.read_csv(test_filename1992)"
   ]
  },
  {
   "cell_type": "raw",
   "metadata": {
    "hidden": true
   },
   "source": [
    "test_filename2015 = os.path.join(DOWNLOAD_DEST_BASE, '2015.csv')\n",
    "test_data2015 = pd.read_csv(test_filename2015)"
   ]
  },
  {
   "cell_type": "code",
   "execution_count": null,
   "metadata": {
    "hidden": true
   },
   "outputs": [],
   "source": []
  },
  {
   "cell_type": "markdown",
   "metadata": {
    "heading_collapsed": true
   },
   "source": [
    "# Group by age and compute suicide rates"
   ]
  },
  {
   "cell_type": "markdown",
   "metadata": {
    "heading_collapsed": true,
    "hidden": true
   },
   "source": [
    "### Stack suicide data"
   ]
  },
  {
   "cell_type": "code",
   "execution_count": 114,
   "metadata": {
    "hidden": true
   },
   "outputs": [],
   "source": [
    "START_YEAR = 1980\n",
    "# 1980 not 1979 until we get population data for then"
   ]
  },
  {
   "cell_type": "code",
   "execution_count": 115,
   "metadata": {
    "hidden": true
   },
   "outputs": [],
   "source": [
    "def stack_suicide_data(start_year=START_YEAR, end_year=END_YEAR, suicide_data_loc_base=CLEAN_DATA_BASE):\n",
    "    data = {}\n",
    "    for year in range(start_year, end_year+1):\n",
    "        filename = os.path.join(suicide_data_loc_base, '{0}.csv'.format(year))\n",
    "        data[year] = pd.read_csv(filename, index_col=0)\n",
    "        \n",
    "    stacked_data = pd.concat(data.values(), axis=0)\n",
    "    return stacked_data, data"
   ]
  },
  {
   "cell_type": "code",
   "execution_count": 116,
   "metadata": {
    "hidden": true
   },
   "outputs": [],
   "source": [
    "suicide_data, tmp = stack_suicide_data()"
   ]
  },
  {
   "cell_type": "code",
   "execution_count": 117,
   "metadata": {
    "hidden": true
   },
   "outputs": [
    {
     "data": {
      "text/html": [
       "<div>\n",
       "<style scoped>\n",
       "    .dataframe tbody tr th:only-of-type {\n",
       "        vertical-align: middle;\n",
       "    }\n",
       "\n",
       "    .dataframe tbody tr th {\n",
       "        vertical-align: top;\n",
       "    }\n",
       "\n",
       "    .dataframe thead th {\n",
       "        text-align: right;\n",
       "    }\n",
       "</style>\n",
       "<table border=\"1\" class=\"dataframe\">\n",
       "  <thead>\n",
       "    <tr style=\"text-align: right;\">\n",
       "      <th></th>\n",
       "      <th>sex</th>\n",
       "      <th>age</th>\n",
       "      <th>month</th>\n",
       "      <th>year</th>\n",
       "    </tr>\n",
       "  </thead>\n",
       "  <tbody>\n",
       "    <tr>\n",
       "      <th>1842291</th>\n",
       "      <td>M</td>\n",
       "      <td>53</td>\n",
       "      <td>9</td>\n",
       "      <td>2018</td>\n",
       "    </tr>\n",
       "    <tr>\n",
       "      <th>487289</th>\n",
       "      <td>1</td>\n",
       "      <td>60</td>\n",
       "      <td>11</td>\n",
       "      <td>1989</td>\n",
       "    </tr>\n",
       "    <tr>\n",
       "      <th>1097445</th>\n",
       "      <td>M</td>\n",
       "      <td>55</td>\n",
       "      <td>10</td>\n",
       "      <td>2019</td>\n",
       "    </tr>\n",
       "    <tr>\n",
       "      <th>1923389</th>\n",
       "      <td>1</td>\n",
       "      <td>23</td>\n",
       "      <td>10</td>\n",
       "      <td>1986</td>\n",
       "    </tr>\n",
       "    <tr>\n",
       "      <th>503697</th>\n",
       "      <td>1</td>\n",
       "      <td>61</td>\n",
       "      <td>11</td>\n",
       "      <td>1991</td>\n",
       "    </tr>\n",
       "  </tbody>\n",
       "</table>\n",
       "</div>"
      ],
      "text/plain": [
       "        sex  age  month  year\n",
       "1842291   M   53      9  2018\n",
       "487289    1   60     11  1989\n",
       "1097445   M   55     10  2019\n",
       "1923389   1   23     10  1986\n",
       "503697    1   61     11  1991"
      ]
     },
     "execution_count": 117,
     "metadata": {},
     "output_type": "execute_result"
    }
   ],
   "source": [
    "suicide_data.sample(n=5)"
   ]
  },
  {
   "cell_type": "code",
   "execution_count": 118,
   "metadata": {
    "hidden": true
   },
   "outputs": [
    {
     "data": {
      "text/plain": [
       "<matplotlib.axes._subplots.AxesSubplot at 0x3a762c8>"
      ]
     },
     "execution_count": 118,
     "metadata": {},
     "output_type": "execute_result"
    },
    {
     "data": {
      "image/png": "[encoded data removed]",
      "text/plain": [
       "<Figure size 432x288 with 1 Axes>"
      ]
     },
     "metadata": {
      "needs_background": "light"
     },
     "output_type": "display_data"
    }
   ],
   "source": [
    "# jfc\n",
    "suicide_data['year'].value_counts().sort_index().plot()"
   ]
  },
  {
   "cell_type": "code",
   "execution_count": null,
   "metadata": {
    "hidden": true
   },
   "outputs": [],
   "source": []
  },
  {
   "cell_type": "markdown",
   "metadata": {
    "heading_collapsed": true,
    "hidden": true
   },
   "source": [
    "### Group suicide data by age"
   ]
  },
  {
   "cell_type": "code",
   "execution_count": 119,
   "metadata": {
    "hidden": true
   },
   "outputs": [],
   "source": [
    "AGE_GROUPS = {\n",
    "    '<14': range(0, 14),\n",
    "    '14-18': range(14, 19),\n",
    "    '19-25': range(19, 26),\n",
    "    '>25': range(26, 101)\n",
    "}\n",
    "\n",
    "# alternative 1:\n",
    "#AGE_GROUPS = {\n",
    "#    '<18': range(0, 18),\n",
    "#    '>=18': range(18, 101),\n",
    "#}\n",
    "\n",
    "# alternative 2:\n",
    "#AGE_GROUPS = {\n",
    "#    '<18': range(0, 18),\n",
    "#    '18-25': range(18, 26),\n",
    "#    '26+': range(26, 101)\n",
    "#}\n",
    "\n",
    "# alternative 3:\n",
    "#AGE_GROUPS = {\n",
    "#    '<6': range(6),\n",
    "#    '07': [7],\n",
    "#    '08': [8],\n",
    "#    '09': [9],\n",
    "#    '>60': range(61, 101)\n",
    "#}\n",
    "#for i in range(10, 61):\n",
    "#    AGE_GROUPS[str(i)] = [i]"
   ]
  },
  {
   "cell_type": "code",
   "execution_count": 120,
   "metadata": {
    "hidden": true
   },
   "outputs": [],
   "source": [
    "def get_age_order(age_groups):\n",
    "    first_val = [k for k in age_groups if '<' in k]\n",
    "    last_val = [k for k in age_groups if '>' in k]\n",
    "    other = [k for k in age_groups if k not in first_val and k not in last_val]\n",
    "    other = sorted(other)\n",
    "    return first_val + other + last_val\n",
    "# should output ['<15', '15-18', '19-25', '>25']\n",
    "GROUP_ORDER = get_age_order(AGE_GROUPS)"
   ]
  },
  {
   "cell_type": "code",
   "execution_count": 121,
   "metadata": {
    "hidden": true
   },
   "outputs": [],
   "source": [
    "def get_age_groups_map(age_groups):\n",
    "    return {\n",
    "        v: k\n",
    "        for k in age_groups\n",
    "        for v in age_groups[k]\n",
    "    }\n",
    "AGE_GROUPS_MAP = get_age_groups_map(AGE_GROUPS)"
   ]
  },
  {
   "cell_type": "code",
   "execution_count": 122,
   "metadata": {
    "hidden": true,
    "scrolled": true
   },
   "outputs": [],
   "source": [
    "suicide_data['age_group'] = suicide_data['age'].map(AGE_GROUPS_MAP)"
   ]
  },
  {
   "cell_type": "code",
   "execution_count": 123,
   "metadata": {
    "hidden": true
   },
   "outputs": [
    {
     "data": {
      "text/plain": [
       "<matplotlib.axes._subplots.AxesSubplot at 0x66a5d608>"
      ]
     },
     "execution_count": 123,
     "metadata": {},
     "output_type": "execute_result"
    },
    {
     "data": {
      "image/png": "[encoded data removed]",
      "text/plain": [
       "<Figure size 432x288 with 1 Axes>"
      ]
     },
     "metadata": {
      "needs_background": "light"
     },
     "output_type": "display_data"
    }
   ],
   "source": [
    "# :(((((((((((((\n",
    "tmp = pd.pivot_table(data=suicide_data[['age_group', 'year']], index='year', columns='age_group', aggfunc=len)\n",
    "(tmp/tmp.loc[1980]).plot()"
   ]
  },
  {
   "cell_type": "code",
   "execution_count": 124,
   "metadata": {
    "hidden": true
   },
   "outputs": [],
   "source": [
    "suicide_counts_by_age_group_by_monthyear = (\n",
    "    suicide_data[['year', 'month', 'age_group']]\n",
    "    .groupby(['year', 'month', 'age_group'])\n",
    "    .apply(len)\n",
    "    .unstack()\n",
    "    .fillna(0)\n",
    ")"
   ]
  },
  {
   "cell_type": "code",
   "execution_count": 125,
   "metadata": {
    "hidden": true
   },
   "outputs": [
    {
     "data": {
      "text/html": [
       "<div>\n",
       "<style scoped>\n",
       "    .dataframe tbody tr th:only-of-type {\n",
       "        vertical-align: middle;\n",
       "    }\n",
       "\n",
       "    .dataframe tbody tr th {\n",
       "        vertical-align: top;\n",
       "    }\n",
       "\n",
       "    .dataframe thead th {\n",
       "        text-align: right;\n",
       "    }\n",
       "</style>\n",
       "<table border=\"1\" class=\"dataframe\">\n",
       "  <thead>\n",
       "    <tr style=\"text-align: right;\">\n",
       "      <th></th>\n",
       "      <th>age_group</th>\n",
       "      <th>14-18</th>\n",
       "      <th>19-25</th>\n",
       "      <th>&lt;14</th>\n",
       "      <th>&gt;25</th>\n",
       "    </tr>\n",
       "    <tr>\n",
       "      <th>year</th>\n",
       "      <th>month</th>\n",
       "      <th></th>\n",
       "      <th></th>\n",
       "      <th></th>\n",
       "      <th></th>\n",
       "    </tr>\n",
       "  </thead>\n",
       "  <tbody>\n",
       "    <tr>\n",
       "      <th rowspan=\"5\" valign=\"top\">1980</th>\n",
       "      <th>1</th>\n",
       "      <td>114.0</td>\n",
       "      <td>377.0</td>\n",
       "      <td>7.0</td>\n",
       "      <td>1650.0</td>\n",
       "    </tr>\n",
       "    <tr>\n",
       "      <th>2</th>\n",
       "      <td>102.0</td>\n",
       "      <td>376.0</td>\n",
       "      <td>8.0</td>\n",
       "      <td>1570.0</td>\n",
       "    </tr>\n",
       "    <tr>\n",
       "      <th>3</th>\n",
       "      <td>112.0</td>\n",
       "      <td>401.0</td>\n",
       "      <td>10.0</td>\n",
       "      <td>1772.0</td>\n",
       "    </tr>\n",
       "    <tr>\n",
       "      <th>4</th>\n",
       "      <td>86.0</td>\n",
       "      <td>391.0</td>\n",
       "      <td>9.0</td>\n",
       "      <td>1848.0</td>\n",
       "    </tr>\n",
       "    <tr>\n",
       "      <th>5</th>\n",
       "      <td>103.0</td>\n",
       "      <td>367.0</td>\n",
       "      <td>4.0</td>\n",
       "      <td>1846.0</td>\n",
       "    </tr>\n",
       "  </tbody>\n",
       "</table>\n",
       "</div>"
      ],
      "text/plain": [
       "age_group   14-18  19-25   <14     >25\n",
       "year month                            \n",
       "1980 1      114.0  377.0   7.0  1650.0\n",
       "     2      102.0  376.0   8.0  1570.0\n",
       "     3      112.0  401.0  10.0  1772.0\n",
       "     4       86.0  391.0   9.0  1848.0\n",
       "     5      103.0  367.0   4.0  1846.0"
      ]
     },
     "execution_count": 125,
     "metadata": {},
     "output_type": "execute_result"
    }
   ],
   "source": [
    "# preview\n",
    "suicide_counts_by_age_group_by_monthyear.head()"
   ]
  },
  {
   "cell_type": "code",
   "execution_count": null,
   "metadata": {
    "hidden": true
   },
   "outputs": [],
   "source": []
  },
  {
   "cell_type": "markdown",
   "metadata": {
    "heading_collapsed": true,
    "hidden": true
   },
   "source": [
    "### Group population data by age"
   ]
  },
  {
   "cell_type": "code",
   "execution_count": 126,
   "metadata": {
    "hidden": true
   },
   "outputs": [],
   "source": [
    "pop_by_group = pd.DataFrame()\n",
    "for group_k, group_v in AGE_GROUPS.iteritems():\n",
    "    pop_by_group[group_k] = pop_data[group_v].sum(1)\n",
    "pop_by_group = pop_by_group[GROUP_ORDER]\n",
    "pop_by_group.index.name = 'year'"
   ]
  },
  {
   "cell_type": "code",
   "execution_count": 127,
   "metadata": {
    "hidden": true
   },
   "outputs": [],
   "source": [
    "blank_df = pd.DataFrame(index=suicide_counts_by_age_group_by_monthyear.index)\n",
    "pop_by_group_by_monthyear = blank_df.join(pop_by_group)"
   ]
  },
  {
   "cell_type": "code",
   "execution_count": 128,
   "metadata": {
    "hidden": true
   },
   "outputs": [
    {
     "data": {
      "text/html": [
       "<div>\n",
       "<style scoped>\n",
       "    .dataframe tbody tr th:only-of-type {\n",
       "        vertical-align: middle;\n",
       "    }\n",
       "\n",
       "    .dataframe tbody tr th {\n",
       "        vertical-align: top;\n",
       "    }\n",
       "\n",
       "    .dataframe thead th {\n",
       "        text-align: right;\n",
       "    }\n",
       "</style>\n",
       "<table border=\"1\" class=\"dataframe\">\n",
       "  <thead>\n",
       "    <tr style=\"text-align: right;\">\n",
       "      <th></th>\n",
       "      <th></th>\n",
       "      <th>&lt;14</th>\n",
       "      <th>14-18</th>\n",
       "      <th>19-25</th>\n",
       "      <th>&gt;25</th>\n",
       "    </tr>\n",
       "    <tr>\n",
       "      <th>year</th>\n",
       "      <th>month</th>\n",
       "      <th></th>\n",
       "      <th></th>\n",
       "      <th></th>\n",
       "      <th></th>\n",
       "    </tr>\n",
       "  </thead>\n",
       "  <tbody>\n",
       "    <tr>\n",
       "      <th rowspan=\"5\" valign=\"top\">1980</th>\n",
       "      <th>1</th>\n",
       "      <td>47540375.0</td>\n",
       "      <td>20372913.0</td>\n",
       "      <td>30006209.0</td>\n",
       "      <td>129305184.0</td>\n",
       "    </tr>\n",
       "    <tr>\n",
       "      <th>2</th>\n",
       "      <td>47540375.0</td>\n",
       "      <td>20372913.0</td>\n",
       "      <td>30006209.0</td>\n",
       "      <td>129305184.0</td>\n",
       "    </tr>\n",
       "    <tr>\n",
       "      <th>3</th>\n",
       "      <td>47540375.0</td>\n",
       "      <td>20372913.0</td>\n",
       "      <td>30006209.0</td>\n",
       "      <td>129305184.0</td>\n",
       "    </tr>\n",
       "    <tr>\n",
       "      <th>4</th>\n",
       "      <td>47540375.0</td>\n",
       "      <td>20372913.0</td>\n",
       "      <td>30006209.0</td>\n",
       "      <td>129305184.0</td>\n",
       "    </tr>\n",
       "    <tr>\n",
       "      <th>5</th>\n",
       "      <td>47540375.0</td>\n",
       "      <td>20372913.0</td>\n",
       "      <td>30006209.0</td>\n",
       "      <td>129305184.0</td>\n",
       "    </tr>\n",
       "  </tbody>\n",
       "</table>\n",
       "</div>"
      ],
      "text/plain": [
       "                   <14       14-18       19-25          >25\n",
       "year month                                                 \n",
       "1980 1      47540375.0  20372913.0  30006209.0  129305184.0\n",
       "     2      47540375.0  20372913.0  30006209.0  129305184.0\n",
       "     3      47540375.0  20372913.0  30006209.0  129305184.0\n",
       "     4      47540375.0  20372913.0  30006209.0  129305184.0\n",
       "     5      47540375.0  20372913.0  30006209.0  129305184.0"
      ]
     },
     "execution_count": 128,
     "metadata": {},
     "output_type": "execute_result"
    }
   ],
   "source": [
    "# preview\n",
    "pop_by_group_by_monthyear.head()"
   ]
  },
  {
   "cell_type": "code",
   "execution_count": 129,
   "metadata": {
    "hidden": true,
    "scrolled": true
   },
   "outputs": [
    {
     "data": {
      "text/plain": [
       "<matplotlib.axes._subplots.AxesSubplot at 0x1f27c848>"
      ]
     },
     "execution_count": 129,
     "metadata": {},
     "output_type": "execute_result"
    },
    {
     "data": {
      "image/png": "[encoded data removed]",
      "text/plain": [
       "<Figure size 432x288 with 1 Axes>"
      ]
     },
     "metadata": {
      "needs_background": "light"
     },
     "output_type": "display_data"
    }
   ],
   "source": [
    "# preview\n",
    "tmp_index = [pd.datetime(x[0], x[1], 1) for x in pop_by_group_by_monthyear.index]\n",
    "tmp = pop_by_group_by_monthyear.copy()\n",
    "tmp.index = tmp_index\n",
    "tmp[['<14']].plot()"
   ]
  },
  {
   "cell_type": "code",
   "execution_count": 130,
   "metadata": {
    "hidden": true
   },
   "outputs": [
    {
     "data": {
      "image/png": "[encoded data removed]",
      "text/plain": [
       "<Figure size 864x576 with 1 Axes>"
      ]
     },
     "metadata": {
      "needs_background": "light"
     },
     "output_type": "display_data"
    }
   ],
   "source": [
    "# population share trends\n",
    "age_group_shares = pop_by_group.divide(pop_by_group.sum(1), axis=0)\n",
    "\n",
    "age_group_shares.plot(figsize=(12, 8), style='-*', color=COLORS)\n",
    "_ = plt.title('Fraction of population by age group, {0}-{1}'.format(START_YEAR, END_YEAR), fontsize=16, weight='heavy')\n",
    "_ = plt.xticks(fontsize=14)\n",
    "_ = plt.xlabel('year', fontsize=14)\n",
    "_ = plt.yticks(fontsize=14)\n",
    "_ = plt.legend(fontsize=14)\n",
    "plt.savefig('figures/age_shares.png', dpi=300, bbox_inches='tight')"
   ]
  },
  {
   "cell_type": "code",
   "execution_count": 131,
   "metadata": {
    "hidden": true
   },
   "outputs": [
    {
     "data": {
      "image/png": "[encoded data removed]",
      "text/plain": [
       "<Figure size 864x576 with 1 Axes>"
      ]
     },
     "metadata": {
      "needs_background": "light"
     },
     "output_type": "display_data"
    }
   ],
   "source": [
    "# population share relative to 1980\n",
    "(age_group_shares/age_group_shares.loc[1980]).plot(figsize=(12, 8), style='-*', color=COLORS)\n",
    "_ = plt.title('Fraction of population by age group, relative to 1980', fontsize=16, weight='heavy')\n",
    "_ = plt.xticks(fontsize=14)\n",
    "_ = plt.xlabel('year', fontsize=14)\n",
    "_ = plt.yticks(fontsize=14)\n",
    "_ = plt.legend(fontsize=14)\n",
    "plt.savefig('figures/age_shares_relative_to_1980.png', dpi=300, bbox_inches='tight')"
   ]
  },
  {
   "cell_type": "code",
   "execution_count": 132,
   "metadata": {
    "hidden": true
   },
   "outputs": [
    {
     "data": {
      "text/plain": [
       "<matplotlib.axes._subplots.AxesSubplot at 0xbb037808>"
      ]
     },
     "execution_count": 132,
     "metadata": {},
     "output_type": "execute_result"
    },
    {
     "data": {
      "image/png": "[encoded data removed]",
      "text/plain": [
       "<Figure size 432x288 with 1 Axes>"
      ]
     },
     "metadata": {
      "needs_background": "light"
     },
     "output_type": "display_data"
    }
   ],
   "source": [
    "age_group_shares['14-18'].plot()"
   ]
  },
  {
   "cell_type": "code",
   "execution_count": null,
   "metadata": {
    "hidden": true
   },
   "outputs": [],
   "source": []
  },
  {
   "cell_type": "markdown",
   "metadata": {
    "heading_collapsed": true,
    "hidden": true
   },
   "source": [
    "### Normalize suicide data by population data"
   ]
  },
  {
   "cell_type": "code",
   "execution_count": 135,
   "metadata": {
    "hidden": true,
    "scrolled": true
   },
   "outputs": [],
   "source": [
    "# Get data by month-year\n",
    "suicide_rate_by_monthyear = suicide_counts_by_age_group_by_monthyear/pop_by_group_by_monthyear\n",
    "\n",
    "raw_suicide_rate_per100k_annualized_by_monthyear = suicide_rate_by_monthyear[GROUP_ORDER]*12*100000"
   ]
  },
  {
   "cell_type": "code",
   "execution_count": 136,
   "metadata": {
    "hidden": true
   },
   "outputs": [],
   "source": [
    "new_index = [\n",
    "    pd.datetime(x[0], x[1], 1) \n",
    "    for x \n",
    "    in raw_suicide_rate_per100k_annualized_by_monthyear.index\n",
    "]\n",
    "suicide_rate_per100k_annualized_by_monthyear = raw_suicide_rate_per100k_annualized_by_monthyear.copy()\n",
    "suicide_rate_per100k_annualized_by_monthyear.index = new_index"
   ]
  },
  {
   "cell_type": "code",
   "execution_count": 137,
   "metadata": {
    "hidden": true
   },
   "outputs": [
    {
     "data": {
      "text/plain": [
       "<matplotlib.axes._subplots.AxesSubplot at 0x9a5ebac8>"
      ]
     },
     "execution_count": 137,
     "metadata": {},
     "output_type": "execute_result"
    },
    {
     "data": {
      "image/png": "[encoded data removed]",
      "text/plain": [
       "<Figure size 432x288 with 1 Axes>"
      ]
     },
     "metadata": {
      "needs_background": "light"
     },
     "output_type": "display_data"
    }
   ],
   "source": [
    "suicide_rate_per100k_annualized_by_monthyear['<14'].plot()"
   ]
  },
  {
   "cell_type": "markdown",
   "metadata": {
    "heading_collapsed": true,
    "hidden": true
   },
   "source": [
    "### Group by time unit"
   ]
  },
  {
   "cell_type": "code",
   "execution_count": 138,
   "metadata": {
    "hidden": true
   },
   "outputs": [],
   "source": [
    "tmp = raw_suicide_rate_per100k_annualized_by_monthyear.reset_index()"
   ]
  },
  {
   "cell_type": "code",
   "execution_count": 139,
   "metadata": {
    "hidden": true
   },
   "outputs": [
    {
     "data": {
      "text/html": [
       "<div>\n",
       "<style scoped>\n",
       "    .dataframe tbody tr th:only-of-type {\n",
       "        vertical-align: middle;\n",
       "    }\n",
       "\n",
       "    .dataframe tbody tr th {\n",
       "        vertical-align: top;\n",
       "    }\n",
       "\n",
       "    .dataframe thead th {\n",
       "        text-align: right;\n",
       "    }\n",
       "</style>\n",
       "<table border=\"1\" class=\"dataframe\">\n",
       "  <thead>\n",
       "    <tr style=\"text-align: right;\">\n",
       "      <th></th>\n",
       "      <th>&lt;14</th>\n",
       "      <th>14-18</th>\n",
       "      <th>19-25</th>\n",
       "      <th>&gt;25</th>\n",
       "    </tr>\n",
       "    <tr>\n",
       "      <th>month</th>\n",
       "      <th></th>\n",
       "      <th></th>\n",
       "      <th></th>\n",
       "      <th></th>\n",
       "    </tr>\n",
       "  </thead>\n",
       "  <tbody>\n",
       "    <tr>\n",
       "      <th>1</th>\n",
       "      <td>0.332630</td>\n",
       "      <td>8.351772</td>\n",
       "      <td>14.487240</td>\n",
       "      <td>15.823328</td>\n",
       "    </tr>\n",
       "    <tr>\n",
       "      <th>2</th>\n",
       "      <td>0.318148</td>\n",
       "      <td>7.499289</td>\n",
       "      <td>12.926622</td>\n",
       "      <td>14.513221</td>\n",
       "    </tr>\n",
       "    <tr>\n",
       "      <th>3</th>\n",
       "      <td>0.349059</td>\n",
       "      <td>8.078998</td>\n",
       "      <td>14.519148</td>\n",
       "      <td>16.604678</td>\n",
       "    </tr>\n",
       "    <tr>\n",
       "      <th>4</th>\n",
       "      <td>0.321206</td>\n",
       "      <td>7.871620</td>\n",
       "      <td>14.205629</td>\n",
       "      <td>16.349807</td>\n",
       "    </tr>\n",
       "    <tr>\n",
       "      <th>5</th>\n",
       "      <td>0.316410</td>\n",
       "      <td>7.714503</td>\n",
       "      <td>14.520340</td>\n",
       "      <td>16.895665</td>\n",
       "    </tr>\n",
       "  </tbody>\n",
       "</table>\n",
       "</div>"
      ],
      "text/plain": [
       "            <14     14-18      19-25        >25\n",
       "month                                          \n",
       "1      0.332630  8.351772  14.487240  15.823328\n",
       "2      0.318148  7.499289  12.926622  14.513221\n",
       "3      0.349059  8.078998  14.519148  16.604678\n",
       "4      0.321206  7.871620  14.205629  16.349807\n",
       "5      0.316410  7.714503  14.520340  16.895665"
      ]
     },
     "execution_count": 139,
     "metadata": {},
     "output_type": "execute_result"
    }
   ],
   "source": [
    "# Get by month\n",
    "suicide_rate_per100k_annualized_by_month = tmp.groupby('month').mean()[GROUP_ORDER]\n",
    "# preview\n",
    "suicide_rate_per100k_annualized_by_month.head()"
   ]
  },
  {
   "cell_type": "code",
   "execution_count": 140,
   "metadata": {
    "hidden": true
   },
   "outputs": [],
   "source": [
    "# Get by year\n",
    "suicide_rate_per100k_by_year = tmp.groupby('year').sum()[GROUP_ORDER]/12"
   ]
  },
  {
   "cell_type": "code",
   "execution_count": 141,
   "metadata": {
    "hidden": true
   },
   "outputs": [
    {
     "data": {
      "image/png": "[encoded data removed]",
      "text/plain": [
       "<Figure size 864x576 with 1 Axes>"
      ]
     },
     "metadata": {
      "needs_background": "light"
     },
     "output_type": "display_data"
    }
   ],
   "source": [
    "suicide_rate_per100k_by_year.plot(figsize=(12, 8), style='-*', color=COLORS)\n",
    "_ = plt.title('Suicide rate per 100k by year, {0}-{1}'.format(START_YEAR, END_YEAR), fontsize=16, weight='heavy')\n",
    "_ = plt.xticks(fontsize=14)\n",
    "_ = plt.xlabel('year', fontsize=14)\n",
    "_ = plt.yticks(fontsize=14)\n",
    "_ = plt.axhline(0.0, color='k')\n",
    "_ = plt.legend(fontsize=14)\n",
    "if SAVE_FIGS:\n",
    "    plt.savefig('figures/suicide_rate_by_year.png', dpi=300, bbox_inches='tight')"
   ]
  },
  {
   "cell_type": "code",
   "execution_count": 142,
   "metadata": {
    "hidden": true
   },
   "outputs": [
    {
     "data": {
      "image/png": "[encoded data removed]",
      "text/plain": [
       "<Figure size 864x576 with 1 Axes>"
      ]
     },
     "metadata": {
      "needs_background": "light"
     },
     "output_type": "display_data"
    }
   ],
   "source": [
    "(\n",
    "    suicide_rate_per100k_by_year/suicide_rate_per100k_by_year.loc[1980]\n",
    ").plot(figsize=(12, 8), style='-*', color=COLORS)\n",
    "_ = plt.title('Suicide rate by year, relative to 1980', fontsize=16, weight='heavy')\n",
    "_ = plt.xticks(fontsize=14)\n",
    "_ = plt.xlabel('year', fontsize=14)\n",
    "_ = plt.yticks(fontsize=14)\n",
    "_ = plt.axhline(1.0, color='k')\n",
    "_ = plt.legend(fontsize=14)\n",
    "if SAVE_FIGS:\n",
    "    plt.savefig('figures/suicide_rate_rel_to_1980.png', dpi=300, bbox_inches='tight')"
   ]
  },
  {
   "cell_type": "code",
   "execution_count": null,
   "metadata": {
    "hidden": true
   },
   "outputs": [],
   "source": []
  },
  {
   "cell_type": "markdown",
   "metadata": {
    "heading_collapsed": true
   },
   "source": [
    "# Plotting rates"
   ]
  },
  {
   "cell_type": "markdown",
   "metadata": {
    "heading_collapsed": true,
    "hidden": true
   },
   "source": [
    "### Setup"
   ]
  },
  {
   "cell_type": "code",
   "execution_count": 143,
   "metadata": {
    "hidden": true
   },
   "outputs": [],
   "source": [
    "year_range_str = ', ' + str(START_YEAR) + '-' + str(END_YEAR)"
   ]
  },
  {
   "cell_type": "code",
   "execution_count": 144,
   "metadata": {
    "hidden": true
   },
   "outputs": [],
   "source": [
    "months_map = {\n",
    "    1: 'Jan.',\n",
    "    2: 'Feb.',\n",
    "    3: 'Mar.',\n",
    "    4: 'Apr.',\n",
    "    5: 'May',\n",
    "    6: 'June',\n",
    "    7: 'July',\n",
    "    8: 'Aug.',\n",
    "    9: 'Sep.',\n",
    "    10: 'Oct.',\n",
    "    11: 'Nov.',\n",
    "    12: 'Dec.',\n",
    "}"
   ]
  },
  {
   "cell_type": "markdown",
   "metadata": {
    "heading_collapsed": true,
    "hidden": true
   },
   "source": [
    "### All at once"
   ]
  },
  {
   "cell_type": "code",
   "execution_count": 145,
   "metadata": {
    "hidden": true
   },
   "outputs": [
    {
     "data": {
      "image/png": "[encoded data removed]",
      "text/plain": [
       "<Figure size 864x576 with 1 Axes>"
      ]
     },
     "metadata": {
      "needs_background": "light"
     },
     "output_type": "display_data"
    }
   ],
   "source": [
    "suicide_rate_per100k_annualized_by_month.plot(figsize=(12, 8), style='-*', color=COLORS)\n",
    "_ = plt.title('Annualized suicide rate per 100k' + year_range_str, fontsize=16, weight='bold')\n",
    "_ = plt.xticks(fontsize=14)\n",
    "_ = plt.xlabel('month', fontsize=14)\n",
    "_ = plt.yticks(fontsize=14)\n",
    "_ = plt.legend(fontsize=14, bbox_to_anchor=[0.16, 0.4])\n",
    "#_ = plt.axhline(1.0, color='gray')\n",
    "if SAVE_FIGS:\n",
    "    plt.savefig('figures/suicide_rate_by_month.png', dpi=300, bbox_inches='tight')"
   ]
  },
  {
   "cell_type": "markdown",
   "metadata": {
    "heading_collapsed": true,
    "hidden": true
   },
   "source": [
    "### Normalized"
   ]
  },
  {
   "cell_type": "code",
   "execution_count": 146,
   "metadata": {
    "hidden": true
   },
   "outputs": [],
   "source": [
    "# Set 'normalize_by_mean = True' if you want to normalize relative to whole-year average\n",
    "# Set 'normalize_by_month = INTEGER' if you want to normalize relative to a specific month\n",
    "normalize_by_mean = True\n",
    "normalize_by_month = 0\n",
    "\n",
    "if (normalize_by_mean > 0) and (normalize_by_month > 0):\n",
    "    print \"Pick only one option silly\"\n",
    "    \n",
    "if normalize_by_mean:\n",
    "    title_str = 'relative to whole-year'\n",
    "if normalize_by_month > 0:\n",
    "    month_str = months_map[normalize_by_month]\n",
    "    title_str = 'relative to {0}'.format(month_str)"
   ]
  },
  {
   "cell_type": "code",
   "execution_count": 147,
   "metadata": {
    "hidden": true
   },
   "outputs": [],
   "source": [
    "if normalize_by_mean:\n",
    "    rel = (\n",
    "        suicide_rate_per100k_annualized_by_month\n",
    "        /suicide_rate_per100k_annualized_by_month.mean()\n",
    "    )\n",
    "elif normalize_by_month > 0:\n",
    "    rel = (\n",
    "        suicide_rate_per100k_annualized_by_month\n",
    "        /suicide_rate_per100k_annualized_by_month.loc[normalize_by_month]\n",
    "    )\n",
    "rel = rel.rename(index=months_map)"
   ]
  },
  {
   "cell_type": "code",
   "execution_count": null,
   "metadata": {
    "hidden": true
   },
   "outputs": [],
   "source": []
  },
  {
   "cell_type": "code",
   "execution_count": 148,
   "metadata": {
    "hidden": true
   },
   "outputs": [
    {
     "data": {
      "image/png": "[encoded data removed]",
      "text/plain": [
       "<Figure size 864x576 with 1 Axes>"
      ]
     },
     "metadata": {
      "needs_background": "light"
     },
     "output_type": "display_data"
    }
   ],
   "source": [
    "#fig, ax = plt.subplots(1)\n",
    "rel.plot(figsize=(12, 8), style='-*', color=COLORS)\n",
    "_ = plt.title('Suicide rate by month, ' + title_str + year_range_str, fontsize=16, weight='heavy')\n",
    "_ = plt.xticks(fontsize=14)\n",
    "_ = plt.xlabel('', fontsize=14)\n",
    "_ = plt.xticks(range(len(rel.index)), rel.index, fontsize=12)\n",
    "_ = plt.yticks(fontsize=14)\n",
    "_ = plt.legend(fontsize=14)\n",
    "#_ = plt.axhline(1.0, color='gray')\n",
    "if SAVE_FIGS:\n",
    "    if normalize_by_mean:\n",
    "        plt.savefig('figures/suicide_rate_by_month_relative_to_mean.png', dpi=300, bbox_inches='tight')\n",
    "    if normalize_by_month > 0:\n",
    "        filename = 'figures/suicide_rate_by_month_relative_to_{0}.png'.format(months_map[normalize_by_month])\n",
    "        plt.savefig(filename, dpi=300, bbox_inches='tight')"
   ]
  },
  {
   "cell_type": "code",
   "execution_count": 149,
   "metadata": {
    "hidden": true
   },
   "outputs": [
    {
     "data": {
      "text/html": [
       "<div>\n",
       "<style scoped>\n",
       "    .dataframe tbody tr th:only-of-type {\n",
       "        vertical-align: middle;\n",
       "    }\n",
       "\n",
       "    .dataframe tbody tr th {\n",
       "        vertical-align: top;\n",
       "    }\n",
       "\n",
       "    .dataframe thead th {\n",
       "        text-align: right;\n",
       "    }\n",
       "</style>\n",
       "<table border=\"1\" class=\"dataframe\">\n",
       "  <thead>\n",
       "    <tr style=\"text-align: right;\">\n",
       "      <th></th>\n",
       "      <th>&lt;14</th>\n",
       "      <th>14-18</th>\n",
       "      <th>19-25</th>\n",
       "      <th>&gt;25</th>\n",
       "    </tr>\n",
       "    <tr>\n",
       "      <th>month</th>\n",
       "      <th></th>\n",
       "      <th></th>\n",
       "      <th></th>\n",
       "      <th></th>\n",
       "    </tr>\n",
       "  </thead>\n",
       "  <tbody>\n",
       "    <tr>\n",
       "      <th>1</th>\n",
       "      <td>0.332630</td>\n",
       "      <td>8.351772</td>\n",
       "      <td>14.487240</td>\n",
       "      <td>15.823328</td>\n",
       "    </tr>\n",
       "    <tr>\n",
       "      <th>2</th>\n",
       "      <td>0.318148</td>\n",
       "      <td>7.499289</td>\n",
       "      <td>12.926622</td>\n",
       "      <td>14.513221</td>\n",
       "    </tr>\n",
       "    <tr>\n",
       "      <th>3</th>\n",
       "      <td>0.349059</td>\n",
       "      <td>8.078998</td>\n",
       "      <td>14.519148</td>\n",
       "      <td>16.604678</td>\n",
       "    </tr>\n",
       "    <tr>\n",
       "      <th>4</th>\n",
       "      <td>0.321206</td>\n",
       "      <td>7.871620</td>\n",
       "      <td>14.205629</td>\n",
       "      <td>16.349807</td>\n",
       "    </tr>\n",
       "    <tr>\n",
       "      <th>5</th>\n",
       "      <td>0.316410</td>\n",
       "      <td>7.714503</td>\n",
       "      <td>14.520340</td>\n",
       "      <td>16.895665</td>\n",
       "    </tr>\n",
       "    <tr>\n",
       "      <th>6</th>\n",
       "      <td>0.226064</td>\n",
       "      <td>6.300786</td>\n",
       "      <td>14.121849</td>\n",
       "      <td>16.525145</td>\n",
       "    </tr>\n",
       "    <tr>\n",
       "      <th>7</th>\n",
       "      <td>0.224198</td>\n",
       "      <td>6.350977</td>\n",
       "      <td>14.682233</td>\n",
       "      <td>17.102449</td>\n",
       "    </tr>\n",
       "    <tr>\n",
       "      <th>8</th>\n",
       "      <td>0.283978</td>\n",
       "      <td>6.704360</td>\n",
       "      <td>14.785563</td>\n",
       "      <td>16.962303</td>\n",
       "    </tr>\n",
       "    <tr>\n",
       "      <th>9</th>\n",
       "      <td>0.266878</td>\n",
       "      <td>7.344847</td>\n",
       "      <td>13.996800</td>\n",
       "      <td>16.067070</td>\n",
       "    </tr>\n",
       "    <tr>\n",
       "      <th>10</th>\n",
       "      <td>0.326658</td>\n",
       "      <td>7.930831</td>\n",
       "      <td>14.395082</td>\n",
       "      <td>16.041670</td>\n",
       "    </tr>\n",
       "    <tr>\n",
       "      <th>11</th>\n",
       "      <td>0.312162</td>\n",
       "      <td>7.527163</td>\n",
       "      <td>13.681170</td>\n",
       "      <td>15.140154</td>\n",
       "    </tr>\n",
       "    <tr>\n",
       "      <th>12</th>\n",
       "      <td>0.262226</td>\n",
       "      <td>6.617081</td>\n",
       "      <td>13.475807</td>\n",
       "      <td>14.987240</td>\n",
       "    </tr>\n",
       "  </tbody>\n",
       "</table>\n",
       "</div>"
      ],
      "text/plain": [
       "            <14     14-18      19-25        >25\n",
       "month                                          \n",
       "1      0.332630  8.351772  14.487240  15.823328\n",
       "2      0.318148  7.499289  12.926622  14.513221\n",
       "3      0.349059  8.078998  14.519148  16.604678\n",
       "4      0.321206  7.871620  14.205629  16.349807\n",
       "5      0.316410  7.714503  14.520340  16.895665\n",
       "6      0.226064  6.300786  14.121849  16.525145\n",
       "7      0.224198  6.350977  14.682233  17.102449\n",
       "8      0.283978  6.704360  14.785563  16.962303\n",
       "9      0.266878  7.344847  13.996800  16.067070\n",
       "10     0.326658  7.930831  14.395082  16.041670\n",
       "11     0.312162  7.527163  13.681170  15.140154\n",
       "12     0.262226  6.617081  13.475807  14.987240"
      ]
     },
     "execution_count": 149,
     "metadata": {},
     "output_type": "execute_result"
    }
   ],
   "source": [
    "suicide_rate_per100k_annualized_by_month"
   ]
  },
  {
   "cell_type": "code",
   "execution_count": null,
   "metadata": {
    "hidden": true
   },
   "outputs": [],
   "source": []
  },
  {
   "cell_type": "markdown",
   "metadata": {},
   "source": [
    "# Regressing"
   ]
  },
  {
   "cell_type": "markdown",
   "metadata": {
    "heading_collapsed": true
   },
   "source": [
    "### Set up data"
   ]
  },
  {
   "cell_type": "code",
   "execution_count": 150,
   "metadata": {
    "hidden": true
   },
   "outputs": [
    {
     "data": {
      "text/html": [
       "<div>\n",
       "<style scoped>\n",
       "    .dataframe tbody tr th:only-of-type {\n",
       "        vertical-align: middle;\n",
       "    }\n",
       "\n",
       "    .dataframe tbody tr th {\n",
       "        vertical-align: top;\n",
       "    }\n",
       "\n",
       "    .dataframe thead th {\n",
       "        text-align: right;\n",
       "    }\n",
       "</style>\n",
       "<table border=\"1\" class=\"dataframe\">\n",
       "  <thead>\n",
       "    <tr style=\"text-align: right;\">\n",
       "      <th></th>\n",
       "      <th>&lt;14</th>\n",
       "      <th>14-18</th>\n",
       "      <th>19-25</th>\n",
       "      <th>&gt;25</th>\n",
       "    </tr>\n",
       "  </thead>\n",
       "  <tbody>\n",
       "    <tr>\n",
       "      <th>1980-01-01</th>\n",
       "      <td>0.176692</td>\n",
       "      <td>6.714798</td>\n",
       "      <td>15.076880</td>\n",
       "      <td>15.312611</td>\n",
       "    </tr>\n",
       "    <tr>\n",
       "      <th>1980-02-01</th>\n",
       "      <td>0.201934</td>\n",
       "      <td>6.007977</td>\n",
       "      <td>15.036888</td>\n",
       "      <td>14.570182</td>\n",
       "    </tr>\n",
       "    <tr>\n",
       "      <th>1980-03-01</th>\n",
       "      <td>0.252417</td>\n",
       "      <td>6.596995</td>\n",
       "      <td>16.036681</td>\n",
       "      <td>16.444816</td>\n",
       "    </tr>\n",
       "    <tr>\n",
       "      <th>1980-04-01</th>\n",
       "      <td>0.227175</td>\n",
       "      <td>5.065550</td>\n",
       "      <td>15.636764</td>\n",
       "      <td>17.150124</td>\n",
       "    </tr>\n",
       "    <tr>\n",
       "      <th>1980-05-01</th>\n",
       "      <td>0.100967</td>\n",
       "      <td>6.066879</td>\n",
       "      <td>14.676962</td>\n",
       "      <td>17.131564</td>\n",
       "    </tr>\n",
       "  </tbody>\n",
       "</table>\n",
       "</div>"
      ],
      "text/plain": [
       "                 <14     14-18      19-25        >25\n",
       "1980-01-01  0.176692  6.714798  15.076880  15.312611\n",
       "1980-02-01  0.201934  6.007977  15.036888  14.570182\n",
       "1980-03-01  0.252417  6.596995  16.036681  16.444816\n",
       "1980-04-01  0.227175  5.065550  15.636764  17.150124\n",
       "1980-05-01  0.100967  6.066879  14.676962  17.131564"
      ]
     },
     "execution_count": 150,
     "metadata": {},
     "output_type": "execute_result"
    }
   ],
   "source": [
    "# preview\n",
    "suicide_rate_per100k_annualized_by_monthyear.head()"
   ]
  },
  {
   "cell_type": "code",
   "execution_count": 151,
   "metadata": {
    "hidden": true
   },
   "outputs": [],
   "source": [
    "df = suicide_rate_per100k_annualized_by_monthyear.copy()\n",
    "df['year_month'] = [pd.datetime.strftime(x, '%Y-%m') for x in df.index]"
   ]
  },
  {
   "cell_type": "code",
   "execution_count": 152,
   "metadata": {
    "hidden": true
   },
   "outputs": [
    {
     "data": {
      "text/html": [
       "<div>\n",
       "<style scoped>\n",
       "    .dataframe tbody tr th:only-of-type {\n",
       "        vertical-align: middle;\n",
       "    }\n",
       "\n",
       "    .dataframe tbody tr th {\n",
       "        vertical-align: top;\n",
       "    }\n",
       "\n",
       "    .dataframe thead th {\n",
       "        text-align: right;\n",
       "    }\n",
       "</style>\n",
       "<table border=\"1\" class=\"dataframe\">\n",
       "  <thead>\n",
       "    <tr style=\"text-align: right;\">\n",
       "      <th></th>\n",
       "      <th>&lt;14</th>\n",
       "      <th>14-18</th>\n",
       "      <th>19-25</th>\n",
       "      <th>&gt;25</th>\n",
       "      <th>year_month</th>\n",
       "    </tr>\n",
       "  </thead>\n",
       "  <tbody>\n",
       "    <tr>\n",
       "      <th>1980-01-01</th>\n",
       "      <td>0.176692</td>\n",
       "      <td>6.714798</td>\n",
       "      <td>15.076880</td>\n",
       "      <td>15.312611</td>\n",
       "      <td>1980-01</td>\n",
       "    </tr>\n",
       "    <tr>\n",
       "      <th>1980-02-01</th>\n",
       "      <td>0.201934</td>\n",
       "      <td>6.007977</td>\n",
       "      <td>15.036888</td>\n",
       "      <td>14.570182</td>\n",
       "      <td>1980-02</td>\n",
       "    </tr>\n",
       "    <tr>\n",
       "      <th>1980-03-01</th>\n",
       "      <td>0.252417</td>\n",
       "      <td>6.596995</td>\n",
       "      <td>16.036681</td>\n",
       "      <td>16.444816</td>\n",
       "      <td>1980-03</td>\n",
       "    </tr>\n",
       "    <tr>\n",
       "      <th>1980-04-01</th>\n",
       "      <td>0.227175</td>\n",
       "      <td>5.065550</td>\n",
       "      <td>15.636764</td>\n",
       "      <td>17.150124</td>\n",
       "      <td>1980-04</td>\n",
       "    </tr>\n",
       "    <tr>\n",
       "      <th>1980-05-01</th>\n",
       "      <td>0.100967</td>\n",
       "      <td>6.066879</td>\n",
       "      <td>14.676962</td>\n",
       "      <td>17.131564</td>\n",
       "      <td>1980-05</td>\n",
       "    </tr>\n",
       "  </tbody>\n",
       "</table>\n",
       "</div>"
      ],
      "text/plain": [
       "                 <14     14-18      19-25        >25 year_month\n",
       "1980-01-01  0.176692  6.714798  15.076880  15.312611    1980-01\n",
       "1980-02-01  0.201934  6.007977  15.036888  14.570182    1980-02\n",
       "1980-03-01  0.252417  6.596995  16.036681  16.444816    1980-03\n",
       "1980-04-01  0.227175  5.065550  15.636764  17.150124    1980-04\n",
       "1980-05-01  0.100967  6.066879  14.676962  17.131564    1980-05"
      ]
     },
     "execution_count": 152,
     "metadata": {},
     "output_type": "execute_result"
    }
   ],
   "source": [
    "# preview\n",
    "df.head()"
   ]
  },
  {
   "cell_type": "code",
   "execution_count": 153,
   "metadata": {
    "hidden": true,
    "scrolled": true
   },
   "outputs": [],
   "source": [
    "df = (\n",
    "    df\n",
    "    .set_index('year_month')\n",
    "    .stack()\n",
    "    .reset_index()\n",
    "    .rename(columns={\n",
    "        'level_1': 'age_group',\n",
    "        0: 'suicide_rate_per100k_annualized'\n",
    "    })\n",
    ")\n",
    "df['year'] = df['year_month'].str[:4]\n",
    "df['month'] = df['year_month'].str[5:]"
   ]
  },
  {
   "cell_type": "code",
   "execution_count": 154,
   "metadata": {
    "hidden": true
   },
   "outputs": [
    {
     "data": {
      "text/html": [
       "<div>\n",
       "<style scoped>\n",
       "    .dataframe tbody tr th:only-of-type {\n",
       "        vertical-align: middle;\n",
       "    }\n",
       "\n",
       "    .dataframe tbody tr th {\n",
       "        vertical-align: top;\n",
       "    }\n",
       "\n",
       "    .dataframe thead th {\n",
       "        text-align: right;\n",
       "    }\n",
       "</style>\n",
       "<table border=\"1\" class=\"dataframe\">\n",
       "  <thead>\n",
       "    <tr style=\"text-align: right;\">\n",
       "      <th></th>\n",
       "      <th>year_month</th>\n",
       "      <th>age_group</th>\n",
       "      <th>suicide_rate_per100k_annualized</th>\n",
       "      <th>year</th>\n",
       "      <th>month</th>\n",
       "    </tr>\n",
       "  </thead>\n",
       "  <tbody>\n",
       "    <tr>\n",
       "      <th>0</th>\n",
       "      <td>1980-01</td>\n",
       "      <td>&lt;14</td>\n",
       "      <td>0.176692</td>\n",
       "      <td>1980</td>\n",
       "      <td>01</td>\n",
       "    </tr>\n",
       "    <tr>\n",
       "      <th>1</th>\n",
       "      <td>1980-01</td>\n",
       "      <td>14-18</td>\n",
       "      <td>6.714798</td>\n",
       "      <td>1980</td>\n",
       "      <td>01</td>\n",
       "    </tr>\n",
       "    <tr>\n",
       "      <th>2</th>\n",
       "      <td>1980-01</td>\n",
       "      <td>19-25</td>\n",
       "      <td>15.076880</td>\n",
       "      <td>1980</td>\n",
       "      <td>01</td>\n",
       "    </tr>\n",
       "    <tr>\n",
       "      <th>3</th>\n",
       "      <td>1980-01</td>\n",
       "      <td>&gt;25</td>\n",
       "      <td>15.312611</td>\n",
       "      <td>1980</td>\n",
       "      <td>01</td>\n",
       "    </tr>\n",
       "    <tr>\n",
       "      <th>4</th>\n",
       "      <td>1980-02</td>\n",
       "      <td>&lt;14</td>\n",
       "      <td>0.201934</td>\n",
       "      <td>1980</td>\n",
       "      <td>02</td>\n",
       "    </tr>\n",
       "  </tbody>\n",
       "</table>\n",
       "</div>"
      ],
      "text/plain": [
       "  year_month age_group  suicide_rate_per100k_annualized  year month\n",
       "0    1980-01       <14                         0.176692  1980    01\n",
       "1    1980-01     14-18                         6.714798  1980    01\n",
       "2    1980-01     19-25                        15.076880  1980    01\n",
       "3    1980-01       >25                        15.312611  1980    01\n",
       "4    1980-02       <14                         0.201934  1980    02"
      ]
     },
     "execution_count": 154,
     "metadata": {},
     "output_type": "execute_result"
    }
   ],
   "source": [
    "df.head()"
   ]
  },
  {
   "cell_type": "code",
   "execution_count": 155,
   "metadata": {
    "hidden": true
   },
   "outputs": [],
   "source": [
    "SUMMER_MONTHS = ['06', '07', '08']\n",
    "df['is_summer'] = df['month'].isin(SUMMER_MONTHS)*1.\n",
    "VACATION_MONTHS = ['06', '07', '08', '12']    # arguably could include February\n",
    "df['is_vacation'] = df['month'].isin(VACATION_MONTHS)*1."
   ]
  },
  {
   "cell_type": "code",
   "execution_count": 156,
   "metadata": {
    "hidden": true
   },
   "outputs": [
    {
     "data": {
      "text/html": [
       "<div>\n",
       "<style scoped>\n",
       "    .dataframe tbody tr th:only-of-type {\n",
       "        vertical-align: middle;\n",
       "    }\n",
       "\n",
       "    .dataframe tbody tr th {\n",
       "        vertical-align: top;\n",
       "    }\n",
       "\n",
       "    .dataframe thead th {\n",
       "        text-align: right;\n",
       "    }\n",
       "</style>\n",
       "<table border=\"1\" class=\"dataframe\">\n",
       "  <thead>\n",
       "    <tr style=\"text-align: right;\">\n",
       "      <th></th>\n",
       "      <th>year_month</th>\n",
       "      <th>age_group</th>\n",
       "      <th>suicide_rate_per100k_annualized</th>\n",
       "      <th>year</th>\n",
       "      <th>month</th>\n",
       "      <th>is_summer</th>\n",
       "      <th>is_vacation</th>\n",
       "    </tr>\n",
       "  </thead>\n",
       "  <tbody>\n",
       "    <tr>\n",
       "      <th>220</th>\n",
       "      <td>1984-08</td>\n",
       "      <td>&lt;14</td>\n",
       "      <td>0.150764</td>\n",
       "      <td>1984</td>\n",
       "      <td>08</td>\n",
       "      <td>1.0</td>\n",
       "      <td>1.0</td>\n",
       "    </tr>\n",
       "    <tr>\n",
       "      <th>1030</th>\n",
       "      <td>2001-06</td>\n",
       "      <td>19-25</td>\n",
       "      <td>11.891314</td>\n",
       "      <td>2001</td>\n",
       "      <td>06</td>\n",
       "      <td>1.0</td>\n",
       "      <td>1.0</td>\n",
       "    </tr>\n",
       "    <tr>\n",
       "      <th>417</th>\n",
       "      <td>1988-09</td>\n",
       "      <td>14-18</td>\n",
       "      <td>8.485869</td>\n",
       "      <td>1988</td>\n",
       "      <td>09</td>\n",
       "      <td>0.0</td>\n",
       "      <td>0.0</td>\n",
       "    </tr>\n",
       "    <tr>\n",
       "      <th>486</th>\n",
       "      <td>1990-02</td>\n",
       "      <td>19-25</td>\n",
       "      <td>12.913030</td>\n",
       "      <td>1990</td>\n",
       "      <td>02</td>\n",
       "      <td>0.0</td>\n",
       "      <td>0.0</td>\n",
       "    </tr>\n",
       "    <tr>\n",
       "      <th>1125</th>\n",
       "      <td>2003-06</td>\n",
       "      <td>14-18</td>\n",
       "      <td>4.709074</td>\n",
       "      <td>2003</td>\n",
       "      <td>06</td>\n",
       "      <td>1.0</td>\n",
       "      <td>1.0</td>\n",
       "    </tr>\n",
       "  </tbody>\n",
       "</table>\n",
       "</div>"
      ],
      "text/plain": [
       "     year_month age_group  suicide_rate_per100k_annualized  year month  \\\n",
       "220     1984-08       <14                         0.150764  1984    08   \n",
       "1030    2001-06     19-25                        11.891314  2001    06   \n",
       "417     1988-09     14-18                         8.485869  1988    09   \n",
       "486     1990-02     19-25                        12.913030  1990    02   \n",
       "1125    2003-06     14-18                         4.709074  2003    06   \n",
       "\n",
       "      is_summer  is_vacation  \n",
       "220         1.0          1.0  \n",
       "1030        1.0          1.0  \n",
       "417         0.0          0.0  \n",
       "486         0.0          0.0  \n",
       "1125        1.0          1.0  "
      ]
     },
     "execution_count": 156,
     "metadata": {},
     "output_type": "execute_result"
    }
   ],
   "source": [
    "df.sample(n=5)"
   ]
  },
  {
   "cell_type": "code",
   "execution_count": 157,
   "metadata": {
    "hidden": true
   },
   "outputs": [],
   "source": [
    "groups = df['age_group'].unique()\n",
    "years = df['year'].unique()\n",
    "dfs_by_group = {\n",
    "    group: df[df['age_group'] == group]\n",
    "    for group in groups\n",
    "}\n",
    "dfs_by_year = {\n",
    "    group: {\n",
    "        year: df[(df['age_group'] == group) & (df['year'] == year)]\n",
    "        for year in years\n",
    "    }\n",
    "    for group in groups\n",
    "}"
   ]
  },
  {
   "cell_type": "code",
   "execution_count": null,
   "metadata": {
    "hidden": true
   },
   "outputs": [],
   "source": []
  },
  {
   "cell_type": "markdown",
   "metadata": {
    "heading_collapsed": true
   },
   "source": [
    "### Formulas"
   ]
  },
  {
   "cell_type": "code",
   "execution_count": 158,
   "metadata": {
    "hidden": true
   },
   "outputs": [],
   "source": [
    "BY_MONTH_FML = 'suicide_rate_per100k_annualized ~ C(month, patsy.Treatment(reference=\"09\"))'\n",
    "BY_MONTH_W_FE_FML = 'suicide_rate_per100k_annualized ~ C(month, patsy.Treatment(reference=\"09\")) + C(year)'\n",
    "SUMMER_FML = 'suicide_rate_per100k_annualized ~ is_summer'\n",
    "SUMMER_W_FE_FML = 'suicide_rate_per100k_annualized ~ is_summer + C(year)'\n",
    "VACATION_FML = 'suicide_rate_per100k_annualized ~ is_vacation'\n",
    "VACATION_W_FE_FML = 'suicide_rate_per100k_annualized ~ is_vacation + C(year)'\n",
    "\n",
    "PERCENT_FML = 'np.log(suicide_rate_per100k_annualized + 1) ~ C(month, patsy.Treatment(reference=\"09\"))'\n",
    "PERCENT_W_FE_FML = 'np.log(suicide_rate_per100k_annualized + 1) ~ C(month, patsy.Treatment(reference=\"09\")) + C(year)'\n",
    "PCT_SUMMER_FML = 'np.log(suicide_rate_per100k_annualized+1) ~ is_summer'\n",
    "PCT_SUMMER_W_FE_FML = 'np.log(suicide_rate_per100k_annualized+1) ~ is_summer + C(year)'\n",
    "PCT_VACATION_FML = 'np.log(suicide_rate_per100k_annualized+1) ~ is_vacation'\n",
    "PCT_VACATION_W_FE_FML = 'np.log(suicide_rate_per100k_annualized+1) ~ is_vacation + C(year)'"
   ]
  },
  {
   "cell_type": "code",
   "execution_count": 159,
   "metadata": {
    "hidden": true
   },
   "outputs": [],
   "source": [
    "regs_by_month = {}\n",
    "regs_by_month_w_fe = {}\n",
    "regs_summer = {}\n",
    "regs_summer_w_fe = {}\n",
    "regs_vacation = {}\n",
    "regs_vacation_w_fe = {}\n",
    "regs_percent = {}\n",
    "regs_percent_w_fe = {}"
   ]
  },
  {
   "cell_type": "markdown",
   "metadata": {
    "heading_collapsed": true
   },
   "source": [
    "### Whole time period"
   ]
  },
  {
   "cell_type": "code",
   "execution_count": 160,
   "metadata": {
    "hidden": true
   },
   "outputs": [],
   "source": [
    "for group, tmp_df in dfs_by_group.iteritems():\n",
    "    regs_by_month[group] = sm.formula.ols(data=tmp_df, formula=BY_MONTH_FML).fit()\n",
    "    regs_by_month_w_fe[group] = sm.formula.ols(data=tmp_df, formula=BY_MONTH_W_FE_FML).fit()\n",
    "    regs_summer[group] = sm.formula.ols(data=tmp_df, formula=SUMMER_FML).fit()\n",
    "    regs_summer_w_fe[group] = sm.formula.ols(data=tmp_df, formula=SUMMER_W_FE_FML).fit()\n",
    "    regs_vacation[group] = sm.formula.ols(data=tmp_df, formula=VACATION_FML).fit()\n",
    "    regs_vacation_w_fe[group] = sm.formula.ols(data=tmp_df, formula=VACATION_W_FE_FML).fit()\n",
    "    regs_percent[group] = sm.formula.ols(data=tmp_df, formula=PERCENT_FML).fit()\n",
    "    regs_percent_w_fe[group] = sm.formula.ols(data=tmp_df, formula=PERCENT_W_FE_FML).fit()"
   ]
  },
  {
   "cell_type": "code",
   "execution_count": 161,
   "metadata": {
    "hidden": true
   },
   "outputs": [],
   "source": [
    "regressor_order = [\n",
    "    'C(month, patsy.Treatment(reference=\"09\"))[T.01]',\n",
    "    'C(month, patsy.Treatment(reference=\"09\"))[T.02]',\n",
    "    'C(month, patsy.Treatment(reference=\"09\"))[T.03]',\n",
    "    'C(month, patsy.Treatment(reference=\"09\"))[T.04]',\n",
    "    'C(month, patsy.Treatment(reference=\"09\"))[T.05]',\n",
    "    'C(month, patsy.Treatment(reference=\"09\"))[T.06]',\n",
    "    'C(month, patsy.Treatment(reference=\"09\"))[T.07]',\n",
    "    'C(month, patsy.Treatment(reference=\"09\"))[T.08]',\n",
    "    'C(month, patsy.Treatment(reference=\"09\"))[T.10]',\n",
    "    'C(month, patsy.Treatment(reference=\"09\"))[T.11]',\n",
    "    'C(month, patsy.Treatment(reference=\"09\"))[T.12]',\n",
    "]"
   ]
  },
  {
   "cell_type": "code",
   "execution_count": 162,
   "metadata": {
    "hidden": true
   },
   "outputs": [],
   "source": [
    "pretty_w_stars = sm.iolib.summary2.summary_col(\n",
    "    results=regs_by_month_w_fe.values(),\n",
    "    model_names=regs_by_month_w_fe.keys(),\n",
    "    regressor_order=regressor_order,\n",
    "    drop_omitted=True,\n",
    "    stars=True\n",
    ")\n",
    "\n",
    "pretty = sm.iolib.summary2.summary_col(\n",
    "    results=regs_by_month_w_fe.values(),\n",
    "    model_names=regs_by_month_w_fe.keys(),\n",
    "    regressor_order=regressor_order,\n",
    "    drop_omitted=True,\n",
    "    stars=False\n",
    ")\n",
    "\n",
    "def rename(params_table, months_map=months_map):\n",
    "    mapping = {}\n",
    "    for k in params_table.index:\n",
    "        if 'C(' in k:\n",
    "            _, month = k.split('[T.')\n",
    "            month = int(month[:-1])\n",
    "            mapping[k] = months_map[month]\n",
    "    return params_table.rename(index=mapping)[GROUP_ORDER]\n",
    "\n",
    "pretty_w_stars = rename(pretty_w_stars.tables[0])\n",
    "pretty = rename(pretty.tables[0])"
   ]
  },
  {
   "cell_type": "code",
   "execution_count": 163,
   "metadata": {
    "hidden": true
   },
   "outputs": [],
   "source": [
    "# TODO: SEs here are fucked up. notice they're same for all months for a given age group"
   ]
  },
  {
   "cell_type": "code",
   "execution_count": 164,
   "metadata": {
    "hidden": true,
    "scrolled": true
   },
   "outputs": [
    {
     "data": {
      "text/html": [
       "<div>\n",
       "<style scoped>\n",
       "    .dataframe tbody tr th:only-of-type {\n",
       "        vertical-align: middle;\n",
       "    }\n",
       "\n",
       "    .dataframe tbody tr th {\n",
       "        vertical-align: top;\n",
       "    }\n",
       "\n",
       "    .dataframe thead th {\n",
       "        text-align: right;\n",
       "    }\n",
       "</style>\n",
       "<table border=\"1\" class=\"dataframe\">\n",
       "  <thead>\n",
       "    <tr style=\"text-align: right;\">\n",
       "      <th></th>\n",
       "      <th>&lt;14</th>\n",
       "      <th>14-18</th>\n",
       "      <th>19-25</th>\n",
       "      <th>&gt;25</th>\n",
       "    </tr>\n",
       "  </thead>\n",
       "  <tbody>\n",
       "    <tr>\n",
       "      <th>Jan.</th>\n",
       "      <td>0.0658***</td>\n",
       "      <td>1.0069***</td>\n",
       "      <td>0.4904**</td>\n",
       "      <td>-0.2437**</td>\n",
       "    </tr>\n",
       "    <tr>\n",
       "      <th></th>\n",
       "      <td>(0.0184)</td>\n",
       "      <td>(0.1761)</td>\n",
       "      <td>(0.2038)</td>\n",
       "      <td>(0.1176)</td>\n",
       "    </tr>\n",
       "    <tr>\n",
       "      <th>Feb.</th>\n",
       "      <td>0.0513***</td>\n",
       "      <td>0.1544</td>\n",
       "      <td>-1.0702***</td>\n",
       "      <td>-1.5538***</td>\n",
       "    </tr>\n",
       "    <tr>\n",
       "      <th></th>\n",
       "      <td>(0.0184)</td>\n",
       "      <td>(0.1761)</td>\n",
       "      <td>(0.2038)</td>\n",
       "      <td>(0.1176)</td>\n",
       "    </tr>\n",
       "    <tr>\n",
       "      <th>Mar.</th>\n",
       "      <td>0.0822***</td>\n",
       "      <td>0.7342***</td>\n",
       "      <td>0.5223**</td>\n",
       "      <td>0.5376***</td>\n",
       "    </tr>\n",
       "    <tr>\n",
       "      <th></th>\n",
       "      <td>(0.0184)</td>\n",
       "      <td>(0.1761)</td>\n",
       "      <td>(0.2038)</td>\n",
       "      <td>(0.1176)</td>\n",
       "    </tr>\n",
       "    <tr>\n",
       "      <th>Apr.</th>\n",
       "      <td>0.0543***</td>\n",
       "      <td>0.5268***</td>\n",
       "      <td>0.2088</td>\n",
       "      <td>0.2827**</td>\n",
       "    </tr>\n",
       "    <tr>\n",
       "      <th></th>\n",
       "      <td>(0.0184)</td>\n",
       "      <td>(0.1761)</td>\n",
       "      <td>(0.2038)</td>\n",
       "      <td>(0.1176)</td>\n",
       "    </tr>\n",
       "    <tr>\n",
       "      <th>May</th>\n",
       "      <td>0.0495***</td>\n",
       "      <td>0.3697**</td>\n",
       "      <td>0.5235**</td>\n",
       "      <td>0.8286***</td>\n",
       "    </tr>\n",
       "    <tr>\n",
       "      <th></th>\n",
       "      <td>(0.0184)</td>\n",
       "      <td>(0.1761)</td>\n",
       "      <td>(0.2038)</td>\n",
       "      <td>(0.1176)</td>\n",
       "    </tr>\n",
       "    <tr>\n",
       "      <th>June</th>\n",
       "      <td>-0.0408**</td>\n",
       "      <td>-1.0441***</td>\n",
       "      <td>0.1250</td>\n",
       "      <td>0.4581***</td>\n",
       "    </tr>\n",
       "    <tr>\n",
       "      <th></th>\n",
       "      <td>(0.0184)</td>\n",
       "      <td>(0.1761)</td>\n",
       "      <td>(0.2038)</td>\n",
       "      <td>(0.1176)</td>\n",
       "    </tr>\n",
       "    <tr>\n",
       "      <th>July</th>\n",
       "      <td>-0.0427**</td>\n",
       "      <td>-0.9939***</td>\n",
       "      <td>0.6854***</td>\n",
       "      <td>1.0354***</td>\n",
       "    </tr>\n",
       "    <tr>\n",
       "      <th></th>\n",
       "      <td>(0.0184)</td>\n",
       "      <td>(0.1761)</td>\n",
       "      <td>(0.2038)</td>\n",
       "      <td>(0.1176)</td>\n",
       "    </tr>\n",
       "    <tr>\n",
       "      <th>Aug.</th>\n",
       "      <td>0.0171</td>\n",
       "      <td>-0.6405***</td>\n",
       "      <td>0.7888***</td>\n",
       "      <td>0.8952***</td>\n",
       "    </tr>\n",
       "    <tr>\n",
       "      <th></th>\n",
       "      <td>(0.0184)</td>\n",
       "      <td>(0.1761)</td>\n",
       "      <td>(0.2038)</td>\n",
       "      <td>(0.1176)</td>\n",
       "    </tr>\n",
       "    <tr>\n",
       "      <th>Oct.</th>\n",
       "      <td>0.0598***</td>\n",
       "      <td>0.5860***</td>\n",
       "      <td>0.3983*</td>\n",
       "      <td>-0.0254</td>\n",
       "    </tr>\n",
       "    <tr>\n",
       "      <th></th>\n",
       "      <td>(0.0184)</td>\n",
       "      <td>(0.1761)</td>\n",
       "      <td>(0.2038)</td>\n",
       "      <td>(0.1176)</td>\n",
       "    </tr>\n",
       "    <tr>\n",
       "      <th>Nov.</th>\n",
       "      <td>0.0453**</td>\n",
       "      <td>0.1823</td>\n",
       "      <td>-0.3156</td>\n",
       "      <td>-0.9269***</td>\n",
       "    </tr>\n",
       "    <tr>\n",
       "      <th></th>\n",
       "      <td>(0.0184)</td>\n",
       "      <td>(0.1761)</td>\n",
       "      <td>(0.2038)</td>\n",
       "      <td>(0.1176)</td>\n",
       "    </tr>\n",
       "    <tr>\n",
       "      <th>Dec.</th>\n",
       "      <td>-0.0047</td>\n",
       "      <td>-0.7278***</td>\n",
       "      <td>-0.5210**</td>\n",
       "      <td>-1.0798***</td>\n",
       "    </tr>\n",
       "    <tr>\n",
       "      <th></th>\n",
       "      <td>(0.0184)</td>\n",
       "      <td>(0.1761)</td>\n",
       "      <td>(0.2038)</td>\n",
       "      <td>(0.1176)</td>\n",
       "    </tr>\n",
       "  </tbody>\n",
       "</table>\n",
       "</div>"
      ],
      "text/plain": [
       "            <14       14-18       19-25         >25\n",
       "Jan.  0.0658***   1.0069***    0.4904**   -0.2437**\n",
       "       (0.0184)    (0.1761)    (0.2038)    (0.1176)\n",
       "Feb.  0.0513***      0.1544  -1.0702***  -1.5538***\n",
       "       (0.0184)    (0.1761)    (0.2038)    (0.1176)\n",
       "Mar.  0.0822***   0.7342***    0.5223**   0.5376***\n",
       "       (0.0184)    (0.1761)    (0.2038)    (0.1176)\n",
       "Apr.  0.0543***   0.5268***      0.2088    0.2827**\n",
       "       (0.0184)    (0.1761)    (0.2038)    (0.1176)\n",
       "May   0.0495***    0.3697**    0.5235**   0.8286***\n",
       "       (0.0184)    (0.1761)    (0.2038)    (0.1176)\n",
       "June  -0.0408**  -1.0441***      0.1250   0.4581***\n",
       "       (0.0184)    (0.1761)    (0.2038)    (0.1176)\n",
       "July  -0.0427**  -0.9939***   0.6854***   1.0354***\n",
       "       (0.0184)    (0.1761)    (0.2038)    (0.1176)\n",
       "Aug.     0.0171  -0.6405***   0.7888***   0.8952***\n",
       "       (0.0184)    (0.1761)    (0.2038)    (0.1176)\n",
       "Oct.  0.0598***   0.5860***     0.3983*     -0.0254\n",
       "       (0.0184)    (0.1761)    (0.2038)    (0.1176)\n",
       "Nov.   0.0453**      0.1823     -0.3156  -0.9269***\n",
       "       (0.0184)    (0.1761)    (0.2038)    (0.1176)\n",
       "Dec.    -0.0047  -0.7278***   -0.5210**  -1.0798***\n",
       "       (0.0184)    (0.1761)    (0.2038)    (0.1176)"
      ]
     },
     "execution_count": 164,
     "metadata": {},
     "output_type": "execute_result"
    }
   ],
   "source": [
    "pretty_w_stars"
   ]
  },
  {
   "cell_type": "code",
   "execution_count": 165,
   "metadata": {
    "hidden": true
   },
   "outputs": [
    {
     "data": {
      "text/plain": [
       "<matplotlib.axes._subplots.AxesSubplot at 0xbf965f88>"
      ]
     },
     "execution_count": 165,
     "metadata": {},
     "output_type": "execute_result"
    },
    {
     "data": {
      "image/png": "[encoded data removed]",
      "text/plain": [
       "<Figure size 432x288 with 1 Axes>"
      ]
     },
     "metadata": {
      "needs_background": "light"
     },
     "output_type": "display_data"
    }
   ],
   "source": [
    "pretty.loc[[k for k in pretty.index if k != '']].astype(float).plot()"
   ]
  },
  {
   "cell_type": "code",
   "execution_count": 166,
   "metadata": {
    "hidden": true
   },
   "outputs": [],
   "source": [
    "# LOTS MORE YOU CAN DO HERE JUST FOR LOOKSIES"
   ]
  },
  {
   "cell_type": "code",
   "execution_count": 167,
   "metadata": {
    "hidden": true
   },
   "outputs": [
    {
     "name": "stdout",
     "output_type": "stream",
     "text": [
      "                                   OLS Regression Results                                  \n",
      "===========================================================================================\n",
      "Dep. Variable:     suicide_rate_per100k_annualized   R-squared:                       0.161\n",
      "Model:                                         OLS   Adj. R-squared:                  0.142\n",
      "Method:                              Least Squares   F-statistic:                     8.181\n",
      "Date:                             Fri, 06 Aug 2021   Prob (F-statistic):           3.72e-13\n",
      "Time:                                     09:15:36   Log-Likelihood:                -884.41\n",
      "No. Observations:                              480   AIC:                             1793.\n",
      "Df Residuals:                                  468   BIC:                             1843.\n",
      "Df Model:                                       11                                         \n",
      "Covariance Type:                         nonrobust                                         \n",
      "===================================================================================================================\n",
      "                                                      coef    std err          t      P>|t|      [0.025      0.975]\n",
      "-------------------------------------------------------------------------------------------------------------------\n",
      "Intercept                                           7.3448      0.245     30.030      0.000       6.864       7.825\n",
      "C(month, patsy.Treatment(reference=\"09\"))[T.01]     1.0069      0.346      2.911      0.004       0.327       1.687\n",
      "C(month, patsy.Treatment(reference=\"09\"))[T.02]     0.1544      0.346      0.447      0.655      -0.525       0.834\n",
      "C(month, patsy.Treatment(reference=\"09\"))[T.03]     0.7342      0.346      2.122      0.034       0.054       1.414\n",
      "C(month, patsy.Treatment(reference=\"09\"))[T.04]     0.5268      0.346      1.523      0.128      -0.153       1.206\n",
      "C(month, patsy.Treatment(reference=\"09\"))[T.05]     0.3697      0.346      1.069      0.286      -0.310       1.049\n",
      "C(month, patsy.Treatment(reference=\"09\"))[T.06]    -1.0441      0.346     -3.018      0.003      -1.724      -0.364\n",
      "C(month, patsy.Treatment(reference=\"09\"))[T.07]    -0.9939      0.346     -2.873      0.004      -1.674      -0.314\n",
      "C(month, patsy.Treatment(reference=\"09\"))[T.08]    -0.6405      0.346     -1.852      0.065      -1.320       0.039\n",
      "C(month, patsy.Treatment(reference=\"09\"))[T.10]     0.5860      0.346      1.694      0.091      -0.094       1.266\n",
      "C(month, patsy.Treatment(reference=\"09\"))[T.11]     0.1823      0.346      0.527      0.598      -0.497       0.862\n",
      "C(month, patsy.Treatment(reference=\"09\"))[T.12]    -0.7278      0.346     -2.104      0.036      -1.407      -0.048\n",
      "==============================================================================\n",
      "Omnibus:                       16.132   Durbin-Watson:                   0.438\n",
      "Prob(Omnibus):                  0.000   Jarque-Bera (JB):               13.724\n",
      "Skew:                           0.340   Prob(JB):                      0.00105\n",
      "Kurtosis:                       2.527   Cond. No.                         12.9\n",
      "==============================================================================\n",
      "\n",
      "Warnings:\n",
      "[1] Standard Errors assume that the covariance matrix of the errors is correctly specified.\n"
     ]
    }
   ],
   "source": [
    "print regs_by_month['14-18'].summary()"
   ]
  },
  {
   "cell_type": "code",
   "execution_count": 168,
   "metadata": {
    "hidden": true
   },
   "outputs": [
    {
     "name": "stdout",
     "output_type": "stream",
     "text": [
      "                                         OLS Regression Results                                        \n",
      "=======================================================================================================\n",
      "Dep. Variable:     np.log(suicide_rate_per100k_annualized + 1)   R-squared:                       0.165\n",
      "Model:                                                     OLS   Adj. R-squared:                  0.145\n",
      "Method:                                          Least Squares   F-statistic:                     8.398\n",
      "Date:                                         Fri, 06 Aug 2021   Prob (F-statistic):           1.51e-13\n",
      "Time:                                                 09:15:39   Log-Likelihood:                 139.66\n",
      "No. Observations:                                          480   AIC:                            -255.3\n",
      "Df Residuals:                                              468   BIC:                            -205.2\n",
      "Df Model:                                                   11                                         \n",
      "Covariance Type:                                     nonrobust                                         \n",
      "===================================================================================================================\n",
      "                                                      coef    std err          t      P>|t|      [0.025      0.975]\n",
      "-------------------------------------------------------------------------------------------------------------------\n",
      "Intercept                                           2.1080      0.029     72.778      0.000       2.051       2.165\n",
      "C(month, patsy.Treatment(reference=\"09\"))[T.01]     0.1069      0.041      2.609      0.009       0.026       0.187\n",
      "C(month, patsy.Treatment(reference=\"09\"))[T.02]     0.0148      0.041      0.360      0.719      -0.066       0.095\n",
      "C(month, patsy.Treatment(reference=\"09\"))[T.03]     0.0790      0.041      1.930      0.054      -0.001       0.160\n",
      "C(month, patsy.Treatment(reference=\"09\"))[T.04]     0.0570      0.041      1.391      0.165      -0.024       0.137\n",
      "C(month, patsy.Treatment(reference=\"09\"))[T.05]     0.0408      0.041      0.996      0.320      -0.040       0.121\n",
      "C(month, patsy.Treatment(reference=\"09\"))[T.06]    -0.1343      0.041     -3.278      0.001      -0.215      -0.054\n",
      "C(month, patsy.Treatment(reference=\"09\"))[T.07]    -0.1276      0.041     -3.115      0.002      -0.208      -0.047\n",
      "C(month, patsy.Treatment(reference=\"09\"))[T.08]    -0.0820      0.041     -2.001      0.046      -0.162      -0.001\n",
      "C(month, patsy.Treatment(reference=\"09\"))[T.10]     0.0660      0.041      1.611      0.108      -0.014       0.146\n",
      "C(month, patsy.Treatment(reference=\"09\"))[T.11]     0.0216      0.041      0.527      0.599      -0.059       0.102\n",
      "C(month, patsy.Treatment(reference=\"09\"))[T.12]    -0.0954      0.041     -2.328      0.020      -0.176      -0.015\n",
      "==============================================================================\n",
      "Omnibus:                       37.897   Durbin-Watson:                   0.416\n",
      "Prob(Omnibus):                  0.000   Jarque-Bera (JB):               12.960\n",
      "Skew:                           0.016   Prob(JB):                      0.00153\n",
      "Kurtosis:                       2.196   Cond. No.                         12.9\n",
      "==============================================================================\n",
      "\n",
      "Warnings:\n",
      "[1] Standard Errors assume that the covariance matrix of the errors is correctly specified.\n"
     ]
    }
   ],
   "source": [
    "print regs_percent['14-18'].summary()"
   ]
  },
  {
   "cell_type": "code",
   "execution_count": null,
   "metadata": {
    "hidden": true
   },
   "outputs": [],
   "source": []
  },
  {
   "cell_type": "markdown",
   "metadata": {},
   "source": [
    "### By year"
   ]
  },
  {
   "cell_type": "code",
   "execution_count": 219,
   "metadata": {},
   "outputs": [
    {
     "name": "stderr",
     "output_type": "stream",
     "text": [
      "C:\\Users\\basil\\Anaconda3\\envs\\py2\\lib\\site-packages\\scipy\\stats\\stats.py:1416: UserWarning: kurtosistest only valid for n>=20 ... continuing anyway, n=12\n",
      "  \"anyway, n=%i\" % int(n))\n"
     ]
    },
    {
     "data": {
      "text/html": [
       "<table class=\"simpletable\">\n",
       "<caption>OLS Regression Results</caption>\n",
       "<tr>\n",
       "  <th>Dep. Variable:</th>    <td>suicide_rate_per100k_annualized</td> <th>  R-squared:         </th> <td>   0.217</td>\n",
       "</tr>\n",
       "<tr>\n",
       "  <th>Model:</th>                          <td>OLS</td>               <th>  Adj. R-squared:    </th> <td>   0.139</td>\n",
       "</tr>\n",
       "<tr>\n",
       "  <th>Method:</th>                    <td>Least Squares</td>          <th>  F-statistic:       </th> <td>   2.774</td>\n",
       "</tr>\n",
       "<tr>\n",
       "  <th>Date:</th>                    <td>Mon, 09 Aug 2021</td>         <th>  Prob (F-statistic):</th>  <td> 0.127</td> \n",
       "</tr>\n",
       "<tr>\n",
       "  <th>Time:</th>                        <td>15:43:53</td>             <th>  Log-Likelihood:    </th> <td>  11.113</td>\n",
       "</tr>\n",
       "<tr>\n",
       "  <th>No. Observations:</th>             <td>    12</td>              <th>  AIC:               </th> <td>  -18.23</td>\n",
       "</tr>\n",
       "<tr>\n",
       "  <th>Df Residuals:</th>                 <td>    10</td>              <th>  BIC:               </th> <td>  -17.26</td>\n",
       "</tr>\n",
       "<tr>\n",
       "  <th>Df Model:</th>                     <td>     1</td>              <th>                     </th>     <td> </td>   \n",
       "</tr>\n",
       "<tr>\n",
       "  <th>Covariance Type:</th>             <td>nonrobust</td>            <th>                     </th>     <td> </td>   \n",
       "</tr>\n",
       "</table>\n",
       "<table class=\"simpletable\">\n",
       "<tr>\n",
       "      <td></td>         <th>coef</th>     <th>std err</th>      <th>t</th>      <th>P>|t|</th>  <th>[0.025</th>    <th>0.975]</th>  \n",
       "</tr>\n",
       "<tr>\n",
       "  <th>Intercept</th> <td>    0.2997</td> <td>    0.035</td> <td>    8.565</td> <td> 0.000</td> <td>    0.222</td> <td>    0.378</td>\n",
       "</tr>\n",
       "<tr>\n",
       "  <th>is_summer</th> <td>   -0.1166</td> <td>    0.070</td> <td>   -1.665</td> <td> 0.127</td> <td>   -0.273</td> <td>    0.039</td>\n",
       "</tr>\n",
       "</table>\n",
       "<table class=\"simpletable\">\n",
       "<tr>\n",
       "  <th>Omnibus:</th>       <td> 7.710</td> <th>  Durbin-Watson:     </th> <td>   2.045</td>\n",
       "</tr>\n",
       "<tr>\n",
       "  <th>Prob(Omnibus):</th> <td> 0.021</td> <th>  Jarque-Bera (JB):  </th> <td>   3.573</td>\n",
       "</tr>\n",
       "<tr>\n",
       "  <th>Skew:</th>          <td> 1.178</td> <th>  Prob(JB):          </th> <td>   0.168</td>\n",
       "</tr>\n",
       "<tr>\n",
       "  <th>Kurtosis:</th>      <td> 4.265</td> <th>  Cond. No.          </th> <td>    2.48</td>\n",
       "</tr>\n",
       "</table><br/><br/>Warnings:<br/>[1] Standard Errors assume that the covariance matrix of the errors is correctly specified."
      ],
      "text/plain": [
       "<class 'statsmodels.iolib.summary.Summary'>\n",
       "\"\"\"\n",
       "                                   OLS Regression Results                                  \n",
       "===========================================================================================\n",
       "Dep. Variable:     suicide_rate_per100k_annualized   R-squared:                       0.217\n",
       "Model:                                         OLS   Adj. R-squared:                  0.139\n",
       "Method:                              Least Squares   F-statistic:                     2.774\n",
       "Date:                             Mon, 09 Aug 2021   Prob (F-statistic):              0.127\n",
       "Time:                                     15:43:53   Log-Likelihood:                 11.113\n",
       "No. Observations:                               12   AIC:                            -18.23\n",
       "Df Residuals:                                   10   BIC:                            -17.26\n",
       "Df Model:                                        1                                         \n",
       "Covariance Type:                         nonrobust                                         \n",
       "==============================================================================\n",
       "                 coef    std err          t      P>|t|      [0.025      0.975]\n",
       "------------------------------------------------------------------------------\n",
       "Intercept      0.2997      0.035      8.565      0.000       0.222       0.378\n",
       "is_summer     -0.1166      0.070     -1.665      0.127      -0.273       0.039\n",
       "==============================================================================\n",
       "Omnibus:                        7.710   Durbin-Watson:                   2.045\n",
       "Prob(Omnibus):                  0.021   Jarque-Bera (JB):                3.573\n",
       "Skew:                           1.178   Prob(JB):                        0.168\n",
       "Kurtosis:                       4.265   Cond. No.                         2.48\n",
       "==============================================================================\n",
       "\n",
       "Warnings:\n",
       "[1] Standard Errors assume that the covariance matrix of the errors is correctly specified.\n",
       "\"\"\""
      ]
     },
     "execution_count": 219,
     "metadata": {},
     "output_type": "execute_result"
    }
   ],
   "source": [
    "regs_by_year['<14']['1986'].summary()"
   ]
  },
  {
   "cell_type": "code",
   "execution_count": 169,
   "metadata": {},
   "outputs": [],
   "source": [
    "regs_by_year = {\n",
    "    group: {}\n",
    "    for group in dfs_by_year\n",
    "}\n",
    "pct_regs_by_year = {\n",
    "    group: {}\n",
    "    for group in dfs_by_year\n",
    "}"
   ]
  },
  {
   "cell_type": "code",
   "execution_count": 170,
   "metadata": {},
   "outputs": [],
   "source": [
    "for group in regs_by_year:\n",
    "    for year in dfs_by_year[group]:\n",
    "        regs_by_year[group][year] = sm.formula.ols(data=dfs_by_year[group][year], formula=SUMMER_FML).fit()\n",
    "        pct_regs_by_year[group][year] = sm.formula.ols(data=dfs_by_year[group][year], formula=PCT_SUMMER_FML).fit()"
   ]
  },
  {
   "cell_type": "code",
   "execution_count": 171,
   "metadata": {},
   "outputs": [],
   "source": [
    "def get_by_year(regs_by_year, func):\n",
    "    df = {\n",
    "        group: {\n",
    "            year: func(regs_by_year[group][year])\n",
    "            for year in regs_by_year[group]\n",
    "        }\n",
    "        for group in regs_by_year\n",
    "    }\n",
    "    return df"
   ]
  },
  {
   "cell_type": "code",
   "execution_count": 172,
   "metadata": {},
   "outputs": [],
   "source": [
    "get_params = lambda x: x.params['is_summer']\n",
    "get_intercept = lambda x: x.params['Intercept']\n",
    "get_se = lambda x: x.bse['is_summer']\n",
    "get_ci = lambda x: x.conf_int().loc['is_summer']\n",
    "\n",
    "params_by_year = get_by_year(regs_by_year, get_params)\n",
    "params_by_year = pd.DataFrame(params_by_year)[GROUP_ORDER]\n",
    "params_by_year.index = pd.to_datetime(params_by_year.index)\n",
    "\n",
    "intercept_by_year = get_by_year(regs_by_year, get_intercept)\n",
    "intercept_by_year = pd.DataFrame(intercept_by_year)[GROUP_ORDER]\n",
    "intercept_by_year.index = pd.to_datetime(intercept_by_year.index)\n",
    "\n",
    "se_by_year = get_by_year(regs_by_year, get_se)\n",
    "se_by_year = pd.DataFrame(se_by_year)[GROUP_ORDER]\n",
    "se_by_year.index = pd.to_datetime(se_by_year.index)\n",
    "\n",
    "ci_by_year = get_by_year(regs_by_year, get_ci)"
   ]
  },
  {
   "cell_type": "code",
   "execution_count": 173,
   "metadata": {},
   "outputs": [
    {
     "data": {
      "image/png": "[encoded data removed]",
      "text/plain": [
       "<Figure size 864x576 with 1 Axes>"
      ]
     },
     "metadata": {
      "needs_background": "light"
     },
     "output_type": "display_data"
    }
   ],
   "source": [
    "params_by_year.plot(figsize=(12, 8), style='-*', color=COLORS)\n",
    "_ = plt.title('Summer effect on suicide rate per 100k' + year_range_str, fontsize=16, weight='heavy')\n",
    "_ = plt.xticks(fontsize=14)\n",
    "_ = plt.xlabel('year', fontsize=14)\n",
    "_ = plt.yticks(fontsize=14)\n",
    "_ = plt.axhline(0.0, color='k')\n",
    "_ = plt.legend(fontsize=14)\n",
    "if SAVE_FIGS:\n",
    "    plt.savefig('figures/summer_coefficient.png', dpi=300, bbox_inches='tight')"
   ]
  },
  {
   "cell_type": "code",
   "execution_count": 174,
   "metadata": {},
   "outputs": [],
   "source": [
    "pct_params_by_year = get_by_year(pct_regs_by_year, get_params)\n",
    "pct_params_by_year = pd.DataFrame(pct_params_by_year)[GROUP_ORDER]\n",
    "pct_params_by_year.index = pd.to_datetime(pct_params_by_year.index)\n",
    "\n",
    "pct_se_by_year = get_by_year(pct_regs_by_year, get_se)\n",
    "pct_se_by_year = pd.DataFrame(pct_se_by_year)[GROUP_ORDER]\n",
    "pct_se_by_year.index = pd.to_datetime(pct_se_by_year.index)\n",
    "\n",
    "pct_ci_by_year = get_by_year(pct_regs_by_year, get_ci)"
   ]
  },
  {
   "cell_type": "code",
   "execution_count": 175,
   "metadata": {},
   "outputs": [
    {
     "data": {
      "image/png": "[encoded data removed]",
      "text/plain": [
       "<Figure size 864x576 with 1 Axes>"
      ]
     },
     "metadata": {
      "needs_background": "light"
     },
     "output_type": "display_data"
    }
   ],
   "source": [
    "pct_params_by_year.plot(figsize=(12, 8), style='-*', color=COLORS)\n",
    "_ = plt.title('Summer effect (%) on suicide rate per 100k' + year_range_str, fontsize=16, weight='heavy')\n",
    "_ = plt.xticks(fontsize=14)\n",
    "_ = plt.xlabel('year', fontsize=14)\n",
    "_ = plt.yticks(fontsize=14)\n",
    "_ = plt.axhline(0.0, color='k')\n",
    "_ = plt.legend(fontsize=14)\n",
    "if SAVE_FIGS:\n",
    "    plt.savefig('figures/summer_pct_coefficient.png', dpi=300, bbox_inches='tight')"
   ]
  },
  {
   "cell_type": "code",
   "execution_count": null,
   "metadata": {},
   "outputs": [],
   "source": []
  },
  {
   "cell_type": "markdown",
   "metadata": {
    "heading_collapsed": true
   },
   "source": [
    "# BOTE calculation"
   ]
  },
  {
   "cell_type": "code",
   "execution_count": 203,
   "metadata": {
    "hidden": true
   },
   "outputs": [],
   "source": [
    "summer_rate = suicide_rate_per100k_annualized_by_month.loc[6:8].mean()\n",
    "restofyear_minus_summer = suicide_rate_per100k_annualized_by_month - summer_rate\n",
    "restofyear_minus_summer = restofyear_minus_summer.loc[range(1, 6) + range(9, 13)]"
   ]
  },
  {
   "cell_type": "code",
   "execution_count": 211,
   "metadata": {
    "hidden": true
   },
   "outputs": [],
   "source": [
    "pop_latest = pop_by_group.iloc[-1]\n",
    "pop_latest_div_100k = pop_latest/100000"
   ]
  },
  {
   "cell_type": "code",
   "execution_count": 214,
   "metadata": {
    "hidden": true
   },
   "outputs": [
    {
     "data": {
      "text/plain": [
       "<14        339.936234\n",
       "14-18     2270.116246\n",
       "19-25    -1391.244882\n",
       ">25     -20604.410140\n",
       "dtype: float64"
      ]
     },
     "execution_count": 214,
     "metadata": {},
     "output_type": "execute_result"
    }
   ],
   "source": [
    "(restofyear_minus_summer*pop_latest_div_100k).sum()"
   ]
  },
  {
   "cell_type": "code",
   "execution_count": null,
   "metadata": {
    "hidden": true
   },
   "outputs": [],
   "source": []
  },
  {
   "cell_type": "code",
   "execution_count": null,
   "metadata": {
    "hidden": true
   },
   "outputs": [],
   "source": []
  },
  {
   "cell_type": "code",
   "execution_count": null,
   "metadata": {
    "hidden": true
   },
   "outputs": [],
   "source": []
  },
  {
   "cell_type": "code",
   "execution_count": null,
   "metadata": {
    "hidden": true
   },
   "outputs": [],
   "source": []
  },
  {
   "cell_type": "code",
   "execution_count": null,
   "metadata": {
    "hidden": true
   },
   "outputs": [],
   "source": []
  },
  {
   "cell_type": "code",
   "execution_count": null,
   "metadata": {
    "hidden": true
   },
   "outputs": [],
   "source": []
  },
  {
   "cell_type": "code",
   "execution_count": null,
   "metadata": {
    "hidden": true
   },
   "outputs": [],
   "source": []
  },
  {
   "cell_type": "code",
   "execution_count": null,
   "metadata": {
    "hidden": true
   },
   "outputs": [],
   "source": []
  },
  {
   "cell_type": "code",
   "execution_count": null,
   "metadata": {
    "hidden": true
   },
   "outputs": [],
   "source": []
  },
  {
   "cell_type": "code",
   "execution_count": null,
   "metadata": {
    "hidden": true
   },
   "outputs": [],
   "source": []
  },
  {
   "cell_type": "code",
   "execution_count": null,
   "metadata": {
    "hidden": true
   },
   "outputs": [],
   "source": []
  },
  {
   "cell_type": "code",
   "execution_count": null,
   "metadata": {
    "hidden": true
   },
   "outputs": [],
   "source": []
  }
 ],
 "metadata": {
  "kernelspec": {
   "display_name": "py2",
   "language": "python",
   "name": "py2"
  },
  "language_info": {
   "codemirror_mode": {
    "name": "ipython",
    "version": 2
   },
   "file_extension": ".py",
   "mimetype": "text/x-python",
   "name": "python",
   "nbconvert_exporter": "python",
   "pygments_lexer": "ipython2",
   "version": "2.7.18"
  }
 },
 "nbformat": 4,
 "nbformat_minor": 2
}
