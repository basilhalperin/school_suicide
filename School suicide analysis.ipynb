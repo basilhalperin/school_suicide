{
 "cells": [
  {
   "cell_type": "code",
   "execution_count": 377,
   "metadata": {},
   "outputs": [],
   "source": [
    "import pandas as pd\n",
    "import os\n",
    "import zipfile\n",
    "import StringIO\n",
    "import requests\n",
    "import statsmodels.api as sm\n",
    "import patsy\n",
    "from IPython.display import clear_output\n",
    "\n",
    "import matplotlib.pyplot as plt\n",
    "import seaborn\n",
    "seaborn.set_style('white')\n",
    "%matplotlib inline"
   ]
  },
  {
   "cell_type": "markdown",
   "metadata": {
    "heading_collapsed": true
   },
   "source": [
    "# Death data"
   ]
  },
  {
   "cell_type": "code",
   "execution_count": 60,
   "metadata": {
    "hidden": true
   },
   "outputs": [],
   "source": [
    "BASE_URL = \"https://www.nber.org/mortality/{0}/mort{0}.csv.zip\"\n",
    "DOWNLOAD_DEST_BASE = 'nchs_mcd_rawdata'\n",
    "START_YEAR = 1959\n",
    "END_YEAR = 2017"
   ]
  },
  {
   "cell_type": "code",
   "execution_count": 3,
   "metadata": {
    "hidden": true
   },
   "outputs": [],
   "source": [
    "# If raw data folder doesn't exist, create it\n",
    "if not os.path.exists(DOWNLOAD_DEST_BASE):\n",
    "    print 'Making \"{0}\" directory...'.format(DOWNLOAD_DEST_BASE)\n",
    "    os.makedirs('{0}'.format(DOWNLOAD_DEST_BASE))"
   ]
  },
  {
   "cell_type": "code",
   "execution_count": 4,
   "metadata": {
    "hidden": true
   },
   "outputs": [],
   "source": [
    "def download_raw_data_by_year(year, base_url=BASE_URL, download_dest_base=DOWNLOAD_DEST_BASE):\n",
    "    \"\"\"\n",
    "    See documentation stuff here:\n",
    "    https://www.nber.org/data/vital-statistics-mortality-data-multiple-cause-of-death.html\n",
    "    \"\"\"\n",
    "    year = str(year)\n",
    "    \n",
    "    # Check if already exists\n",
    "    if os.path.exists(os.path.join(download_dest_base, '{0}.csv'.format(year))):\n",
    "        print \"Already have data for {0}\".format(year)\n",
    "        return\n",
    "    \n",
    "    # Specify file locations\n",
    "    url = base_url.format(year)\n",
    "    download_dest = os.path.join(download_dest_base, year)\n",
    "\n",
    "    # Download data\n",
    "    r = requests.get(url, stream=True)\n",
    "    with zipfile.ZipFile(StringIO.StringIO(r.content)) as zf:\n",
    "        zf.extractall(download_dest)\n",
    "\n",
    "    # Move CSV to main directory and delete empty folder\n",
    "    current_filename = os.path.join(download_dest, 'mort{0}.csv'.format(year))\n",
    "    new_filename = os.path.join(download_dest_base, '{0}.csv'.format(year))\n",
    "    os.rename(current_filename, new_filename)\n",
    "    os.rmdir(os.path.join(download_dest_base, year))\n",
    "    \n",
    "    print \"Downloaded data for {0}\".format(year)"
   ]
  },
  {
   "cell_type": "code",
   "execution_count": 5,
   "metadata": {
    "hidden": true
   },
   "outputs": [],
   "source": [
    "def download_raw_data(start_year=START_YEAR, end_year=END_YEAR, \n",
    "                      base_url=BASE_URL, download_dest_base=DOWNLOAD_DEST_BASE):\n",
    "    years = range(start_year, end_year+1)\n",
    "    \n",
    "    for year in years:\n",
    "        download_raw_data_by_year(year, base_url, download_dest_base)"
   ]
  },
  {
   "cell_type": "code",
   "execution_count": 6,
   "metadata": {
    "hidden": true,
    "scrolled": true
   },
   "outputs": [
    {
     "name": "stdout",
     "output_type": "stream",
     "text": [
      "Already have data for 1959\n",
      "Already have data for 1960\n",
      "Already have data for 1961\n",
      "Already have data for 1962\n",
      "Already have data for 1963\n",
      "Already have data for 1964\n",
      "Already have data for 1965\n",
      "Already have data for 1966\n",
      "Already have data for 1967\n",
      "Already have data for 1968\n",
      "Already have data for 1969\n",
      "Already have data for 1970\n",
      "Already have data for 1971\n",
      "Already have data for 1972\n",
      "Already have data for 1973\n",
      "Already have data for 1974\n",
      "Already have data for 1975\n",
      "Already have data for 1976\n",
      "Already have data for 1977\n",
      "Already have data for 1978\n",
      "Already have data for 1979\n",
      "Already have data for 1980\n",
      "Already have data for 1981\n",
      "Already have data for 1982\n",
      "Already have data for 1983\n",
      "Already have data for 1984\n",
      "Already have data for 1985\n",
      "Already have data for 1986\n",
      "Already have data for 1987\n",
      "Already have data for 1988\n",
      "Already have data for 1989\n",
      "Already have data for 1990\n",
      "Already have data for 1991\n",
      "Already have data for 1992\n",
      "Already have data for 1993\n",
      "Already have data for 1994\n",
      "Already have data for 1995\n",
      "Already have data for 1996\n",
      "Already have data for 1997\n",
      "Already have data for 1998\n",
      "Already have data for 1999\n",
      "Already have data for 2000\n",
      "Already have data for 2001\n",
      "Already have data for 2002\n",
      "Already have data for 2003\n",
      "Already have data for 2004\n",
      "Already have data for 2005\n",
      "Already have data for 2006\n",
      "Already have data for 2007\n",
      "Already have data for 2008\n",
      "Already have data for 2009\n",
      "Already have data for 2010\n",
      "Already have data for 2011\n",
      "Already have data for 2012\n",
      "Already have data for 2013\n",
      "Already have data for 2014\n",
      "Already have data for 2015\n",
      "Already have data for 2016\n",
      "Already have data for 2017\n"
     ]
    }
   ],
   "source": [
    "download_raw_data()"
   ]
  },
  {
   "cell_type": "code",
   "execution_count": null,
   "metadata": {
    "hidden": true
   },
   "outputs": [],
   "source": []
  },
  {
   "cell_type": "markdown",
   "metadata": {
    "heading_collapsed": true
   },
   "source": [
    "# Population data"
   ]
  },
  {
   "cell_type": "code",
   "execution_count": 7,
   "metadata": {
    "hidden": true
   },
   "outputs": [],
   "source": [
    "OTHER_DATA_DEST_BASE = 'other_data'"
   ]
  },
  {
   "cell_type": "code",
   "execution_count": 8,
   "metadata": {
    "hidden": true
   },
   "outputs": [],
   "source": [
    "# If raw data folder doesn't exist, create it\n",
    "if not os.path.exists(OTHER_DATA_DEST_BASE):\n",
    "    print 'Making \"{0}\" directory...'.format(DOWNLOAD_DEST_BASE)\n",
    "    os.makedirs('{0}'.format(OTHER_DATA_DEST_BASE))"
   ]
  },
  {
   "cell_type": "code",
   "execution_count": 87,
   "metadata": {
    "hidden": true
   },
   "outputs": [],
   "source": [
    "pop_filename = os.path.join(OTHER_DATA_DEST_BASE, 'pop_data.csv')\n",
    "if os.path.exists(pop_filename):\n",
    "    pop_data = pd.read_csv(pop_filename, index_col=0)\n",
    "    pop_data = pop_data[[c for c in pop_data.columns if c != 'total']]\n",
    "    pop_data.columns = [int(x) for x in pop_data.columns]\n",
    "else:\n",
    "    print \"pop_data.csv not yet created -- load data using code below.\""
   ]
  },
  {
   "cell_type": "code",
   "execution_count": null,
   "metadata": {
    "hidden": true
   },
   "outputs": [],
   "source": []
  },
  {
   "cell_type": "markdown",
   "metadata": {
    "heading_collapsed": true,
    "hidden": true
   },
   "source": [
    "## Load by decade"
   ]
  },
  {
   "cell_type": "markdown",
   "metadata": {
    "heading_collapsed": true,
    "hidden": true
   },
   "source": [
    "### 2010-2018"
   ]
  },
  {
   "cell_type": "code",
   "execution_count": 9,
   "metadata": {
    "hidden": true
   },
   "outputs": [],
   "source": [
    "# Source url: https://www.census.gov/data/tables/time-series/demo/popest/2010s-national-detail.html\n",
    "# Description: https://www2.census.gov/programs-surveys/popest/technical-documentation/file-layouts/2010-2018/nc-est2018-agesex-res.pdf\n",
    "POP_DATA_URL_2010 = 'https://www2.census.gov/programs-surveys/popest/technical-documentation/file-layouts/2010-2018/nc-est2018-agesex-res.csv'"
   ]
  },
  {
   "cell_type": "code",
   "execution_count": 10,
   "metadata": {
    "hidden": true
   },
   "outputs": [],
   "source": [
    "def download_2010_pop_data(pop_data_url_2010=POP_DATA_URL_2010):\n",
    "    \"\"\"\n",
    "    Download population data from 2010-2018\n",
    "    \"\"\"\n",
    "    # Download\n",
    "    pop_data_2010_raw = pd.read_csv(pop_data_url_2010, index_col=None, header=0)\n",
    "    \n",
    "    # Clean\n",
    "    col_map = {\n",
    "        c: c[-4:]\n",
    "        for c in pop_data_2010_raw.columns if 'POPESTIMATE' in c\n",
    "    }\n",
    "    col_map['AGE'] = 'age'\n",
    "    col_map['SEX'] = 'sex'\n",
    "    gender_map = {\n",
    "        0: 'total',\n",
    "        1: 'male',\n",
    "        2: 'female',\n",
    "    }\n",
    "\n",
    "    pop_data_2010 = pop_data_2010_raw[col_map].rename(columns=col_map)\n",
    "    pop_data_2010['sex'] = pop_data_2010['sex'].replace(gender_map)\n",
    "    pop_data_2010['age'] = pop_data_2010['age'].replace(999, 'total')\n",
    "\n",
    "    pop_data_2010 = (\n",
    "        pop_data_2010\n",
    "        .set_index(['sex', 'age'])\n",
    "        .T\n",
    "        .sort_index()\n",
    "    )\n",
    "    \n",
    "    # Return\n",
    "    return pop_data_2010['total'], pop_data_2010['male'], pop_data_2010['female']"
   ]
  },
  {
   "cell_type": "code",
   "execution_count": 11,
   "metadata": {
    "hidden": true
   },
   "outputs": [],
   "source": [
    "def load_pop_data_2010(pop_data_url_2010=POP_DATA_URL_2010, other_data_dest_base=OTHER_DATA_DEST_BASE):\n",
    "    total_filename = os.path.join(other_data_dest_base, 'pop_data_2010_total.csv')\n",
    "    male_filename = os.path.join(other_data_dest_base, 'pop_data_2010_male.csv')\n",
    "    female_filename = os.path.join(other_data_dest_base, 'pop_data_2010_female.csv')\n",
    "    \n",
    "    if os.path.exists(total_filename):\n",
    "        print \"Loading\", total_filename\n",
    "        pop_data_2010_total = pd.read_csv(total_filename, index_col=0)\n",
    "        pop_data_2010_total.columns = [int(x) for x in pop_data_2010_total.columns if x != 'total'] + ['total']\n",
    "    else:\n",
    "        print \"Downloading 2010-2018 population data\"\n",
    "        pop_data_2010_total, males, females = download_2010_pop_data(pop_data_url_2010)\n",
    "        \n",
    "        pop_data_2010_total.to_csv(total_filename)\n",
    "        males.to_csv(male_filename)\n",
    "        females.to_csv(female_filename)\n",
    "        \n",
    "        print \"Saved\", total_filename\n",
    "        \n",
    "    return pop_data_2010_total"
   ]
  },
  {
   "cell_type": "code",
   "execution_count": 12,
   "metadata": {
    "hidden": true
   },
   "outputs": [
    {
     "name": "stdout",
     "output_type": "stream",
     "text": [
      "Loading other_data/pop_data_2010_total.csv\n"
     ]
    }
   ],
   "source": [
    "pop_data_2010 = load_pop_data_2010()"
   ]
  },
  {
   "cell_type": "code",
   "execution_count": 13,
   "metadata": {
    "hidden": true
   },
   "outputs": [
    {
     "data": {
      "image/png": "[encoded data removed]",
      "text/plain": [
       "<Figure size 432x288 with 1 Axes>"
      ]
     },
     "metadata": {
      "needs_background": "light"
     },
     "output_type": "display_data"
    }
   ],
   "source": [
    "# sanity check\n",
    "(pop_data_2010[26]*100./pop_data_2010['total']).plot()\n",
    "_ = plt.title('Age 26 population')"
   ]
  },
  {
   "cell_type": "code",
   "execution_count": null,
   "metadata": {
    "hidden": true
   },
   "outputs": [],
   "source": []
  },
  {
   "cell_type": "markdown",
   "metadata": {
    "heading_collapsed": true,
    "hidden": true
   },
   "source": [
    "### 2000-2009"
   ]
  },
  {
   "cell_type": "code",
   "execution_count": 14,
   "metadata": {
    "hidden": true
   },
   "outputs": [],
   "source": [
    "# Source url: https://www.census.gov/data/datasets/time-series/demo/popest/intercensal-2000-2010-national.html\n",
    "POP_DATA_URL_2000 = 'https://www2.census.gov/programs-surveys/popest/datasets/2000-2010/intercensal/national/us-est00int-alldata.csv'"
   ]
  },
  {
   "cell_type": "code",
   "execution_count": 15,
   "metadata": {
    "hidden": true
   },
   "outputs": [],
   "source": [
    "pop_data_2000_raw = pd.read_csv(POP_DATA_URL_2000, index_col=None, header=0)\n",
    "\n",
    "# Estimates are available for April and July (??), I use July.\n",
    "pop_data_2000 = pop_data_2000_raw[pop_data_2000_raw['MONTH'] == 7]"
   ]
  },
  {
   "cell_type": "code",
   "execution_count": 16,
   "metadata": {
    "hidden": true
   },
   "outputs": [],
   "source": [
    "def download_2000_pop_data(pop_data_url_2000=POP_DATA_URL_2000, month=7):\n",
    "    \"\"\"\n",
    "    Download population data from 2000-2009\n",
    "    Estimates are available for July, and also for April only in 2000 and 2010 (??), so I use July.\n",
    "    \"\"\"   \n",
    "    # Download\n",
    "    pop_data_2000_raw = pd.read_csv(pop_data_url_2000, index_col=None, header=0)\n",
    "    \n",
    "    # Estimates are available for April and July (??), I use July.\n",
    "    pop_data_2000 = pop_data_2000_raw[pop_data_2000_raw['MONTH'] == month]\n",
    "\n",
    "    # Clean\n",
    "    def clean_pop_2000(df):\n",
    "        df = df.rename(columns={999: 'total'})\n",
    "        df.index.name = None\n",
    "        df.columns.name = None\n",
    "        return df\n",
    "\n",
    "    pop_data_2000_total = pd.pivot_table(pop_data_2000, index='YEAR', columns='AGE', values='TOT_POP')\n",
    "    pop_data_2000_male = pd.pivot_table(pop_data_2000, index='YEAR', columns='AGE', values='TOT_MALE')\n",
    "    pop_data_2000_female = pd.pivot_table(pop_data_2000, index='YEAR', columns='AGE', values='TOT_FEMALE')\n",
    "\n",
    "    pop_data_2000_total = clean_pop_2000(pop_data_2000_total)\n",
    "    pop_data_2000_male = clean_pop_2000(pop_data_2000_male)\n",
    "    pop_data_2000_female = clean_pop_2000(pop_data_2000_female)\n",
    "    \n",
    "    # Return\n",
    "    return pop_data_2000_total, pop_data_2000_male, pop_data_2000_female"
   ]
  },
  {
   "cell_type": "code",
   "execution_count": 17,
   "metadata": {
    "hidden": true
   },
   "outputs": [],
   "source": [
    "def load_pop_data_2000(pop_data_url_2000=POP_DATA_URL_2000, other_data_dest_base=OTHER_DATA_DEST_BASE):\n",
    "    total_filename = os.path.join(other_data_dest_base, 'pop_data_2000_total.csv')\n",
    "    male_filename = os.path.join(other_data_dest_base, 'pop_data_2000_male.csv')\n",
    "    female_filename = os.path.join(other_data_dest_base, 'pop_data_2000_female.csv')\n",
    "    \n",
    "    if os.path.exists(total_filename):\n",
    "        print \"Loading\", total_filename\n",
    "        pop_data_2000_total = pd.read_csv(total_filename, index_col=0)\n",
    "        pop_data_2000_total.columns = [int(x) for x in pop_data_2000_total.columns if x != 'total'] + ['total']\n",
    "    else:\n",
    "        print \"Downloading 2000-2009 population data\"\n",
    "        pop_data_2000_total, males, females = download_2000_pop_data(pop_data_url_2000)\n",
    "        \n",
    "        pop_data_2000_total.to_csv(total_filename)\n",
    "        males.to_csv(male_filename)\n",
    "        females.to_csv(female_filename)\n",
    "        \n",
    "        print \"Saved\", total_filename\n",
    "        \n",
    "    return pop_data_2000_total"
   ]
  },
  {
   "cell_type": "code",
   "execution_count": 18,
   "metadata": {
    "hidden": true
   },
   "outputs": [
    {
     "name": "stdout",
     "output_type": "stream",
     "text": [
      "Loading other_data/pop_data_2000_total.csv\n"
     ]
    }
   ],
   "source": [
    "pop_data_2000 = load_pop_data_2000()"
   ]
  },
  {
   "cell_type": "code",
   "execution_count": null,
   "metadata": {
    "hidden": true
   },
   "outputs": [],
   "source": []
  },
  {
   "cell_type": "markdown",
   "metadata": {
    "heading_collapsed": true,
    "hidden": true
   },
   "source": [
    "### 1990-2000"
   ]
  },
  {
   "cell_type": "code",
   "execution_count": 19,
   "metadata": {
    "hidden": true
   },
   "outputs": [],
   "source": [
    "#https://www.census.gov/data/datasets/time-series/demo/popest/intercensal-1990-2000-national.html\n",
    "POP_DATA_URL_1990 = 'https://www2.census.gov/programs-surveys/popest/datasets/1990-2000/intercensal/national/us-est90int-07.csv'"
   ]
  },
  {
   "cell_type": "code",
   "execution_count": 20,
   "metadata": {
    "hidden": true
   },
   "outputs": [],
   "source": [
    "def download_1990_pop_data(pop_data_url_1990=POP_DATA_URL_1990, month=7):\n",
    "    \"\"\"\n",
    "    Download population data from 1990-1999\n",
    "    Estimates are available monthly, I use July.\n",
    "    \"\"\"   \n",
    "    # Download\n",
    "    pop_data_1990_raw = pd.read_csv(pop_data_url_1990, index_col=None, header=0, skiprows=1)\n",
    "    \n",
    "    # Clean\n",
    "    # Relabel columns\n",
    "    pop_data_1990 = pop_data_1990_raw.copy()\n",
    "    pop_data_1990.columns = ['Date', 'Age', 'Total', 'Male', 'Female']\n",
    "    # Drop bad rows\n",
    "    pop_data_1990 = pop_data_1990['Int' != pop_data_1990['Date'].str[:3]]\n",
    "    # Date\n",
    "    pop_data_1990['Date'] = pd.to_datetime(pop_data_1990['Date'])\n",
    "    pop_data_1990['Year'] = pop_data_1990['Date'].apply(lambda x: x.year)\n",
    "    pop_data_1990['Month'] = pop_data_1990['Date'].apply(lambda x: x.month)\n",
    "    # Age\n",
    "    pop_data_1990['Age'] = pop_data_1990['Age'].replace('100+', '100')\n",
    "    pop_data_1990['Age'] = pop_data_1990['Age'].replace('All Age', 'total')\n",
    "    # Estimates are available quarterly, I use April.\n",
    "    pop_data_1990 = pop_data_1990[pop_data_1990['Month'] == month]\n",
    "    \n",
    "    # Collect\n",
    "    pop_data_1990_total = pd.pivot_table(pop_data_1990, index='Year', columns='Age', values='Total')\n",
    "    pop_data_1990_male = pd.pivot_table(pop_data_1990, index='Year', columns='Age', values='Male')\n",
    "    pop_data_1990_female = pd.pivot_table(pop_data_1990, index='Year', columns='Age', values='Female')\n",
    "    \n",
    "    # Clean moar\n",
    "    def clean_pop_1990(df):\n",
    "        df.index.name = None\n",
    "        df.columns.name = None\n",
    "        df.columns = [int(x) if x != 'total' else 'total' for x in df.columns]\n",
    "        order = sorted(df.columns)\n",
    "        return df[order]\n",
    "    pop_data_1990_total = clean_pop_1990(pop_data_1990_total)\n",
    "    pop_data_1990_male = clean_pop_1990(pop_data_1990_male)\n",
    "    pop_data_1990_female = clean_pop_1990(pop_data_1990_female)\n",
    "    \n",
    "    # Return\n",
    "    return pop_data_1990_total, pop_data_1990_male, pop_data_1990_female"
   ]
  },
  {
   "cell_type": "code",
   "execution_count": 21,
   "metadata": {
    "hidden": true
   },
   "outputs": [],
   "source": [
    "def load_pop_data_1990(pop_data_url_1990=POP_DATA_URL_1990, other_data_dest_base=OTHER_DATA_DEST_BASE):\n",
    "    total_filename = os.path.join(other_data_dest_base, 'pop_data_1990_total.csv')\n",
    "    male_filename = os.path.join(other_data_dest_base, 'pop_data_1990_male.csv')\n",
    "    female_filename = os.path.join(other_data_dest_base, 'pop_data_1990_female.csv')\n",
    "    \n",
    "    if os.path.exists(total_filename):\n",
    "        print \"Loading\", total_filename\n",
    "        pop_data_1990_total = pd.read_csv(total_filename, index_col=0)\n",
    "        pop_data_1990_total.columns = [int(x) for x in pop_data_1990_total.columns if x != 'total'] + ['total']\n",
    "    else:\n",
    "        print \"Downloading 1990-1999 population data\"\n",
    "        pop_data_1990_total, males, females = download_1990_pop_data(pop_data_url_1990)\n",
    "        \n",
    "        pop_data_1990_total.to_csv(total_filename)\n",
    "        males.to_csv(male_filename)\n",
    "        females.to_csv(female_filename)\n",
    "        \n",
    "        print \"Saved\", total_filename\n",
    "        \n",
    "    return pop_data_1990_total"
   ]
  },
  {
   "cell_type": "code",
   "execution_count": 22,
   "metadata": {
    "hidden": true
   },
   "outputs": [
    {
     "name": "stdout",
     "output_type": "stream",
     "text": [
      "Loading other_data/pop_data_1990_total.csv\n"
     ]
    }
   ],
   "source": [
    "pop_data_1990 = load_pop_data_1990()"
   ]
  },
  {
   "cell_type": "code",
   "execution_count": null,
   "metadata": {
    "hidden": true
   },
   "outputs": [],
   "source": []
  },
  {
   "cell_type": "markdown",
   "metadata": {
    "heading_collapsed": true,
    "hidden": true
   },
   "source": [
    "### 1980-1990"
   ]
  },
  {
   "cell_type": "code",
   "execution_count": 23,
   "metadata": {
    "hidden": true
   },
   "outputs": [],
   "source": [
    "# Source: https://www.census.gov/data/datasets/time-series/demo/popest/1980s-national.html\n",
    "# Documentation: https://www2.census.gov/programs-surveys/popest/technical-documentation/file-layouts/1980-1990/nat-detail-layout.txt\n",
    "POP_DATA_URLS_1980s = {\n",
    "    1980: 'https://www2.census.gov/programs-surveys/popest/datasets/1980-1990/national/asrh/e8081rqi.zip',\n",
    "    1981: 'https://www2.census.gov/programs-surveys/popest/datasets/1980-1990/national/asrh/e8182rqi.zip',\n",
    "    1982: 'https://www2.census.gov/programs-surveys/popest/datasets/1980-1990/national/asrh/e8283rqi.zip',\n",
    "    1983: 'https://www2.census.gov/programs-surveys/popest/datasets/1980-1990/national/asrh/e8384rqi.zip',\n",
    "    1984: 'https://www2.census.gov/programs-surveys/popest/datasets/1980-1990/national/asrh/e8485rqi.zip',\n",
    "    1985: 'https://www2.census.gov/programs-surveys/popest/datasets/1980-1990/national/asrh/e8586rqi.zip',\n",
    "    1986: 'https://www2.census.gov/programs-surveys/popest/datasets/1980-1990/national/asrh/e8687rqi.zip',\n",
    "    1987: 'https://www2.census.gov/programs-surveys/popest/datasets/1980-1990/national/asrh/e8788rqi.zip',\n",
    "    1988: 'https://www2.census.gov/programs-surveys/popest/datasets/1980-1990/national/asrh/e8889rqi.zip',\n",
    "    1989: 'https://www2.census.gov/programs-surveys/popest/datasets/1980-1990/national/asrh/e8990rqi.zip',\n",
    "}"
   ]
  },
  {
   "cell_type": "code",
   "execution_count": 24,
   "metadata": {
    "hidden": true
   },
   "outputs": [],
   "source": [
    "def download_1980_pop_data_by_year(year, pop_data_urls_1980s=POP_DATA_URLS_1980s, \n",
    "                                   other_data_dest_base=OTHER_DATA_DEST_BASE, month=7):\n",
    "    \"\"\"\n",
    "    Download population data for a given year in 1980-1989\n",
    "    Estimates are available quarterly, I use July.\n",
    "    \"\"\"   \n",
    "    # Download zip for the year\n",
    "    url = pop_data_urls_1980s[year]\n",
    "    r = requests.get(url, stream=True)\n",
    "    with zipfile.ZipFile(StringIO.StringIO(r.content)) as zf:\n",
    "        zf.extractall(other_data_dest_base)    \n",
    "    \n",
    "    # Read in data (stored as a string wtf)\n",
    "    year_str2 = str(year)[-2:]\n",
    "    year_after_str2 = str(year+1)[-2:]\n",
    "    raw_data_name = 'E{0}{1}RQI.TXT'.format(year_str2, year_after_str2)\n",
    "    raw_data_path = os.path.join(other_data_dest_base, raw_data_name)\n",
    "    raw_data = open(raw_data_path, 'r').readlines()\n",
    "\n",
    "    pop_data_year = {\n",
    "        'Month': {},\n",
    "        'Year': {},\n",
    "        'Age': {},\n",
    "        'Total': {},\n",
    "        'Male': {},\n",
    "        'Female': {},\n",
    "    }\n",
    "    for row_num in range(len(raw_data)):\n",
    "        row = raw_data[row_num]\n",
    "        if len(row) < 40:\n",
    "            continue\n",
    "        #pop_data_year['series'][row_num] = row[0:2]\n",
    "        pop_data_year['Month'][row_num] = int(row[2:4])\n",
    "        pop_data_year['Year'][row_num] = int('19' + row[4:6])\n",
    "        pop_data_year['Age'][row_num] = int(row[6:10])\n",
    "        #pop_data_year['blank'][row_num] = row[10:11]\n",
    "        pop_data_year['Total'][row_num] = int(row[11:21])\n",
    "        pop_data_year['Male'][row_num] = int(row[21:31])\n",
    "        pop_data_year['Female'][row_num] = int(row[31:41])\n",
    "    \n",
    "    # Clean up\n",
    "    pop_data_year = pd.DataFrame(pop_data_year)\n",
    "    os.remove(raw_data_path)\n",
    "    \n",
    "    # Clean\n",
    "    pop_data_year['Age'] = pop_data_year['Age'].replace(999, 'total')\n",
    "    pop_data_year = pop_data_year[pop_data_year['Year'] == year]\n",
    "    pop_data_year = pop_data_year[pop_data_year['Month'] == month]\n",
    "\n",
    "    \n",
    "    return pop_data_year"
   ]
  },
  {
   "cell_type": "code",
   "execution_count": 25,
   "metadata": {
    "hidden": true
   },
   "outputs": [],
   "source": [
    "def download_1980_pop_data(pop_data_urls_1980s=POP_DATA_URLS_1980s, \n",
    "                           other_data_dest_base=OTHER_DATA_DEST_BASE, month=7):\n",
    "    \"\"\"\n",
    "    Download population data from 1980-1989\n",
    "    Estimates are available monthly, I use July.\n",
    "    \"\"\"   \n",
    "    # Download\n",
    "    pop_data_1980_dict = {}\n",
    "    for year in range(1980, 1990):\n",
    "        pop_data_1980_dict[year] = download_1980_pop_data_by_year(year, pop_data_urls_1980s, \n",
    "                                                                  other_data_dest_base, month)\n",
    "    pop_data_1980 = pd.concat(pop_data_1980_dict.values(), axis=0)\n",
    "        \n",
    "    # Collect\n",
    "    pop_data_1980_total = pd.pivot_table(pop_data_1980, index='Year', columns='Age', values='Total')\n",
    "    pop_data_1980_male = pd.pivot_table(pop_data_1980, index='Year', columns='Age', values='Male')\n",
    "    pop_data_1980_female = pd.pivot_table(pop_data_1980, index='Year', columns='Age', values='Female')\n",
    "    \n",
    "    # Clean moar\n",
    "    def clean_pop_1980(df):\n",
    "        df.index.name = None\n",
    "        df.columns.name = None\n",
    "        df.columns = [int(x) if x != 'total' else 'total' for x in df.columns]\n",
    "        order = sorted(df.columns)\n",
    "        return df[order]\n",
    "    pop_data_1980_total = clean_pop_1980(pop_data_1980_total)\n",
    "    pop_data_1980_male = clean_pop_1980(pop_data_1980_male)\n",
    "    pop_data_1980_female = clean_pop_1980(pop_data_1980_female)\n",
    "    \n",
    "    # Return\n",
    "    return pop_data_1980_total, pop_data_1980_male, pop_data_1980_female"
   ]
  },
  {
   "cell_type": "code",
   "execution_count": 26,
   "metadata": {
    "hidden": true
   },
   "outputs": [],
   "source": [
    "def load_pop_data_1980(pop_data_urls_1980s=POP_DATA_URLS_1980s, other_data_dest_base=OTHER_DATA_DEST_BASE):\n",
    "    total_filename = os.path.join(other_data_dest_base, 'pop_data_1980_total.csv')\n",
    "    male_filename = os.path.join(other_data_dest_base, 'pop_data_1980_male.csv')\n",
    "    female_filename = os.path.join(other_data_dest_base, 'pop_data_1980_female.csv')\n",
    "    \n",
    "    if os.path.exists(total_filename):\n",
    "        print \"Loading\", total_filename\n",
    "        pop_data_1980_total = pd.read_csv(total_filename, index_col=0)\n",
    "        pop_data_1980_total.columns = [int(x) for x in pop_data_1980_total.columns if x != 'total'] + ['total']\n",
    "    else:\n",
    "        print \"Downloading 1990-1999 population data\"\n",
    "        pop_data_1980_total, males, females = download_1980_pop_data(pop_data_urls_1980s, other_data_dest_base)\n",
    "        \n",
    "        pop_data_1980_total.to_csv(total_filename)\n",
    "        males.to_csv(male_filename)\n",
    "        females.to_csv(female_filename)\n",
    "        \n",
    "        print \"Saved\", total_filename\n",
    "        \n",
    "    return pop_data_1980_total"
   ]
  },
  {
   "cell_type": "code",
   "execution_count": 27,
   "metadata": {
    "hidden": true
   },
   "outputs": [
    {
     "name": "stdout",
     "output_type": "stream",
     "text": [
      "Loading other_data/pop_data_1980_total.csv\n"
     ]
    }
   ],
   "source": [
    "pop_data_1980 = load_pop_data_1980()"
   ]
  },
  {
   "cell_type": "code",
   "execution_count": null,
   "metadata": {
    "hidden": true
   },
   "outputs": [],
   "source": []
  },
  {
   "cell_type": "markdown",
   "metadata": {
    "heading_collapsed": true,
    "hidden": true
   },
   "source": [
    "### <1980"
   ]
  },
  {
   "cell_type": "code",
   "execution_count": 28,
   "metadata": {
    "hidden": true
   },
   "outputs": [],
   "source": [
    "#https://www.census.gov/data/tables/time-series/demo/popest/pre-1980-national.html"
   ]
  },
  {
   "cell_type": "code",
   "execution_count": null,
   "metadata": {
    "hidden": true
   },
   "outputs": [],
   "source": []
  },
  {
   "cell_type": "markdown",
   "metadata": {
    "heading_collapsed": true,
    "hidden": true
   },
   "source": [
    "### Combine"
   ]
  },
  {
   "cell_type": "code",
   "execution_count": 29,
   "metadata": {
    "hidden": true
   },
   "outputs": [],
   "source": [
    "# Note that the \"max bucket\" varies over time, but doesn't matter for our purposes\n",
    "# See https://www.census.gov/dataviz/visualizations/055/"
   ]
  },
  {
   "cell_type": "code",
   "execution_count": 30,
   "metadata": {
    "hidden": true
   },
   "outputs": [],
   "source": [
    "dict_of_pop_data = {\n",
    "    '2010-2017': pop_data_2010,\n",
    "    '2000-2009': pop_data_2000.loc[2000:2009],\n",
    "    '1990-1999': pop_data_1990,\n",
    "    '1980-1989': pop_data_1980,\n",
    "    #'<1980': None,\n",
    "}"
   ]
  },
  {
   "cell_type": "code",
   "execution_count": 31,
   "metadata": {
    "hidden": true
   },
   "outputs": [],
   "source": [
    "pop_data = pd.concat(dict_of_pop_data.values(), axis=0)\n",
    "pop_data = pop_data.fillna(0)\n",
    "pop_data = pop_data.sort_index()\n",
    "\n",
    "clear_output() # stupid warning"
   ]
  },
  {
   "cell_type": "code",
   "execution_count": 32,
   "metadata": {
    "hidden": true
   },
   "outputs": [
    {
     "data": {
      "text/plain": [
       "<matplotlib.axes._subplots.AxesSubplot at 0x7f34a524fe50>"
      ]
     },
     "execution_count": 32,
     "metadata": {},
     "output_type": "execute_result"
    },
    {
     "data": {
      "image/png": "[encoded data removed]",
      "text/plain": [
       "<Figure size 432x288 with 1 Axes>"
      ]
     },
     "metadata": {
      "needs_background": "light"
     },
     "output_type": "display_data"
    }
   ],
   "source": [
    "# Sanity check\n",
    "pop_data['total'].plot()"
   ]
  },
  {
   "cell_type": "code",
   "execution_count": 33,
   "metadata": {
    "hidden": true
   },
   "outputs": [],
   "source": [
    "# Save\n",
    "pop_data.to_csv(os.path.join(OTHER_DATA_DEST_BASE, 'pop_data.csv'))"
   ]
  },
  {
   "cell_type": "code",
   "execution_count": null,
   "metadata": {
    "hidden": true
   },
   "outputs": [],
   "source": []
  },
  {
   "cell_type": "markdown",
   "metadata": {
    "heading_collapsed": true
   },
   "source": [
    "# Get just suicide data"
   ]
  },
  {
   "cell_type": "code",
   "execution_count": 38,
   "metadata": {
    "hidden": true
   },
   "outputs": [],
   "source": [
    "CLEAN_DATA_BASE = 'cleaned_data'"
   ]
  },
  {
   "cell_type": "code",
   "execution_count": 39,
   "metadata": {
    "hidden": true
   },
   "outputs": [],
   "source": [
    "if not os.path.exists(CLEAN_DATA_BASE):\n",
    "    os.makedirs(CLEAN_DATA_BASE)\n",
    "    print \"Created\", CLEAN_DATA_BASE"
   ]
  },
  {
   "cell_type": "code",
   "execution_count": 40,
   "metadata": {
    "hidden": true
   },
   "outputs": [],
   "source": [
    "# See Hansen and Lang (2011), \"Data\" section; or individual documentation files linked from NBER\n",
    "DEATH_VAR_MAP = {}\n",
    "SUICIDE_VAL_MAP = {}\n",
    "#for year in range(1968, 1979):\n",
    "    # ICDA-8\n",
    "    # https://www.nber.org/mortality/www.cdc.gov/nchs/data/dvs/dt78icd8.pdf\n",
    "    #DEATH_VAR_MAP[year] = 'ucr34'\n",
    "    #SUICIDE_VAL_MAP[year] = 350\n",
    "for year in range(1979, 1999):\n",
    "    # ICDA-9\n",
    "    # https://www.nber.org/mortality/1998/desc_mort1998.txt\n",
    "    DEATH_VAR_MAP[year] = 'ucr34'\n",
    "    SUICIDE_VAL_MAP[year] = 350\n",
    "for year in range(1999, 2018):\n",
    "    # ICDA-10\n",
    "    # https://www.nber.org/mortality/1999/desc_mort1999.txt\n",
    "    DEATH_VAR_MAP[year] = 'ucr39'\n",
    "    SUICIDE_VAL_MAP[year] = 40"
   ]
  },
  {
   "cell_type": "code",
   "execution_count": 41,
   "metadata": {
    "hidden": true
   },
   "outputs": [],
   "source": [
    "def get_suicide_data(death_var_map=DEATH_VAR_MAP, suicide_val_map=SUICIDE_VAL_MAP,\n",
    "                     start_year=START_YEAR, end_year=END_YEAR,\n",
    "                     raw_data_loc_base=DOWNLOAD_DEST_BASE, suicide_data_loc_base=CLEAN_DATA_BASE):\n",
    "    for year in reversed(range(start_year, end_year+1)):\n",
    "        # Check if already exists\n",
    "        new_filename = os.path.join(suicide_data_loc_base, '{0}.csv'.format(year))\n",
    "        if os.path.exists(new_filename):\n",
    "            print new_filename, \"already exists\"\n",
    "            continue\n",
    "\n",
    "        # Set appropriate variables\n",
    "        death_var = death_var_map[int(year)]\n",
    "        suicide_val = suicide_val_map[int(year)]\n",
    "        \n",
    "        # Get data\n",
    "        get_suicide_data_by_year(death_var, suicide_val, year, raw_data_loc_base, suicide_data_loc_base)"
   ]
  },
  {
   "cell_type": "code",
   "execution_count": 50,
   "metadata": {
    "hidden": true
   },
   "outputs": [],
   "source": [
    "def get_suicide_data_by_year(death_var, suicide_val, year,\n",
    "                             raw_data_loc_base=DOWNLOAD_DEST_BASE, suicide_data_loc_base=CLEAN_DATA_BASE):\n",
    "    # Check if already exists\n",
    "    new_filename = os.path.join(suicide_data_loc_base, '{0}.csv'.format(year))\n",
    "    if os.path.exists(new_filename):\n",
    "        print new_filename, \"already exists\"\n",
    "        return\n",
    "\n",
    "    # Load data\n",
    "    print \"Loading\", year\n",
    "    filename = os.path.join(raw_data_loc_base, '{0}.csv'.format(year))\n",
    "    data = pd.read_csv(filename)\n",
    "\n",
    "    # Filter to just suicides\n",
    "    suicide_data = data[data[death_var] == suicide_val]\n",
    "\n",
    "    # Extract age\n",
    "    if (year <= 2002) & (year >= 1979):    # this might work for prior to 1979 as well, but haven't checked codebooks\n",
    "        # See \"Detail Age\": https://www.nber.org/mortality/2002/mort2002.pdf\n",
    "        # above 99 label as 100\n",
    "        suicide_data.loc[(suicide_data['age'] > 100) & (suicide_data['age'] < 200), 'age'] = 100\n",
    "        # months/weeks/days/hours/minutes report as 0\n",
    "        suicide_data.loc[(suicide_data['age'] > 200) & (suicide_data['age'] < 700), 'age'] = 0\n",
    "        # drop unknowns\n",
    "        clean_suicide_data = suicide_data[suicide_data['age'] != 999]\n",
    "    elif year >= 2003:\n",
    "        # See \"Detail Age\": https://www.nber.org/mortality/2003/mort2003.pdf\n",
    "        age_in_years = (suicide_data['age'] > 1000) & (suicide_data['age'] < 2000)\n",
    "        age_zero = (suicide_data['age'] > 2000) & (suicide_data['age'] < 7000)\n",
    "        not_missing = suicide_data['age'] != 9999\n",
    "        # get age for 1+\n",
    "        suicide_data.loc[age_in_years, 'age'] -= 1000\n",
    "        # months/weeks/days/hours/minutes report as 0\n",
    "        suicide_data.loc[age_zero, 'age'] = 0\n",
    "        # above 99 label as 100\n",
    "        suicide_data.loc[(suicide_data['age'] > 100) & not_missing, 'age'] = 100\n",
    "        # drop unknowns\n",
    "        clean_suicide_data = suicide_data.loc[not_missing]\n",
    "\n",
    "    # Drop irrelevant vars\n",
    "    final_suicide_data = clean_suicide_data[['sex', 'age', 'monthdth']].copy()\n",
    "    final_suicide_data = final_suicide_data.rename(columns={'monthdth': 'month'})\n",
    "    final_suicide_data['year'] = year\n",
    "\n",
    "    # Get sex\n",
    "    # TODO: ...confirm\n",
    "    # final_suicide_data['sex'].replace(1, 'M').replace(2, 'F')\n",
    "\n",
    "    # Save data\n",
    "    final_suicide_data.to_csv(new_filename)\n",
    "    print \"Saved\", new_filename"
   ]
  },
  {
   "cell_type": "code",
   "execution_count": 51,
   "metadata": {
    "hidden": true,
    "scrolled": true
   },
   "outputs": [
    {
     "name": "stdout",
     "output_type": "stream",
     "text": [
      "cleaned_data/2017.csv already exists\n",
      "cleaned_data/2016.csv already exists\n",
      "cleaned_data/2015.csv already exists\n",
      "cleaned_data/2014.csv already exists\n",
      "cleaned_data/2013.csv already exists\n",
      "cleaned_data/2012.csv already exists\n",
      "cleaned_data/2011.csv already exists\n",
      "cleaned_data/2010.csv already exists\n",
      "cleaned_data/2009.csv already exists\n",
      "cleaned_data/2008.csv already exists\n",
      "cleaned_data/2007.csv already exists\n",
      "cleaned_data/2006.csv already exists\n",
      "cleaned_data/2005.csv already exists\n",
      "cleaned_data/2004.csv already exists\n",
      "cleaned_data/2003.csv already exists\n",
      "cleaned_data/2002.csv already exists\n",
      "cleaned_data/2001.csv already exists\n",
      "cleaned_data/2000.csv already exists\n",
      "cleaned_data/1999.csv already exists\n",
      "cleaned_data/1998.csv already exists\n",
      "cleaned_data/1997.csv already exists\n",
      "cleaned_data/1996.csv already exists\n",
      "cleaned_data/1995.csv already exists\n",
      "cleaned_data/1994.csv already exists\n",
      "cleaned_data/1993.csv already exists\n",
      "cleaned_data/1992.csv already exists\n",
      "cleaned_data/1991.csv already exists\n",
      "cleaned_data/1990.csv already exists\n",
      "cleaned_data/1989.csv already exists\n",
      "cleaned_data/1988.csv already exists\n",
      "cleaned_data/1987.csv already exists\n",
      "cleaned_data/1986.csv already exists\n",
      "cleaned_data/1985.csv already exists\n",
      "cleaned_data/1984.csv already exists\n",
      "cleaned_data/1983.csv already exists\n",
      "cleaned_data/1982.csv already exists\n",
      "cleaned_data/1981.csv already exists\n",
      "cleaned_data/1980.csv already exists\n",
      "Loading 1979\n",
      "Saved cleaned_data/1979.csv\n"
     ]
    },
    {
     "ename": "KeyError",
     "evalue": "1978",
     "output_type": "error",
     "traceback": [
      "\u001b[0;31m---------------------------------------------------------------------------\u001b[0m",
      "\u001b[0;31mKeyError\u001b[0m                                  Traceback (most recent call last)",
      "\u001b[0;32m<ipython-input-51-a8a388b22691>\u001b[0m in \u001b[0;36m<module>\u001b[0;34m()\u001b[0m\n\u001b[0;32m----> 1\u001b[0;31m \u001b[0mget_suicide_data\u001b[0m\u001b[0;34m(\u001b[0m\u001b[0;34m)\u001b[0m\u001b[0;34m\u001b[0m\u001b[0m\n\u001b[0m",
      "\u001b[0;32m<ipython-input-41-de2337c12eab>\u001b[0m in \u001b[0;36mget_suicide_data\u001b[0;34m(death_var_map, suicide_val_map, start_year, end_year, raw_data_loc_base, suicide_data_loc_base)\u001b[0m\n\u001b[1;32m     10\u001b[0m \u001b[0;34m\u001b[0m\u001b[0m\n\u001b[1;32m     11\u001b[0m         \u001b[0;31m# Set appropriate variables\u001b[0m\u001b[0;34m\u001b[0m\u001b[0;34m\u001b[0m\u001b[0m\n\u001b[0;32m---> 12\u001b[0;31m         \u001b[0mdeath_var\u001b[0m \u001b[0;34m=\u001b[0m \u001b[0mdeath_var_map\u001b[0m\u001b[0;34m[\u001b[0m\u001b[0mint\u001b[0m\u001b[0;34m(\u001b[0m\u001b[0myear\u001b[0m\u001b[0;34m)\u001b[0m\u001b[0;34m]\u001b[0m\u001b[0;34m\u001b[0m\u001b[0m\n\u001b[0m\u001b[1;32m     13\u001b[0m         \u001b[0msuicide_val\u001b[0m \u001b[0;34m=\u001b[0m \u001b[0msuicide_val_map\u001b[0m\u001b[0;34m[\u001b[0m\u001b[0mint\u001b[0m\u001b[0;34m(\u001b[0m\u001b[0myear\u001b[0m\u001b[0;34m)\u001b[0m\u001b[0;34m]\u001b[0m\u001b[0;34m\u001b[0m\u001b[0m\n\u001b[1;32m     14\u001b[0m \u001b[0;34m\u001b[0m\u001b[0m\n",
      "\u001b[0;31mKeyError\u001b[0m: 1978"
     ]
    }
   ],
   "source": [
    "get_suicide_data()"
   ]
  },
  {
   "cell_type": "code",
   "execution_count": 53,
   "metadata": {
    "hidden": true
   },
   "outputs": [
    {
     "data": {
      "text/html": [
       "<div>\n",
       "<style scoped>\n",
       "    .dataframe tbody tr th:only-of-type {\n",
       "        vertical-align: middle;\n",
       "    }\n",
       "\n",
       "    .dataframe tbody tr th {\n",
       "        vertical-align: top;\n",
       "    }\n",
       "\n",
       "    .dataframe thead th {\n",
       "        text-align: right;\n",
       "    }\n",
       "</style>\n",
       "<table border=\"1\" class=\"dataframe\">\n",
       "  <thead>\n",
       "    <tr style=\"text-align: right;\">\n",
       "      <th></th>\n",
       "      <th>sex</th>\n",
       "      <th>age</th>\n",
       "      <th>month</th>\n",
       "      <th>year</th>\n",
       "    </tr>\n",
       "  </thead>\n",
       "  <tbody>\n",
       "    <tr>\n",
       "      <th>504108</th>\n",
       "      <td>M</td>\n",
       "      <td>51</td>\n",
       "      <td>1</td>\n",
       "      <td>2017</td>\n",
       "    </tr>\n",
       "    <tr>\n",
       "      <th>22602</th>\n",
       "      <td>M</td>\n",
       "      <td>47</td>\n",
       "      <td>5</td>\n",
       "      <td>2017</td>\n",
       "    </tr>\n",
       "    <tr>\n",
       "      <th>1520143</th>\n",
       "      <td>M</td>\n",
       "      <td>19</td>\n",
       "      <td>2</td>\n",
       "      <td>2017</td>\n",
       "    </tr>\n",
       "    <tr>\n",
       "      <th>2455331</th>\n",
       "      <td>F</td>\n",
       "      <td>22</td>\n",
       "      <td>7</td>\n",
       "      <td>2017</td>\n",
       "    </tr>\n",
       "    <tr>\n",
       "      <th>2442728</th>\n",
       "      <td>M</td>\n",
       "      <td>47</td>\n",
       "      <td>7</td>\n",
       "      <td>2017</td>\n",
       "    </tr>\n",
       "  </tbody>\n",
       "</table>\n",
       "</div>"
      ],
      "text/plain": [
       "        sex  age  month  year\n",
       "504108    M   51      1  2017\n",
       "22602     M   47      5  2017\n",
       "1520143   M   19      2  2017\n",
       "2455331   F   22      7  2017\n",
       "2442728   M   47      7  2017"
      ]
     },
     "execution_count": 53,
     "metadata": {},
     "output_type": "execute_result"
    }
   ],
   "source": [
    "# example\n",
    "df = pd.read_csv('cleaned_data/2017.csv', index_col=0)\n",
    "df.sample(n=5)"
   ]
  },
  {
   "cell_type": "code",
   "execution_count": 59,
   "metadata": {
    "hidden": true
   },
   "outputs": [
    {
     "data": {
      "text/html": [
       "<div>\n",
       "<style scoped>\n",
       "    .dataframe tbody tr th:only-of-type {\n",
       "        vertical-align: middle;\n",
       "    }\n",
       "\n",
       "    .dataframe tbody tr th {\n",
       "        vertical-align: top;\n",
       "    }\n",
       "\n",
       "    .dataframe thead th {\n",
       "        text-align: right;\n",
       "    }\n",
       "</style>\n",
       "<table border=\"1\" class=\"dataframe\">\n",
       "  <thead>\n",
       "    <tr style=\"text-align: right;\">\n",
       "      <th></th>\n",
       "      <th>sex</th>\n",
       "      <th>age</th>\n",
       "      <th>month</th>\n",
       "      <th>year</th>\n",
       "    </tr>\n",
       "  </thead>\n",
       "  <tbody>\n",
       "    <tr>\n",
       "      <th>1584499</th>\n",
       "      <td>1</td>\n",
       "      <td>81</td>\n",
       "      <td>10</td>\n",
       "      <td>1992</td>\n",
       "    </tr>\n",
       "    <tr>\n",
       "      <th>176451</th>\n",
       "      <td>1</td>\n",
       "      <td>50</td>\n",
       "      <td>1</td>\n",
       "      <td>1992</td>\n",
       "    </tr>\n",
       "    <tr>\n",
       "      <th>1180045</th>\n",
       "      <td>1</td>\n",
       "      <td>41</td>\n",
       "      <td>5</td>\n",
       "      <td>1992</td>\n",
       "    </tr>\n",
       "    <tr>\n",
       "      <th>197058</th>\n",
       "      <td>1</td>\n",
       "      <td>64</td>\n",
       "      <td>6</td>\n",
       "      <td>1992</td>\n",
       "    </tr>\n",
       "    <tr>\n",
       "      <th>365806</th>\n",
       "      <td>1</td>\n",
       "      <td>22</td>\n",
       "      <td>1</td>\n",
       "      <td>1992</td>\n",
       "    </tr>\n",
       "  </tbody>\n",
       "</table>\n",
       "</div>"
      ],
      "text/plain": [
       "         sex  age  month  year\n",
       "1584499    1   81     10  1992\n",
       "176451     1   50      1  1992\n",
       "1180045    1   41      5  1992\n",
       "197058     1   64      6  1992\n",
       "365806     1   22      1  1992"
      ]
     },
     "execution_count": 59,
     "metadata": {},
     "output_type": "execute_result"
    }
   ],
   "source": [
    "# example\n",
    "df = pd.read_csv('cleaned_data/1992.csv', index_col=0)\n",
    "df.sample(n=5)"
   ]
  },
  {
   "cell_type": "code",
   "execution_count": null,
   "metadata": {
    "hidden": true
   },
   "outputs": [],
   "source": []
  },
  {
   "cell_type": "markdown",
   "metadata": {
    "heading_collapsed": true
   },
   "source": [
    "# Get deaths of despair "
   ]
  },
  {
   "cell_type": "code",
   "execution_count": 41,
   "metadata": {
    "hidden": true
   },
   "outputs": [],
   "source": [
    "# TODO"
   ]
  },
  {
   "cell_type": "code",
   "execution_count": null,
   "metadata": {
    "hidden": true
   },
   "outputs": [],
   "source": [
    "ICD_VAR_MAP = {}\n",
    "# ICD 9 -- DOUBLE CHECK START AND END DATE, RAFKIN CONFLICTS\n",
    "for i in range(1979, 2000):\n",
    "    ICD_VAR_MAP[i] = 'ucod'\n",
    "# ICD 10 -- DOUBLE CHECK START AND END DATE\n",
    "for i in range(2000, 2018):\n",
    "    ICD_VAR_MAP[i] = 'ucod'"
   ]
  },
  {
   "cell_type": "code",
   "execution_count": null,
   "metadata": {
    "hidden": true
   },
   "outputs": [],
   "source": [
    "# ICD 9\n",
    "ICD_9_MAP = {}\n",
    "for i in range(1400, 2090):\n",
    "    ICD_9_MAP[i] = 'Cancer'\n",
    "for i in range(3900, 4300):\n",
    "    ICD_9_MAP[i] = 'Heart disease'\n",
    "for i in range(8000, 10000):\n",
    "    if i not in range(570, 580) + range(8500, 8610) + range(9500, 9600) + range(9800, 9810):\n",
    "        ICD_9_MAP[i] = 'Injuries'\n",
    "# Despair\n",
    "for i in range(570, 580):\n",
    "    ICD_9_MAP[i] = 'Despair'\n",
    "for i in range(8500, 8610):\n",
    "    ICD_9_MAP[i] = 'Despair'\n",
    "for i in range(9500, 9600):\n",
    "    ICD_9_MAP[i] = 'Despair'\n",
    "for i in range(9800, 9810):\n",
    "    ICD_9_MAP[i] = 'Despair'\n",
    "# Other\n",
    "for i in range(1, 10001):\n",
    "    if i not in ICD_9_MAP:\n",
    "        ICD_9_MAP[i] = 'Other diseases'"
   ]
  },
  {
   "cell_type": "code",
   "execution_count": null,
   "metadata": {
    "hidden": true
   },
   "outputs": [],
   "source": [
    "# Source:\n",
    "# Deaths of despair: https://www.brookings.edu/wp-content/uploads/2017/03/casedeaton_sp17_dataappendix.pdf\n",
    "# \"Injuries\" from Novosad-Rafkin fwiw\n",
    "# ICD 10\n",
    "ICD_10_MAP = {}\n",
    "# Cancer\n",
    "for i in range(0, 980):\n",
    "    ICD_10_MAP['C' + str(i)] = 'Cancer'\n",
    "    ICD_10_MAP['C0' + str(i)] = 'Cancer'\n",
    "    ICD_10_MAP['C00' + str(i)] = 'Cancer'\n",
    "# Heart disease -- todo: not sure if I'm actually coding this correctly with all the silly zeros...\n",
    "for i in range(0, 100):\n",
    "    ICD_10_MAP['I' + str(i)] = 'Heart disease'\n",
    "    ICD_10_MAP['I0' + str(i)] = 'Heart disease'\n",
    "    ICD_10_MAP['I00' + str(i)] = 'Heart disease'\n",
    "for i in range(110, 120):\n",
    "    ICD_10_MAP['I' + str(i)] = 'Heart disease'\n",
    "for i in range(130, 140):\n",
    "    ICD_10_MAP['I' + str(i)] = 'Heart disease'\n",
    "for i in range(200, 520):\n",
    "    ICD_10_MAP['I' + str(i)] = 'Heart disease'\n",
    "# Injuries\n",
    "for i in range(0, 1001):\n",
    "    for letter in ['V', 'W', 'X', 'Y']:\n",
    "        if letter + str(i) not in ICD_10_MAP:\n",
    "            ICD_10_MAP[letter + str(i)] = 'Injuries'\n",
    "        if letter + '0' + str(i) not in ICD_10_MAP:\n",
    "            ICD_10_MAP[letter + '0' + str(i)] = 'Injuries'\n",
    "        if letter + '00' + str(i) not in ICD_10_MAP:\n",
    "            ICD_10_MAP[letter + '00' + str(i)] = 'Injuries'\n",
    "# Deaths of despair\n",
    "# Poisoning\n",
    "for i in range(400, 460):\n",
    "    ICD_10_MAP['X' + str(i)] = 'Poisoning'\n",
    "for i in range(100, 150):\n",
    "    ICD_10_MAP['Y' + str(i)] = 'Poisoning'\n",
    "for i in range(450, 460):\n",
    "    ICD_10_MAP['Y' + str(i)] = 'Poisoning'\n",
    "for i in range(470, 480):\n",
    "    ICD_10_MAP['Y' + str(i)] = 'Poisoning'\n",
    "for i in range(490, 500):\n",
    "    ICD_10_MAP['Y' + str(i)] = 'Poisoning'\n",
    "# Suicide\n",
    "for i in range(600, 850):\n",
    "    ICD_10_MAP['X' + str(i)] = 'Suicide'\n",
    "for i in range(870, 880):\n",
    "    ICD_10_MAP['Y' + str(i)] = 'Suicide'\n",
    "# Liver disease\n",
    "for i in range(700, 710):\n",
    "    ICD_10_MAP['K' + str(i)] = 'Liver disease'\n",
    "for i in range(730, 750):\n",
    "    ICD_10_MAP['K' + str(i)] = 'Liver disease'"
   ]
  },
  {
   "cell_type": "code",
   "execution_count": null,
   "metadata": {
    "hidden": true
   },
   "outputs": [],
   "source": [
    "test_filename1992 = os.path.join(DOWNLOAD_DEST_BASE, '1992.csv')\n",
    "test_data1992 =  pd.read_csv(test_filename1992)"
   ]
  },
  {
   "cell_type": "code",
   "execution_count": null,
   "metadata": {
    "hidden": true
   },
   "outputs": [],
   "source": [
    "test_filename2015 = os.path.join(DOWNLOAD_DEST_BASE, '2015.csv')\n",
    "test_data2015 = pd.read_csv(test_filename2015)"
   ]
  },
  {
   "cell_type": "code",
   "execution_count": null,
   "metadata": {
    "hidden": true
   },
   "outputs": [],
   "source": []
  },
  {
   "cell_type": "markdown",
   "metadata": {},
   "source": [
    "# Group by age and compute suicide rates"
   ]
  },
  {
   "cell_type": "markdown",
   "metadata": {
    "heading_collapsed": true
   },
   "source": [
    "### Stack suicide data"
   ]
  },
  {
   "cell_type": "code",
   "execution_count": 113,
   "metadata": {
    "hidden": true
   },
   "outputs": [],
   "source": [
    "START_YEAR = 1980\n",
    "# 1980 not 1979 until we get population data for then"
   ]
  },
  {
   "cell_type": "code",
   "execution_count": 114,
   "metadata": {
    "hidden": true
   },
   "outputs": [],
   "source": [
    "def stack_suicide_data(start_year=START_YEAR, end_year=END_YEAR, suicide_data_loc_base=CLEAN_DATA_BASE):\n",
    "    data = {}\n",
    "    for year in range(start_year, end_year+1):\n",
    "        filename = os.path.join(suicide_data_loc_base, '{0}.csv'.format(year))\n",
    "        data[year] = pd.read_csv(filename, index_col=0)\n",
    "        \n",
    "    stacked_data = pd.concat(data.values(), axis=0)\n",
    "    return stacked_data, data"
   ]
  },
  {
   "cell_type": "code",
   "execution_count": 115,
   "metadata": {
    "hidden": true
   },
   "outputs": [],
   "source": [
    "suicide_data, tmp = stack_suicide_data()"
   ]
  },
  {
   "cell_type": "code",
   "execution_count": 116,
   "metadata": {
    "hidden": true
   },
   "outputs": [
    {
     "data": {
      "text/html": [
       "<div>\n",
       "<style scoped>\n",
       "    .dataframe tbody tr th:only-of-type {\n",
       "        vertical-align: middle;\n",
       "    }\n",
       "\n",
       "    .dataframe tbody tr th {\n",
       "        vertical-align: top;\n",
       "    }\n",
       "\n",
       "    .dataframe thead th {\n",
       "        text-align: right;\n",
       "    }\n",
       "</style>\n",
       "<table border=\"1\" class=\"dataframe\">\n",
       "  <thead>\n",
       "    <tr style=\"text-align: right;\">\n",
       "      <th></th>\n",
       "      <th>sex</th>\n",
       "      <th>age</th>\n",
       "      <th>month</th>\n",
       "      <th>year</th>\n",
       "    </tr>\n",
       "  </thead>\n",
       "  <tbody>\n",
       "    <tr>\n",
       "      <th>1012458</th>\n",
       "      <td>1</td>\n",
       "      <td>24</td>\n",
       "      <td>11</td>\n",
       "      <td>1981</td>\n",
       "    </tr>\n",
       "    <tr>\n",
       "      <th>2289104</th>\n",
       "      <td>M</td>\n",
       "      <td>27</td>\n",
       "      <td>8</td>\n",
       "      <td>2014</td>\n",
       "    </tr>\n",
       "    <tr>\n",
       "      <th>841213</th>\n",
       "      <td>M</td>\n",
       "      <td>47</td>\n",
       "      <td>12</td>\n",
       "      <td>2011</td>\n",
       "    </tr>\n",
       "    <tr>\n",
       "      <th>95196</th>\n",
       "      <td>M</td>\n",
       "      <td>56</td>\n",
       "      <td>12</td>\n",
       "      <td>2007</td>\n",
       "    </tr>\n",
       "    <tr>\n",
       "      <th>2290884</th>\n",
       "      <td>M</td>\n",
       "      <td>50</td>\n",
       "      <td>9</td>\n",
       "      <td>2013</td>\n",
       "    </tr>\n",
       "  </tbody>\n",
       "</table>\n",
       "</div>"
      ],
      "text/plain": [
       "        sex  age  month  year\n",
       "1012458   1   24     11  1981\n",
       "2289104   M   27      8  2014\n",
       "841213    M   47     12  2011\n",
       "95196     M   56     12  2007\n",
       "2290884   M   50      9  2013"
      ]
     },
     "execution_count": 116,
     "metadata": {},
     "output_type": "execute_result"
    }
   ],
   "source": [
    "suicide_data.sample(n=5)"
   ]
  },
  {
   "cell_type": "code",
   "execution_count": 117,
   "metadata": {
    "hidden": true
   },
   "outputs": [
    {
     "data": {
      "text/plain": [
       "<matplotlib.axes._subplots.AxesSubplot at 0x7f357091d5d0>"
      ]
     },
     "execution_count": 117,
     "metadata": {},
     "output_type": "execute_result"
    },
    {
     "data": {
      "image/png": "[encoded data removed]",
      "text/plain": [
       "<Figure size 432x288 with 1 Axes>"
      ]
     },
     "metadata": {
      "needs_background": "light"
     },
     "output_type": "display_data"
    }
   ],
   "source": [
    "# jfc\n",
    "suicide_data['year'].value_counts().sort_index().plot()"
   ]
  },
  {
   "cell_type": "code",
   "execution_count": null,
   "metadata": {
    "hidden": true
   },
   "outputs": [],
   "source": []
  },
  {
   "cell_type": "markdown",
   "metadata": {
    "heading_collapsed": true
   },
   "source": [
    "### Group suicide data by age"
   ]
  },
  {
   "cell_type": "code",
   "execution_count": 479,
   "metadata": {
    "hidden": true
   },
   "outputs": [],
   "source": [
    "AGE_GROUPS = {\n",
    "    '<14': range(0, 14),\n",
    "    '14-18': range(14, 19),\n",
    "    '19-25': range(19, 26),\n",
    "    '>25': range(26, 101)\n",
    "}\n",
    "\n",
    "# alternative 1:\n",
    "#AGE_GROUPS = {\n",
    "#    '<18': range(0, 18),\n",
    "#    '>=18': range(18, 101),\n",
    "#}\n",
    "\n",
    "# alternative 2:\n",
    "#AGE_GROUPS = {\n",
    "#    '<18': range(0, 18),\n",
    "#    '18-25': range(18, 26),\n",
    "#    '26+': range(26, 101)\n",
    "#}\n",
    "\n",
    "# alternative 3:\n",
    "#AGE_GROUPS = {\n",
    "#    '<6': range(6),\n",
    "#    '07': [7],\n",
    "#    '08': [8],\n",
    "#    '09': [9],\n",
    "#    '>60': range(61, 101)\n",
    "#}\n",
    "#for i in range(10, 61):\n",
    "#    AGE_GROUPS[str(i)] = [i]"
   ]
  },
  {
   "cell_type": "code",
   "execution_count": 480,
   "metadata": {
    "hidden": true
   },
   "outputs": [],
   "source": [
    "def get_age_order(age_groups):\n",
    "    first_val = [k for k in age_groups if '<' in k]\n",
    "    last_val = [k for k in age_groups if '>' in k]\n",
    "    other = [k for k in age_groups if k not in first_val and k not in last_val]\n",
    "    other = sorted(other)\n",
    "    return first_val + other + last_val\n",
    "# should output ['<15', '15-18', '19-25', '>25']\n",
    "GROUP_ORDER = get_age_order(AGE_GROUPS)"
   ]
  },
  {
   "cell_type": "code",
   "execution_count": 481,
   "metadata": {
    "hidden": true
   },
   "outputs": [],
   "source": [
    "def get_age_groups_map(age_groups):\n",
    "    return {\n",
    "        v: k\n",
    "        for k in age_groups\n",
    "        for v in age_groups[k]\n",
    "    }\n",
    "AGE_GROUPS_MAP = get_age_groups_map(AGE_GROUPS)"
   ]
  },
  {
   "cell_type": "code",
   "execution_count": 482,
   "metadata": {
    "hidden": true,
    "scrolled": true
   },
   "outputs": [],
   "source": [
    "suicide_data['age_group'] = suicide_data['age'].map(AGE_GROUPS_MAP)"
   ]
  },
  {
   "cell_type": "code",
   "execution_count": 483,
   "metadata": {
    "hidden": true
   },
   "outputs": [
    {
     "data": {
      "text/plain": [
       "<matplotlib.axes._subplots.AxesSubplot at 0x7f3498c1d8d0>"
      ]
     },
     "execution_count": 483,
     "metadata": {},
     "output_type": "execute_result"
    },
    {
     "data": {
      "image/png": "[encoded data removed]",
      "text/plain": [
       "<Figure size 432x288 with 1 Axes>"
      ]
     },
     "metadata": {
      "needs_background": "light"
     },
     "output_type": "display_data"
    }
   ],
   "source": [
    "# :(((((((((((((\n",
    "tmp = pd.pivot_table(data=suicide_data[['age_group', 'year']], index='year', columns='age_group', aggfunc=len)\n",
    "(tmp/tmp.loc[1980]).plot()"
   ]
  },
  {
   "cell_type": "code",
   "execution_count": 484,
   "metadata": {
    "hidden": true
   },
   "outputs": [],
   "source": [
    "suicide_counts_by_age_group_by_monthyear = (\n",
    "    suicide_data[['year', 'month', 'age_group']]\n",
    "    .groupby(['year', 'month', 'age_group'])\n",
    "    .apply(len)\n",
    "    .unstack()\n",
    "    .fillna(0)\n",
    ")"
   ]
  },
  {
   "cell_type": "code",
   "execution_count": 485,
   "metadata": {
    "hidden": true
   },
   "outputs": [
    {
     "data": {
      "text/html": [
       "<div>\n",
       "<style scoped>\n",
       "    .dataframe tbody tr th:only-of-type {\n",
       "        vertical-align: middle;\n",
       "    }\n",
       "\n",
       "    .dataframe tbody tr th {\n",
       "        vertical-align: top;\n",
       "    }\n",
       "\n",
       "    .dataframe thead th {\n",
       "        text-align: right;\n",
       "    }\n",
       "</style>\n",
       "<table border=\"1\" class=\"dataframe\">\n",
       "  <thead>\n",
       "    <tr style=\"text-align: right;\">\n",
       "      <th></th>\n",
       "      <th>age_group</th>\n",
       "      <th>14-18</th>\n",
       "      <th>19-25</th>\n",
       "      <th>&lt;14</th>\n",
       "      <th>&gt;25</th>\n",
       "    </tr>\n",
       "    <tr>\n",
       "      <th>year</th>\n",
       "      <th>month</th>\n",
       "      <th></th>\n",
       "      <th></th>\n",
       "      <th></th>\n",
       "      <th></th>\n",
       "    </tr>\n",
       "  </thead>\n",
       "  <tbody>\n",
       "    <tr>\n",
       "      <th rowspan=\"5\" valign=\"top\">1980</th>\n",
       "      <th>1</th>\n",
       "      <td>114.0</td>\n",
       "      <td>377.0</td>\n",
       "      <td>7.0</td>\n",
       "      <td>1650.0</td>\n",
       "    </tr>\n",
       "    <tr>\n",
       "      <th>2</th>\n",
       "      <td>102.0</td>\n",
       "      <td>376.0</td>\n",
       "      <td>8.0</td>\n",
       "      <td>1570.0</td>\n",
       "    </tr>\n",
       "    <tr>\n",
       "      <th>3</th>\n",
       "      <td>112.0</td>\n",
       "      <td>401.0</td>\n",
       "      <td>10.0</td>\n",
       "      <td>1772.0</td>\n",
       "    </tr>\n",
       "    <tr>\n",
       "      <th>4</th>\n",
       "      <td>86.0</td>\n",
       "      <td>391.0</td>\n",
       "      <td>9.0</td>\n",
       "      <td>1848.0</td>\n",
       "    </tr>\n",
       "    <tr>\n",
       "      <th>5</th>\n",
       "      <td>103.0</td>\n",
       "      <td>367.0</td>\n",
       "      <td>4.0</td>\n",
       "      <td>1846.0</td>\n",
       "    </tr>\n",
       "  </tbody>\n",
       "</table>\n",
       "</div>"
      ],
      "text/plain": [
       "age_group   14-18  19-25   <14     >25\n",
       "year month                            \n",
       "1980 1      114.0  377.0   7.0  1650.0\n",
       "     2      102.0  376.0   8.0  1570.0\n",
       "     3      112.0  401.0  10.0  1772.0\n",
       "     4       86.0  391.0   9.0  1848.0\n",
       "     5      103.0  367.0   4.0  1846.0"
      ]
     },
     "execution_count": 485,
     "metadata": {},
     "output_type": "execute_result"
    }
   ],
   "source": [
    "# preview\n",
    "suicide_counts_by_age_group_by_monthyear.head()"
   ]
  },
  {
   "cell_type": "code",
   "execution_count": null,
   "metadata": {
    "hidden": true
   },
   "outputs": [],
   "source": []
  },
  {
   "cell_type": "markdown",
   "metadata": {
    "heading_collapsed": true
   },
   "source": [
    "### Group population data by age"
   ]
  },
  {
   "cell_type": "code",
   "execution_count": 486,
   "metadata": {
    "hidden": true
   },
   "outputs": [],
   "source": [
    "pop_by_group = pd.DataFrame()\n",
    "for group_k, group_v in AGE_GROUPS.iteritems():\n",
    "    pop_by_group[group_k] = pop_data[group_v].sum(1)\n",
    "pop_by_group = pop_by_group[GROUP_ORDER]\n",
    "pop_by_group.index.name = 'year'"
   ]
  },
  {
   "cell_type": "code",
   "execution_count": 487,
   "metadata": {
    "hidden": true
   },
   "outputs": [],
   "source": [
    "blank_df = pd.DataFrame(index=suicide_counts_by_age_group_by_monthyear.index)\n",
    "pop_by_group_by_monthyear = blank_df.join(pop_by_group)"
   ]
  },
  {
   "cell_type": "code",
   "execution_count": 488,
   "metadata": {
    "hidden": true
   },
   "outputs": [
    {
     "data": {
      "text/html": [
       "<div>\n",
       "<style scoped>\n",
       "    .dataframe tbody tr th:only-of-type {\n",
       "        vertical-align: middle;\n",
       "    }\n",
       "\n",
       "    .dataframe tbody tr th {\n",
       "        vertical-align: top;\n",
       "    }\n",
       "\n",
       "    .dataframe thead th {\n",
       "        text-align: right;\n",
       "    }\n",
       "</style>\n",
       "<table border=\"1\" class=\"dataframe\">\n",
       "  <thead>\n",
       "    <tr style=\"text-align: right;\">\n",
       "      <th></th>\n",
       "      <th></th>\n",
       "      <th>&lt;14</th>\n",
       "      <th>14-18</th>\n",
       "      <th>19-25</th>\n",
       "      <th>&gt;25</th>\n",
       "    </tr>\n",
       "    <tr>\n",
       "      <th>year</th>\n",
       "      <th>month</th>\n",
       "      <th></th>\n",
       "      <th></th>\n",
       "      <th></th>\n",
       "      <th></th>\n",
       "    </tr>\n",
       "  </thead>\n",
       "  <tbody>\n",
       "    <tr>\n",
       "      <th rowspan=\"5\" valign=\"top\">1980</th>\n",
       "      <th>1</th>\n",
       "      <td>47540375.0</td>\n",
       "      <td>20372913.0</td>\n",
       "      <td>30006209.0</td>\n",
       "      <td>129305184.0</td>\n",
       "    </tr>\n",
       "    <tr>\n",
       "      <th>2</th>\n",
       "      <td>47540375.0</td>\n",
       "      <td>20372913.0</td>\n",
       "      <td>30006209.0</td>\n",
       "      <td>129305184.0</td>\n",
       "    </tr>\n",
       "    <tr>\n",
       "      <th>3</th>\n",
       "      <td>47540375.0</td>\n",
       "      <td>20372913.0</td>\n",
       "      <td>30006209.0</td>\n",
       "      <td>129305184.0</td>\n",
       "    </tr>\n",
       "    <tr>\n",
       "      <th>4</th>\n",
       "      <td>47540375.0</td>\n",
       "      <td>20372913.0</td>\n",
       "      <td>30006209.0</td>\n",
       "      <td>129305184.0</td>\n",
       "    </tr>\n",
       "    <tr>\n",
       "      <th>5</th>\n",
       "      <td>47540375.0</td>\n",
       "      <td>20372913.0</td>\n",
       "      <td>30006209.0</td>\n",
       "      <td>129305184.0</td>\n",
       "    </tr>\n",
       "  </tbody>\n",
       "</table>\n",
       "</div>"
      ],
      "text/plain": [
       "                   <14       14-18       19-25          >25\n",
       "year month                                                 \n",
       "1980 1      47540375.0  20372913.0  30006209.0  129305184.0\n",
       "     2      47540375.0  20372913.0  30006209.0  129305184.0\n",
       "     3      47540375.0  20372913.0  30006209.0  129305184.0\n",
       "     4      47540375.0  20372913.0  30006209.0  129305184.0\n",
       "     5      47540375.0  20372913.0  30006209.0  129305184.0"
      ]
     },
     "execution_count": 488,
     "metadata": {},
     "output_type": "execute_result"
    }
   ],
   "source": [
    "# preview\n",
    "pop_by_group_by_monthyear.head()"
   ]
  },
  {
   "cell_type": "code",
   "execution_count": 489,
   "metadata": {
    "hidden": true,
    "scrolled": true
   },
   "outputs": [
    {
     "data": {
      "text/plain": [
       "<matplotlib.axes._subplots.AxesSubplot at 0x7f3498d20490>"
      ]
     },
     "execution_count": 489,
     "metadata": {},
     "output_type": "execute_result"
    },
    {
     "data": {
      "image/png": "[encoded data removed]",
      "text/plain": [
       "<Figure size 432x288 with 1 Axes>"
      ]
     },
     "metadata": {
      "needs_background": "light"
     },
     "output_type": "display_data"
    }
   ],
   "source": [
    "# preview\n",
    "tmp_index = [pd.datetime(x[0], x[1], 1) for x in pop_by_group_by_monthyear.index]\n",
    "tmp = pop_by_group_by_monthyear.copy()\n",
    "tmp.index = tmp_index\n",
    "tmp[['<14']].plot()"
   ]
  },
  {
   "cell_type": "code",
   "execution_count": 490,
   "metadata": {
    "hidden": true
   },
   "outputs": [
    {
     "data": {
      "text/plain": [
       "<matplotlib.axes._subplots.AxesSubplot at 0x7f34992a7d10>"
      ]
     },
     "execution_count": 490,
     "metadata": {},
     "output_type": "execute_result"
    },
    {
     "data": {
      "image/png": "[encoded data removed]",
      "text/plain": [
       "<Figure size 432x288 with 1 Axes>"
      ]
     },
     "metadata": {
      "needs_background": "light"
     },
     "output_type": "display_data"
    }
   ],
   "source": [
    "# proportion trends\n",
    "age_group_shares = tmp.divide(tmp.sum(1), axis=0)\n",
    "age_group_shares.plot()"
   ]
  },
  {
   "cell_type": "code",
   "execution_count": 492,
   "metadata": {
    "hidden": true
   },
   "outputs": [
    {
     "data": {
      "text/plain": [
       "<matplotlib.axes._subplots.AxesSubplot at 0x7f3498a3cd90>"
      ]
     },
     "execution_count": 492,
     "metadata": {},
     "output_type": "execute_result"
    },
    {
     "data": {
      "image/png": "[encoded data removed]",
      "text/plain": [
       "<Figure size 432x288 with 1 Axes>"
      ]
     },
     "metadata": {
      "needs_background": "light"
     },
     "output_type": "display_data"
    }
   ],
   "source": [
    "age_group_shares['14-18'].plot()"
   ]
  },
  {
   "cell_type": "code",
   "execution_count": null,
   "metadata": {
    "hidden": true
   },
   "outputs": [],
   "source": []
  },
  {
   "cell_type": "markdown",
   "metadata": {},
   "source": [
    "### Normalize suicide data by population data"
   ]
  },
  {
   "cell_type": "code",
   "execution_count": 493,
   "metadata": {
    "scrolled": true
   },
   "outputs": [],
   "source": [
    "# Get data by month-year\n",
    "suicide_rate_by_monthyear = suicide_counts_by_age_group_by_monthyear/pop_by_group_by_monthyear\n",
    "\n",
    "raw_suicide_rate_per100k_annualized_by_monthyear = suicide_rate_by_monthyear[GROUP_ORDER]*12*100000"
   ]
  },
  {
   "cell_type": "code",
   "execution_count": 494,
   "metadata": {},
   "outputs": [],
   "source": [
    "new_index = [\n",
    "    pd.datetime(x[0], x[1], 1) \n",
    "    for x \n",
    "    in raw_suicide_rate_per100k_annualized_by_monthyear.index\n",
    "]\n",
    "suicide_rate_per100k_annualized_by_monthyear = raw_suicide_rate_per100k_annualized_by_monthyear.copy()\n",
    "suicide_rate_per100k_annualized_by_monthyear.index = new_index"
   ]
  },
  {
   "cell_type": "code",
   "execution_count": 496,
   "metadata": {},
   "outputs": [
    {
     "data": {
      "text/plain": [
       "<matplotlib.axes._subplots.AxesSubplot at 0x7f3498667450>"
      ]
     },
     "execution_count": 496,
     "metadata": {},
     "output_type": "execute_result"
    },
    {
     "data": {
      "image/png": "[encoded data removed]",
      "text/plain": [
       "<Figure size 432x288 with 1 Axes>"
      ]
     },
     "metadata": {
      "needs_background": "light"
     },
     "output_type": "display_data"
    }
   ],
   "source": [
    "suicide_rate_per100k_annualized_by_monthyear['<14'].plot()"
   ]
  },
  {
   "cell_type": "markdown",
   "metadata": {
    "heading_collapsed": true
   },
   "source": [
    "### Group by time unit"
   ]
  },
  {
   "cell_type": "code",
   "execution_count": 497,
   "metadata": {
    "hidden": true
   },
   "outputs": [],
   "source": [
    "tmp = raw_suicide_rate_per100k_annualized_by_monthyear.reset_index()"
   ]
  },
  {
   "cell_type": "code",
   "execution_count": 498,
   "metadata": {
    "hidden": true
   },
   "outputs": [
    {
     "data": {
      "text/html": [
       "<div>\n",
       "<style scoped>\n",
       "    .dataframe tbody tr th:only-of-type {\n",
       "        vertical-align: middle;\n",
       "    }\n",
       "\n",
       "    .dataframe tbody tr th {\n",
       "        vertical-align: top;\n",
       "    }\n",
       "\n",
       "    .dataframe thead th {\n",
       "        text-align: right;\n",
       "    }\n",
       "</style>\n",
       "<table border=\"1\" class=\"dataframe\">\n",
       "  <thead>\n",
       "    <tr style=\"text-align: right;\">\n",
       "      <th></th>\n",
       "      <th>&lt;14</th>\n",
       "      <th>14-18</th>\n",
       "      <th>19-25</th>\n",
       "      <th>&gt;25</th>\n",
       "    </tr>\n",
       "    <tr>\n",
       "      <th>month</th>\n",
       "      <th></th>\n",
       "      <th></th>\n",
       "      <th></th>\n",
       "      <th></th>\n",
       "    </tr>\n",
       "  </thead>\n",
       "  <tbody>\n",
       "    <tr>\n",
       "      <th>1</th>\n",
       "      <td>0.312700</td>\n",
       "      <td>8.216491</td>\n",
       "      <td>14.341247</td>\n",
       "      <td>15.720151</td>\n",
       "    </tr>\n",
       "    <tr>\n",
       "      <th>2</th>\n",
       "      <td>0.299155</td>\n",
       "      <td>7.396194</td>\n",
       "      <td>12.788402</td>\n",
       "      <td>14.414260</td>\n",
       "    </tr>\n",
       "    <tr>\n",
       "      <th>3</th>\n",
       "      <td>0.335024</td>\n",
       "      <td>7.985141</td>\n",
       "      <td>14.361181</td>\n",
       "      <td>16.483837</td>\n",
       "    </tr>\n",
       "    <tr>\n",
       "      <th>4</th>\n",
       "      <td>0.300675</td>\n",
       "      <td>7.763719</td>\n",
       "      <td>14.093155</td>\n",
       "      <td>16.239275</td>\n",
       "    </tr>\n",
       "    <tr>\n",
       "      <th>5</th>\n",
       "      <td>0.295646</td>\n",
       "      <td>7.627150</td>\n",
       "      <td>14.330608</td>\n",
       "      <td>16.784793</td>\n",
       "    </tr>\n",
       "  </tbody>\n",
       "</table>\n",
       "</div>"
      ],
      "text/plain": [
       "            <14     14-18      19-25        >25\n",
       "month                                          \n",
       "1      0.312700  8.216491  14.341247  15.720151\n",
       "2      0.299155  7.396194  12.788402  14.414260\n",
       "3      0.335024  7.985141  14.361181  16.483837\n",
       "4      0.300675  7.763719  14.093155  16.239275\n",
       "5      0.295646  7.627150  14.330608  16.784793"
      ]
     },
     "execution_count": 498,
     "metadata": {},
     "output_type": "execute_result"
    }
   ],
   "source": [
    "# Get by month\n",
    "suicide_rate_per100k_annualized_by_month = tmp.groupby('month').mean()[GROUP_ORDER]\n",
    "# preview\n",
    "suicide_rate_per100k_annualized_by_month.head()"
   ]
  },
  {
   "cell_type": "code",
   "execution_count": 499,
   "metadata": {
    "hidden": true
   },
   "outputs": [
    {
     "data": {
      "text/plain": [
       "<matplotlib.axes._subplots.AxesSubplot at 0x7f34986dae90>"
      ]
     },
     "execution_count": 499,
     "metadata": {},
     "output_type": "execute_result"
    },
    {
     "data": {
      "image/png": "[encoded data removed]",
      "text/plain": [
       "<Figure size 432x288 with 1 Axes>"
      ]
     },
     "metadata": {
      "needs_background": "light"
     },
     "output_type": "display_data"
    }
   ],
   "source": [
    "# Get by year\n",
    "suicide_rate_per100k_by_year = tmp.groupby('year').sum()[GROUP_ORDER]/12\n",
    "# preview\n",
    "suicide_rate_per100k_by_year.plot(title='Suicide rate per 100k by year')"
   ]
  },
  {
   "cell_type": "code",
   "execution_count": null,
   "metadata": {
    "hidden": true
   },
   "outputs": [],
   "source": []
  },
  {
   "cell_type": "markdown",
   "metadata": {},
   "source": [
    "# Plotting rates"
   ]
  },
  {
   "cell_type": "markdown",
   "metadata": {},
   "source": [
    "### Setup"
   ]
  },
  {
   "cell_type": "code",
   "execution_count": 500,
   "metadata": {},
   "outputs": [],
   "source": [
    "year_range_str = ', ' + str(START_YEAR) + '-' + str(END_YEAR)"
   ]
  },
  {
   "cell_type": "code",
   "execution_count": 501,
   "metadata": {},
   "outputs": [],
   "source": [
    "COLORS = [\"#9b59b6\", \"#3498db\", \"#95a5a6\", \"#e74c3c\", \"#34495e\", \"#2ecc71\"]"
   ]
  },
  {
   "cell_type": "code",
   "execution_count": 502,
   "metadata": {},
   "outputs": [],
   "source": [
    "months_map = {\n",
    "    1: 'Jan.',\n",
    "    2: 'Feb.',\n",
    "    3: 'Mar.',\n",
    "    4: 'Apr.',\n",
    "    5: 'May',\n",
    "    6: 'June',\n",
    "    7: 'July',\n",
    "    8: 'Aug.',\n",
    "    9: 'Sep.',\n",
    "    10: 'Oct.',\n",
    "    11: 'Nov.',\n",
    "    12: 'Dec.',\n",
    "}"
   ]
  },
  {
   "cell_type": "markdown",
   "metadata": {},
   "source": [
    "### All at once"
   ]
  },
  {
   "cell_type": "code",
   "execution_count": 503,
   "metadata": {},
   "outputs": [
    {
     "data": {
      "image/png": "[encoded data removed]",
      "text/plain": [
       "<Figure size 648x432 with 1 Axes>"
      ]
     },
     "metadata": {
      "needs_background": "light"
     },
     "output_type": "display_data"
    }
   ],
   "source": [
    "suicide_rate_per100k_annualized_by_month.plot(figsize=(9, 6), style='-*', color=COLORS)\n",
    "_ = plt.title('Annualized suicide rate per 100k' + year_range_str, fontsize=14)\n",
    "_ = plt.xticks(fontsize=12)\n",
    "_ = plt.xlabel('month', fontsize=12)\n",
    "_ = plt.yticks(fontsize=12)\n",
    "#_ = plt.axhline(1.0, color='gray')"
   ]
  },
  {
   "cell_type": "markdown",
   "metadata": {},
   "source": [
    "### Normalized"
   ]
  },
  {
   "cell_type": "code",
   "execution_count": 504,
   "metadata": {},
   "outputs": [],
   "source": [
    "# Set 'normalize_by_mean = True' if you want to normalize relative to whole-year average\n",
    "# Set 'normalize_by_month = INTEGER' if you want to normalize relative to a specific month\n",
    "normalize_by_mean = True\n",
    "normalize_by_month = 0\n",
    "\n",
    "if (normalize_by_mean > 0) and (normalize_by_month > 0):\n",
    "    print \"Pick only one option silly\"\n",
    "    \n",
    "if normalize_by_mean:\n",
    "    title_str = 'relative to whole-year'\n",
    "if normalize_by_month > 0:\n",
    "    month_str = months_map[normalize_by_month]\n",
    "    title_str = 'relative to {0}'.format(month_str)"
   ]
  },
  {
   "cell_type": "code",
   "execution_count": 505,
   "metadata": {},
   "outputs": [],
   "source": [
    "if normalize_by_mean:\n",
    "    rel = (\n",
    "        suicide_rate_per100k_annualized_by_month\n",
    "        /suicide_rate_per100k_annualized_by_month.mean()\n",
    "    )\n",
    "elif normalize_by_month > 0:\n",
    "    rel = (\n",
    "        suicide_rate_per100k_annualized_by_month\n",
    "        /suicide_rate_per100k_annualized_by_month.loc[normalize_by_month]\n",
    "    )\n",
    "rel = rel.rename(index=months_map)"
   ]
  },
  {
   "cell_type": "code",
   "execution_count": null,
   "metadata": {},
   "outputs": [],
   "source": []
  },
  {
   "cell_type": "code",
   "execution_count": 558,
   "metadata": {},
   "outputs": [
    {
     "data": {
      "image/png": "[encoded data removed]",
      "text/plain": [
       "<Figure size 648x432 with 1 Axes>"
      ]
     },
     "metadata": {
      "needs_background": "light"
     },
     "output_type": "display_data"
    }
   ],
   "source": [
    "#fig, ax = plt.subplots(1)\n",
    "rel.plot(figsize=(9, 6), style='-*', color=COLORS)\n",
    "_ = plt.title('Suicide rate by month, ' + title_str + year_range_str, fontsize=14)\n",
    "_ = plt.xticks(fontsize=12)\n",
    "_ = plt.xlabel('', fontsize=12)\n",
    "_ = plt.xticks(range(len(rel.index)), rel.index, fontsize=12)\n",
    "_ = plt.yticks(fontsize=12)\n",
    "#_ = plt.axhline(1.0, color='gray')"
   ]
  },
  {
   "cell_type": "code",
   "execution_count": 507,
   "metadata": {},
   "outputs": [
    {
     "data": {
      "text/html": [
       "<div>\n",
       "<style scoped>\n",
       "    .dataframe tbody tr th:only-of-type {\n",
       "        vertical-align: middle;\n",
       "    }\n",
       "\n",
       "    .dataframe tbody tr th {\n",
       "        vertical-align: top;\n",
       "    }\n",
       "\n",
       "    .dataframe thead th {\n",
       "        text-align: right;\n",
       "    }\n",
       "</style>\n",
       "<table border=\"1\" class=\"dataframe\">\n",
       "  <thead>\n",
       "    <tr style=\"text-align: right;\">\n",
       "      <th></th>\n",
       "      <th>&lt;14</th>\n",
       "      <th>14-18</th>\n",
       "      <th>19-25</th>\n",
       "      <th>&gt;25</th>\n",
       "    </tr>\n",
       "    <tr>\n",
       "      <th>month</th>\n",
       "      <th></th>\n",
       "      <th></th>\n",
       "      <th></th>\n",
       "      <th></th>\n",
       "    </tr>\n",
       "  </thead>\n",
       "  <tbody>\n",
       "    <tr>\n",
       "      <th>1</th>\n",
       "      <td>0.312700</td>\n",
       "      <td>8.216491</td>\n",
       "      <td>14.341247</td>\n",
       "      <td>15.720151</td>\n",
       "    </tr>\n",
       "    <tr>\n",
       "      <th>2</th>\n",
       "      <td>0.299155</td>\n",
       "      <td>7.396194</td>\n",
       "      <td>12.788402</td>\n",
       "      <td>14.414260</td>\n",
       "    </tr>\n",
       "    <tr>\n",
       "      <th>3</th>\n",
       "      <td>0.335024</td>\n",
       "      <td>7.985141</td>\n",
       "      <td>14.361181</td>\n",
       "      <td>16.483837</td>\n",
       "    </tr>\n",
       "    <tr>\n",
       "      <th>4</th>\n",
       "      <td>0.300675</td>\n",
       "      <td>7.763719</td>\n",
       "      <td>14.093155</td>\n",
       "      <td>16.239275</td>\n",
       "    </tr>\n",
       "    <tr>\n",
       "      <th>5</th>\n",
       "      <td>0.295646</td>\n",
       "      <td>7.627150</td>\n",
       "      <td>14.330608</td>\n",
       "      <td>16.784793</td>\n",
       "    </tr>\n",
       "    <tr>\n",
       "      <th>6</th>\n",
       "      <td>0.208915</td>\n",
       "      <td>6.206840</td>\n",
       "      <td>13.956476</td>\n",
       "      <td>16.351430</td>\n",
       "    </tr>\n",
       "    <tr>\n",
       "      <th>7</th>\n",
       "      <td>0.214776</td>\n",
       "      <td>6.256686</td>\n",
       "      <td>14.552543</td>\n",
       "      <td>16.938187</td>\n",
       "    </tr>\n",
       "    <tr>\n",
       "      <th>8</th>\n",
       "      <td>0.268198</td>\n",
       "      <td>6.613622</td>\n",
       "      <td>14.665370</td>\n",
       "      <td>16.804077</td>\n",
       "    </tr>\n",
       "    <tr>\n",
       "      <th>9</th>\n",
       "      <td>0.255227</td>\n",
       "      <td>7.237952</td>\n",
       "      <td>13.814473</td>\n",
       "      <td>15.902554</td>\n",
       "    </tr>\n",
       "    <tr>\n",
       "      <th>10</th>\n",
       "      <td>0.304194</td>\n",
       "      <td>7.839636</td>\n",
       "      <td>14.185183</td>\n",
       "      <td>15.897956</td>\n",
       "    </tr>\n",
       "    <tr>\n",
       "      <th>11</th>\n",
       "      <td>0.299000</td>\n",
       "      <td>7.413276</td>\n",
       "      <td>13.569111</td>\n",
       "      <td>15.060978</td>\n",
       "    </tr>\n",
       "    <tr>\n",
       "      <th>12</th>\n",
       "      <td>0.248106</td>\n",
       "      <td>6.556407</td>\n",
       "      <td>13.319786</td>\n",
       "      <td>14.872378</td>\n",
       "    </tr>\n",
       "  </tbody>\n",
       "</table>\n",
       "</div>"
      ],
      "text/plain": [
       "            <14     14-18      19-25        >25\n",
       "month                                          \n",
       "1      0.312700  8.216491  14.341247  15.720151\n",
       "2      0.299155  7.396194  12.788402  14.414260\n",
       "3      0.335024  7.985141  14.361181  16.483837\n",
       "4      0.300675  7.763719  14.093155  16.239275\n",
       "5      0.295646  7.627150  14.330608  16.784793\n",
       "6      0.208915  6.206840  13.956476  16.351430\n",
       "7      0.214776  6.256686  14.552543  16.938187\n",
       "8      0.268198  6.613622  14.665370  16.804077\n",
       "9      0.255227  7.237952  13.814473  15.902554\n",
       "10     0.304194  7.839636  14.185183  15.897956\n",
       "11     0.299000  7.413276  13.569111  15.060978\n",
       "12     0.248106  6.556407  13.319786  14.872378"
      ]
     },
     "execution_count": 507,
     "metadata": {},
     "output_type": "execute_result"
    }
   ],
   "source": [
    "suicide_rate_per100k_annualized_by_month"
   ]
  },
  {
   "cell_type": "code",
   "execution_count": null,
   "metadata": {},
   "outputs": [],
   "source": []
  },
  {
   "cell_type": "markdown",
   "metadata": {},
   "source": [
    "# Regressing"
   ]
  },
  {
   "cell_type": "markdown",
   "metadata": {},
   "source": [
    "### Set up data"
   ]
  },
  {
   "cell_type": "code",
   "execution_count": 508,
   "metadata": {},
   "outputs": [
    {
     "data": {
      "text/html": [
       "<div>\n",
       "<style scoped>\n",
       "    .dataframe tbody tr th:only-of-type {\n",
       "        vertical-align: middle;\n",
       "    }\n",
       "\n",
       "    .dataframe tbody tr th {\n",
       "        vertical-align: top;\n",
       "    }\n",
       "\n",
       "    .dataframe thead th {\n",
       "        text-align: right;\n",
       "    }\n",
       "</style>\n",
       "<table border=\"1\" class=\"dataframe\">\n",
       "  <thead>\n",
       "    <tr style=\"text-align: right;\">\n",
       "      <th></th>\n",
       "      <th>&lt;14</th>\n",
       "      <th>14-18</th>\n",
       "      <th>19-25</th>\n",
       "      <th>&gt;25</th>\n",
       "    </tr>\n",
       "  </thead>\n",
       "  <tbody>\n",
       "    <tr>\n",
       "      <th>1980-01-01</th>\n",
       "      <td>0.176692</td>\n",
       "      <td>6.714798</td>\n",
       "      <td>15.076880</td>\n",
       "      <td>15.312611</td>\n",
       "    </tr>\n",
       "    <tr>\n",
       "      <th>1980-02-01</th>\n",
       "      <td>0.201934</td>\n",
       "      <td>6.007977</td>\n",
       "      <td>15.036888</td>\n",
       "      <td>14.570182</td>\n",
       "    </tr>\n",
       "    <tr>\n",
       "      <th>1980-03-01</th>\n",
       "      <td>0.252417</td>\n",
       "      <td>6.596995</td>\n",
       "      <td>16.036681</td>\n",
       "      <td>16.444816</td>\n",
       "    </tr>\n",
       "    <tr>\n",
       "      <th>1980-04-01</th>\n",
       "      <td>0.227175</td>\n",
       "      <td>5.065550</td>\n",
       "      <td>15.636764</td>\n",
       "      <td>17.150124</td>\n",
       "    </tr>\n",
       "    <tr>\n",
       "      <th>1980-05-01</th>\n",
       "      <td>0.100967</td>\n",
       "      <td>6.066879</td>\n",
       "      <td>14.676962</td>\n",
       "      <td>17.131564</td>\n",
       "    </tr>\n",
       "  </tbody>\n",
       "</table>\n",
       "</div>"
      ],
      "text/plain": [
       "                 <14     14-18      19-25        >25\n",
       "1980-01-01  0.176692  6.714798  15.076880  15.312611\n",
       "1980-02-01  0.201934  6.007977  15.036888  14.570182\n",
       "1980-03-01  0.252417  6.596995  16.036681  16.444816\n",
       "1980-04-01  0.227175  5.065550  15.636764  17.150124\n",
       "1980-05-01  0.100967  6.066879  14.676962  17.131564"
      ]
     },
     "execution_count": 508,
     "metadata": {},
     "output_type": "execute_result"
    }
   ],
   "source": [
    "# preview\n",
    "suicide_rate_per100k_annualized_by_monthyear.head()"
   ]
  },
  {
   "cell_type": "code",
   "execution_count": 509,
   "metadata": {},
   "outputs": [],
   "source": [
    "df = suicide_rate_per100k_annualized_by_monthyear.copy()\n",
    "df['year_month'] = [pd.datetime.strftime(x, '%Y-%m') for x in df.index]"
   ]
  },
  {
   "cell_type": "code",
   "execution_count": 510,
   "metadata": {},
   "outputs": [
    {
     "data": {
      "text/html": [
       "<div>\n",
       "<style scoped>\n",
       "    .dataframe tbody tr th:only-of-type {\n",
       "        vertical-align: middle;\n",
       "    }\n",
       "\n",
       "    .dataframe tbody tr th {\n",
       "        vertical-align: top;\n",
       "    }\n",
       "\n",
       "    .dataframe thead th {\n",
       "        text-align: right;\n",
       "    }\n",
       "</style>\n",
       "<table border=\"1\" class=\"dataframe\">\n",
       "  <thead>\n",
       "    <tr style=\"text-align: right;\">\n",
       "      <th></th>\n",
       "      <th>&lt;14</th>\n",
       "      <th>14-18</th>\n",
       "      <th>19-25</th>\n",
       "      <th>&gt;25</th>\n",
       "      <th>year_month</th>\n",
       "    </tr>\n",
       "  </thead>\n",
       "  <tbody>\n",
       "    <tr>\n",
       "      <th>1980-01-01</th>\n",
       "      <td>0.176692</td>\n",
       "      <td>6.714798</td>\n",
       "      <td>15.076880</td>\n",
       "      <td>15.312611</td>\n",
       "      <td>1980-01</td>\n",
       "    </tr>\n",
       "    <tr>\n",
       "      <th>1980-02-01</th>\n",
       "      <td>0.201934</td>\n",
       "      <td>6.007977</td>\n",
       "      <td>15.036888</td>\n",
       "      <td>14.570182</td>\n",
       "      <td>1980-02</td>\n",
       "    </tr>\n",
       "    <tr>\n",
       "      <th>1980-03-01</th>\n",
       "      <td>0.252417</td>\n",
       "      <td>6.596995</td>\n",
       "      <td>16.036681</td>\n",
       "      <td>16.444816</td>\n",
       "      <td>1980-03</td>\n",
       "    </tr>\n",
       "    <tr>\n",
       "      <th>1980-04-01</th>\n",
       "      <td>0.227175</td>\n",
       "      <td>5.065550</td>\n",
       "      <td>15.636764</td>\n",
       "      <td>17.150124</td>\n",
       "      <td>1980-04</td>\n",
       "    </tr>\n",
       "    <tr>\n",
       "      <th>1980-05-01</th>\n",
       "      <td>0.100967</td>\n",
       "      <td>6.066879</td>\n",
       "      <td>14.676962</td>\n",
       "      <td>17.131564</td>\n",
       "      <td>1980-05</td>\n",
       "    </tr>\n",
       "  </tbody>\n",
       "</table>\n",
       "</div>"
      ],
      "text/plain": [
       "                 <14     14-18      19-25        >25 year_month\n",
       "1980-01-01  0.176692  6.714798  15.076880  15.312611    1980-01\n",
       "1980-02-01  0.201934  6.007977  15.036888  14.570182    1980-02\n",
       "1980-03-01  0.252417  6.596995  16.036681  16.444816    1980-03\n",
       "1980-04-01  0.227175  5.065550  15.636764  17.150124    1980-04\n",
       "1980-05-01  0.100967  6.066879  14.676962  17.131564    1980-05"
      ]
     },
     "execution_count": 510,
     "metadata": {},
     "output_type": "execute_result"
    }
   ],
   "source": [
    "# preview\n",
    "df.head()"
   ]
  },
  {
   "cell_type": "code",
   "execution_count": 511,
   "metadata": {
    "scrolled": true
   },
   "outputs": [],
   "source": [
    "df = (\n",
    "    df\n",
    "    .set_index('year_month')\n",
    "    .stack()\n",
    "    .reset_index()\n",
    "    .rename(columns={\n",
    "        'level_1': 'age_group',\n",
    "        0: 'suicide_rate_per100k_annualized'\n",
    "    })\n",
    ")\n",
    "df['year'] = df['year_month'].str[:4]\n",
    "df['month'] = df['year_month'].str[5:]"
   ]
  },
  {
   "cell_type": "code",
   "execution_count": 512,
   "metadata": {},
   "outputs": [
    {
     "data": {
      "text/html": [
       "<div>\n",
       "<style scoped>\n",
       "    .dataframe tbody tr th:only-of-type {\n",
       "        vertical-align: middle;\n",
       "    }\n",
       "\n",
       "    .dataframe tbody tr th {\n",
       "        vertical-align: top;\n",
       "    }\n",
       "\n",
       "    .dataframe thead th {\n",
       "        text-align: right;\n",
       "    }\n",
       "</style>\n",
       "<table border=\"1\" class=\"dataframe\">\n",
       "  <thead>\n",
       "    <tr style=\"text-align: right;\">\n",
       "      <th></th>\n",
       "      <th>year_month</th>\n",
       "      <th>age_group</th>\n",
       "      <th>suicide_rate_per100k_annualized</th>\n",
       "      <th>year</th>\n",
       "      <th>month</th>\n",
       "    </tr>\n",
       "  </thead>\n",
       "  <tbody>\n",
       "    <tr>\n",
       "      <th>0</th>\n",
       "      <td>1980-01</td>\n",
       "      <td>&lt;14</td>\n",
       "      <td>0.176692</td>\n",
       "      <td>1980</td>\n",
       "      <td>01</td>\n",
       "    </tr>\n",
       "    <tr>\n",
       "      <th>1</th>\n",
       "      <td>1980-01</td>\n",
       "      <td>14-18</td>\n",
       "      <td>6.714798</td>\n",
       "      <td>1980</td>\n",
       "      <td>01</td>\n",
       "    </tr>\n",
       "    <tr>\n",
       "      <th>2</th>\n",
       "      <td>1980-01</td>\n",
       "      <td>19-25</td>\n",
       "      <td>15.076880</td>\n",
       "      <td>1980</td>\n",
       "      <td>01</td>\n",
       "    </tr>\n",
       "    <tr>\n",
       "      <th>3</th>\n",
       "      <td>1980-01</td>\n",
       "      <td>&gt;25</td>\n",
       "      <td>15.312611</td>\n",
       "      <td>1980</td>\n",
       "      <td>01</td>\n",
       "    </tr>\n",
       "    <tr>\n",
       "      <th>4</th>\n",
       "      <td>1980-02</td>\n",
       "      <td>&lt;14</td>\n",
       "      <td>0.201934</td>\n",
       "      <td>1980</td>\n",
       "      <td>02</td>\n",
       "    </tr>\n",
       "  </tbody>\n",
       "</table>\n",
       "</div>"
      ],
      "text/plain": [
       "  year_month age_group  suicide_rate_per100k_annualized  year month\n",
       "0    1980-01       <14                         0.176692  1980    01\n",
       "1    1980-01     14-18                         6.714798  1980    01\n",
       "2    1980-01     19-25                        15.076880  1980    01\n",
       "3    1980-01       >25                        15.312611  1980    01\n",
       "4    1980-02       <14                         0.201934  1980    02"
      ]
     },
     "execution_count": 512,
     "metadata": {},
     "output_type": "execute_result"
    }
   ],
   "source": [
    "df.head()"
   ]
  },
  {
   "cell_type": "code",
   "execution_count": 513,
   "metadata": {},
   "outputs": [],
   "source": [
    "SUMMER_MONTHS = ['06', '07', '08']\n",
    "df['is_summer'] = df['month'].isin(SUMMER_MONTHS)*1.\n",
    "VACATION_MONTHS = ['06', '07', '08', '12']    # arguably could include February\n",
    "df['is_vacation'] = df['month'].isin(VACATION_MONTHS)*1."
   ]
  },
  {
   "cell_type": "code",
   "execution_count": 514,
   "metadata": {},
   "outputs": [
    {
     "data": {
      "text/html": [
       "<div>\n",
       "<style scoped>\n",
       "    .dataframe tbody tr th:only-of-type {\n",
       "        vertical-align: middle;\n",
       "    }\n",
       "\n",
       "    .dataframe tbody tr th {\n",
       "        vertical-align: top;\n",
       "    }\n",
       "\n",
       "    .dataframe thead th {\n",
       "        text-align: right;\n",
       "    }\n",
       "</style>\n",
       "<table border=\"1\" class=\"dataframe\">\n",
       "  <thead>\n",
       "    <tr style=\"text-align: right;\">\n",
       "      <th></th>\n",
       "      <th>year_month</th>\n",
       "      <th>age_group</th>\n",
       "      <th>suicide_rate_per100k_annualized</th>\n",
       "      <th>year</th>\n",
       "      <th>month</th>\n",
       "      <th>is_summer</th>\n",
       "      <th>is_vacation</th>\n",
       "    </tr>\n",
       "  </thead>\n",
       "  <tbody>\n",
       "    <tr>\n",
       "      <th>1659</th>\n",
       "      <td>2014-07</td>\n",
       "      <td>&gt;25</td>\n",
       "      <td>17.485943</td>\n",
       "      <td>2014</td>\n",
       "      <td>07</td>\n",
       "      <td>1.0</td>\n",
       "      <td>1.0</td>\n",
       "    </tr>\n",
       "    <tr>\n",
       "      <th>1060</th>\n",
       "      <td>2002-02</td>\n",
       "      <td>&lt;14</td>\n",
       "      <td>0.233916</td>\n",
       "      <td>2002</td>\n",
       "      <td>02</td>\n",
       "      <td>0.0</td>\n",
       "      <td>0.0</td>\n",
       "    </tr>\n",
       "    <tr>\n",
       "      <th>534</th>\n",
       "      <td>1991-02</td>\n",
       "      <td>19-25</td>\n",
       "      <td>12.572126</td>\n",
       "      <td>1991</td>\n",
       "      <td>02</td>\n",
       "      <td>0.0</td>\n",
       "      <td>0.0</td>\n",
       "    </tr>\n",
       "    <tr>\n",
       "      <th>787</th>\n",
       "      <td>1996-05</td>\n",
       "      <td>&gt;25</td>\n",
       "      <td>16.684913</td>\n",
       "      <td>1996</td>\n",
       "      <td>05</td>\n",
       "      <td>0.0</td>\n",
       "      <td>0.0</td>\n",
       "    </tr>\n",
       "    <tr>\n",
       "      <th>122</th>\n",
       "      <td>1982-07</td>\n",
       "      <td>19-25</td>\n",
       "      <td>15.711308</td>\n",
       "      <td>1982</td>\n",
       "      <td>07</td>\n",
       "      <td>1.0</td>\n",
       "      <td>1.0</td>\n",
       "    </tr>\n",
       "  </tbody>\n",
       "</table>\n",
       "</div>"
      ],
      "text/plain": [
       "     year_month age_group  suicide_rate_per100k_annualized  year month  \\\n",
       "1659    2014-07       >25                        17.485943  2014    07   \n",
       "1060    2002-02       <14                         0.233916  2002    02   \n",
       "534     1991-02     19-25                        12.572126  1991    02   \n",
       "787     1996-05       >25                        16.684913  1996    05   \n",
       "122     1982-07     19-25                        15.711308  1982    07   \n",
       "\n",
       "      is_summer  is_vacation  \n",
       "1659        1.0          1.0  \n",
       "1060        0.0          0.0  \n",
       "534         0.0          0.0  \n",
       "787         0.0          0.0  \n",
       "122         1.0          1.0  "
      ]
     },
     "execution_count": 514,
     "metadata": {},
     "output_type": "execute_result"
    }
   ],
   "source": [
    "df.sample(n=5)"
   ]
  },
  {
   "cell_type": "code",
   "execution_count": 515,
   "metadata": {},
   "outputs": [],
   "source": [
    "groups = df['age_group'].unique()\n",
    "years = df['year'].unique()\n",
    "dfs_by_group = {\n",
    "    group: df[df['age_group'] == group]\n",
    "    for group in groups\n",
    "}\n",
    "dfs_by_year = {\n",
    "    group: {\n",
    "        year: df[(df['age_group'] == group) & (df['year'] == year)]\n",
    "        for year in years\n",
    "    }\n",
    "    for group in groups\n",
    "}"
   ]
  },
  {
   "cell_type": "code",
   "execution_count": null,
   "metadata": {},
   "outputs": [],
   "source": []
  },
  {
   "cell_type": "markdown",
   "metadata": {},
   "source": [
    "### Formulas"
   ]
  },
  {
   "cell_type": "code",
   "execution_count": 516,
   "metadata": {},
   "outputs": [],
   "source": [
    "BY_MONTH_FML = 'suicide_rate_per100k_annualized ~ C(month, patsy.Treatment(reference=\"09\"))'\n",
    "BY_MONTH_W_FE_FML = 'suicide_rate_per100k_annualized ~ C(month, patsy.Treatment(reference=\"09\")) + C(year)'\n",
    "SUMMER_FML = 'suicide_rate_per100k_annualized ~ is_summer'\n",
    "SUMMER_W_FE_FML = 'suicide_rate_per100k_annualized ~ is_summer + C(year)'\n",
    "VACATION_FML = 'suicide_rate_per100k_annualized ~ is_vacation'\n",
    "VACATION_W_FE_FML = 'suicide_rate_per100k_annualized ~ is_vacation + C(year)'"
   ]
  },
  {
   "cell_type": "code",
   "execution_count": 517,
   "metadata": {},
   "outputs": [],
   "source": [
    "regs_by_month = {}\n",
    "regs_by_month_w_fe = {}\n",
    "regs_summer = {}\n",
    "regs_summer_w_fe = {}\n",
    "regs_vacation = {}\n",
    "regs_vacation_w_fe = {}"
   ]
  },
  {
   "cell_type": "markdown",
   "metadata": {},
   "source": [
    "### Whole time period"
   ]
  },
  {
   "cell_type": "code",
   "execution_count": 518,
   "metadata": {},
   "outputs": [],
   "source": [
    "for group, tmp_df in dfs_by_group.iteritems():\n",
    "    regs_by_month[group] = sm.formula.ols(data=tmp_df, formula=BY_MONTH_FML).fit()\n",
    "    regs_by_month_w_fe[group] = sm.formula.ols(data=tmp_df, formula=BY_MONTH_W_FE_FML).fit()\n",
    "    regs_summer[group] = sm.formula.ols(data=tmp_df, formula=SUMMER_FML).fit()\n",
    "    regs_summer_w_fe[group] = sm.formula.ols(data=tmp_df, formula=SUMMER_W_FE_FML).fit()\n",
    "    regs_vacation[group] = sm.formula.ols(data=tmp_df, formula=VACATION_FML).fit()\n",
    "    regs_vacation_w_fe[group] = sm.formula.ols(data=tmp_df, formula=VACATION_W_FE_FML).fit()"
   ]
  },
  {
   "cell_type": "code",
   "execution_count": 519,
   "metadata": {},
   "outputs": [],
   "source": [
    "regressor_order = [\n",
    "    'C(month, patsy.Treatment(reference=\"09\"))[T.01]',\n",
    "    'C(month, patsy.Treatment(reference=\"09\"))[T.02]',\n",
    "    'C(month, patsy.Treatment(reference=\"09\"))[T.03]',\n",
    "    'C(month, patsy.Treatment(reference=\"09\"))[T.04]',\n",
    "    'C(month, patsy.Treatment(reference=\"09\"))[T.05]',\n",
    "    'C(month, patsy.Treatment(reference=\"09\"))[T.06]',\n",
    "    'C(month, patsy.Treatment(reference=\"09\"))[T.07]',\n",
    "    'C(month, patsy.Treatment(reference=\"09\"))[T.08]',\n",
    "    'C(month, patsy.Treatment(reference=\"09\"))[T.10]',\n",
    "    'C(month, patsy.Treatment(reference=\"09\"))[T.11]',\n",
    "    'C(month, patsy.Treatment(reference=\"09\"))[T.12]',\n",
    "]"
   ]
  },
  {
   "cell_type": "code",
   "execution_count": 520,
   "metadata": {},
   "outputs": [],
   "source": [
    "pretty_w_stars = sm.iolib.summary2.summary_col(\n",
    "    results=regs_by_month_w_fe.values(),\n",
    "    model_names=regs_by_month_w_fe.keys(),\n",
    "    regressor_order=regressor_order,\n",
    "    drop_omitted=True,\n",
    "    stars=True\n",
    ")\n",
    "\n",
    "pretty = sm.iolib.summary2.summary_col(\n",
    "    results=regs_by_month_w_fe.values(),\n",
    "    model_names=regs_by_month_w_fe.keys(),\n",
    "    regressor_order=regressor_order,\n",
    "    drop_omitted=True,\n",
    "    stars=False\n",
    ")\n",
    "\n",
    "def rename(params_table, months_map=months_map):\n",
    "    mapping = {}\n",
    "    for k in params_table.index:\n",
    "        if 'C(' in k:\n",
    "            _, month = k.split('[T.')\n",
    "            month = int(month[:-1])\n",
    "            mapping[k] = months_map[month]\n",
    "    return params_table.rename(index=mapping)\n",
    "\n",
    "pretty_w_stars = rename(pretty_w_stars.tables[0])[GROUP_ORDER]\n",
    "pretty = rename(pretty.tables[0])[GROUP_ORDER]"
   ]
  },
  {
   "cell_type": "code",
   "execution_count": 521,
   "metadata": {},
   "outputs": [],
   "source": [
    "# TODO: SEs here are fucked up. notice they're same for all months for a given age group"
   ]
  },
  {
   "cell_type": "code",
   "execution_count": 522,
   "metadata": {
    "scrolled": true
   },
   "outputs": [
    {
     "data": {
      "text/html": [
       "<div>\n",
       "<style scoped>\n",
       "    .dataframe tbody tr th:only-of-type {\n",
       "        vertical-align: middle;\n",
       "    }\n",
       "\n",
       "    .dataframe tbody tr th {\n",
       "        vertical-align: top;\n",
       "    }\n",
       "\n",
       "    .dataframe thead th {\n",
       "        text-align: right;\n",
       "    }\n",
       "</style>\n",
       "<table border=\"1\" class=\"dataframe\">\n",
       "  <thead>\n",
       "    <tr style=\"text-align: right;\">\n",
       "      <th></th>\n",
       "      <th>&lt;14</th>\n",
       "      <th>14-18</th>\n",
       "      <th>19-25</th>\n",
       "      <th>&gt;25</th>\n",
       "    </tr>\n",
       "  </thead>\n",
       "  <tbody>\n",
       "    <tr>\n",
       "      <th>Jan.</th>\n",
       "      <td>0.0575***</td>\n",
       "      <td>0.9785***</td>\n",
       "      <td>0.5268**</td>\n",
       "      <td>-0.1824</td>\n",
       "    </tr>\n",
       "    <tr>\n",
       "      <th></th>\n",
       "      <td>(0.0185)</td>\n",
       "      <td>(0.1818)</td>\n",
       "      <td>(0.2097)</td>\n",
       "      <td>(0.1184)</td>\n",
       "    </tr>\n",
       "    <tr>\n",
       "      <th>Feb.</th>\n",
       "      <td>0.0439**</td>\n",
       "      <td>0.1582</td>\n",
       "      <td>-1.0261***</td>\n",
       "      <td>-1.4883***</td>\n",
       "    </tr>\n",
       "    <tr>\n",
       "      <th></th>\n",
       "      <td>(0.0185)</td>\n",
       "      <td>(0.1818)</td>\n",
       "      <td>(0.2097)</td>\n",
       "      <td>(0.1184)</td>\n",
       "    </tr>\n",
       "    <tr>\n",
       "      <th>Mar.</th>\n",
       "      <td>0.0798***</td>\n",
       "      <td>0.7472***</td>\n",
       "      <td>0.5467***</td>\n",
       "      <td>0.5813***</td>\n",
       "    </tr>\n",
       "    <tr>\n",
       "      <th></th>\n",
       "      <td>(0.0185)</td>\n",
       "      <td>(0.1818)</td>\n",
       "      <td>(0.2097)</td>\n",
       "      <td>(0.1184)</td>\n",
       "    </tr>\n",
       "    <tr>\n",
       "      <th>Apr.</th>\n",
       "      <td>0.0454**</td>\n",
       "      <td>0.5258***</td>\n",
       "      <td>0.2787</td>\n",
       "      <td>0.3367***</td>\n",
       "    </tr>\n",
       "    <tr>\n",
       "      <th></th>\n",
       "      <td>(0.0185)</td>\n",
       "      <td>(0.1818)</td>\n",
       "      <td>(0.2097)</td>\n",
       "      <td>(0.1184)</td>\n",
       "    </tr>\n",
       "    <tr>\n",
       "      <th>May</th>\n",
       "      <td>0.0404**</td>\n",
       "      <td>0.3892**</td>\n",
       "      <td>0.5161**</td>\n",
       "      <td>0.8822***</td>\n",
       "    </tr>\n",
       "    <tr>\n",
       "      <th></th>\n",
       "      <td>(0.0185)</td>\n",
       "      <td>(0.1818)</td>\n",
       "      <td>(0.2097)</td>\n",
       "      <td>(0.1184)</td>\n",
       "    </tr>\n",
       "    <tr>\n",
       "      <th>June</th>\n",
       "      <td>-0.0463**</td>\n",
       "      <td>-1.0311***</td>\n",
       "      <td>0.1420</td>\n",
       "      <td>0.4489***</td>\n",
       "    </tr>\n",
       "    <tr>\n",
       "      <th></th>\n",
       "      <td>(0.0185)</td>\n",
       "      <td>(0.1818)</td>\n",
       "      <td>(0.2097)</td>\n",
       "      <td>(0.1184)</td>\n",
       "    </tr>\n",
       "    <tr>\n",
       "      <th>July</th>\n",
       "      <td>-0.0405**</td>\n",
       "      <td>-0.9813***</td>\n",
       "      <td>0.7381***</td>\n",
       "      <td>1.0356***</td>\n",
       "    </tr>\n",
       "    <tr>\n",
       "      <th></th>\n",
       "      <td>(0.0185)</td>\n",
       "      <td>(0.1818)</td>\n",
       "      <td>(0.2097)</td>\n",
       "      <td>(0.1184)</td>\n",
       "    </tr>\n",
       "    <tr>\n",
       "      <th>Aug.</th>\n",
       "      <td>0.0130</td>\n",
       "      <td>-0.6243***</td>\n",
       "      <td>0.8509***</td>\n",
       "      <td>0.9015***</td>\n",
       "    </tr>\n",
       "    <tr>\n",
       "      <th></th>\n",
       "      <td>(0.0185)</td>\n",
       "      <td>(0.1818)</td>\n",
       "      <td>(0.2097)</td>\n",
       "      <td>(0.1184)</td>\n",
       "    </tr>\n",
       "    <tr>\n",
       "      <th>Oct.</th>\n",
       "      <td>0.0490***</td>\n",
       "      <td>0.6017***</td>\n",
       "      <td>0.3707*</td>\n",
       "      <td>-0.0046</td>\n",
       "    </tr>\n",
       "    <tr>\n",
       "      <th></th>\n",
       "      <td>(0.0185)</td>\n",
       "      <td>(0.1818)</td>\n",
       "      <td>(0.2097)</td>\n",
       "      <td>(0.1184)</td>\n",
       "    </tr>\n",
       "    <tr>\n",
       "      <th>Nov.</th>\n",
       "      <td>0.0438**</td>\n",
       "      <td>0.1753</td>\n",
       "      <td>-0.2454</td>\n",
       "      <td>-0.8416***</td>\n",
       "    </tr>\n",
       "    <tr>\n",
       "      <th></th>\n",
       "      <td>(0.0185)</td>\n",
       "      <td>(0.1818)</td>\n",
       "      <td>(0.2097)</td>\n",
       "      <td>(0.1184)</td>\n",
       "    </tr>\n",
       "    <tr>\n",
       "      <th>Dec.</th>\n",
       "      <td>-0.0071</td>\n",
       "      <td>-0.6815***</td>\n",
       "      <td>-0.4947**</td>\n",
       "      <td>-1.0302***</td>\n",
       "    </tr>\n",
       "    <tr>\n",
       "      <th></th>\n",
       "      <td>(0.0185)</td>\n",
       "      <td>(0.1818)</td>\n",
       "      <td>(0.2097)</td>\n",
       "      <td>(0.1184)</td>\n",
       "    </tr>\n",
       "  </tbody>\n",
       "</table>\n",
       "</div>"
      ],
      "text/plain": [
       "            <14       14-18       19-25         >25\n",
       "Jan.  0.0575***   0.9785***    0.5268**     -0.1824\n",
       "       (0.0185)    (0.1818)    (0.2097)    (0.1184)\n",
       "Feb.   0.0439**      0.1582  -1.0261***  -1.4883***\n",
       "       (0.0185)    (0.1818)    (0.2097)    (0.1184)\n",
       "Mar.  0.0798***   0.7472***   0.5467***   0.5813***\n",
       "       (0.0185)    (0.1818)    (0.2097)    (0.1184)\n",
       "Apr.   0.0454**   0.5258***      0.2787   0.3367***\n",
       "       (0.0185)    (0.1818)    (0.2097)    (0.1184)\n",
       "May    0.0404**    0.3892**    0.5161**   0.8822***\n",
       "       (0.0185)    (0.1818)    (0.2097)    (0.1184)\n",
       "June  -0.0463**  -1.0311***      0.1420   0.4489***\n",
       "       (0.0185)    (0.1818)    (0.2097)    (0.1184)\n",
       "July  -0.0405**  -0.9813***   0.7381***   1.0356***\n",
       "       (0.0185)    (0.1818)    (0.2097)    (0.1184)\n",
       "Aug.     0.0130  -0.6243***   0.8509***   0.9015***\n",
       "       (0.0185)    (0.1818)    (0.2097)    (0.1184)\n",
       "Oct.  0.0490***   0.6017***     0.3707*     -0.0046\n",
       "       (0.0185)    (0.1818)    (0.2097)    (0.1184)\n",
       "Nov.   0.0438**      0.1753     -0.2454  -0.8416***\n",
       "       (0.0185)    (0.1818)    (0.2097)    (0.1184)\n",
       "Dec.    -0.0071  -0.6815***   -0.4947**  -1.0302***\n",
       "       (0.0185)    (0.1818)    (0.2097)    (0.1184)"
      ]
     },
     "execution_count": 522,
     "metadata": {},
     "output_type": "execute_result"
    }
   ],
   "source": [
    "pretty_w_stars"
   ]
  },
  {
   "cell_type": "code",
   "execution_count": 523,
   "metadata": {},
   "outputs": [
    {
     "data": {
      "text/plain": [
       "<matplotlib.axes._subplots.AxesSubplot at 0x7f349849b110>"
      ]
     },
     "execution_count": 523,
     "metadata": {},
     "output_type": "execute_result"
    },
    {
     "data": {
      "image/png": "[encoded data removed]",
      "text/plain": [
       "<Figure size 432x288 with 1 Axes>"
      ]
     },
     "metadata": {
      "needs_background": "light"
     },
     "output_type": "display_data"
    }
   ],
   "source": [
    "pretty.loc[[k for k in pretty.index if k != '']].astype(float).plot()"
   ]
  },
  {
   "cell_type": "code",
   "execution_count": 524,
   "metadata": {},
   "outputs": [],
   "source": [
    "# LOTS MORE YOU CAN DO HERE JUST FOR LOOKSIES"
   ]
  },
  {
   "cell_type": "code",
   "execution_count": 526,
   "metadata": {},
   "outputs": [
    {
     "name": "stdout",
     "output_type": "stream",
     "text": [
      "                                   OLS Regression Results                                  \n",
      "===========================================================================================\n",
      "Dep. Variable:     suicide_rate_per100k_annualized   R-squared:                       0.164\n",
      "Model:                                         OLS   Adj. R-squared:                  0.143\n",
      "Method:                              Least Squares   F-statistic:                     7.909\n",
      "Date:                             Sat, 20 Jul 2019   Prob (F-statistic):           1.33e-12\n",
      "Time:                                     18:19:59   Log-Likelihood:                -829.58\n",
      "No. Observations:                              456   AIC:                             1683.\n",
      "Df Residuals:                                  444   BIC:                             1733.\n",
      "Df Model:                                       11                                         \n",
      "Covariance Type:                         nonrobust                                         \n",
      "===================================================================================================================\n",
      "                                                      coef    std err          t      P>|t|      [0.025      0.975]\n",
      "-------------------------------------------------------------------------------------------------------------------\n",
      "Intercept                                           7.2380      0.245     29.503      0.000       6.756       7.720\n",
      "C(month, patsy.Treatment(reference=\"09\"))[T.01]     0.9785      0.347      2.820      0.005       0.297       1.660\n",
      "C(month, patsy.Treatment(reference=\"09\"))[T.02]     0.1582      0.347      0.456      0.649      -0.524       0.840\n",
      "C(month, patsy.Treatment(reference=\"09\"))[T.03]     0.7472      0.347      2.154      0.032       0.065       1.429\n",
      "C(month, patsy.Treatment(reference=\"09\"))[T.04]     0.5258      0.347      1.515      0.130      -0.156       1.208\n",
      "C(month, patsy.Treatment(reference=\"09\"))[T.05]     0.3892      0.347      1.122      0.263      -0.293       1.071\n",
      "C(month, patsy.Treatment(reference=\"09\"))[T.06]    -1.0311      0.347     -2.972      0.003      -1.713      -0.349\n",
      "C(month, patsy.Treatment(reference=\"09\"))[T.07]    -0.9813      0.347     -2.828      0.005      -1.663      -0.299\n",
      "C(month, patsy.Treatment(reference=\"09\"))[T.08]    -0.6243      0.347     -1.799      0.073      -1.306       0.058\n",
      "C(month, patsy.Treatment(reference=\"09\"))[T.10]     0.6017      0.347      1.734      0.084      -0.080       1.284\n",
      "C(month, patsy.Treatment(reference=\"09\"))[T.11]     0.1753      0.347      0.505      0.614      -0.507       0.857\n",
      "C(month, patsy.Treatment(reference=\"09\"))[T.12]    -0.6815      0.347     -1.964      0.050      -1.363       0.000\n",
      "==============================================================================\n",
      "Omnibus:                       14.740   Durbin-Watson:                   0.467\n",
      "Prob(Omnibus):                  0.001   Jarque-Bera (JB):               15.111\n",
      "Skew:                           0.420   Prob(JB):                     0.000523\n",
      "Kurtosis:                       2.703   Cond. No.                         12.9\n",
      "==============================================================================\n",
      "\n",
      "Warnings:\n",
      "[1] Standard Errors assume that the covariance matrix of the errors is correctly specified.\n"
     ]
    }
   ],
   "source": [
    "print regs_by_month['14-18'].summary()"
   ]
  },
  {
   "cell_type": "code",
   "execution_count": null,
   "metadata": {},
   "outputs": [],
   "source": []
  },
  {
   "cell_type": "markdown",
   "metadata": {},
   "source": [
    "### By year"
   ]
  },
  {
   "cell_type": "code",
   "execution_count": 527,
   "metadata": {},
   "outputs": [],
   "source": [
    "regs_by_year = {\n",
    "    group: {}\n",
    "    for group in dfs_by_year\n",
    "}"
   ]
  },
  {
   "cell_type": "code",
   "execution_count": 528,
   "metadata": {},
   "outputs": [],
   "source": [
    "for group in regs_by_year:\n",
    "    for year in dfs_by_year[group]:\n",
    "        regs_by_year[group][year] = sm.formula.ols(data=dfs_by_year[group][year], formula=SUMMER_FML).fit()"
   ]
  },
  {
   "cell_type": "code",
   "execution_count": 529,
   "metadata": {},
   "outputs": [],
   "source": [
    "def get_by_year(regs_by_year, func):\n",
    "    df = {\n",
    "        group: {\n",
    "            year: func(regs_by_year[group][year])\n",
    "            for year in regs_by_year[group]\n",
    "        }\n",
    "        for group in regs_by_year\n",
    "    }\n",
    "    return df"
   ]
  },
  {
   "cell_type": "code",
   "execution_count": 530,
   "metadata": {},
   "outputs": [],
   "source": [
    "get_params = lambda x: x.params['is_summer']\n",
    "get_se = lambda x: x.bse['is_summer']\n",
    "get_ci = lambda x: x.conf_int().loc['is_summer']\n",
    "\n",
    "params_by_year = get_by_year(regs_by_year, get_params)\n",
    "params_by_year = pd.DataFrame(params_by_year)\n",
    "params_by_year.index = pd.to_datetime(params_by_year.index)\n",
    "\n",
    "se_by_year = get_by_year(regs_by_year, get_se)\n",
    "se_by_year = pd.DataFrame(se_by_year)\n",
    "se_by_year.index = pd.to_datetime(se_by_year.index)\n",
    "\n",
    "ci_by_year = get_by_year(regs_by_year, get_ci)"
   ]
  },
  {
   "cell_type": "code",
   "execution_count": 531,
   "metadata": {},
   "outputs": [
    {
     "data": {
      "image/png": "[encoded data removed]",
      "text/plain": [
       "<Figure size 648x432 with 1 Axes>"
      ]
     },
     "metadata": {
      "needs_background": "light"
     },
     "output_type": "display_data"
    }
   ],
   "source": [
    "params_by_year.plot(figsize=(9, 6), style='-*', color=COLORS)\n",
    "_ = plt.title('Summer effect on suicide rate' + year_range_str, fontsize=14)\n",
    "_ = plt.xticks(fontsize=12)\n",
    "_ = plt.xlabel('year', fontsize=12)\n",
    "_ = plt.yticks(fontsize=12)\n",
    "#_ = plt.axhline(1.0, color='gray')"
   ]
  },
  {
   "cell_type": "code",
   "execution_count": 532,
   "metadata": {},
   "outputs": [
    {
     "ename": "KeyError",
     "evalue": "\"['15-18'] not in index\"",
     "output_type": "error",
     "traceback": [
      "\u001b[0;31m---------------------------------------------------------------------------\u001b[0m",
      "\u001b[0;31mKeyError\u001b[0m                                  Traceback (most recent call last)",
      "\u001b[0;32m<ipython-input-532-80417e6feef7>\u001b[0m in \u001b[0;36m<module>\u001b[0;34m()\u001b[0m\n\u001b[0;32m----> 1\u001b[0;31m \u001b[0mparams_by_year\u001b[0m\u001b[0;34m[\u001b[0m\u001b[0;34m[\u001b[0m\u001b[0;34m'15-18'\u001b[0m\u001b[0;34m]\u001b[0m\u001b[0;34m]\u001b[0m\u001b[0;34m.\u001b[0m\u001b[0mplot\u001b[0m\u001b[0;34m(\u001b[0m\u001b[0mfigsize\u001b[0m\u001b[0;34m=\u001b[0m\u001b[0;34m(\u001b[0m\u001b[0;36m9\u001b[0m\u001b[0;34m,\u001b[0m \u001b[0;36m6\u001b[0m\u001b[0;34m)\u001b[0m\u001b[0;34m,\u001b[0m \u001b[0mstyle\u001b[0m\u001b[0;34m=\u001b[0m\u001b[0;34m'-*'\u001b[0m\u001b[0;34m,\u001b[0m \u001b[0mcolor\u001b[0m\u001b[0;34m=\u001b[0m\u001b[0mCOLORS\u001b[0m\u001b[0;34m,\u001b[0m \u001b[0myerr\u001b[0m\u001b[0;34m=\u001b[0m\u001b[0;36m1.96\u001b[0m\u001b[0;34m*\u001b[0m\u001b[0mse_by_year\u001b[0m\u001b[0;34m)\u001b[0m\u001b[0;34m\u001b[0m\u001b[0m\n\u001b[0m\u001b[1;32m      2\u001b[0m \u001b[0m_\u001b[0m \u001b[0;34m=\u001b[0m \u001b[0mplt\u001b[0m\u001b[0;34m.\u001b[0m\u001b[0mtitle\u001b[0m\u001b[0;34m(\u001b[0m\u001b[0;34m'Summer effect on suicide rate'\u001b[0m \u001b[0;34m+\u001b[0m \u001b[0myear_range_str\u001b[0m\u001b[0;34m,\u001b[0m \u001b[0mfontsize\u001b[0m\u001b[0;34m=\u001b[0m\u001b[0;36m14\u001b[0m\u001b[0;34m)\u001b[0m\u001b[0;34m\u001b[0m\u001b[0m\n\u001b[1;32m      3\u001b[0m \u001b[0m_\u001b[0m \u001b[0;34m=\u001b[0m \u001b[0mplt\u001b[0m\u001b[0;34m.\u001b[0m\u001b[0mxticks\u001b[0m\u001b[0;34m(\u001b[0m\u001b[0mfontsize\u001b[0m\u001b[0;34m=\u001b[0m\u001b[0;36m12\u001b[0m\u001b[0;34m)\u001b[0m\u001b[0;34m\u001b[0m\u001b[0m\n\u001b[1;32m      4\u001b[0m \u001b[0m_\u001b[0m \u001b[0;34m=\u001b[0m \u001b[0mplt\u001b[0m\u001b[0;34m.\u001b[0m\u001b[0mxlabel\u001b[0m\u001b[0;34m(\u001b[0m\u001b[0;34m'month'\u001b[0m\u001b[0;34m,\u001b[0m \u001b[0mfontsize\u001b[0m\u001b[0;34m=\u001b[0m\u001b[0;36m12\u001b[0m\u001b[0;34m)\u001b[0m\u001b[0;34m\u001b[0m\u001b[0m\n\u001b[1;32m      5\u001b[0m \u001b[0m_\u001b[0m \u001b[0;34m=\u001b[0m \u001b[0mplt\u001b[0m\u001b[0;34m.\u001b[0m\u001b[0myticks\u001b[0m\u001b[0;34m(\u001b[0m\u001b[0mfontsize\u001b[0m\u001b[0;34m=\u001b[0m\u001b[0;36m12\u001b[0m\u001b[0;34m)\u001b[0m\u001b[0;34m\u001b[0m\u001b[0m\n",
      "\u001b[0;32m/bbkinghome/basilh/.local/lib/python2.7/site-packages/pandas/core/frame.pyc\u001b[0m in \u001b[0;36m__getitem__\u001b[0;34m(self, key)\u001b[0m\n\u001b[1;32m   2680\u001b[0m         \u001b[0;32mif\u001b[0m \u001b[0misinstance\u001b[0m\u001b[0;34m(\u001b[0m\u001b[0mkey\u001b[0m\u001b[0;34m,\u001b[0m \u001b[0;34m(\u001b[0m\u001b[0mSeries\u001b[0m\u001b[0;34m,\u001b[0m \u001b[0mnp\u001b[0m\u001b[0;34m.\u001b[0m\u001b[0mndarray\u001b[0m\u001b[0;34m,\u001b[0m \u001b[0mIndex\u001b[0m\u001b[0;34m,\u001b[0m \u001b[0mlist\u001b[0m\u001b[0;34m)\u001b[0m\u001b[0;34m)\u001b[0m\u001b[0;34m:\u001b[0m\u001b[0;34m\u001b[0m\u001b[0m\n\u001b[1;32m   2681\u001b[0m             \u001b[0;31m# either boolean or fancy integer index\u001b[0m\u001b[0;34m\u001b[0m\u001b[0;34m\u001b[0m\u001b[0m\n\u001b[0;32m-> 2682\u001b[0;31m             \u001b[0;32mreturn\u001b[0m \u001b[0mself\u001b[0m\u001b[0;34m.\u001b[0m\u001b[0m_getitem_array\u001b[0m\u001b[0;34m(\u001b[0m\u001b[0mkey\u001b[0m\u001b[0;34m)\u001b[0m\u001b[0;34m\u001b[0m\u001b[0m\n\u001b[0m\u001b[1;32m   2683\u001b[0m         \u001b[0;32melif\u001b[0m \u001b[0misinstance\u001b[0m\u001b[0;34m(\u001b[0m\u001b[0mkey\u001b[0m\u001b[0;34m,\u001b[0m \u001b[0mDataFrame\u001b[0m\u001b[0;34m)\u001b[0m\u001b[0;34m:\u001b[0m\u001b[0;34m\u001b[0m\u001b[0m\n\u001b[1;32m   2684\u001b[0m             \u001b[0;32mreturn\u001b[0m \u001b[0mself\u001b[0m\u001b[0;34m.\u001b[0m\u001b[0m_getitem_frame\u001b[0m\u001b[0;34m(\u001b[0m\u001b[0mkey\u001b[0m\u001b[0;34m)\u001b[0m\u001b[0;34m\u001b[0m\u001b[0m\n",
      "\u001b[0;32m/bbkinghome/basilh/.local/lib/python2.7/site-packages/pandas/core/frame.pyc\u001b[0m in \u001b[0;36m_getitem_array\u001b[0;34m(self, key)\u001b[0m\n\u001b[1;32m   2724\u001b[0m             \u001b[0;32mreturn\u001b[0m \u001b[0mself\u001b[0m\u001b[0;34m.\u001b[0m\u001b[0m_take\u001b[0m\u001b[0;34m(\u001b[0m\u001b[0mindexer\u001b[0m\u001b[0;34m,\u001b[0m \u001b[0maxis\u001b[0m\u001b[0;34m=\u001b[0m\u001b[0;36m0\u001b[0m\u001b[0;34m)\u001b[0m\u001b[0;34m\u001b[0m\u001b[0m\n\u001b[1;32m   2725\u001b[0m         \u001b[0;32melse\u001b[0m\u001b[0;34m:\u001b[0m\u001b[0;34m\u001b[0m\u001b[0m\n\u001b[0;32m-> 2726\u001b[0;31m             \u001b[0mindexer\u001b[0m \u001b[0;34m=\u001b[0m \u001b[0mself\u001b[0m\u001b[0;34m.\u001b[0m\u001b[0mloc\u001b[0m\u001b[0;34m.\u001b[0m\u001b[0m_convert_to_indexer\u001b[0m\u001b[0;34m(\u001b[0m\u001b[0mkey\u001b[0m\u001b[0;34m,\u001b[0m \u001b[0maxis\u001b[0m\u001b[0;34m=\u001b[0m\u001b[0;36m1\u001b[0m\u001b[0;34m)\u001b[0m\u001b[0;34m\u001b[0m\u001b[0m\n\u001b[0m\u001b[1;32m   2727\u001b[0m             \u001b[0;32mreturn\u001b[0m \u001b[0mself\u001b[0m\u001b[0;34m.\u001b[0m\u001b[0m_take\u001b[0m\u001b[0;34m(\u001b[0m\u001b[0mindexer\u001b[0m\u001b[0;34m,\u001b[0m \u001b[0maxis\u001b[0m\u001b[0;34m=\u001b[0m\u001b[0;36m1\u001b[0m\u001b[0;34m)\u001b[0m\u001b[0;34m\u001b[0m\u001b[0m\n\u001b[1;32m   2728\u001b[0m \u001b[0;34m\u001b[0m\u001b[0m\n",
      "\u001b[0;32m/bbkinghome/basilh/.local/lib/python2.7/site-packages/pandas/core/indexing.pyc\u001b[0m in \u001b[0;36m_convert_to_indexer\u001b[0;34m(self, obj, axis, is_setter)\u001b[0m\n\u001b[1;32m   1325\u001b[0m                 \u001b[0;32mif\u001b[0m \u001b[0mmask\u001b[0m\u001b[0;34m.\u001b[0m\u001b[0many\u001b[0m\u001b[0;34m(\u001b[0m\u001b[0;34m)\u001b[0m\u001b[0;34m:\u001b[0m\u001b[0;34m\u001b[0m\u001b[0m\n\u001b[1;32m   1326\u001b[0m                     raise KeyError('{mask} not in index'\n\u001b[0;32m-> 1327\u001b[0;31m                                    .format(mask=objarr[mask]))\n\u001b[0m\u001b[1;32m   1328\u001b[0m \u001b[0;34m\u001b[0m\u001b[0m\n\u001b[1;32m   1329\u001b[0m                 \u001b[0;32mreturn\u001b[0m \u001b[0mcom\u001b[0m\u001b[0;34m.\u001b[0m\u001b[0m_values_from_object\u001b[0m\u001b[0;34m(\u001b[0m\u001b[0mindexer\u001b[0m\u001b[0;34m)\u001b[0m\u001b[0;34m\u001b[0m\u001b[0m\n",
      "\u001b[0;31mKeyError\u001b[0m: \"['15-18'] not in index\""
     ]
    }
   ],
   "source": [
    "params_by_year[['15-18']].plot(figsize=(9, 6), style='-*', color=COLORS, yerr=1.96*se_by_year)\n",
    "_ = plt.title('Summer effect on suicide rate' + year_range_str, fontsize=14)\n",
    "_ = plt.xticks(fontsize=12)\n",
    "_ = plt.xlabel('month', fontsize=12)\n",
    "_ = plt.yticks(fontsize=12)\n",
    "_ = plt.axhline(0, color='gray')"
   ]
  },
  {
   "cell_type": "code",
   "execution_count": null,
   "metadata": {},
   "outputs": [],
   "source": []
  },
  {
   "cell_type": "code",
   "execution_count": null,
   "metadata": {},
   "outputs": [],
   "source": []
  },
  {
   "cell_type": "code",
   "execution_count": null,
   "metadata": {},
   "outputs": [],
   "source": []
  },
  {
   "cell_type": "code",
   "execution_count": null,
   "metadata": {},
   "outputs": [],
   "source": []
  },
  {
   "cell_type": "code",
   "execution_count": null,
   "metadata": {},
   "outputs": [],
   "source": []
  },
  {
   "cell_type": "code",
   "execution_count": null,
   "metadata": {},
   "outputs": [],
   "source": []
  },
  {
   "cell_type": "code",
   "execution_count": null,
   "metadata": {},
   "outputs": [],
   "source": []
  },
  {
   "cell_type": "code",
   "execution_count": null,
   "metadata": {},
   "outputs": [],
   "source": []
  },
  {
   "cell_type": "code",
   "execution_count": null,
   "metadata": {},
   "outputs": [],
   "source": []
  },
  {
   "cell_type": "code",
   "execution_count": null,
   "metadata": {},
   "outputs": [],
   "source": []
  },
  {
   "cell_type": "code",
   "execution_count": null,
   "metadata": {},
   "outputs": [],
   "source": []
  }
 ],
 "metadata": {
  "kernelspec": {
   "display_name": "Python 2",
   "language": "python",
   "name": "python2"
  },
  "language_info": {
   "codemirror_mode": {
    "name": "ipython",
    "version": 2
   },
   "file_extension": ".py",
   "mimetype": "text/x-python",
   "name": "python",
   "nbconvert_exporter": "python",
   "pygments_lexer": "ipython2",
   "version": "2.7.5"
  }
 },
 "nbformat": 4,
 "nbformat_minor": 2
}
