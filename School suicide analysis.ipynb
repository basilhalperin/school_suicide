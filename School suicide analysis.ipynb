{
 "cells": [
  {
   "cell_type": "code",
   "execution_count": 138,
   "metadata": {},
   "outputs": [],
   "source": [
    "import pandas as pd\n",
    "import os\n",
    "import zipfile\n",
    "import StringIO\n",
    "import requests\n",
    "import statsmodels.api as sm\n",
    "from IPython.display import clear_output\n",
    "\n",
    "import matplotlib.pyplot as plt\n",
    "import seaborn\n",
    "seaborn.set_style('white')\n",
    "%matplotlib inline"
   ]
  },
  {
   "cell_type": "markdown",
   "metadata": {
    "heading_collapsed": true
   },
   "source": [
    "# Death data"
   ]
  },
  {
   "cell_type": "code",
   "execution_count": 2,
   "metadata": {
    "hidden": true
   },
   "outputs": [],
   "source": [
    "BASE_URL = \"https://www.nber.org/mortality/{0}/mort{0}.csv.zip\"\n",
    "DOWNLOAD_DEST_BASE = 'nchs_mcd_rawdata'\n",
    "START_YEAR = 2000\n",
    "END_YEAR = 2017"
   ]
  },
  {
   "cell_type": "code",
   "execution_count": 3,
   "metadata": {
    "hidden": true
   },
   "outputs": [],
   "source": [
    "# If raw data folder doesn't exist, create it\n",
    "if not os.path.exists(DOWNLOAD_DEST_BASE):\n",
    "    print 'Making \"{0}\" directory...'.format(DOWNLOAD_DEST_BASE)\n",
    "    os.makedirs('{0}'.format(DOWNLOAD_DEST_BASE))"
   ]
  },
  {
   "cell_type": "code",
   "execution_count": 4,
   "metadata": {
    "hidden": true
   },
   "outputs": [],
   "source": [
    "def download_raw_data_by_year(year, base_url=BASE_URL, download_dest_base=DOWNLOAD_DEST_BASE):\n",
    "    \"\"\"\n",
    "    See documentation stuff here:\n",
    "    https://www.nber.org/data/vital-statistics-mortality-data-multiple-cause-of-death.html\n",
    "    \"\"\"\n",
    "    year = str(year)\n",
    "    \n",
    "    # Check if already exists\n",
    "    if os.path.exists(os.path.join(download_dest_base, '{0}.csv'.format(year))):\n",
    "        print \"Already have data for {0}\".format(year)\n",
    "        return\n",
    "    \n",
    "    # Specify file locations\n",
    "    url = base_url.format(year)\n",
    "    download_dest = os.path.join(download_dest_base, year)\n",
    "\n",
    "    # Download data\n",
    "    r = requests.get(url, stream=True)\n",
    "    with zipfile.ZipFile(StringIO.StringIO(r.content)) as zf:\n",
    "        zf.extractall(download_dest)\n",
    "\n",
    "    # Move CSV to main directory and delete empty folder\n",
    "    current_filename = os.path.join(download_dest, 'mort{0}.csv'.format(year))\n",
    "    new_filename = os.path.join(download_dest_base, '{0}.csv'.format(year))\n",
    "    os.rename(current_filename, new_filename)\n",
    "    os.rmdir(os.path.join(download_dest_base, year))\n",
    "    \n",
    "    print \"Downloaded data for {0}\".format(year)"
   ]
  },
  {
   "cell_type": "code",
   "execution_count": 5,
   "metadata": {
    "hidden": true
   },
   "outputs": [],
   "source": [
    "def download_raw_data(start_year=START_YEAR, end_year=END_YEAR, \n",
    "                      base_url=BASE_URL, download_dest_base=DOWNLOAD_DEST_BASE):\n",
    "    years = range(start_year, end_year+1)\n",
    "    \n",
    "    for year in years:\n",
    "        download_raw_data_by_year(year, base_url, download_dest_base)"
   ]
  },
  {
   "cell_type": "code",
   "execution_count": 6,
   "metadata": {
    "hidden": true
   },
   "outputs": [
    {
     "name": "stdout",
     "output_type": "stream",
     "text": [
      "Already have data for 2000\n",
      "Already have data for 2001\n",
      "Already have data for 2002\n",
      "Already have data for 2003\n",
      "Already have data for 2004\n",
      "Already have data for 2005\n",
      "Already have data for 2006\n",
      "Already have data for 2007\n",
      "Already have data for 2008\n",
      "Already have data for 2009\n",
      "Already have data for 2010\n",
      "Already have data for 2011\n",
      "Already have data for 2012\n",
      "Already have data for 2013\n",
      "Already have data for 2014\n",
      "Already have data for 2015\n",
      "Already have data for 2016\n",
      "Already have data for 2017\n"
     ]
    }
   ],
   "source": [
    "download_raw_data()"
   ]
  },
  {
   "cell_type": "code",
   "execution_count": null,
   "metadata": {
    "hidden": true
   },
   "outputs": [],
   "source": []
  },
  {
   "cell_type": "markdown",
   "metadata": {
    "heading_collapsed": true
   },
   "source": [
    "# Population data"
   ]
  },
  {
   "cell_type": "code",
   "execution_count": 7,
   "metadata": {
    "hidden": true
   },
   "outputs": [],
   "source": [
    "OTHER_DATA_DEST_BASE = 'other_data'"
   ]
  },
  {
   "cell_type": "markdown",
   "metadata": {
    "heading_collapsed": true,
    "hidden": true
   },
   "source": [
    "### 2010-2018"
   ]
  },
  {
   "cell_type": "code",
   "execution_count": 8,
   "metadata": {
    "hidden": true
   },
   "outputs": [],
   "source": [
    "# Source url: https://www.census.gov/data/tables/time-series/demo/popest/2010s-national-detail.html\n",
    "# Description: https://www2.census.gov/programs-surveys/popest/technical-documentation/file-layouts/2010-2018/nc-est2018-agesex-res.pdf\n",
    "POP_DATA_URL_2010 = 'https://www2.census.gov/programs-surveys/popest/technical-documentation/file-layouts/2010-2018/nc-est2018-agesex-res.csv'"
   ]
  },
  {
   "cell_type": "code",
   "execution_count": 9,
   "metadata": {
    "hidden": true
   },
   "outputs": [],
   "source": [
    "# If raw data folder doesn't exist, create it\n",
    "if not os.path.exists(OTHER_DATA_DEST_BASE):\n",
    "    print 'Making \"{0}\" directory...'.format(DOWNLOAD_DEST_BASE)\n",
    "    os.makedirs('{0}'.format(OTHER_DATA_DEST_BASE))"
   ]
  },
  {
   "cell_type": "code",
   "execution_count": 10,
   "metadata": {
    "hidden": true
   },
   "outputs": [],
   "source": [
    "def download_2010_pop_data(pop_data_url_2010=POP_DATA_URL_2010):\n",
    "    \"\"\"\n",
    "    Download population data from 2010-2018\n",
    "    \"\"\"\n",
    "    # Download\n",
    "    pop_data_2010_raw = pd.read_csv(pop_data_url_2010, index_col=None, header=0)\n",
    "    \n",
    "    # Clean\n",
    "    col_map = {\n",
    "        c: c[-4:]\n",
    "        for c in pop_data_2010_raw.columns if 'POPESTIMATE' in c\n",
    "    }\n",
    "    col_map['AGE'] = 'age'\n",
    "    col_map['SEX'] = 'sex'\n",
    "    gender_map = {\n",
    "        0: 'total',\n",
    "        1: 'male',\n",
    "        2: 'female',\n",
    "    }\n",
    "\n",
    "    pop_data_2010 = pop_data_2010_raw[col_map].rename(columns=col_map)\n",
    "    pop_data_2010['sex'] = pop_data_2010['sex'].replace(gender_map)\n",
    "    pop_data_2010['age'] = pop_data_2010['age'].replace(999, 'total')\n",
    "\n",
    "    pop_data_2010 = (\n",
    "        pop_data_2010\n",
    "        .set_index(['sex', 'age'])\n",
    "        .T\n",
    "        .sort_index()\n",
    "    )\n",
    "    \n",
    "    # Return\n",
    "    return pop_data_2010['total'], pop_data_2010['male'], pop_data_2010['female']"
   ]
  },
  {
   "cell_type": "code",
   "execution_count": 11,
   "metadata": {
    "hidden": true
   },
   "outputs": [],
   "source": [
    "def load_pop_data_2010(pop_data_url_2010=POP_DATA_URL_2010, other_data_dest_base=OTHER_DATA_DEST_BASE):\n",
    "    total_filename = os.path.join(other_data_dest_base, 'pop_data_2010_total.csv')\n",
    "    male_filename = os.path.join(other_data_dest_base, 'pop_data_2010_male.csv')\n",
    "    female_filename = os.path.join(other_data_dest_base, 'pop_data_2010_female.csv')\n",
    "    \n",
    "    if os.path.exists(total_filename):\n",
    "        print \"Loading\", total_filename\n",
    "        pop_data_2010_total = pd.read_csv(total_filename, index_col=0)\n",
    "        pop_data_2010_total.columns = [int(x) for x in pop_data_2010_total.columns if x != 'total'] + ['total']\n",
    "    else:\n",
    "        print \"Downloading 2010-2018 population data\"\n",
    "        pop_data_2010_total, males, females = download_2010_pop_data(pop_data_url_2010)\n",
    "        \n",
    "        pop_data_2010_total.to_csv(total_filename)\n",
    "        males.to_csv(male_filename)\n",
    "        females.to_csv(female_filename)\n",
    "        \n",
    "        print \"Saved\", total_filename\n",
    "        \n",
    "    return pop_data_2010_total"
   ]
  },
  {
   "cell_type": "code",
   "execution_count": 33,
   "metadata": {
    "hidden": true
   },
   "outputs": [
    {
     "name": "stdout",
     "output_type": "stream",
     "text": [
      "Loading other_data\\pop_data_2010_total.csv\n"
     ]
    }
   ],
   "source": [
    "pop_data_2010 = load_pop_data_2010()"
   ]
  },
  {
   "cell_type": "code",
   "execution_count": null,
   "metadata": {
    "hidden": true
   },
   "outputs": [],
   "source": [
    "(pop_data_2010[26]*100./pop_data_2010['total']).plot()"
   ]
  },
  {
   "cell_type": "markdown",
   "metadata": {
    "heading_collapsed": true,
    "hidden": true
   },
   "source": [
    "### 2000-2009"
   ]
  },
  {
   "cell_type": "code",
   "execution_count": 12,
   "metadata": {
    "hidden": true
   },
   "outputs": [],
   "source": [
    "# Source url: https://www.census.gov/data/datasets/time-series/demo/popest/intercensal-2000-2010-national.html\n",
    "POP_DATA_URL_2000 = 'https://www2.census.gov/programs-surveys/popest/datasets/2000-2010/intercensal/national/us-est00int-alldata.csv'"
   ]
  },
  {
   "cell_type": "code",
   "execution_count": 13,
   "metadata": {
    "hidden": true
   },
   "outputs": [],
   "source": [
    "def download_2000_pop_data(pop_data_url_2000=POP_DATA_URL_2000, month=7):\n",
    "    \"\"\"\n",
    "    Download population data from 2000-2009\n",
    "    Estimates are available for April and July (??), I use July.\n",
    "    \"\"\"   \n",
    "    # Download\n",
    "    pop_data_2000_raw = pd.read_csv(pop_data_url_2000, index_col=None, header=0)\n",
    "    \n",
    "    # Estimates are available for April and July (??), I use July.\n",
    "    pop_data_2000 = pop_data_2000_raw[pop_data_2000_raw['MONTH'] == 7]\n",
    "\n",
    "    # Clean\n",
    "    def clean_pop_2000(df):\n",
    "        df = df.rename(columns={999: 'total'})\n",
    "        df.index.name = None\n",
    "        df.columns.name = None\n",
    "        return df\n",
    "\n",
    "    pop_data_2000_total = pd.pivot_table(pop_data_2000, index='YEAR', columns='AGE', values='TOT_POP')\n",
    "    pop_data_2000_male = pd.pivot_table(pop_data_2000, index='YEAR', columns='AGE', values='TOT_MALE')\n",
    "    pop_data_2000_female = pd.pivot_table(pop_data_2000, index='YEAR', columns='AGE', values='TOT_FEMALE')\n",
    "\n",
    "    pop_data_2000_total = clean_pop_2000(pop_data_2000_total)\n",
    "    pop_data_2000_male = clean_pop_2000(pop_data_2000_male)\n",
    "    pop_data_2000_female = clean_pop_2000(pop_data_2000_female)\n",
    "    \n",
    "    # Return\n",
    "    return pop_data_2000_total, pop_data_2000_male, pop_data_2000_female"
   ]
  },
  {
   "cell_type": "code",
   "execution_count": 14,
   "metadata": {
    "hidden": true
   },
   "outputs": [],
   "source": [
    "def load_pop_data_2000(pop_data_url_2000=POP_DATA_URL_2000, other_data_dest_base=OTHER_DATA_DEST_BASE):\n",
    "    total_filename = os.path.join(other_data_dest_base, 'pop_data_2000_total.csv')\n",
    "    male_filename = os.path.join(other_data_dest_base, 'pop_data_2000_male.csv')\n",
    "    female_filename = os.path.join(other_data_dest_base, 'pop_data_2000_female.csv')\n",
    "    \n",
    "    if os.path.exists(total_filename):\n",
    "        print \"Loading\", total_filename\n",
    "        pop_data_2000_total = pd.read_csv(total_filename, index_col=0)\n",
    "        pop_data_2000_total.columns = [int(x) for x in pop_data_2000_total.columns if x != 'total'] + ['total']\n",
    "    else:\n",
    "        print \"Downloading 2010-2018 population data\"\n",
    "        pop_data_2000_total, males, females = download_2000_pop_data(pop_data_url_2000)\n",
    "        \n",
    "        pop_data_2000_total.to_csv(total_filename)\n",
    "        males.to_csv(male_filename)\n",
    "        females.to_csv(female_filename)\n",
    "        \n",
    "        print \"Saved\", total_filename\n",
    "        \n",
    "    return pop_data_2000_total"
   ]
  },
  {
   "cell_type": "code",
   "execution_count": 34,
   "metadata": {
    "hidden": true
   },
   "outputs": [
    {
     "name": "stdout",
     "output_type": "stream",
     "text": [
      "Loading other_data\\pop_data_2000_total.csv\n"
     ]
    }
   ],
   "source": [
    "pop_data_2000 = load_pop_data_2000()"
   ]
  },
  {
   "cell_type": "code",
   "execution_count": null,
   "metadata": {
    "hidden": true
   },
   "outputs": [],
   "source": []
  },
  {
   "cell_type": "markdown",
   "metadata": {
    "heading_collapsed": true,
    "hidden": true
   },
   "source": [
    "### 1990-2000"
   ]
  },
  {
   "cell_type": "code",
   "execution_count": 347,
   "metadata": {
    "hidden": true
   },
   "outputs": [],
   "source": [
    "#https://www.census.gov/data/datasets/time-series/demo/popest/intercensal-1990-2000-national.html"
   ]
  },
  {
   "cell_type": "markdown",
   "metadata": {
    "heading_collapsed": true,
    "hidden": true
   },
   "source": [
    "### 1980-1990"
   ]
  },
  {
   "cell_type": "code",
   "execution_count": 348,
   "metadata": {
    "hidden": true
   },
   "outputs": [],
   "source": [
    "#https://www.census.gov/data/datasets/time-series/demo/popest/1980s-national.html"
   ]
  },
  {
   "cell_type": "markdown",
   "metadata": {
    "heading_collapsed": true,
    "hidden": true
   },
   "source": [
    "### <1980"
   ]
  },
  {
   "cell_type": "code",
   "execution_count": 349,
   "metadata": {
    "hidden": true
   },
   "outputs": [],
   "source": [
    "#https://www.census.gov/data/tables/time-series/demo/popest/pre-1980-national.html"
   ]
  },
  {
   "cell_type": "code",
   "execution_count": null,
   "metadata": {
    "hidden": true
   },
   "outputs": [],
   "source": []
  },
  {
   "cell_type": "markdown",
   "metadata": {
    "heading_collapsed": true,
    "hidden": true
   },
   "source": [
    "### Combine"
   ]
  },
  {
   "cell_type": "code",
   "execution_count": 39,
   "metadata": {
    "hidden": true
   },
   "outputs": [],
   "source": [
    "# Note that the \"max bucket\" varies over time, but doesn't matter for our purposes\n",
    "# See https://www.census.gov/dataviz/visualizations/055/"
   ]
  },
  {
   "cell_type": "code",
   "execution_count": 46,
   "metadata": {
    "hidden": true
   },
   "outputs": [],
   "source": [
    "dict_of_pop_data = {\n",
    "    '2010-2017': pop_data_2010,\n",
    "    '2000-2009': pop_data_2000.loc[2000:2009],\n",
    "    #'1990-1999': None,\n",
    "    #'1980-1989': None,\n",
    "    #'<1980': None,\n",
    "}"
   ]
  },
  {
   "cell_type": "code",
   "execution_count": 53,
   "metadata": {
    "hidden": true
   },
   "outputs": [],
   "source": [
    "pop_data = pd.concat(dict_of_pop_data.values(), axis=0)\n",
    "pop_data = pop_data.fillna(0)\n",
    "pop_data = pop_data.sort_index()\n",
    "\n",
    "clear_output() # stupid warning"
   ]
  },
  {
   "cell_type": "markdown",
   "metadata": {
    "heading_collapsed": true
   },
   "source": [
    "# Get just suicide data"
   ]
  },
  {
   "cell_type": "code",
   "execution_count": 15,
   "metadata": {
    "hidden": true
   },
   "outputs": [],
   "source": [
    "DEATH_VAR = 'ucr39'\n",
    "SUICIDE_VAL = 40\n",
    "CLEAN_DATA_BASE = 'cleaned_data'"
   ]
  },
  {
   "cell_type": "code",
   "execution_count": 16,
   "metadata": {
    "hidden": true
   },
   "outputs": [],
   "source": [
    "if not os.path.exists(CLEAN_DATA_BASE):\n",
    "    os.makedirs(CLEAN_DATA_BASE)\n",
    "    print \"Created\", CLEAN_DATA_BASE"
   ]
  },
  {
   "cell_type": "code",
   "execution_count": 19,
   "metadata": {
    "hidden": true
   },
   "outputs": [],
   "source": [
    "def get_suicide_data_by_year(death_var=DEATH_VAR, suicide_val=SUICIDE_VAL,\n",
    "                             start_year=START_YEAR, end_year=END_YEAR,\n",
    "                             raw_data_loc_base=DOWNLOAD_DEST_BASE, suicide_data_loc_base=CLEAN_DATA_BASE):\n",
    "    for year in range(start_year, end_year+1):\n",
    "        # Check if already exists\n",
    "        new_filename = os.path.join(suicide_data_loc_base, '{0}.csv'.format(year))\n",
    "        if os.path.exists(new_filename):\n",
    "            print new_filename, \"already exists\"\n",
    "            continue\n",
    "        \n",
    "        # Load data\n",
    "        print \"Loading\", year\n",
    "        filename = os.path.join(raw_data_loc_base, '{0}.csv'.format(year))\n",
    "        data = pd.read_csv(filename)\n",
    "        \n",
    "        # Filter to just suicides\n",
    "        suicide_data = data[data[death_var] == suicide_val]\n",
    "        \n",
    "        # Clean data\n",
    "        # Drop bad data\n",
    "        # TODO: what is going on here\n",
    "        if year >= 2010:\n",
    "            prefix = suicide_data['age'].apply(lambda x: int(str(x)[:2]))\n",
    "            clean_suicide_data = suicide_data[prefix == 10].copy()\n",
    "            actual_age = clean_suicide_data['age'].apply(lambda x: int(str(x)[2:]))\n",
    "            clean_suicide_data['actual_age'] = actual_age\n",
    "        else:\n",
    "            clean_suicide_data = suicide_data[suicide_data['age'] != 999].copy()\n",
    "            clean_suicide_data['actual_age'] = clean_suicide_data['age']        \n",
    "\n",
    "        # Drop irrelevant vars\n",
    "        final_suicide_data = clean_suicide_data[['sex', 'actual_age', 'monthdth']].copy()\n",
    "        final_suicide_data = final_suicide_data.rename(columns={'actual_age': 'age', 'monthdth': 'month'})\n",
    "        final_suicide_data['year'] = year\n",
    "        #final_suicide_data['age_group'] = final_suicide_data['age'].map(AGE_GROUPS_MAP)\n",
    "        \n",
    "        # Save data\n",
    "        final_suicide_data.to_csv(new_filename)\n",
    "        print \"Saved\", new_filename"
   ]
  },
  {
   "cell_type": "code",
   "execution_count": null,
   "metadata": {
    "hidden": true
   },
   "outputs": [],
   "source": []
  },
  {
   "cell_type": "code",
   "execution_count": 20,
   "metadata": {
    "hidden": true,
    "scrolled": true
   },
   "outputs": [
    {
     "name": "stdout",
     "output_type": "stream",
     "text": [
      "cleaned_data\\2000.csv already exists\n",
      "Loading 2001\n"
     ]
    },
    {
     "name": "stderr",
     "output_type": "stream",
     "text": [
      "C:\\Users\\basil\\Anaconda2\\lib\\site-packages\\IPython\\core\\interactiveshell.py:2824: DtypeWarning: Columns (8,9,10,11,15,17,18,86,89,92,95,98,101,104,107,110,113,125,126,127,128,129,130,131,132,133,134,135) have mixed types. Specify dtype option on import or set low_memory=False.\n",
      "  if self.run_code(code, result):\n"
     ]
    },
    {
     "name": "stdout",
     "output_type": "stream",
     "text": [
      "Saved cleaned_data\\2001.csv\n",
      "Loading 2002\n"
     ]
    },
    {
     "name": "stderr",
     "output_type": "stream",
     "text": [
      "C:\\Users\\basil\\Anaconda2\\lib\\site-packages\\IPython\\core\\interactiveshell.py:2824: DtypeWarning: Columns (8,9,10,11,15,17,18,86,89,92,95,98,101,104,107,110,126,127,128,129,130,131,132,133,134) have mixed types. Specify dtype option on import or set low_memory=False.\n",
      "  if self.run_code(code, result):\n"
     ]
    },
    {
     "name": "stdout",
     "output_type": "stream",
     "text": [
      "Saved cleaned_data\\2002.csv\n",
      "Loading 2003\n"
     ]
    },
    {
     "name": "stderr",
     "output_type": "stream",
     "text": [
      "C:\\Users\\basil\\Anaconda2\\lib\\site-packages\\IPython\\core\\interactiveshell.py:2824: DtypeWarning: Columns (10,11,14,15,75,78,81,84,87,90,93,96,99,102,116,117,118,119,120,121,122,123,124) have mixed types. Specify dtype option on import or set low_memory=False.\n",
      "  if self.run_code(code, result):\n"
     ]
    },
    {
     "name": "stdout",
     "output_type": "stream",
     "text": [
      "Saved cleaned_data\\2003.csv\n",
      "Loading 2004\n"
     ]
    },
    {
     "name": "stderr",
     "output_type": "stream",
     "text": [
      "C:\\Users\\basil\\Anaconda2\\lib\\site-packages\\IPython\\core\\interactiveshell.py:2824: DtypeWarning: Columns (10,11,14,15,75,78,81,84,87,90,93,96,99,116,117,118,119,120,121,122,123,124) have mixed types. Specify dtype option on import or set low_memory=False.\n",
      "  if self.run_code(code, result):\n"
     ]
    },
    {
     "name": "stdout",
     "output_type": "stream",
     "text": [
      "Saved cleaned_data\\2004.csv\n",
      "Loading 2005\n"
     ]
    },
    {
     "name": "stderr",
     "output_type": "stream",
     "text": [
      "C:\\Users\\basil\\Anaconda2\\lib\\site-packages\\IPython\\core\\interactiveshell.py:2824: DtypeWarning: Columns (60,63,66,69,72,75,78,81,84,98,99,100,101,102,103,104,105) have mixed types. Specify dtype option on import or set low_memory=False.\n",
      "  if self.run_code(code, result):\n"
     ]
    },
    {
     "name": "stdout",
     "output_type": "stream",
     "text": [
      "Saved cleaned_data\\2005.csv\n",
      "Loading 2006\n"
     ]
    },
    {
     "name": "stderr",
     "output_type": "stream",
     "text": [
      "C:\\Users\\basil\\Anaconda2\\lib\\site-packages\\IPython\\core\\interactiveshell.py:2824: DtypeWarning: Columns (60,63,66,69,72,75,78,81,84,98,99,100,101,102,103,104,105,106) have mixed types. Specify dtype option on import or set low_memory=False.\n",
      "  if self.run_code(code, result):\n"
     ]
    },
    {
     "name": "stdout",
     "output_type": "stream",
     "text": [
      "Saved cleaned_data\\2006.csv\n",
      "Loading 2007\n"
     ]
    },
    {
     "name": "stderr",
     "output_type": "stream",
     "text": [
      "C:\\Users\\basil\\Anaconda2\\lib\\site-packages\\IPython\\core\\interactiveshell.py:2824: DtypeWarning: Columns (60,63,66,69,72,75,78,81,98,99,100,101,102,103,104,105,106) have mixed types. Specify dtype option on import or set low_memory=False.\n",
      "  if self.run_code(code, result):\n"
     ]
    },
    {
     "name": "stdout",
     "output_type": "stream",
     "text": [
      "Saved cleaned_data\\2007.csv\n",
      "Loading 2008\n"
     ]
    },
    {
     "name": "stderr",
     "output_type": "stream",
     "text": [
      "C:\\Users\\basil\\Anaconda2\\lib\\site-packages\\IPython\\core\\interactiveshell.py:2824: DtypeWarning: Columns (60,63,66,69,72,75,78,81,98,99,100,101,102,103,104,105) have mixed types. Specify dtype option on import or set low_memory=False.\n",
      "  if self.run_code(code, result):\n"
     ]
    },
    {
     "name": "stdout",
     "output_type": "stream",
     "text": [
      "Saved cleaned_data\\2008.csv\n",
      "Loading 2009\n"
     ]
    },
    {
     "name": "stderr",
     "output_type": "stream",
     "text": [
      "C:\\Users\\basil\\Anaconda2\\lib\\site-packages\\IPython\\core\\interactiveshell.py:2824: DtypeWarning: Columns (39,42,45,48,51,54,57,60,63,66,69,72,75,78,81,84,87,91,92,93,94,95,96,97,98,99,100,101,102,103,104,105,106) have mixed types. Specify dtype option on import or set low_memory=False.\n",
      "  if self.run_code(code, result):\n"
     ]
    },
    {
     "name": "stdout",
     "output_type": "stream",
     "text": [
      "Saved cleaned_data\\2009.csv\n",
      "cleaned_data\\2010.csv already exists\n",
      "cleaned_data\\2011.csv already exists\n",
      "cleaned_data\\2012.csv already exists\n",
      "cleaned_data\\2013.csv already exists\n",
      "cleaned_data\\2014.csv already exists\n",
      "cleaned_data\\2015.csv already exists\n",
      "cleaned_data\\2016.csv already exists\n",
      "cleaned_data\\2017.csv already exists\n"
     ]
    }
   ],
   "source": [
    "get_suicide_data_by_year()"
   ]
  },
  {
   "cell_type": "markdown",
   "metadata": {
    "heading_collapsed": true
   },
   "source": [
    "# Computing suicide rates"
   ]
  },
  {
   "cell_type": "markdown",
   "metadata": {
    "heading_collapsed": true,
    "hidden": true
   },
   "source": [
    "### Computing"
   ]
  },
  {
   "cell_type": "code",
   "execution_count": 21,
   "metadata": {
    "hidden": true
   },
   "outputs": [],
   "source": [
    "def stack_suicide_data(start_year=START_YEAR, end_year=END_YEAR, suicide_data_loc_base=CLEAN_DATA_BASE):\n",
    "    data = {}\n",
    "    for year in range(start_year, end_year+1):\n",
    "        filename = os.path.join(suicide_data_loc_base, '{0}.csv'.format(year))\n",
    "        data[year] = pd.read_csv(filename, index_col=0)\n",
    "        \n",
    "    stacked_data = pd.concat(data.values(), axis=0)\n",
    "    return stacked_data"
   ]
  },
  {
   "cell_type": "code",
   "execution_count": 23,
   "metadata": {
    "hidden": true
   },
   "outputs": [],
   "source": [
    "suicide_data = stack_suicide_data()"
   ]
  },
  {
   "cell_type": "code",
   "execution_count": 124,
   "metadata": {
    "hidden": true
   },
   "outputs": [],
   "source": [
    "AGE_GROUPS = {\n",
    "    '<15': range(0, 15),\n",
    "    '15-18': range(15, 19),\n",
    "    '19-25': range(19, 26),\n",
    "    '>25': range(26, 100)\n",
    "}\n",
    "\n",
    "#AGE_GROUPS = {\n",
    "#    '<18': range(0, 18),\n",
    "#    '>=18': range(18, 100),\n",
    "#}\n",
    "\n",
    "def get_age_order(age_groups):\n",
    "    first_val = [k for k in age_groups if '<' in k]\n",
    "    last_val = [k for k in age_groups if '>' in k]\n",
    "    other = [k for k in age_groups if k not in first_val and k not in last_val]\n",
    "    other = sorted(other)\n",
    "    return first_val + other + last_val\n",
    "GROUP_ORDER = ['<15', '15-18', '19-25', '>25']\n",
    "GROUP_ORDER = get_age_order(AGE_GROUPS)\n",
    "\n",
    "def get_age_groups_map(age_groups):\n",
    "    return {\n",
    "        v: k\n",
    "        for k in age_groups\n",
    "        for v in age_groups[k]\n",
    "    }\n",
    "AGE_GROUPS_MAP = get_age_groups_map(AGE_GROUPS)"
   ]
  },
  {
   "cell_type": "code",
   "execution_count": 125,
   "metadata": {
    "hidden": true,
    "scrolled": true
   },
   "outputs": [],
   "source": [
    "suicide_data['age_group'] = suicide_data['age'].map(AGE_GROUPS_MAP)"
   ]
  },
  {
   "cell_type": "code",
   "execution_count": 126,
   "metadata": {
    "hidden": true
   },
   "outputs": [],
   "source": [
    "arbitrary_column = 'sex' # just to avoid having the same thing repeated over and over\n",
    "suicide_counts_by_age_group_by_monthyear = (\n",
    "    suicide_data\n",
    "    .groupby(['year', 'month', 'age_group'])\n",
    "    .count()\n",
    "    [arbitrary_column]\n",
    "    .unstack()\n",
    ")"
   ]
  },
  {
   "cell_type": "code",
   "execution_count": 127,
   "metadata": {
    "hidden": true
   },
   "outputs": [],
   "source": [
    "pop_by_group = pd.DataFrame()\n",
    "for group_k, group_v in AGE_GROUPS.iteritems():\n",
    "    pop_by_group[group_k] = pop_data[group_v].sum(1)\n",
    "pop_by_group = pop_by_group[GROUP_ORDER]\n",
    "pop_by_group.index.name = 'year'"
   ]
  },
  {
   "cell_type": "code",
   "execution_count": 128,
   "metadata": {
    "hidden": true
   },
   "outputs": [],
   "source": [
    "blank_df = pd.DataFrame(index=suicide_counts_by_age_group_by_monthyear.index)\n",
    "pop_by_group_by_monthyear = blank_df.join(pop_by_group)"
   ]
  },
  {
   "cell_type": "code",
   "execution_count": 129,
   "metadata": {
    "hidden": true,
    "scrolled": true
   },
   "outputs": [],
   "source": [
    "suicide_rate_by_monthyear = suicide_counts_by_age_group_by_monthyear/pop_by_group_by_monthyear\n",
    "\n",
    "suicide_rate_per100k_annualized_by_monthyear = suicide_rate_by_monthyear*12*100000"
   ]
  },
  {
   "cell_type": "code",
   "execution_count": 130,
   "metadata": {
    "hidden": true
   },
   "outputs": [],
   "source": [
    "tmp = suicide_rate_per100k_annualized_by_monthyear.reset_index()\n",
    "del tmp['year']\n",
    "suicide_rate_per100k_annualized_by_month = tmp.groupby('month').mean()"
   ]
  },
  {
   "cell_type": "markdown",
   "metadata": {
    "heading_collapsed": true,
    "hidden": true
   },
   "source": [
    "### Plotting"
   ]
  },
  {
   "cell_type": "code",
   "execution_count": 131,
   "metadata": {
    "hidden": true
   },
   "outputs": [
    {
     "data": {
      "image/png": "[encoded data removed]",
      "text/plain": [
       "<Figure size 648x432 with 1 Axes>"
      ]
     },
     "metadata": {},
     "output_type": "display_data"
    }
   ],
   "source": [
    "COLORS = [\"#9b59b6\", \"#3498db\", \"#95a5a6\", \"#e74c3c\", \"#34495e\", \"#2ecc71\"]\n",
    "\n",
    "suicide_rate_per100k_annualized_by_month.plot(figsize=(9, 6), style='-*', color=COLORS)\n",
    "_ = plt.title('Suicide rate by month, relative to whole-year' + year_range_str, fontsize=14)\n",
    "_ = plt.xticks(fontsize=12)\n",
    "_ = plt.xlabel('month', fontsize=12)\n",
    "_ = plt.yticks(fontsize=12)\n",
    "#_ = plt.axhline(1.0, color='gray')"
   ]
  },
  {
   "cell_type": "code",
   "execution_count": 132,
   "metadata": {
    "hidden": true
   },
   "outputs": [],
   "source": [
    "months_map = {\n",
    "    1: 'Jan.',\n",
    "    2: 'Feb.',\n",
    "    3: 'Mar.',\n",
    "    4: 'Apr.',\n",
    "    5: 'May',\n",
    "    6: 'June',\n",
    "    7: 'July',\n",
    "    8: 'Aug.',\n",
    "    9: 'Sep.',\n",
    "    10: 'Oct.',\n",
    "    11: 'Nov.',\n",
    "    12: 'Dec.',\n",
    "}\n",
    "\n",
    "rel = (suicide_rate_per100k_annualized_by_month\n",
    " /suicide_rate_per100k_annualized_by_month.mean()\n",
    "# /suicide_rate_per100k_annualized_by_month.loc[9]\n",
    ")\n",
    "rel = rel.rename(index=months_map)"
   ]
  },
  {
   "cell_type": "code",
   "execution_count": 133,
   "metadata": {
    "hidden": true
   },
   "outputs": [
    {
     "data": {
      "image/png": "[encoded data removed]",
      "text/plain": [
       "<Figure size 648x432 with 1 Axes>"
      ]
     },
     "metadata": {},
     "output_type": "display_data"
    }
   ],
   "source": [
    "COLORS = [\"#9b59b6\", \"#3498db\", \"#95a5a6\", \"#e74c3c\", \"#34495e\", \"#2ecc71\"]\n",
    "\n",
    "rel.plot(figsize=(9, 6), style='-*', color=COLORS)\n",
    "_ = plt.title('Annualized suicide rate per 100k' + year_range_str, fontsize=14)\n",
    "_ = plt.xticks(fontsize=12)\n",
    "_ = plt.xlabel('month', fontsize=12)\n",
    "_ = plt.yticks(fontsize=12)\n",
    "#_ = plt.axhline(1.0, color='gray')"
   ]
  },
  {
   "cell_type": "code",
   "execution_count": 134,
   "metadata": {
    "hidden": true
   },
   "outputs": [
    {
     "data": {
      "text/html": [
       "<div>\n",
       "<style scoped>\n",
       "    .dataframe tbody tr th:only-of-type {\n",
       "        vertical-align: middle;\n",
       "    }\n",
       "\n",
       "    .dataframe tbody tr th {\n",
       "        vertical-align: top;\n",
       "    }\n",
       "\n",
       "    .dataframe thead th {\n",
       "        text-align: right;\n",
       "    }\n",
       "</style>\n",
       "<table border=\"1\" class=\"dataframe\">\n",
       "  <thead>\n",
       "    <tr style=\"text-align: right;\">\n",
       "      <th></th>\n",
       "      <th>15-18</th>\n",
       "      <th>19-25</th>\n",
       "      <th>&lt;15</th>\n",
       "      <th>&gt;25</th>\n",
       "    </tr>\n",
       "    <tr>\n",
       "      <th>month</th>\n",
       "      <th></th>\n",
       "      <th></th>\n",
       "      <th></th>\n",
       "      <th></th>\n",
       "    </tr>\n",
       "  </thead>\n",
       "  <tbody>\n",
       "    <tr>\n",
       "      <th>1</th>\n",
       "      <td>8.354390</td>\n",
       "      <td>13.494667</td>\n",
       "      <td>0.618279</td>\n",
       "      <td>16.241302</td>\n",
       "    </tr>\n",
       "    <tr>\n",
       "      <th>2</th>\n",
       "      <td>7.670255</td>\n",
       "      <td>12.281440</td>\n",
       "      <td>0.599908</td>\n",
       "      <td>14.639978</td>\n",
       "    </tr>\n",
       "    <tr>\n",
       "      <th>3</th>\n",
       "      <td>8.301958</td>\n",
       "      <td>14.031444</td>\n",
       "      <td>0.653651</td>\n",
       "      <td>16.741817</td>\n",
       "    </tr>\n",
       "    <tr>\n",
       "      <th>4</th>\n",
       "      <td>8.530461</td>\n",
       "      <td>14.184952</td>\n",
       "      <td>0.720015</td>\n",
       "      <td>16.767500</td>\n",
       "    </tr>\n",
       "    <tr>\n",
       "      <th>5</th>\n",
       "      <td>8.382228</td>\n",
       "      <td>14.400606</td>\n",
       "      <td>0.608891</td>\n",
       "      <td>17.520171</td>\n",
       "    </tr>\n",
       "    <tr>\n",
       "      <th>6</th>\n",
       "      <td>6.907016</td>\n",
       "      <td>13.216498</td>\n",
       "      <td>0.445859</td>\n",
       "      <td>16.988762</td>\n",
       "    </tr>\n",
       "    <tr>\n",
       "      <th>7</th>\n",
       "      <td>6.522186</td>\n",
       "      <td>14.440996</td>\n",
       "      <td>0.472815</td>\n",
       "      <td>17.754160</td>\n",
       "    </tr>\n",
       "    <tr>\n",
       "      <th>8</th>\n",
       "      <td>7.738492</td>\n",
       "      <td>14.892690</td>\n",
       "      <td>0.535373</td>\n",
       "      <td>17.710559</td>\n",
       "    </tr>\n",
       "    <tr>\n",
       "      <th>9</th>\n",
       "      <td>8.194755</td>\n",
       "      <td>13.922471</td>\n",
       "      <td>0.554798</td>\n",
       "      <td>16.579858</td>\n",
       "    </tr>\n",
       "    <tr>\n",
       "      <th>10</th>\n",
       "      <td>9.088329</td>\n",
       "      <td>14.283676</td>\n",
       "      <td>0.634137</td>\n",
       "      <td>16.615173</td>\n",
       "    </tr>\n",
       "    <tr>\n",
       "      <th>11</th>\n",
       "      <td>8.078739</td>\n",
       "      <td>13.141368</td>\n",
       "      <td>0.666195</td>\n",
       "      <td>15.437516</td>\n",
       "    </tr>\n",
       "    <tr>\n",
       "      <th>12</th>\n",
       "      <td>7.051914</td>\n",
       "      <td>13.214101</td>\n",
       "      <td>0.521120</td>\n",
       "      <td>15.381096</td>\n",
       "    </tr>\n",
       "  </tbody>\n",
       "</table>\n",
       "</div>"
      ],
      "text/plain": [
       "          15-18      19-25       <15        >25\n",
       "month                                          \n",
       "1      8.354390  13.494667  0.618279  16.241302\n",
       "2      7.670255  12.281440  0.599908  14.639978\n",
       "3      8.301958  14.031444  0.653651  16.741817\n",
       "4      8.530461  14.184952  0.720015  16.767500\n",
       "5      8.382228  14.400606  0.608891  17.520171\n",
       "6      6.907016  13.216498  0.445859  16.988762\n",
       "7      6.522186  14.440996  0.472815  17.754160\n",
       "8      7.738492  14.892690  0.535373  17.710559\n",
       "9      8.194755  13.922471  0.554798  16.579858\n",
       "10     9.088329  14.283676  0.634137  16.615173\n",
       "11     8.078739  13.141368  0.666195  15.437516\n",
       "12     7.051914  13.214101  0.521120  15.381096"
      ]
     },
     "execution_count": 134,
     "metadata": {},
     "output_type": "execute_result"
    }
   ],
   "source": [
    "suicide_rate_per100k_annualized_by_month"
   ]
  },
  {
   "cell_type": "code",
   "execution_count": null,
   "metadata": {
    "hidden": true
   },
   "outputs": [],
   "source": []
  },
  {
   "cell_type": "markdown",
   "metadata": {
    "heading_collapsed": true,
    "hidden": true
   },
   "source": [
    "### Regressing"
   ]
  },
  {
   "cell_type": "code",
   "execution_count": 157,
   "metadata": {
    "hidden": true,
    "scrolled": true
   },
   "outputs": [],
   "source": [
    "df = suicide_rate_per100k_annualized_by_monthyear.reset_index()\n",
    "df['year_month'] = df['year'].astype(str) + '-' + df['month'].astype(str)\n",
    "del df['year']\n",
    "del df['month']\n",
    "df = df.set_index('year_month')\n",
    "df = df.stack().reset_index()\n",
    "df = df.rename(columns={\n",
    "    'level_1': 'age_group',\n",
    "    0: 'suicide_rate_per100k_annualized'\n",
    "})\n",
    "df['year'] = df['year_month'].str[:4]\n",
    "df['month'] = df['year_month'].str[5:]"
   ]
  },
  {
   "cell_type": "code",
   "execution_count": 158,
   "metadata": {
    "hidden": true
   },
   "outputs": [
    {
     "data": {
      "text/html": [
       "<div>\n",
       "<style scoped>\n",
       "    .dataframe tbody tr th:only-of-type {\n",
       "        vertical-align: middle;\n",
       "    }\n",
       "\n",
       "    .dataframe tbody tr th {\n",
       "        vertical-align: top;\n",
       "    }\n",
       "\n",
       "    .dataframe thead th {\n",
       "        text-align: right;\n",
       "    }\n",
       "</style>\n",
       "<table border=\"1\" class=\"dataframe\">\n",
       "  <thead>\n",
       "    <tr style=\"text-align: right;\">\n",
       "      <th></th>\n",
       "      <th>year_month</th>\n",
       "      <th>age_group</th>\n",
       "      <th>suicide_rate_per100k_annualized</th>\n",
       "      <th>year</th>\n",
       "      <th>month</th>\n",
       "    </tr>\n",
       "  </thead>\n",
       "  <tbody>\n",
       "    <tr>\n",
       "      <th>0</th>\n",
       "      <td>2000-1</td>\n",
       "      <td>15-18</td>\n",
       "      <td>8.308629</td>\n",
       "      <td>2000</td>\n",
       "      <td>1</td>\n",
       "    </tr>\n",
       "    <tr>\n",
       "      <th>1</th>\n",
       "      <td>2000-1</td>\n",
       "      <td>19-25</td>\n",
       "      <td>12.674456</td>\n",
       "      <td>2000</td>\n",
       "      <td>1</td>\n",
       "    </tr>\n",
       "    <tr>\n",
       "      <th>2</th>\n",
       "      <td>2000-1</td>\n",
       "      <td>&lt;15</td>\n",
       "      <td>0.716657</td>\n",
       "      <td>2000</td>\n",
       "      <td>1</td>\n",
       "    </tr>\n",
       "    <tr>\n",
       "      <th>3</th>\n",
       "      <td>2000-1</td>\n",
       "      <td>&gt;25</td>\n",
       "      <td>14.529730</td>\n",
       "      <td>2000</td>\n",
       "      <td>1</td>\n",
       "    </tr>\n",
       "    <tr>\n",
       "      <th>4</th>\n",
       "      <td>2000-2</td>\n",
       "      <td>15-18</td>\n",
       "      <td>7.715155</td>\n",
       "      <td>2000</td>\n",
       "      <td>2</td>\n",
       "    </tr>\n",
       "  </tbody>\n",
       "</table>\n",
       "</div>"
      ],
      "text/plain": [
       "  year_month age_group  suicide_rate_per100k_annualized  year month\n",
       "0     2000-1     15-18                         8.308629  2000     1\n",
       "1     2000-1     19-25                        12.674456  2000     1\n",
       "2     2000-1       <15                         0.716657  2000     1\n",
       "3     2000-1       >25                        14.529730  2000     1\n",
       "4     2000-2     15-18                         7.715155  2000     2"
      ]
     },
     "execution_count": 158,
     "metadata": {},
     "output_type": "execute_result"
    }
   ],
   "source": [
    "df.head()"
   ]
  },
  {
   "cell_type": "code",
   "execution_count": 160,
   "metadata": {
    "hidden": true
   },
   "outputs": [],
   "source": [
    "reg = sm.OLS.from_formula(data=df, formula='suicide_rate_per100k_annualized ~ C(month) + C(year) + C(age_group)').fit()"
   ]
  },
  {
   "cell_type": "code",
   "execution_count": null,
   "metadata": {
    "hidden": true
   },
   "outputs": [],
   "source": []
  },
  {
   "cell_type": "code",
   "execution_count": null,
   "metadata": {
    "hidden": true
   },
   "outputs": [],
   "source": []
  },
  {
   "cell_type": "code",
   "execution_count": null,
   "metadata": {
    "hidden": true
   },
   "outputs": [],
   "source": []
  },
  {
   "cell_type": "code",
   "execution_count": null,
   "metadata": {
    "hidden": true
   },
   "outputs": [],
   "source": []
  },
  {
   "cell_type": "code",
   "execution_count": null,
   "metadata": {
    "hidden": true
   },
   "outputs": [],
   "source": []
  },
  {
   "cell_type": "code",
   "execution_count": null,
   "metadata": {
    "hidden": true
   },
   "outputs": [],
   "source": []
  },
  {
   "cell_type": "code",
   "execution_count": null,
   "metadata": {
    "hidden": true
   },
   "outputs": [],
   "source": []
  },
  {
   "cell_type": "code",
   "execution_count": null,
   "metadata": {
    "hidden": true
   },
   "outputs": [],
   "source": []
  }
 ],
 "metadata": {
  "kernelspec": {
   "display_name": "Python 2",
   "language": "python",
   "name": "python2"
  },
  "language_info": {
   "codemirror_mode": {
    "name": "ipython",
    "version": 2
   },
   "file_extension": ".py",
   "mimetype": "text/x-python",
   "name": "python",
   "nbconvert_exporter": "python",
   "pygments_lexer": "ipython2",
   "version": "2.7.15"
  }
 },
 "nbformat": 4,
 "nbformat_minor": 2
}
