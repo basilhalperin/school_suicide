{
 "cells": [
  {
   "cell_type": "code",
   "execution_count": 1,
   "metadata": {},
   "outputs": [
    {
     "name": "stderr",
     "output_type": "stream",
     "text": [
      "/bbkinghome/basilh/.local/lib/python2.7/site-packages/pandas/core/nanops.py:39: UserWarning: The installed version of bottleneck 0.7.0 is not supported in pandas and will be not be used\n",
      "The minimum supported version is 1.0.0\n",
      "\n",
      "  ver=ver, min_ver=_MIN_BOTTLENECK_VERSION), UserWarning)\n"
     ]
    }
   ],
   "source": [
    "import pandas as pd\n",
    "import os\n",
    "import zipfile\n",
    "import StringIO\n",
    "import requests\n",
    "import statsmodels.api as sm\n",
    "from IPython.display import clear_output\n",
    "\n",
    "import matplotlib.pyplot as plt\n",
    "import seaborn\n",
    "seaborn.set_style('white')\n",
    "%matplotlib inline"
   ]
  },
  {
   "cell_type": "markdown",
   "metadata": {
    "heading_collapsed": true
   },
   "source": [
    "# Death data"
   ]
  },
  {
   "cell_type": "code",
   "execution_count": 112,
   "metadata": {
    "hidden": true
   },
   "outputs": [],
   "source": [
    "BASE_URL = \"https://www.nber.org/mortality/{0}/mort{0}.csv.zip\"\n",
    "DOWNLOAD_DEST_BASE = 'nchs_mcd_rawdata'\n",
    "START_YEAR = 1979\n",
    "END_YEAR = 2017"
   ]
  },
  {
   "cell_type": "code",
   "execution_count": 113,
   "metadata": {
    "hidden": true
   },
   "outputs": [],
   "source": [
    "# If raw data folder doesn't exist, create it\n",
    "if not os.path.exists(DOWNLOAD_DEST_BASE):\n",
    "    print 'Making \"{0}\" directory...'.format(DOWNLOAD_DEST_BASE)\n",
    "    os.makedirs('{0}'.format(DOWNLOAD_DEST_BASE))"
   ]
  },
  {
   "cell_type": "code",
   "execution_count": 114,
   "metadata": {
    "hidden": true
   },
   "outputs": [],
   "source": [
    "def download_raw_data_by_year(year, base_url=BASE_URL, download_dest_base=DOWNLOAD_DEST_BASE):\n",
    "    \"\"\"\n",
    "    See documentation stuff here:\n",
    "    https://www.nber.org/data/vital-statistics-mortality-data-multiple-cause-of-death.html\n",
    "    \"\"\"\n",
    "    year = str(year)\n",
    "    \n",
    "    # Check if already exists\n",
    "    if os.path.exists(os.path.join(download_dest_base, '{0}.csv'.format(year))):\n",
    "        print \"Already have data for {0}\".format(year)\n",
    "        return\n",
    "    \n",
    "    # Specify file locations\n",
    "    url = base_url.format(year)\n",
    "    download_dest = os.path.join(download_dest_base, year)\n",
    "\n",
    "    # Download data\n",
    "    r = requests.get(url, stream=True)\n",
    "    with zipfile.ZipFile(StringIO.StringIO(r.content)) as zf:\n",
    "        zf.extractall(download_dest)\n",
    "\n",
    "    # Move CSV to main directory and delete empty folder\n",
    "    current_filename = os.path.join(download_dest, 'mort{0}.csv'.format(year))\n",
    "    new_filename = os.path.join(download_dest_base, '{0}.csv'.format(year))\n",
    "    os.rename(current_filename, new_filename)\n",
    "    os.rmdir(os.path.join(download_dest_base, year))\n",
    "    \n",
    "    print \"Downloaded data for {0}\".format(year)"
   ]
  },
  {
   "cell_type": "code",
   "execution_count": 115,
   "metadata": {
    "hidden": true
   },
   "outputs": [],
   "source": [
    "def download_raw_data(start_year=START_YEAR, end_year=END_YEAR, \n",
    "                      base_url=BASE_URL, download_dest_base=DOWNLOAD_DEST_BASE):\n",
    "    years = range(start_year, end_year+1)\n",
    "    \n",
    "    for year in years:\n",
    "        download_raw_data_by_year(year, base_url, download_dest_base)"
   ]
  },
  {
   "cell_type": "code",
   "execution_count": 116,
   "metadata": {
    "hidden": true,
    "scrolled": true
   },
   "outputs": [
    {
     "name": "stdout",
     "output_type": "stream",
     "text": [
      "Already have data for 1979\n",
      "Already have data for 1980\n",
      "Already have data for 1981\n",
      "Already have data for 1982\n",
      "Already have data for 1983\n",
      "Already have data for 1984\n",
      "Already have data for 1985\n",
      "Already have data for 1986\n",
      "Already have data for 1987\n",
      "Already have data for 1988\n",
      "Already have data for 1989\n",
      "Already have data for 1990\n",
      "Already have data for 1991\n",
      "Already have data for 1992\n",
      "Already have data for 1993\n",
      "Already have data for 1994\n",
      "Already have data for 1995\n",
      "Already have data for 1996\n",
      "Already have data for 1997\n",
      "Already have data for 1998\n",
      "Already have data for 1999\n"
     ]
    },
    {
     "ename": "KeyboardInterrupt",
     "evalue": "",
     "output_type": "error",
     "traceback": [
      "\u001b[0;31m---------------------------------------------------------------------------\u001b[0m",
      "\u001b[0;31mKeyboardInterrupt\u001b[0m                         Traceback (most recent call last)",
      "\u001b[0;32m<ipython-input-116-70eb018bce8b>\u001b[0m in \u001b[0;36m<module>\u001b[0;34m()\u001b[0m\n\u001b[0;32m----> 1\u001b[0;31m \u001b[0mdownload_raw_data\u001b[0m\u001b[0;34m(\u001b[0m\u001b[0;34m)\u001b[0m\u001b[0;34m\u001b[0m\u001b[0m\n\u001b[0m",
      "\u001b[0;32m<ipython-input-115-7d649f742c95>\u001b[0m in \u001b[0;36mdownload_raw_data\u001b[0;34m(start_year, end_year, base_url, download_dest_base)\u001b[0m\n\u001b[1;32m      4\u001b[0m \u001b[0;34m\u001b[0m\u001b[0m\n\u001b[1;32m      5\u001b[0m     \u001b[0;32mfor\u001b[0m \u001b[0myear\u001b[0m \u001b[0;32min\u001b[0m \u001b[0myears\u001b[0m\u001b[0;34m:\u001b[0m\u001b[0;34m\u001b[0m\u001b[0m\n\u001b[0;32m----> 6\u001b[0;31m         \u001b[0mdownload_raw_data_by_year\u001b[0m\u001b[0;34m(\u001b[0m\u001b[0myear\u001b[0m\u001b[0;34m,\u001b[0m \u001b[0mbase_url\u001b[0m\u001b[0;34m,\u001b[0m \u001b[0mdownload_dest_base\u001b[0m\u001b[0;34m)\u001b[0m\u001b[0;34m\u001b[0m\u001b[0m\n\u001b[0m",
      "\u001b[0;32m<ipython-input-114-0e67b48d867f>\u001b[0m in \u001b[0;36mdownload_raw_data_by_year\u001b[0;34m(year, base_url, download_dest_base)\u001b[0m\n\u001b[1;32m     18\u001b[0m     \u001b[0mr\u001b[0m \u001b[0;34m=\u001b[0m \u001b[0mrequests\u001b[0m\u001b[0;34m.\u001b[0m\u001b[0mget\u001b[0m\u001b[0;34m(\u001b[0m\u001b[0murl\u001b[0m\u001b[0;34m,\u001b[0m \u001b[0mstream\u001b[0m\u001b[0;34m=\u001b[0m\u001b[0mTrue\u001b[0m\u001b[0;34m)\u001b[0m\u001b[0;34m\u001b[0m\u001b[0m\n\u001b[1;32m     19\u001b[0m     \u001b[0;32mwith\u001b[0m \u001b[0mzipfile\u001b[0m\u001b[0;34m.\u001b[0m\u001b[0mZipFile\u001b[0m\u001b[0;34m(\u001b[0m\u001b[0mStringIO\u001b[0m\u001b[0;34m.\u001b[0m\u001b[0mStringIO\u001b[0m\u001b[0;34m(\u001b[0m\u001b[0mr\u001b[0m\u001b[0;34m.\u001b[0m\u001b[0mcontent\u001b[0m\u001b[0;34m)\u001b[0m\u001b[0;34m)\u001b[0m \u001b[0;32mas\u001b[0m \u001b[0mzf\u001b[0m\u001b[0;34m:\u001b[0m\u001b[0;34m\u001b[0m\u001b[0m\n\u001b[0;32m---> 20\u001b[0;31m         \u001b[0mzf\u001b[0m\u001b[0;34m.\u001b[0m\u001b[0mextractall\u001b[0m\u001b[0;34m(\u001b[0m\u001b[0mdownload_dest\u001b[0m\u001b[0;34m)\u001b[0m\u001b[0;34m\u001b[0m\u001b[0m\n\u001b[0m\u001b[1;32m     21\u001b[0m \u001b[0;34m\u001b[0m\u001b[0m\n\u001b[1;32m     22\u001b[0m     \u001b[0;31m# Move CSV to main directory and delete empty folder\u001b[0m\u001b[0;34m\u001b[0m\u001b[0;34m\u001b[0m\u001b[0m\n",
      "\u001b[0;32m/usr/lib64/python2.7/zipfile.pyc\u001b[0m in \u001b[0;36mextractall\u001b[0;34m(self, path, members, pwd)\u001b[0m\n\u001b[1;32m   1034\u001b[0m \u001b[0;34m\u001b[0m\u001b[0m\n\u001b[1;32m   1035\u001b[0m         \u001b[0;32mfor\u001b[0m \u001b[0mzipinfo\u001b[0m \u001b[0;32min\u001b[0m \u001b[0mmembers\u001b[0m\u001b[0;34m:\u001b[0m\u001b[0;34m\u001b[0m\u001b[0m\n\u001b[0;32m-> 1036\u001b[0;31m             \u001b[0mself\u001b[0m\u001b[0;34m.\u001b[0m\u001b[0mextract\u001b[0m\u001b[0;34m(\u001b[0m\u001b[0mzipinfo\u001b[0m\u001b[0;34m,\u001b[0m \u001b[0mpath\u001b[0m\u001b[0;34m,\u001b[0m \u001b[0mpwd\u001b[0m\u001b[0;34m)\u001b[0m\u001b[0;34m\u001b[0m\u001b[0m\n\u001b[0m\u001b[1;32m   1037\u001b[0m \u001b[0;34m\u001b[0m\u001b[0m\n\u001b[1;32m   1038\u001b[0m     \u001b[0;32mdef\u001b[0m \u001b[0m_extract_member\u001b[0m\u001b[0;34m(\u001b[0m\u001b[0mself\u001b[0m\u001b[0;34m,\u001b[0m \u001b[0mmember\u001b[0m\u001b[0;34m,\u001b[0m \u001b[0mtargetpath\u001b[0m\u001b[0;34m,\u001b[0m \u001b[0mpwd\u001b[0m\u001b[0;34m)\u001b[0m\u001b[0;34m:\u001b[0m\u001b[0;34m\u001b[0m\u001b[0m\n",
      "\u001b[0;32m/usr/lib64/python2.7/zipfile.pyc\u001b[0m in \u001b[0;36mextract\u001b[0;34m(self, member, path, pwd)\u001b[0m\n\u001b[1;32m   1022\u001b[0m             \u001b[0mpath\u001b[0m \u001b[0;34m=\u001b[0m \u001b[0mos\u001b[0m\u001b[0;34m.\u001b[0m\u001b[0mgetcwd\u001b[0m\u001b[0;34m(\u001b[0m\u001b[0;34m)\u001b[0m\u001b[0;34m\u001b[0m\u001b[0m\n\u001b[1;32m   1023\u001b[0m \u001b[0;34m\u001b[0m\u001b[0m\n\u001b[0;32m-> 1024\u001b[0;31m         \u001b[0;32mreturn\u001b[0m \u001b[0mself\u001b[0m\u001b[0;34m.\u001b[0m\u001b[0m_extract_member\u001b[0m\u001b[0;34m(\u001b[0m\u001b[0mmember\u001b[0m\u001b[0;34m,\u001b[0m \u001b[0mpath\u001b[0m\u001b[0;34m,\u001b[0m \u001b[0mpwd\u001b[0m\u001b[0;34m)\u001b[0m\u001b[0;34m\u001b[0m\u001b[0m\n\u001b[0m\u001b[1;32m   1025\u001b[0m \u001b[0;34m\u001b[0m\u001b[0m\n\u001b[1;32m   1026\u001b[0m     \u001b[0;32mdef\u001b[0m \u001b[0mextractall\u001b[0m\u001b[0;34m(\u001b[0m\u001b[0mself\u001b[0m\u001b[0;34m,\u001b[0m \u001b[0mpath\u001b[0m\u001b[0;34m=\u001b[0m\u001b[0mNone\u001b[0m\u001b[0;34m,\u001b[0m \u001b[0mmembers\u001b[0m\u001b[0;34m=\u001b[0m\u001b[0mNone\u001b[0m\u001b[0;34m,\u001b[0m \u001b[0mpwd\u001b[0m\u001b[0;34m=\u001b[0m\u001b[0mNone\u001b[0m\u001b[0;34m)\u001b[0m\u001b[0;34m:\u001b[0m\u001b[0;34m\u001b[0m\u001b[0m\n",
      "\u001b[0;32m/usr/lib64/python2.7/zipfile.pyc\u001b[0m in \u001b[0;36m_extract_member\u001b[0;34m(self, member, targetpath, pwd)\u001b[0m\n\u001b[1;32m   1078\u001b[0m         \u001b[0;32mwith\u001b[0m \u001b[0mself\u001b[0m\u001b[0;34m.\u001b[0m\u001b[0mopen\u001b[0m\u001b[0;34m(\u001b[0m\u001b[0mmember\u001b[0m\u001b[0;34m,\u001b[0m \u001b[0mpwd\u001b[0m\u001b[0;34m=\u001b[0m\u001b[0mpwd\u001b[0m\u001b[0;34m)\u001b[0m \u001b[0;32mas\u001b[0m \u001b[0msource\u001b[0m\u001b[0;34m,\u001b[0m\u001b[0;31m \u001b[0m\u001b[0;31m\\\u001b[0m\u001b[0;34m\u001b[0m\u001b[0m\n\u001b[1;32m   1079\u001b[0m              \u001b[0mfile\u001b[0m\u001b[0;34m(\u001b[0m\u001b[0mtargetpath\u001b[0m\u001b[0;34m,\u001b[0m \u001b[0;34m\"wb\"\u001b[0m\u001b[0;34m)\u001b[0m \u001b[0;32mas\u001b[0m \u001b[0mtarget\u001b[0m\u001b[0;34m:\u001b[0m\u001b[0;34m\u001b[0m\u001b[0m\n\u001b[0;32m-> 1080\u001b[0;31m             \u001b[0mshutil\u001b[0m\u001b[0;34m.\u001b[0m\u001b[0mcopyfileobj\u001b[0m\u001b[0;34m(\u001b[0m\u001b[0msource\u001b[0m\u001b[0;34m,\u001b[0m \u001b[0mtarget\u001b[0m\u001b[0;34m)\u001b[0m\u001b[0;34m\u001b[0m\u001b[0m\n\u001b[0m\u001b[1;32m   1081\u001b[0m \u001b[0;34m\u001b[0m\u001b[0m\n\u001b[1;32m   1082\u001b[0m         \u001b[0;32mreturn\u001b[0m \u001b[0mtargetpath\u001b[0m\u001b[0;34m\u001b[0m\u001b[0m\n",
      "\u001b[0;31mKeyboardInterrupt\u001b[0m: "
     ]
    }
   ],
   "source": [
    "download_raw_data()"
   ]
  },
  {
   "cell_type": "code",
   "execution_count": null,
   "metadata": {
    "hidden": true
   },
   "outputs": [],
   "source": []
  },
  {
   "cell_type": "markdown",
   "metadata": {},
   "source": [
    "# Population data"
   ]
  },
  {
   "cell_type": "code",
   "execution_count": 7,
   "metadata": {},
   "outputs": [],
   "source": [
    "OTHER_DATA_DEST_BASE = 'other_data'"
   ]
  },
  {
   "cell_type": "code",
   "execution_count": 8,
   "metadata": {},
   "outputs": [],
   "source": [
    "# If raw data folder doesn't exist, create it\n",
    "if not os.path.exists(OTHER_DATA_DEST_BASE):\n",
    "    print 'Making \"{0}\" directory...'.format(DOWNLOAD_DEST_BASE)\n",
    "    os.makedirs('{0}'.format(OTHER_DATA_DEST_BASE))"
   ]
  },
  {
   "cell_type": "markdown",
   "metadata": {
    "heading_collapsed": true
   },
   "source": [
    "### 2010-2018"
   ]
  },
  {
   "cell_type": "code",
   "execution_count": 9,
   "metadata": {
    "hidden": true
   },
   "outputs": [],
   "source": [
    "# Source url: https://www.census.gov/data/tables/time-series/demo/popest/2010s-national-detail.html\n",
    "# Description: https://www2.census.gov/programs-surveys/popest/technical-documentation/file-layouts/2010-2018/nc-est2018-agesex-res.pdf\n",
    "POP_DATA_URL_2010 = 'https://www2.census.gov/programs-surveys/popest/technical-documentation/file-layouts/2010-2018/nc-est2018-agesex-res.csv'"
   ]
  },
  {
   "cell_type": "code",
   "execution_count": 10,
   "metadata": {
    "hidden": true
   },
   "outputs": [],
   "source": [
    "def download_2010_pop_data(pop_data_url_2010=POP_DATA_URL_2010):\n",
    "    \"\"\"\n",
    "    Download population data from 2010-2018\n",
    "    \"\"\"\n",
    "    # Download\n",
    "    pop_data_2010_raw = pd.read_csv(pop_data_url_2010, index_col=None, header=0)\n",
    "    \n",
    "    # Clean\n",
    "    col_map = {\n",
    "        c: c[-4:]\n",
    "        for c in pop_data_2010_raw.columns if 'POPESTIMATE' in c\n",
    "    }\n",
    "    col_map['AGE'] = 'age'\n",
    "    col_map['SEX'] = 'sex'\n",
    "    gender_map = {\n",
    "        0: 'total',\n",
    "        1: 'male',\n",
    "        2: 'female',\n",
    "    }\n",
    "\n",
    "    pop_data_2010 = pop_data_2010_raw[col_map].rename(columns=col_map)\n",
    "    pop_data_2010['sex'] = pop_data_2010['sex'].replace(gender_map)\n",
    "    pop_data_2010['age'] = pop_data_2010['age'].replace(999, 'total')\n",
    "\n",
    "    pop_data_2010 = (\n",
    "        pop_data_2010\n",
    "        .set_index(['sex', 'age'])\n",
    "        .T\n",
    "        .sort_index()\n",
    "    )\n",
    "    \n",
    "    # Return\n",
    "    return pop_data_2010['total'], pop_data_2010['male'], pop_data_2010['female']"
   ]
  },
  {
   "cell_type": "code",
   "execution_count": 11,
   "metadata": {
    "hidden": true
   },
   "outputs": [],
   "source": [
    "def load_pop_data_2010(pop_data_url_2010=POP_DATA_URL_2010, other_data_dest_base=OTHER_DATA_DEST_BASE):\n",
    "    total_filename = os.path.join(other_data_dest_base, 'pop_data_2010_total.csv')\n",
    "    male_filename = os.path.join(other_data_dest_base, 'pop_data_2010_male.csv')\n",
    "    female_filename = os.path.join(other_data_dest_base, 'pop_data_2010_female.csv')\n",
    "    \n",
    "    if os.path.exists(total_filename):\n",
    "        print \"Loading\", total_filename\n",
    "        pop_data_2010_total = pd.read_csv(total_filename, index_col=0)\n",
    "        pop_data_2010_total.columns = [int(x) for x in pop_data_2010_total.columns if x != 'total'] + ['total']\n",
    "    else:\n",
    "        print \"Downloading 2010-2018 population data\"\n",
    "        pop_data_2010_total, males, females = download_2010_pop_data(pop_data_url_2010)\n",
    "        \n",
    "        pop_data_2010_total.to_csv(total_filename)\n",
    "        males.to_csv(male_filename)\n",
    "        females.to_csv(female_filename)\n",
    "        \n",
    "        print \"Saved\", total_filename\n",
    "        \n",
    "    return pop_data_2010_total"
   ]
  },
  {
   "cell_type": "code",
   "execution_count": 12,
   "metadata": {
    "hidden": true
   },
   "outputs": [
    {
     "name": "stdout",
     "output_type": "stream",
     "text": [
      "Loading other_data/pop_data_2010_total.csv\n"
     ]
    }
   ],
   "source": [
    "pop_data_2010 = load_pop_data_2010()"
   ]
  },
  {
   "cell_type": "code",
   "execution_count": 13,
   "metadata": {
    "hidden": true
   },
   "outputs": [
    {
     "data": {
      "text/plain": [
       "<matplotlib.axes._subplots.AxesSubplot at 0x7f9c1d1dd710>"
      ]
     },
     "execution_count": 13,
     "metadata": {},
     "output_type": "execute_result"
    },
    {
     "data": {
      "image/png": "[encoded data removed]",
      "text/plain": [
       "<Figure size 432x288 with 1 Axes>"
      ]
     },
     "metadata": {
      "needs_background": "light"
     },
     "output_type": "display_data"
    }
   ],
   "source": [
    "(pop_data_2010[26]*100./pop_data_2010['total']).plot()"
   ]
  },
  {
   "cell_type": "markdown",
   "metadata": {
    "heading_collapsed": true
   },
   "source": [
    "### 2000-2009"
   ]
  },
  {
   "cell_type": "code",
   "execution_count": 14,
   "metadata": {
    "hidden": true
   },
   "outputs": [],
   "source": [
    "# Source url: https://www.census.gov/data/datasets/time-series/demo/popest/intercensal-2000-2010-national.html\n",
    "POP_DATA_URL_2000 = 'https://www2.census.gov/programs-surveys/popest/datasets/2000-2010/intercensal/national/us-est00int-alldata.csv'"
   ]
  },
  {
   "cell_type": "code",
   "execution_count": 200,
   "metadata": {
    "hidden": true
   },
   "outputs": [],
   "source": [
    "pop_data_2000_raw = pd.read_csv(POP_DATA_URL_2000, index_col=None, header=0)\n",
    "\n",
    "# Estimates are available for April and July (??), I use July.\n",
    "pop_data_2000 = pop_data_2000_raw[pop_data_2000_raw['MONTH'] == 7]"
   ]
  },
  {
   "cell_type": "code",
   "execution_count": 202,
   "metadata": {
    "hidden": true
   },
   "outputs": [],
   "source": [
    "def download_2000_pop_data(pop_data_url_2000=POP_DATA_URL_2000, month=7):\n",
    "    \"\"\"\n",
    "    Download population data from 2000-2009\n",
    "    Estimates are available for July, and also for April only in 2000 and 2010 (??), so I use July.\n",
    "    \"\"\"   \n",
    "    # Download\n",
    "    pop_data_2000_raw = pd.read_csv(pop_data_url_2000, index_col=None, header=0)\n",
    "    \n",
    "    # Estimates are available for April and July (??), I use July.\n",
    "    pop_data_2000 = pop_data_2000_raw[pop_data_2000_raw['MONTH'] == month]\n",
    "\n",
    "    # Clean\n",
    "    def clean_pop_2000(df):\n",
    "        df = df.rename(columns={999: 'total'})\n",
    "        df.index.name = None\n",
    "        df.columns.name = None\n",
    "        return df\n",
    "\n",
    "    pop_data_2000_total = pd.pivot_table(pop_data_2000, index='YEAR', columns='AGE', values='TOT_POP')\n",
    "    pop_data_2000_male = pd.pivot_table(pop_data_2000, index='YEAR', columns='AGE', values='TOT_MALE')\n",
    "    pop_data_2000_female = pd.pivot_table(pop_data_2000, index='YEAR', columns='AGE', values='TOT_FEMALE')\n",
    "\n",
    "    pop_data_2000_total = clean_pop_2000(pop_data_2000_total)\n",
    "    pop_data_2000_male = clean_pop_2000(pop_data_2000_male)\n",
    "    pop_data_2000_female = clean_pop_2000(pop_data_2000_female)\n",
    "    \n",
    "    # Return\n",
    "    return pop_data_2000_total, pop_data_2000_male, pop_data_2000_female"
   ]
  },
  {
   "cell_type": "code",
   "execution_count": 252,
   "metadata": {
    "hidden": true
   },
   "outputs": [],
   "source": [
    "def load_pop_data_2000(pop_data_url_2000=POP_DATA_URL_2000, other_data_dest_base=OTHER_DATA_DEST_BASE):\n",
    "    total_filename = os.path.join(other_data_dest_base, 'pop_data_2000_total.csv')\n",
    "    male_filename = os.path.join(other_data_dest_base, 'pop_data_2000_male.csv')\n",
    "    female_filename = os.path.join(other_data_dest_base, 'pop_data_2000_female.csv')\n",
    "    \n",
    "    if os.path.exists(total_filename):\n",
    "        print \"Loading\", total_filename\n",
    "        pop_data_2000_total = pd.read_csv(total_filename, index_col=0)\n",
    "        pop_data_2000_total.columns = [int(x) for x in pop_data_2000_total.columns if x != 'total'] + ['total']\n",
    "    else:\n",
    "        print \"Downloading 2000-2009 population data\"\n",
    "        pop_data_2000_total, males, females = download_2000_pop_data(pop_data_url_2000)\n",
    "        \n",
    "        pop_data_2000_total.to_csv(total_filename)\n",
    "        males.to_csv(male_filename)\n",
    "        females.to_csv(female_filename)\n",
    "        \n",
    "        print \"Saved\", total_filename\n",
    "        \n",
    "    return pop_data_2000_total"
   ]
  },
  {
   "cell_type": "code",
   "execution_count": 253,
   "metadata": {
    "hidden": true
   },
   "outputs": [
    {
     "name": "stdout",
     "output_type": "stream",
     "text": [
      "Loading other_data/pop_data_2000_total.csv\n"
     ]
    }
   ],
   "source": [
    "pop_data_2000 = load_pop_data_2000()"
   ]
  },
  {
   "cell_type": "code",
   "execution_count": null,
   "metadata": {
    "hidden": true
   },
   "outputs": [],
   "source": []
  },
  {
   "cell_type": "markdown",
   "metadata": {
    "heading_collapsed": true
   },
   "source": [
    "### 1990-2000"
   ]
  },
  {
   "cell_type": "code",
   "execution_count": 208,
   "metadata": {
    "hidden": true
   },
   "outputs": [],
   "source": [
    "#https://www.census.gov/data/datasets/time-series/demo/popest/intercensal-1990-2000-national.html\n",
    "POP_DATA_URL_1990 = 'https://www2.census.gov/programs-surveys/popest/datasets/1990-2000/intercensal/national/us-est90int-07.csv'"
   ]
  },
  {
   "cell_type": "code",
   "execution_count": 248,
   "metadata": {
    "hidden": true
   },
   "outputs": [],
   "source": [
    "def download_1990_pop_data(pop_data_url_1990=POP_DATA_URL_1990, month=7):\n",
    "    \"\"\"\n",
    "    Download population data from 1990-1999\n",
    "    Estimates are available monthly, I use July.\n",
    "    \"\"\"   \n",
    "    # Download\n",
    "    pop_data_1990_raw = pd.read_csv(pop_data_url_1990, index_col=None, header=0, skiprows=1)\n",
    "    \n",
    "    # Clean\n",
    "    # Relabel columns\n",
    "    pop_data_1990 = pop_data_1990_raw.copy()\n",
    "    pop_data_1990.columns = ['Date', 'Age', 'Total', 'Male', 'Female']\n",
    "    # Drop bad rows\n",
    "    pop_data_1990 = pop_data_1990['Int' != pop_data_1990['Date'].str[:3]]\n",
    "    # Date\n",
    "    pop_data_1990['Date'] = pd.to_datetime(pop_data_1990['Date'])\n",
    "    pop_data_1990['Year'] = pop_data_1990['Date'].apply(lambda x: x.year)\n",
    "    pop_data_1990['Month'] = pop_data_1990['Date'].apply(lambda x: x.month)\n",
    "    # Age\n",
    "    pop_data_1990['Age'] = pop_data_1990['Age'].replace('100+', '100')\n",
    "    pop_data_1990['Age'] = pop_data_1990['Age'].replace('All Age', 'total')\n",
    "    # Estimates are available quarterly, I use April.\n",
    "    pop_data_1990 = pop_data_1990[pop_data_1990['Month'] == month]\n",
    "    \n",
    "    # Collect\n",
    "    pop_data_1990_total = pd.pivot_table(pop_data_1990, index='Year', columns='Age', values='Total')\n",
    "    pop_data_1990_male = pd.pivot_table(pop_data_1990, index='Year', columns='Age', values='Male')\n",
    "    pop_data_1990_female = pd.pivot_table(pop_data_1990, index='Year', columns='Age', values='Female')\n",
    "    \n",
    "    # Clean moar\n",
    "    def clean_pop_1990(df):\n",
    "        df.index.name = None\n",
    "        df.columns.name = None\n",
    "        df.columns = [int(x) if x != 'total' else 'total' for x in df.columns]\n",
    "        order = sorted(df.columns)\n",
    "        return df[order]\n",
    "    pop_data_1990_total = clean_pop_1990(pop_data_1990_total)\n",
    "    pop_data_1990_male = clean_pop_1990(pop_data_1990_male)\n",
    "    pop_data_1990_female = clean_pop_1990(pop_data_1990_female)\n",
    "    \n",
    "    # Return\n",
    "    return pop_data_1990_total, pop_data_1990_male, pop_data_1990_female"
   ]
  },
  {
   "cell_type": "code",
   "execution_count": 254,
   "metadata": {
    "hidden": true
   },
   "outputs": [],
   "source": [
    "def load_pop_data_1990(pop_data_url_1990=POP_DATA_URL_1990, other_data_dest_base=OTHER_DATA_DEST_BASE):\n",
    "    total_filename = os.path.join(other_data_dest_base, 'pop_data_1990_total.csv')\n",
    "    male_filename = os.path.join(other_data_dest_base, 'pop_data_1990_male.csv')\n",
    "    female_filename = os.path.join(other_data_dest_base, 'pop_data_1990_female.csv')\n",
    "    \n",
    "    if os.path.exists(total_filename):\n",
    "        print \"Loading\", total_filename\n",
    "        pop_data_1990_total = pd.read_csv(total_filename, index_col=0)\n",
    "        pop_data_1990_total.columns = [int(x) for x in pop_data_1990_total.columns if x != 'total'] + ['total']\n",
    "    else:\n",
    "        print \"Downloading 1990-1999 population data\"\n",
    "        pop_data_1990_total, males, females = download_1990_pop_data(pop_data_url_1990)\n",
    "        \n",
    "        pop_data_1990_total.to_csv(total_filename)\n",
    "        males.to_csv(male_filename)\n",
    "        females.to_csv(female_filename)\n",
    "        \n",
    "        print \"Saved\", total_filename\n",
    "        \n",
    "    return pop_data_1990_total"
   ]
  },
  {
   "cell_type": "code",
   "execution_count": 255,
   "metadata": {
    "hidden": true
   },
   "outputs": [
    {
     "name": "stdout",
     "output_type": "stream",
     "text": [
      "Downloading 1990-1999 population data\n",
      "Saved other_data/pop_data_1990_total.csv\n"
     ]
    }
   ],
   "source": [
    "pop_data_1990 = load_pop_data_1990()"
   ]
  },
  {
   "cell_type": "code",
   "execution_count": null,
   "metadata": {
    "hidden": true
   },
   "outputs": [],
   "source": []
  },
  {
   "cell_type": "markdown",
   "metadata": {
    "heading_collapsed": true
   },
   "source": [
    "### 1980-1990"
   ]
  },
  {
   "cell_type": "code",
   "execution_count": 344,
   "metadata": {
    "hidden": true
   },
   "outputs": [],
   "source": [
    "# Source: https://www.census.gov/data/datasets/time-series/demo/popest/1980s-national.html\n",
    "# Documentation: https://www2.census.gov/programs-surveys/popest/technical-documentation/file-layouts/1980-1990/nat-detail-layout.txt\n",
    "POP_DATA_URLS_1980s = {\n",
    "    1980: 'https://www2.census.gov/programs-surveys/popest/datasets/1980-1990/national/asrh/e8081rqi.zip',\n",
    "    1981: 'https://www2.census.gov/programs-surveys/popest/datasets/1980-1990/national/asrh/e8182rqi.zip',\n",
    "    1982: 'https://www2.census.gov/programs-surveys/popest/datasets/1980-1990/national/asrh/e8283rqi.zip',\n",
    "    1983: 'https://www2.census.gov/programs-surveys/popest/datasets/1980-1990/national/asrh/e8384rqi.zip',\n",
    "    1984: 'https://www2.census.gov/programs-surveys/popest/datasets/1980-1990/national/asrh/e8485rqi.zip',\n",
    "    1985: 'https://www2.census.gov/programs-surveys/popest/datasets/1980-1990/national/asrh/e8586rqi.zip',\n",
    "    1986: 'https://www2.census.gov/programs-surveys/popest/datasets/1980-1990/national/asrh/e8687rqi.zip',\n",
    "    1987: 'https://www2.census.gov/programs-surveys/popest/datasets/1980-1990/national/asrh/e8788rqi.zip',\n",
    "    1988: 'https://www2.census.gov/programs-surveys/popest/datasets/1980-1990/national/asrh/e8889rqi.zip',\n",
    "    1989: 'https://www2.census.gov/programs-surveys/popest/datasets/1980-1990/national/asrh/e8990rqi.zip',\n",
    "}"
   ]
  },
  {
   "cell_type": "code",
   "execution_count": 442,
   "metadata": {
    "hidden": true
   },
   "outputs": [],
   "source": [
    "def download_1980_pop_data_by_year(year, pop_data_urls_1980s=POP_DATA_URLS_1980s, \n",
    "                                   other_data_dest_base=OTHER_DATA_DEST_BASE, month=7):\n",
    "    \"\"\"\n",
    "    Download population data for a given year in 1980-1989\n",
    "    Estimates are available quarterly, I use July.\n",
    "    \"\"\"   \n",
    "    # Download zip for the year\n",
    "    url = pop_data_urls_1980s[year]\n",
    "    r = requests.get(url, stream=True)\n",
    "    with zipfile.ZipFile(StringIO.StringIO(r.content)) as zf:\n",
    "        zf.extractall(other_data_dest_base)    \n",
    "    \n",
    "    # Read in data (stored as a string wtf)\n",
    "    year_str2 = str(year)[-2:]\n",
    "    year_after_str2 = str(year+1)[-2:]\n",
    "    raw_data_name = 'E{0}{1}RQI.TXT'.format(year_str2, year_after_str2)\n",
    "    raw_data_path = os.path.join(other_data_dest_base, raw_data_name)\n",
    "    raw_data = open(raw_data_path, 'r').readlines()\n",
    "\n",
    "    pop_data_year = {\n",
    "        'Month': {},\n",
    "        'Year': {},\n",
    "        'Age': {},\n",
    "        'Total': {},\n",
    "        'Male': {},\n",
    "        'Female': {},\n",
    "    }\n",
    "    for row_num in range(len(raw_data)):\n",
    "        row = raw_data[row_num]\n",
    "        if len(row) < 40:\n",
    "            continue\n",
    "        #pop_data_year['series'][row_num] = row[0:2]\n",
    "        pop_data_year['Month'][row_num] = int(row[2:4])\n",
    "        pop_data_year['Year'][row_num] = int('19' + row[4:6])\n",
    "        pop_data_year['Age'][row_num] = int(row[6:10])\n",
    "        #pop_data_year['blank'][row_num] = row[10:11]\n",
    "        pop_data_year['Total'][row_num] = int(row[11:21])\n",
    "        pop_data_year['Male'][row_num] = int(row[21:31])\n",
    "        pop_data_year['Female'][row_num] = int(row[31:41])\n",
    "    \n",
    "    # Clean up\n",
    "    pop_data_year = pd.DataFrame(pop_data_year)\n",
    "    os.remove(raw_data_path)\n",
    "    \n",
    "    # Clean\n",
    "    pop_data_year['Age'] = pop_data_year['Age'].replace(999, 'total')\n",
    "    pop_data_year = pop_data_year[pop_data_year['Year'] == year]\n",
    "    pop_data_year = pop_data_year[pop_data_year['Month'] == month]\n",
    "\n",
    "    \n",
    "    return pop_data_year"
   ]
  },
  {
   "cell_type": "code",
   "execution_count": 443,
   "metadata": {
    "hidden": true
   },
   "outputs": [],
   "source": [
    "def download_1980_pop_data(pop_data_urls_1980s=POP_DATA_URLS_1980s, \n",
    "                           other_data_dest_base=OTHER_DATA_DEST_BASE, month=7):\n",
    "    \"\"\"\n",
    "    Download population data from 1980-1989\n",
    "    Estimates are available monthly, I use July.\n",
    "    \"\"\"   \n",
    "    # Download\n",
    "    pop_data_1980_dict = {}\n",
    "    for year in range(1980, 1990):\n",
    "        pop_data_1980_dict[year] = download_1980_pop_data_by_year(year, pop_data_urls_1980s, \n",
    "                                                                  other_data_dest_base, month)\n",
    "    pop_data_1980 = pd.concat(pop_data_1980_dict.values(), axis=0)\n",
    "        \n",
    "    # Collect\n",
    "    pop_data_1980_total = pd.pivot_table(pop_data_1980, index='Year', columns='Age', values='Total')\n",
    "    pop_data_1980_male = pd.pivot_table(pop_data_1980, index='Year', columns='Age', values='Male')\n",
    "    pop_data_1980_female = pd.pivot_table(pop_data_1980, index='Year', columns='Age', values='Female')\n",
    "    \n",
    "    # Clean moar\n",
    "    def clean_pop_1980(df):\n",
    "        df.index.name = None\n",
    "        df.columns.name = None\n",
    "        df.columns = [int(x) if x != 'total' else 'total' for x in df.columns]\n",
    "        order = sorted(df.columns)\n",
    "        return df[order]\n",
    "    pop_data_1980_total = clean_pop_1980(pop_data_1980_total)\n",
    "    pop_data_1980_male = clean_pop_1980(pop_data_1980_male)\n",
    "    pop_data_1980_female = clean_pop_1980(pop_data_1980_female)\n",
    "    \n",
    "    # Return\n",
    "    return pop_data_1980_total, pop_data_1980_male, pop_data_1980_female"
   ]
  },
  {
   "cell_type": "code",
   "execution_count": 444,
   "metadata": {
    "hidden": true
   },
   "outputs": [],
   "source": [
    "def load_pop_data_1980(pop_data_urls_1980s=POP_DATA_URLS_1980s, other_data_dest_base=OTHER_DATA_DEST_BASE):\n",
    "    total_filename = os.path.join(other_data_dest_base, 'pop_data_1980_total.csv')\n",
    "    male_filename = os.path.join(other_data_dest_base, 'pop_data_1980_male.csv')\n",
    "    female_filename = os.path.join(other_data_dest_base, 'pop_data_1980_female.csv')\n",
    "    \n",
    "    if os.path.exists(total_filename):\n",
    "        print \"Loading\", total_filename\n",
    "        pop_data_1980_total = pd.read_csv(total_filename, index_col=0)\n",
    "        pop_data_1980_total.columns = [int(x) for x in pop_data_1980_total.columns if x != 'total'] + ['total']\n",
    "    else:\n",
    "        print \"Downloading 1990-1999 population data\"\n",
    "        pop_data_1980_total, males, females = download_1980_pop_data(pop_data_urls_1980s, other_data_dest_base)\n",
    "        \n",
    "        pop_data_1980_total.to_csv(total_filename)\n",
    "        males.to_csv(male_filename)\n",
    "        females.to_csv(female_filename)\n",
    "        \n",
    "        print \"Saved\", total_filename\n",
    "        \n",
    "    return pop_data_1980_total"
   ]
  },
  {
   "cell_type": "code",
   "execution_count": 446,
   "metadata": {
    "hidden": true
   },
   "outputs": [
    {
     "name": "stdout",
     "output_type": "stream",
     "text": [
      "Loading other_data/pop_data_1980_total.csv\n"
     ]
    }
   ],
   "source": [
    "pop_data_1980 = load_pop_data_1980()"
   ]
  },
  {
   "cell_type": "code",
   "execution_count": null,
   "metadata": {
    "hidden": true
   },
   "outputs": [],
   "source": []
  },
  {
   "cell_type": "code",
   "execution_count": null,
   "metadata": {
    "hidden": true
   },
   "outputs": [],
   "source": []
  },
  {
   "cell_type": "markdown",
   "metadata": {},
   "source": [
    "### <1980"
   ]
  },
  {
   "cell_type": "code",
   "execution_count": 349,
   "metadata": {},
   "outputs": [],
   "source": [
    "#https://www.census.gov/data/tables/time-series/demo/popest/pre-1980-national.html"
   ]
  },
  {
   "cell_type": "code",
   "execution_count": null,
   "metadata": {},
   "outputs": [],
   "source": []
  },
  {
   "cell_type": "markdown",
   "metadata": {
    "heading_collapsed": true
   },
   "source": [
    "### Combine"
   ]
  },
  {
   "cell_type": "code",
   "execution_count": 447,
   "metadata": {
    "hidden": true
   },
   "outputs": [],
   "source": [
    "# Note that the \"max bucket\" varies over time, but doesn't matter for our purposes\n",
    "# See https://www.census.gov/dataviz/visualizations/055/"
   ]
  },
  {
   "cell_type": "code",
   "execution_count": 448,
   "metadata": {
    "hidden": true
   },
   "outputs": [],
   "source": [
    "dict_of_pop_data = {\n",
    "    '2010-2017': pop_data_2010,\n",
    "    '2000-2009': pop_data_2000.loc[2000:2009],\n",
    "    '1990-1999': pop_data_1990,\n",
    "    '1980-1989': pop_data_1980,\n",
    "    #'<1980': None,\n",
    "}"
   ]
  },
  {
   "cell_type": "code",
   "execution_count": 449,
   "metadata": {
    "hidden": true
   },
   "outputs": [],
   "source": [
    "pop_data = pd.concat(dict_of_pop_data.values(), axis=0)\n",
    "pop_data = pop_data.fillna(0)\n",
    "pop_data = pop_data.sort_index()\n",
    "\n",
    "clear_output() # stupid warning"
   ]
  },
  {
   "cell_type": "code",
   "execution_count": 450,
   "metadata": {
    "hidden": true
   },
   "outputs": [
    {
     "data": {
      "text/plain": [
       "<matplotlib.axes._subplots.AxesSubplot at 0x7f9b5d042590>"
      ]
     },
     "execution_count": 450,
     "metadata": {},
     "output_type": "execute_result"
    },
    {
     "data": {
      "image/png": "[encoded data removed]",
      "text/plain": [
       "<Figure size 432x288 with 1 Axes>"
      ]
     },
     "metadata": {
      "needs_background": "light"
     },
     "output_type": "display_data"
    }
   ],
   "source": [
    "# Sanity check\n",
    "pop_data['total'].plot()"
   ]
  },
  {
   "cell_type": "markdown",
   "metadata": {
    "heading_collapsed": true
   },
   "source": [
    "# Get just suicide data"
   ]
  },
  {
   "cell_type": "code",
   "execution_count": 88,
   "metadata": {
    "hidden": true
   },
   "outputs": [],
   "source": [
    "CLEAN_DATA_BASE = 'cleaned_data'"
   ]
  },
  {
   "cell_type": "code",
   "execution_count": 89,
   "metadata": {
    "hidden": true
   },
   "outputs": [],
   "source": [
    "if not os.path.exists(CLEAN_DATA_BASE):\n",
    "    os.makedirs(CLEAN_DATA_BASE)\n",
    "    print \"Created\", CLEAN_DATA_BASE"
   ]
  },
  {
   "cell_type": "raw",
   "metadata": {
    "hidden": true
   },
   "source": [
    "year = '1976'\n",
    "filename = os.path.join(DOWNLOAD_DEST_BASE, '{0}.csv'.format(year))\n",
    "data = pd.read_csv(filename)"
   ]
  },
  {
   "cell_type": "raw",
   "metadata": {
    "hidden": true
   },
   "source": [
    "data['year'] = year"
   ]
  },
  {
   "cell_type": "raw",
   "metadata": {
    "hidden": true
   },
   "source": [
    "death_var = DEATH_VAR_MAP[int(year)+1]\n",
    "suicide_val = SUICIDE_VAL_MAP[int(year)+1]\n",
    "\n",
    "suicide_data = data[data[death_var] == suicide_val]\n",
    "#suicide_data['age'].head(10)"
   ]
  },
  {
   "cell_type": "raw",
   "metadata": {
    "hidden": true
   },
   "source": [
    "len(suicide_data)"
   ]
  },
  {
   "cell_type": "code",
   "execution_count": 118,
   "metadata": {
    "hidden": true
   },
   "outputs": [],
   "source": [
    "# See Hansen and Lang (2011), \"Data\" section; or individual documentation files linked from NBER\n",
    "DEATH_VAR_MAP = {}\n",
    "SUICIDE_VAL_MAP = {}\n",
    "#for year in range(1968, 1979):\n",
    "    # ICDA-8\n",
    "    # https://www.nber.org/mortality/www.cdc.gov/nchs/data/dvs/dt78icd8.pdf\n",
    "    #DEATH_VAR_MAP[year] = 'ucr34'\n",
    "    #SUICIDE_VAL_MAP[year] = 350\n",
    "for year in range(1979, 2000):\n",
    "    # ICDA-9\n",
    "    DEATH_VAR_MAP[year] = 'ucr34'\n",
    "    SUICIDE_VAL_MAP[year] = 350\n",
    "for year in range(2000, 2018):\n",
    "    # ICDA-10\n",
    "    DEATH_VAR_MAP[year] = 'ucr39'\n",
    "    SUICIDE_VAL_MAP[year] = 40"
   ]
  },
  {
   "cell_type": "code",
   "execution_count": 119,
   "metadata": {
    "hidden": true
   },
   "outputs": [],
   "source": [
    "def get_suicide_data(death_var_map=DEATH_VAR_MAP, suicide_val_map=SUICIDE_VAL_MAP,\n",
    "                     start_year=START_YEAR, end_year=END_YEAR,\n",
    "                     raw_data_loc_base=DOWNLOAD_DEST_BASE, suicide_data_loc_base=CLEAN_DATA_BASE):\n",
    "    for year in reversed(range(start_year, end_year+1)):\n",
    "        # Check if already exists\n",
    "        new_filename = os.path.join(suicide_data_loc_base, '{0}.csv'.format(year))\n",
    "        if os.path.exists(new_filename):\n",
    "            print new_filename, \"already exists\"\n",
    "            continue\n",
    "\n",
    "        # Set appropriate variables\n",
    "        death_var = death_var_map[int(year)]\n",
    "        suicide_val = suicide_val_map[int(year)]\n",
    "        \n",
    "        # Get data\n",
    "        get_suicide_data_by_year(death_var, suicide_val, year, raw_data_loc_base, suicide_data_loc_base)"
   ]
  },
  {
   "cell_type": "code",
   "execution_count": 120,
   "metadata": {
    "hidden": true
   },
   "outputs": [],
   "source": [
    "def get_suicide_data_by_year(death_var, suicide_val, year,\n",
    "                             raw_data_loc_base=DOWNLOAD_DEST_BASE, suicide_data_loc_base=CLEAN_DATA_BASE):\n",
    "    # Check if already exists\n",
    "    new_filename = os.path.join(suicide_data_loc_base, '{0}.csv'.format(year))\n",
    "    if os.path.exists(new_filename):\n",
    "        print new_filename, \"already exists\"\n",
    "        return\n",
    "\n",
    "    # Load data\n",
    "    print \"Loading\", year\n",
    "    filename = os.path.join(raw_data_loc_base, '{0}.csv'.format(year))\n",
    "    data = pd.read_csv(filename)\n",
    "\n",
    "    # Filter to just suicides\n",
    "    suicide_data = data[data[death_var] == suicide_val]\n",
    "\n",
    "    # Clean data\n",
    "    # For years <1978, 'year' is labeled differently\n",
    "    data['year'] = year\n",
    "    # Drop bad data\n",
    "    # TODO: what is going on here\n",
    "    if year >= 2010:\n",
    "        prefix = suicide_data['age'].apply(lambda x: int(str(x)[:2]))\n",
    "        clean_suicide_data = suicide_data[prefix == 10].copy()\n",
    "        actual_age = clean_suicide_data['age'].apply(lambda x: int(str(x)[2:]))\n",
    "        clean_suicide_data['actual_age'] = actual_age\n",
    "    else:\n",
    "        clean_suicide_data = suicide_data[suicide_data['age'] != 999].copy()\n",
    "        clean_suicide_data['actual_age'] = clean_suicide_data['age']        \n",
    "\n",
    "    # Drop irrelevant vars\n",
    "    final_suicide_data = clean_suicide_data[['sex', 'actual_age', 'monthdth']].copy()\n",
    "    final_suicide_data = final_suicide_data.rename(columns={'actual_age': 'age', 'monthdth': 'month'})\n",
    "    final_suicide_data['year'] = year\n",
    "\n",
    "    # Save data\n",
    "    final_suicide_data.to_csv(new_filename)\n",
    "    print \"Saved\", new_filename"
   ]
  },
  {
   "cell_type": "code",
   "execution_count": null,
   "metadata": {
    "hidden": true
   },
   "outputs": [],
   "source": []
  },
  {
   "cell_type": "code",
   "execution_count": 121,
   "metadata": {
    "hidden": true,
    "scrolled": false
   },
   "outputs": [
    {
     "name": "stdout",
     "output_type": "stream",
     "text": [
      "cleaned_data/2017.csv already exists\n",
      "cleaned_data/2016.csv already exists\n",
      "cleaned_data/2015.csv already exists\n",
      "cleaned_data/2014.csv already exists\n",
      "cleaned_data/2013.csv already exists\n",
      "cleaned_data/2012.csv already exists\n",
      "cleaned_data/2011.csv already exists\n",
      "cleaned_data/2010.csv already exists\n",
      "cleaned_data/2009.csv already exists\n",
      "cleaned_data/2008.csv already exists\n",
      "cleaned_data/2007.csv already exists\n",
      "cleaned_data/2006.csv already exists\n",
      "cleaned_data/2005.csv already exists\n",
      "cleaned_data/2004.csv already exists\n",
      "cleaned_data/2003.csv already exists\n",
      "cleaned_data/2002.csv already exists\n",
      "cleaned_data/2001.csv already exists\n",
      "cleaned_data/2000.csv already exists\n",
      "cleaned_data/1999.csv already exists\n",
      "Loading 1998\n"
     ]
    },
    {
     "name": "stderr",
     "output_type": "stream",
     "text": [
      "/bbkinghome/basilh/.local/lib/python2.7/site-packages/IPython/core/interactiveshell.py:2878: DtypeWarning: Columns (8,9,10,11,15,17,18) have mixed types. Specify dtype option on import or set low_memory=False.\n",
      "  exec(code_obj, self.user_global_ns, self.user_ns)\n"
     ]
    },
    {
     "name": "stdout",
     "output_type": "stream",
     "text": [
      "Saved cleaned_data/1998.csv\n",
      "Loading 1997\n",
      "Saved cleaned_data/1997.csv\n",
      "Loading 1996\n",
      "Saved cleaned_data/1996.csv\n",
      "Loading 1995\n"
     ]
    },
    {
     "name": "stderr",
     "output_type": "stream",
     "text": [
      "/bbkinghome/basilh/.local/lib/python2.7/site-packages/IPython/core/interactiveshell.py:2878: DtypeWarning: Columns (8,10,11,12,16,18,19) have mixed types. Specify dtype option on import or set low_memory=False.\n",
      "  exec(code_obj, self.user_global_ns, self.user_ns)\n"
     ]
    },
    {
     "name": "stdout",
     "output_type": "stream",
     "text": [
      "Saved cleaned_data/1995.csv\n",
      "Loading 1994\n",
      "Saved cleaned_data/1994.csv\n",
      "Loading 1993\n"
     ]
    },
    {
     "name": "stderr",
     "output_type": "stream",
     "text": [
      "/bbkinghome/basilh/.local/lib/python2.7/site-packages/IPython/core/interactiveshell.py:2878: DtypeWarning: Columns (9,11,12,13,17,19,20) have mixed types. Specify dtype option on import or set low_memory=False.\n",
      "  exec(code_obj, self.user_global_ns, self.user_ns)\n"
     ]
    },
    {
     "name": "stdout",
     "output_type": "stream",
     "text": [
      "Saved cleaned_data/1993.csv\n",
      "Loading 1992\n",
      "Saved cleaned_data/1992.csv\n",
      "Loading 1991\n"
     ]
    },
    {
     "name": "stderr",
     "output_type": "stream",
     "text": [
      "/bbkinghome/basilh/.local/lib/python2.7/site-packages/IPython/core/interactiveshell.py:2878: DtypeWarning: Columns (2,10,12,13,14,18,20,21) have mixed types. Specify dtype option on import or set low_memory=False.\n",
      "  exec(code_obj, self.user_global_ns, self.user_ns)\n"
     ]
    },
    {
     "name": "stdout",
     "output_type": "stream",
     "text": [
      "Saved cleaned_data/1991.csv\n",
      "Loading 1990\n"
     ]
    },
    {
     "name": "stderr",
     "output_type": "stream",
     "text": [
      "/bbkinghome/basilh/.local/lib/python2.7/site-packages/IPython/core/interactiveshell.py:2878: DtypeWarning: Columns (2,10,12,13,14,18,20,21,98,103,108,113,118,123,128,133,138,178,180,182,184,186,188,190) have mixed types. Specify dtype option on import or set low_memory=False.\n",
      "  exec(code_obj, self.user_global_ns, self.user_ns)\n"
     ]
    },
    {
     "name": "stdout",
     "output_type": "stream",
     "text": [
      "Saved cleaned_data/1990.csv\n",
      "Loading 1989\n"
     ]
    },
    {
     "name": "stderr",
     "output_type": "stream",
     "text": [
      "/bbkinghome/basilh/.local/lib/python2.7/site-packages/IPython/core/interactiveshell.py:2878: DtypeWarning: Columns (2,10,12,13,14,18,20,98,103,108,113,118,123,128,133,138,143,178,180,182,184,186,188,190,192) have mixed types. Specify dtype option on import or set low_memory=False.\n",
      "  exec(code_obj, self.user_global_ns, self.user_ns)\n"
     ]
    },
    {
     "name": "stdout",
     "output_type": "stream",
     "text": [
      "Saved cleaned_data/1989.csv\n",
      "Loading 1988\n"
     ]
    },
    {
     "name": "stderr",
     "output_type": "stream",
     "text": [
      "/bbkinghome/basilh/.local/lib/python2.7/site-packages/IPython/core/interactiveshell.py:2878: DtypeWarning: Columns (2,10,12,13,14,18,95,100,105,110,115,120,125,130,170,172,174,176,178,180,182) have mixed types. Specify dtype option on import or set low_memory=False.\n",
      "  exec(code_obj, self.user_global_ns, self.user_ns)\n"
     ]
    },
    {
     "name": "stdout",
     "output_type": "stream",
     "text": [
      "Saved cleaned_data/1988.csv\n",
      "Loading 1987\n"
     ]
    },
    {
     "name": "stderr",
     "output_type": "stream",
     "text": [
      "/bbkinghome/basilh/.local/lib/python2.7/site-packages/IPython/core/interactiveshell.py:2878: DtypeWarning: Columns (2,10,12,13,14,18,89,94,99,104,109,114,119,124,169,171,173,175,177,179,181) have mixed types. Specify dtype option on import or set low_memory=False.\n",
      "  exec(code_obj, self.user_global_ns, self.user_ns)\n"
     ]
    },
    {
     "name": "stdout",
     "output_type": "stream",
     "text": [
      "Saved cleaned_data/1987.csv\n",
      "Loading 1986\n",
      "Saved cleaned_data/1986.csv\n",
      "Loading 1985\n"
     ]
    },
    {
     "name": "stderr",
     "output_type": "stream",
     "text": [
      "/bbkinghome/basilh/.local/lib/python2.7/site-packages/IPython/core/interactiveshell.py:2878: DtypeWarning: Columns (2,10,12,13,14,18,94,99,104,109,114,119,124,129,169,171,173,175,177,179,181) have mixed types. Specify dtype option on import or set low_memory=False.\n",
      "  exec(code_obj, self.user_global_ns, self.user_ns)\n"
     ]
    },
    {
     "name": "stdout",
     "output_type": "stream",
     "text": [
      "Saved cleaned_data/1985.csv\n",
      "Loading 1984\n"
     ]
    },
    {
     "name": "stderr",
     "output_type": "stream",
     "text": [
      "/bbkinghome/basilh/.local/lib/python2.7/site-packages/IPython/core/interactiveshell.py:2878: DtypeWarning: Columns (2,10,12,13,14,18,89,94,99,104,109,114,119,124,129,169,171,173,175,177,179,181,183) have mixed types. Specify dtype option on import or set low_memory=False.\n",
      "  exec(code_obj, self.user_global_ns, self.user_ns)\n"
     ]
    },
    {
     "name": "stdout",
     "output_type": "stream",
     "text": [
      "Saved cleaned_data/1984.csv\n",
      "Loading 1983\n",
      "Saved cleaned_data/1983.csv\n",
      "Loading 1982\n"
     ]
    },
    {
     "name": "stderr",
     "output_type": "stream",
     "text": [
      "/bbkinghome/basilh/.local/lib/python2.7/site-packages/IPython/core/interactiveshell.py:2878: DtypeWarning: Columns (2,10,12,13,14,18,88,93,98,103,108,113,118,123,128,133,168,170,172,174,176,178,180,182) have mixed types. Specify dtype option on import or set low_memory=False.\n",
      "  exec(code_obj, self.user_global_ns, self.user_ns)\n"
     ]
    },
    {
     "name": "stdout",
     "output_type": "stream",
     "text": [
      "Saved cleaned_data/1982.csv\n",
      "Loading 1981\n"
     ]
    },
    {
     "name": "stderr",
     "output_type": "stream",
     "text": [
      "/bbkinghome/basilh/.local/lib/python2.7/site-packages/IPython/core/interactiveshell.py:2878: DtypeWarning: Columns (2,10,12,13,14,18,34,77,82,87,92,97,102,107,112,157,159,161,163,165,167,169,171) have mixed types. Specify dtype option on import or set low_memory=False.\n",
      "  exec(code_obj, self.user_global_ns, self.user_ns)\n"
     ]
    },
    {
     "name": "stdout",
     "output_type": "stream",
     "text": [
      "Saved cleaned_data/1981.csv\n",
      "Loading 1980\n",
      "Saved cleaned_data/1980.csv\n",
      "Loading 1979\n"
     ]
    },
    {
     "name": "stderr",
     "output_type": "stream",
     "text": [
      "/bbkinghome/basilh/.local/lib/python2.7/site-packages/IPython/core/interactiveshell.py:2878: DtypeWarning: Columns (2,10,12,13,14,18,81,86,91,96,101,106,111,116,121,126,156,158,160,162,164,166,168,170,172) have mixed types. Specify dtype option on import or set low_memory=False.\n",
      "  exec(code_obj, self.user_global_ns, self.user_ns)\n"
     ]
    },
    {
     "name": "stdout",
     "output_type": "stream",
     "text": [
      "Saved cleaned_data/1979.csv\n"
     ]
    }
   ],
   "source": [
    "get_suicide_data()"
   ]
  },
  {
   "cell_type": "code",
   "execution_count": null,
   "metadata": {
    "hidden": true
   },
   "outputs": [],
   "source": []
  },
  {
   "cell_type": "markdown",
   "metadata": {
    "heading_collapsed": true
   },
   "source": [
    "# Computing suicide rates"
   ]
  },
  {
   "cell_type": "markdown",
   "metadata": {
    "heading_collapsed": true,
    "hidden": true
   },
   "source": [
    "### Computing"
   ]
  },
  {
   "cell_type": "code",
   "execution_count": 274,
   "metadata": {
    "hidden": true
   },
   "outputs": [],
   "source": [
    "START_YEAR = 1990"
   ]
  },
  {
   "cell_type": "code",
   "execution_count": 275,
   "metadata": {
    "hidden": true
   },
   "outputs": [],
   "source": [
    "def stack_suicide_data(start_year=START_YEAR, end_year=END_YEAR, suicide_data_loc_base=CLEAN_DATA_BASE):\n",
    "    data = {}\n",
    "    for year in range(start_year, end_year+1):\n",
    "        filename = os.path.join(suicide_data_loc_base, '{0}.csv'.format(year))\n",
    "        data[year] = pd.read_csv(filename, index_col=0)\n",
    "        \n",
    "    stacked_data = pd.concat(data.values(), axis=0)\n",
    "    return stacked_data"
   ]
  },
  {
   "cell_type": "code",
   "execution_count": 276,
   "metadata": {
    "hidden": true
   },
   "outputs": [],
   "source": [
    "suicide_data = stack_suicide_data()"
   ]
  },
  {
   "cell_type": "code",
   "execution_count": 305,
   "metadata": {
    "hidden": true
   },
   "outputs": [],
   "source": [
    "AGE_GROUPS = {\n",
    "    '<15': range(0, 15),\n",
    "    '15-18': range(15, 19),\n",
    "    '19-25': range(19, 26),\n",
    "    '>25': range(26, 101)\n",
    "}\n",
    "\n",
    "#AGE_GROUPS = {\n",
    "#    '<18': range(0, 18),\n",
    "#    '>=18': range(18, 101),\n",
    "#}"
   ]
  },
  {
   "cell_type": "code",
   "execution_count": 306,
   "metadata": {
    "hidden": true
   },
   "outputs": [],
   "source": [
    "def get_age_order(age_groups):\n",
    "    first_val = [k for k in age_groups if '<' in k]\n",
    "    last_val = [k for k in age_groups if '>' in k]\n",
    "    other = [k for k in age_groups if k not in first_val and k not in last_val]\n",
    "    other = sorted(other)\n",
    "    return first_val + other + last_val\n",
    "GROUP_ORDER = ['<15', '15-18', '19-25', '>25']\n",
    "GROUP_ORDER = get_age_order(AGE_GROUPS)\n",
    "\n",
    "def get_age_groups_map(age_groups):\n",
    "    return {\n",
    "        v: k\n",
    "        for k in age_groups\n",
    "        for v in age_groups[k]\n",
    "    }\n",
    "AGE_GROUPS_MAP = get_age_groups_map(AGE_GROUPS)"
   ]
  },
  {
   "cell_type": "code",
   "execution_count": 307,
   "metadata": {
    "hidden": true,
    "scrolled": true
   },
   "outputs": [],
   "source": [
    "suicide_data['age_group'] = suicide_data['age'].map(AGE_GROUPS_MAP)"
   ]
  },
  {
   "cell_type": "code",
   "execution_count": 308,
   "metadata": {
    "hidden": true
   },
   "outputs": [],
   "source": [
    "arbitrary_column = 'sex' # just to avoid having the same thing repeated over and over\n",
    "suicide_counts_by_age_group_by_monthyear = (\n",
    "    suicide_data\n",
    "    .groupby(['year', 'month', 'age_group'])\n",
    "    .count()\n",
    "    [arbitrary_column]\n",
    "    .unstack()\n",
    ")"
   ]
  },
  {
   "cell_type": "code",
   "execution_count": 309,
   "metadata": {
    "hidden": true
   },
   "outputs": [],
   "source": [
    "pop_by_group = pd.DataFrame()\n",
    "for group_k, group_v in AGE_GROUPS.iteritems():\n",
    "    pop_by_group[group_k] = pop_data[group_v].sum(1)\n",
    "pop_by_group = pop_by_group[GROUP_ORDER]\n",
    "pop_by_group.index.name = 'year'"
   ]
  },
  {
   "cell_type": "code",
   "execution_count": 310,
   "metadata": {
    "hidden": true
   },
   "outputs": [],
   "source": [
    "blank_df = pd.DataFrame(index=suicide_counts_by_age_group_by_monthyear.index)\n",
    "pop_by_group_by_monthyear = blank_df.join(pop_by_group)"
   ]
  },
  {
   "cell_type": "code",
   "execution_count": 311,
   "metadata": {
    "hidden": true,
    "scrolled": true
   },
   "outputs": [],
   "source": [
    "suicide_rate_by_monthyear = suicide_counts_by_age_group_by_monthyear/pop_by_group_by_monthyear\n",
    "\n",
    "suicide_rate_per100k_annualized_by_monthyear = suicide_rate_by_monthyear*12*100000"
   ]
  },
  {
   "cell_type": "code",
   "execution_count": 312,
   "metadata": {
    "hidden": true
   },
   "outputs": [],
   "source": [
    "tmp = suicide_rate_per100k_annualized_by_monthyear.reset_index()\n",
    "del tmp['year']\n",
    "suicide_rate_per100k_annualized_by_month = tmp.groupby('month').mean()"
   ]
  },
  {
   "cell_type": "markdown",
   "metadata": {
    "heading_collapsed": true,
    "hidden": true
   },
   "source": [
    "### Plotting"
   ]
  },
  {
   "cell_type": "code",
   "execution_count": 313,
   "metadata": {
    "hidden": true
   },
   "outputs": [],
   "source": [
    "year_range_str = ', ' + str(START_YEAR) + '-' + str(END_YEAR)"
   ]
  },
  {
   "cell_type": "code",
   "execution_count": 314,
   "metadata": {
    "hidden": true
   },
   "outputs": [
    {
     "data": {
      "image/png": "[encoded data removed]",
      "text/plain": [
       "<Figure size 648x432 with 1 Axes>"
      ]
     },
     "metadata": {
      "needs_background": "light"
     },
     "output_type": "display_data"
    }
   ],
   "source": [
    "COLORS = [\"#9b59b6\", \"#3498db\", \"#95a5a6\", \"#e74c3c\", \"#34495e\", \"#2ecc71\"]\n",
    "\n",
    "suicide_rate_per100k_annualized_by_month.plot(figsize=(9, 6), style='-*', color=COLORS)\n",
    "_ = plt.title('Annualized suicide rate per 100k' + year_range_str, fontsize=14)\n",
    "_ = plt.xticks(fontsize=12)\n",
    "_ = plt.xlabel('month', fontsize=12)\n",
    "_ = plt.yticks(fontsize=12)\n",
    "#_ = plt.axhline(1.0, color='gray')"
   ]
  },
  {
   "cell_type": "code",
   "execution_count": 315,
   "metadata": {
    "hidden": true
   },
   "outputs": [],
   "source": [
    "months_map = {\n",
    "    1: 'Jan.',\n",
    "    2: 'Feb.',\n",
    "    3: 'Mar.',\n",
    "    4: 'Apr.',\n",
    "    5: 'May',\n",
    "    6: 'June',\n",
    "    7: 'July',\n",
    "    8: 'Aug.',\n",
    "    9: 'Sep.',\n",
    "    10: 'Oct.',\n",
    "    11: 'Nov.',\n",
    "    12: 'Dec.',\n",
    "}\n",
    "\n",
    "rel = (suicide_rate_per100k_annualized_by_month\n",
    " /suicide_rate_per100k_annualized_by_month.mean()\n",
    "# /suicide_rate_per100k_annualized_by_month.loc[9]\n",
    ")\n",
    "rel = rel.rename(index=months_map)"
   ]
  },
  {
   "cell_type": "code",
   "execution_count": 316,
   "metadata": {
    "hidden": true
   },
   "outputs": [
    {
     "data": {
      "image/png": "[encoded data removed]",
      "text/plain": [
       "<Figure size 648x432 with 1 Axes>"
      ]
     },
     "metadata": {
      "needs_background": "light"
     },
     "output_type": "display_data"
    }
   ],
   "source": [
    "COLORS = [\"#9b59b6\", \"#3498db\", \"#95a5a6\", \"#e74c3c\", \"#34495e\", \"#2ecc71\"]\n",
    "\n",
    "rel.plot(figsize=(9, 6), style='-*', color=COLORS)\n",
    "_ = plt.title('Suicide rate by month, relative to whole-year' + year_range_str, fontsize=14)\n",
    "_ = plt.xticks(fontsize=12)\n",
    "_ = plt.xlabel('month', fontsize=12)\n",
    "_ = plt.yticks(fontsize=12)\n",
    "#_ = plt.axhline(1.0, color='gray')"
   ]
  },
  {
   "cell_type": "code",
   "execution_count": 44,
   "metadata": {
    "hidden": true
   },
   "outputs": [
    {
     "data": {
      "text/html": [
       "<div>\n",
       "<style scoped>\n",
       "    .dataframe tbody tr th:only-of-type {\n",
       "        vertical-align: middle;\n",
       "    }\n",
       "\n",
       "    .dataframe tbody tr th {\n",
       "        vertical-align: top;\n",
       "    }\n",
       "\n",
       "    .dataframe thead th {\n",
       "        text-align: right;\n",
       "    }\n",
       "</style>\n",
       "<table border=\"1\" class=\"dataframe\">\n",
       "  <thead>\n",
       "    <tr style=\"text-align: right;\">\n",
       "      <th></th>\n",
       "      <th>15-18</th>\n",
       "      <th>19-25</th>\n",
       "      <th>&lt;15</th>\n",
       "      <th>&gt;25</th>\n",
       "    </tr>\n",
       "    <tr>\n",
       "      <th>month</th>\n",
       "      <th></th>\n",
       "      <th></th>\n",
       "      <th></th>\n",
       "      <th></th>\n",
       "    </tr>\n",
       "  </thead>\n",
       "  <tbody>\n",
       "    <tr>\n",
       "      <th>1</th>\n",
       "      <td>8.354390</td>\n",
       "      <td>13.494667</td>\n",
       "      <td>0.618279</td>\n",
       "      <td>16.241302</td>\n",
       "    </tr>\n",
       "    <tr>\n",
       "      <th>2</th>\n",
       "      <td>7.670255</td>\n",
       "      <td>12.281440</td>\n",
       "      <td>0.599908</td>\n",
       "      <td>14.639978</td>\n",
       "    </tr>\n",
       "    <tr>\n",
       "      <th>3</th>\n",
       "      <td>8.301958</td>\n",
       "      <td>14.031444</td>\n",
       "      <td>0.653651</td>\n",
       "      <td>16.741817</td>\n",
       "    </tr>\n",
       "    <tr>\n",
       "      <th>4</th>\n",
       "      <td>8.530461</td>\n",
       "      <td>14.184952</td>\n",
       "      <td>0.720015</td>\n",
       "      <td>16.767500</td>\n",
       "    </tr>\n",
       "    <tr>\n",
       "      <th>5</th>\n",
       "      <td>8.382228</td>\n",
       "      <td>14.400606</td>\n",
       "      <td>0.608891</td>\n",
       "      <td>17.520171</td>\n",
       "    </tr>\n",
       "    <tr>\n",
       "      <th>6</th>\n",
       "      <td>6.907016</td>\n",
       "      <td>13.216498</td>\n",
       "      <td>0.445859</td>\n",
       "      <td>16.988762</td>\n",
       "    </tr>\n",
       "    <tr>\n",
       "      <th>7</th>\n",
       "      <td>6.522186</td>\n",
       "      <td>14.440996</td>\n",
       "      <td>0.472815</td>\n",
       "      <td>17.754160</td>\n",
       "    </tr>\n",
       "    <tr>\n",
       "      <th>8</th>\n",
       "      <td>7.738492</td>\n",
       "      <td>14.892690</td>\n",
       "      <td>0.535373</td>\n",
       "      <td>17.710559</td>\n",
       "    </tr>\n",
       "    <tr>\n",
       "      <th>9</th>\n",
       "      <td>8.194755</td>\n",
       "      <td>13.922471</td>\n",
       "      <td>0.554798</td>\n",
       "      <td>16.579858</td>\n",
       "    </tr>\n",
       "    <tr>\n",
       "      <th>10</th>\n",
       "      <td>9.088329</td>\n",
       "      <td>14.283676</td>\n",
       "      <td>0.634137</td>\n",
       "      <td>16.615173</td>\n",
       "    </tr>\n",
       "    <tr>\n",
       "      <th>11</th>\n",
       "      <td>8.078739</td>\n",
       "      <td>13.141368</td>\n",
       "      <td>0.666195</td>\n",
       "      <td>15.437516</td>\n",
       "    </tr>\n",
       "    <tr>\n",
       "      <th>12</th>\n",
       "      <td>7.051914</td>\n",
       "      <td>13.214101</td>\n",
       "      <td>0.521120</td>\n",
       "      <td>15.381096</td>\n",
       "    </tr>\n",
       "  </tbody>\n",
       "</table>\n",
       "</div>"
      ],
      "text/plain": [
       "          15-18      19-25       <15        >25\n",
       "month                                          \n",
       "1      8.354390  13.494667  0.618279  16.241302\n",
       "2      7.670255  12.281440  0.599908  14.639978\n",
       "3      8.301958  14.031444  0.653651  16.741817\n",
       "4      8.530461  14.184952  0.720015  16.767500\n",
       "5      8.382228  14.400606  0.608891  17.520171\n",
       "6      6.907016  13.216498  0.445859  16.988762\n",
       "7      6.522186  14.440996  0.472815  17.754160\n",
       "8      7.738492  14.892690  0.535373  17.710559\n",
       "9      8.194755  13.922471  0.554798  16.579858\n",
       "10     9.088329  14.283676  0.634137  16.615173\n",
       "11     8.078739  13.141368  0.666195  15.437516\n",
       "12     7.051914  13.214101  0.521120  15.381096"
      ]
     },
     "execution_count": 44,
     "metadata": {},
     "output_type": "execute_result"
    }
   ],
   "source": [
    "suicide_rate_per100k_annualized_by_month"
   ]
  },
  {
   "cell_type": "code",
   "execution_count": null,
   "metadata": {
    "hidden": true
   },
   "outputs": [],
   "source": []
  },
  {
   "cell_type": "markdown",
   "metadata": {
    "heading_collapsed": true,
    "hidden": true
   },
   "source": [
    "### Regressing"
   ]
  },
  {
   "cell_type": "code",
   "execution_count": 157,
   "metadata": {
    "hidden": true,
    "scrolled": true
   },
   "outputs": [],
   "source": [
    "df = suicide_rate_per100k_annualized_by_monthyear.reset_index()\n",
    "df['year_month'] = df['year'].astype(str) + '-' + df['month'].astype(str)\n",
    "del df['year']\n",
    "del df['month']\n",
    "df = df.set_index('year_month')\n",
    "df = df.stack().reset_index()\n",
    "df = df.rename(columns={\n",
    "    'level_1': 'age_group',\n",
    "    0: 'suicide_rate_per100k_annualized'\n",
    "})\n",
    "df['year'] = df['year_month'].str[:4]\n",
    "df['month'] = df['year_month'].str[5:]"
   ]
  },
  {
   "cell_type": "code",
   "execution_count": 158,
   "metadata": {
    "hidden": true
   },
   "outputs": [
    {
     "data": {
      "text/html": [
       "<div>\n",
       "<style scoped>\n",
       "    .dataframe tbody tr th:only-of-type {\n",
       "        vertical-align: middle;\n",
       "    }\n",
       "\n",
       "    .dataframe tbody tr th {\n",
       "        vertical-align: top;\n",
       "    }\n",
       "\n",
       "    .dataframe thead th {\n",
       "        text-align: right;\n",
       "    }\n",
       "</style>\n",
       "<table border=\"1\" class=\"dataframe\">\n",
       "  <thead>\n",
       "    <tr style=\"text-align: right;\">\n",
       "      <th></th>\n",
       "      <th>year_month</th>\n",
       "      <th>age_group</th>\n",
       "      <th>suicide_rate_per100k_annualized</th>\n",
       "      <th>year</th>\n",
       "      <th>month</th>\n",
       "    </tr>\n",
       "  </thead>\n",
       "  <tbody>\n",
       "    <tr>\n",
       "      <th>0</th>\n",
       "      <td>2000-1</td>\n",
       "      <td>15-18</td>\n",
       "      <td>8.308629</td>\n",
       "      <td>2000</td>\n",
       "      <td>1</td>\n",
       "    </tr>\n",
       "    <tr>\n",
       "      <th>1</th>\n",
       "      <td>2000-1</td>\n",
       "      <td>19-25</td>\n",
       "      <td>12.674456</td>\n",
       "      <td>2000</td>\n",
       "      <td>1</td>\n",
       "    </tr>\n",
       "    <tr>\n",
       "      <th>2</th>\n",
       "      <td>2000-1</td>\n",
       "      <td>&lt;15</td>\n",
       "      <td>0.716657</td>\n",
       "      <td>2000</td>\n",
       "      <td>1</td>\n",
       "    </tr>\n",
       "    <tr>\n",
       "      <th>3</th>\n",
       "      <td>2000-1</td>\n",
       "      <td>&gt;25</td>\n",
       "      <td>14.529730</td>\n",
       "      <td>2000</td>\n",
       "      <td>1</td>\n",
       "    </tr>\n",
       "    <tr>\n",
       "      <th>4</th>\n",
       "      <td>2000-2</td>\n",
       "      <td>15-18</td>\n",
       "      <td>7.715155</td>\n",
       "      <td>2000</td>\n",
       "      <td>2</td>\n",
       "    </tr>\n",
       "  </tbody>\n",
       "</table>\n",
       "</div>"
      ],
      "text/plain": [
       "  year_month age_group  suicide_rate_per100k_annualized  year month\n",
       "0     2000-1     15-18                         8.308629  2000     1\n",
       "1     2000-1     19-25                        12.674456  2000     1\n",
       "2     2000-1       <15                         0.716657  2000     1\n",
       "3     2000-1       >25                        14.529730  2000     1\n",
       "4     2000-2     15-18                         7.715155  2000     2"
      ]
     },
     "execution_count": 158,
     "metadata": {},
     "output_type": "execute_result"
    }
   ],
   "source": [
    "df.head()"
   ]
  },
  {
   "cell_type": "code",
   "execution_count": 160,
   "metadata": {
    "hidden": true
   },
   "outputs": [],
   "source": [
    "reg = sm.OLS.from_formula(data=df, formula='suicide_rate_per100k_annualized ~ C(month) + C(year) + C(age_group)').fit()"
   ]
  },
  {
   "cell_type": "code",
   "execution_count": null,
   "metadata": {
    "hidden": true
   },
   "outputs": [],
   "source": []
  },
  {
   "cell_type": "code",
   "execution_count": null,
   "metadata": {
    "hidden": true
   },
   "outputs": [],
   "source": []
  },
  {
   "cell_type": "code",
   "execution_count": null,
   "metadata": {
    "hidden": true
   },
   "outputs": [],
   "source": []
  },
  {
   "cell_type": "code",
   "execution_count": null,
   "metadata": {
    "hidden": true
   },
   "outputs": [],
   "source": []
  },
  {
   "cell_type": "code",
   "execution_count": null,
   "metadata": {
    "hidden": true
   },
   "outputs": [],
   "source": []
  },
  {
   "cell_type": "code",
   "execution_count": null,
   "metadata": {
    "hidden": true
   },
   "outputs": [],
   "source": []
  },
  {
   "cell_type": "code",
   "execution_count": null,
   "metadata": {
    "hidden": true
   },
   "outputs": [],
   "source": []
  },
  {
   "cell_type": "code",
   "execution_count": null,
   "metadata": {
    "hidden": true
   },
   "outputs": [],
   "source": []
  }
 ],
 "metadata": {
  "kernelspec": {
   "display_name": "Python 2",
   "language": "python",
   "name": "python2"
  },
  "language_info": {
   "codemirror_mode": {
    "name": "ipython",
    "version": 2
   },
   "file_extension": ".py",
   "mimetype": "text/x-python",
   "name": "python",
   "nbconvert_exporter": "python",
   "pygments_lexer": "ipython2",
   "version": "2.7.5"
  }
 },
 "nbformat": 4,
 "nbformat_minor": 2
}
